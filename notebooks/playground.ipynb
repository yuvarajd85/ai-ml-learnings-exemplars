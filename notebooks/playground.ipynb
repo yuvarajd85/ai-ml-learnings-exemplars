{
 "cells": [
  {
   "cell_type": "code",
   "execution_count": 1,
   "id": "c5e1e609-2449-4587-b646-359159b8bd81",
   "metadata": {},
   "outputs": [],
   "source": [
    "import boto3\n",
    "bd_clt = boto3.client(\"bedrock-runtime\", region_name=\"us-east-1\")"
   ]
  },
  {
   "cell_type": "code",
   "execution_count": 16,
   "id": "2d0de8b6-56f7-4d32-8dba-93c03c3d1bd7",
   "metadata": {},
   "outputs": [],
   "source": [
    "prompt = \"\"\"\n",
    "You are an AI SQL assistant. Generate Opensearch DSL SQL queries based on natural language prompts. Use the given schema as reference.\n",
    "\n",
    "Schema:\n",
    "{\n",
    "  \"index-name\": {\n",
    "    \"metadata\": {\n",
    "      \"fields\": {\n",
    "        \"technical_entity_name\": \"string\",\n",
    "        \"business_entity_name\": \"string\",\n",
    "        \"database\": \"string\",\n",
    "        \"technical_sme\": \"string\", \n",
    "        \"business_sme\": \"string\", \n",
    "        \"domain\": \"string\",     \n",
    "        \"frequency\": \"string\"\n",
    "      }\n",
    "    }\n",
    "  }\n",
    "}\n",
    "\n",
    "Examples:\n",
    "User: Generate opensearch query to get the technical owner for this data product \"ABC\".\n",
    "AI: \"source=[\"database\", \"technical_sme\" ], query:{\"bool\":\"must\": \"term\": {\"technical_entity_name\": {\"value\":\"ABC\"} }}}\" \n",
    "\n",
    "User:  Generate opensearch query to get the business owner for this data product XYZ.\n",
    "AI: \n",
    "\"\"\""
   ]
  },
  {
   "cell_type": "code",
   "execution_count": 17,
   "id": "cdfabab2-5140-438a-bc6b-d3e4e2a7c688",
   "metadata": {},
   "outputs": [],
   "source": [
    "model_id = \"amazon.titan-text-express-v1\" # \"amazon.titan-embed-text-v2:0\" # \"anthropic.claude-3-5-haiku-20241022-v1:0\" #\"anthropic.claude-3-haiku-20240307-v1:0\"  #\"anthropic.claude-3-5-haiku-20241022-v1:0\"\n",
    "#prompt = \"Give me the current date time in EST\"\n",
    "native_request = {\n",
    " \"inputText\": prompt,\n",
    "    \"textGenerationConfig\": {\n",
    "        \"maxTokenCount\": 512,\n",
    "        \"temperature\": 0.5,\n",
    "    }\n",
    "}\n",
    "import json\n",
    "request = json.dumps(native_request)\n",
    "response = bd_clt.invoke_model(modelId =model_id, body = request)"
   ]
  },
  {
   "cell_type": "code",
   "execution_count": 18,
   "id": "d9acadc2-5b58-475b-8f4f-052496f9916b",
   "metadata": {},
   "outputs": [
    {
     "name": "stdout",
     "output_type": "stream",
     "text": [
      "{'inputTextTokenCount': 228, 'results': [{'tokenCount': 42, 'outputText': '\"source=[\"database\", \"business_sme\" ], query:{\"bool\":\"must\": \"term\": {\"business_entity_name\": {\"value\":\"XYZ\"}}}\"', 'completionReason': 'FINISH'}]}\n"
     ]
    }
   ],
   "source": [
    "output = json.loads(response['body'].read())\n",
    "print(output)"
   ]
  },
  {
   "cell_type": "code",
   "execution_count": 19,
   "id": "4a60372b-0495-4c51-9652-c93b87bac799",
   "metadata": {},
   "outputs": [],
   "source": []
  },
  {
   "cell_type": "code",
   "execution_count": null,
   "id": "0cdf2620-2294-4196-9733-c98b2a80dab0",
   "metadata": {},
   "outputs": [],
   "source": []
  }
 ],
 "metadata": {
  "kernelspec": {
   "display_name": "conda_python3",
   "language": "python",
   "name": "conda_python3"
  },
  "language_info": {
   "codemirror_mode": {
    "name": "ipython",
    "version": 3
   },
   "file_extension": ".py",
   "mimetype": "text/x-python",
   "name": "python",
   "nbconvert_exporter": "python",
   "pygments_lexer": "ipython3",
   "version": "3.10.16"
  }
 },
 "nbformat": 4,
 "nbformat_minor": 5
}
