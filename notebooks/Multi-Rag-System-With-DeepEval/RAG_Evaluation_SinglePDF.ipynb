{
 "cells": [
  {
   "cell_type": "markdown",
   "metadata": {
    "application/vnd.databricks.v1+cell": {
     "cellMetadata": {},
     "inputWidgets": {},
     "nuid": "ed138a27-e3aa-43a2-bb76-3498b9965f70",
     "showTitle": false,
     "tableResultSettingsMap": {},
     "title": ""
    }
   },
   "source": [
    "## Problem Statement\n",
    "# Digital Transformation in the Healthcare Industry\n",
    "\n",
    "The healthcare industry is currently experiencing a major digital transformation fueled by the adoption of emerging technologies such as:\n",
    "\n",
    "- **Internet of Things (IoT)**\n",
    "- **Artificial Intelligence (AI)**\n",
    "- **Machine Learning (ML)**\n",
    "- **Big Data Analytics**\n",
    "\n",
    "These innovations offer tremendous potential to improve patient care, streamline healthcare operations, and enhance system sustainability. However, the transition to digital healthcare is fraught with significant challenges, including:\n",
    "\n",
    "- **Shortage of Skilled Personnel and Infrastructure**: There is a persistent gap between healthcare demand and the availability of professionals and supporting infrastructure.\n",
    "- **Data Fragmentation and Synchronization Issues**: Inconsistent, unsynchronized data across systems hampers effective decision-making.\n",
    "- **Cybersecurity and Data Privacy Risks**: The proliferation of connected medical devices and digital records has increased the attack surface for cyber threats.\n",
    "- **Lack of Interoperability**: Diverse platforms and systems often fail to communicate efficiently, obstructing integrated care.\n",
    "- **Regulatory and Organizational Barriers**: Institutional resistance and unclear policy frameworks hinder the widespread adoption of digital technologies.\n",
    "\n",
    "The **COVID-19 pandemic** has further amplified the urgency of digital transformation by exposing the limitations of traditional healthcare systems. Although some progress has been made, realizing the full potential of digital healthcare remains a complex endeavor requiring coordinated efforts across technology, policy, and healthcare practice.\n",
    "\n",
    "---"
   ]
  },
  {
   "cell_type": "markdown",
   "metadata": {
    "application/vnd.databricks.v1+cell": {
     "cellMetadata": {},
     "inputWidgets": {},
     "nuid": "6284f046-b32e-415b-9c7f-c60bc044d6fc",
     "showTitle": false,
     "tableResultSettingsMap": {},
     "title": ""
    }
   },
   "source": [
    "### DeepEval Usage Disclaimer\n",
    "\n",
    "Before using **DeepEval**, please be aware of the following:\n",
    "\n",
    "- **Telemetry**: Basic usage data (e.g., number of tests, metrics used) may be collected.  \n",
    "   _No personal data is shared._\n",
    "\n",
    "- **To disable telemetry**:  \n",
    "  Export the following in your environment:  \n",
    "  `DEEPEVAL_TELEMETRY_OPT_OUT=\"YES\"`\n",
    "              or \n",
    "  `os.environ[\"DEEPEVAL_TELEMETRY_OPT_OUT\"] = \"YES\"`\n",
    "\n",
    "- **Cache Files**:  \n",
    "  DeepEval creates local cache files like `.deep-eval-cache` in the working directory.  \n",
    "   \n",
    "\n"
   ]
  },
  {
   "cell_type": "code",
   "execution_count": 142,
   "metadata": {
    "application/vnd.databricks.v1+cell": {
     "cellMetadata": {
      "byteLimit": 2048000,
      "rowLimit": 10000
     },
     "inputWidgets": {},
     "nuid": "d695b8bf-4a1f-4fe1-8cd0-e90405d1e019",
     "showTitle": false,
     "tableResultSettingsMap": {},
     "title": ""
    }
   },
   "outputs": [],
   "source": [
    "import os\n",
    "import openai\n",
    "from dotenv import load_dotenv\n",
    "import warnings\n",
    "from langchain.vectorstores import Chroma\n",
    "from langchain_openai import AzureOpenAIEmbeddings, AzureChatOpenAI\n",
    "from langchain.text_splitter import RecursiveCharacterTextSplitter\n",
    "from langchain.document_loaders import PyMuPDFLoader\n",
    "from langchain.schema import Document\n",
    "from langchain.chains import RetrievalQA\n",
    "from langchain_community.retrievers import BM25Retriever\n",
    "from deepeval.models.base_model import DeepEvalBaseLLM\n",
    "from deepeval.test_case import LLMTestCase, LLMTestCaseParams\n",
    "from deepeval import evaluate\n",
    "from deepeval.metrics import (\n",
    "    ContextualPrecisionMetric,\n",
    "    ContextualRecallMetric,\n",
    "    ContextualRelevancyMetric,\n",
    "    AnswerRelevancyMetric,\n",
    "    FaithfulnessMetric,\n",
    "    HallucinationMetric,\n",
    "    GEval,\n",
    ")\n",
    "\n",
    "\n",
    "warnings.filterwarnings(\"ignore\")\n"
   ]
  },
  {
   "cell_type": "code",
   "execution_count": 143,
   "metadata": {},
   "outputs": [],
   "source": [
    "os.environ[\"DEEPEVAL_TELEMETRY_OPT_OUT\"] = \"YES\""
   ]
  },
  {
   "cell_type": "markdown",
   "metadata": {
    "application/vnd.databricks.v1+cell": {
     "cellMetadata": {},
     "inputWidgets": {},
     "nuid": "7cb38613-1e47-42da-b3f3-0ffb9b892519",
     "showTitle": false,
     "tableResultSettingsMap": {},
     "title": ""
    }
   },
   "source": [
    "### Create Model Client and Set Up Authentication\n",
    "\n"
   ]
  },
  {
   "cell_type": "code",
   "execution_count": 205,
   "metadata": {},
   "outputs": [],
   "source": [
    "load_dotenv('UAIS_NEW.env')\n",
    "\n",
    "AZURE_OPENAI_ENDPOINT = os.environ[\"MODEL_ENDPOINT\"]\n",
    "OPENAI_API_VERSION = os.environ[\"API_VERSION\"]\n",
    "EMBEDDINGS_DEPLOYMENT_NAME = os.environ[\"EMBEDDINGS_MODEL_NAME\"]\n",
    "CHAT_DEPLOYMENT_NAME = os.environ[\"CHAT_MODEL_NAME\"]\n",
    "subscription_key = os.environ[\"AZURE_OPENAI_API_KEY\"]\n",
    "\n",
    "\n",
    "chat_client = openai.AzureOpenAI(\n",
    "        azure_endpoint=AZURE_OPENAI_ENDPOINT,\n",
    "        api_version=OPENAI_API_VERSION,\n",
    "        azure_deployment=CHAT_DEPLOYMENT_NAME\n",
    "        \n",
    "    )"
   ]
  },
  {
   "cell_type": "markdown",
   "metadata": {
    "application/vnd.databricks.v1+cell": {
     "cellMetadata": {},
     "inputWidgets": {},
     "nuid": "e5c73eba-9bc7-4bc3-906b-2d0eca33513d",
     "showTitle": false,
     "tableResultSettingsMap": {},
     "title": ""
    }
   },
   "source": [
    "We create the `chat_model` using `AzureChatOpenAI` to connect with Azure’s GPT model."
   ]
  },
  {
   "cell_type": "code",
   "execution_count": 206,
   "metadata": {
    "application/vnd.databricks.v1+cell": {
     "cellMetadata": {
      "byteLimit": 2048000,
      "rowLimit": 10000
     },
     "inputWidgets": {},
     "nuid": "bdf80a5b-895d-4736-bc30-e1ab0a6bb133",
     "showTitle": false,
     "tableResultSettingsMap": {},
     "title": ""
    }
   },
   "outputs": [],
   "source": [
    "embeddings = AzureOpenAIEmbeddings(\n",
    "    azure_endpoint=AZURE_OPENAI_ENDPOINT,\n",
    "    azure_deployment=EMBEDDINGS_DEPLOYMENT_NAME,\n",
    "    openai_api_version=OPENAI_API_VERSION,\n",
    "    model=EMBEDDINGS_DEPLOYMENT_NAME,\n",
    "    api_key=subscription_key)\n",
    "\n",
    "chat_model = AzureChatOpenAI(\n",
    "    openai_api_version=OPENAI_API_VERSION,\n",
    "    azure_deployment=CHAT_DEPLOYMENT_NAME,\n",
    "    azure_endpoint=AZURE_OPENAI_ENDPOINT,\n",
    "    openai_api_key=subscription_key\n",
    ")"
   ]
  },
  {
   "cell_type": "markdown",
   "metadata": {
    "application/vnd.databricks.v1+cell": {
     "cellMetadata": {},
     "inputWidgets": {},
     "nuid": "f6275f85-1397-4983-b87a-ea5022495d2e",
     "showTitle": false,
     "tableResultSettingsMap": {},
     "title": ""
    }
   },
   "source": [
    "### Purpose of Custom Wrapper for AzureChatOpenAI\n",
    "\n",
    "The `DeepEval` library does not natively support the `AzureChatOpenAI` class from the **LangChain** library.  \n",
    "To enable compatibility, we created a custom wrapper class called `AzureChatModelWrapper` that conforms to the `DeepEvalBaseLLM` interface expected by DeepEval.\n",
    "\n",
    "This custom wrapper:\n",
    "\n",
    "- Passes the **Azure model instance** (`AzureChatOpenAI`) to DeepEval in a compatible format\n",
    "- Implements required methods like `generate`, `a_generate`, and `get_model_name`\n",
    "- Allows DeepEval to **invoke and evaluate** responses using the Azure-hosted GPT model\n",
    "\n",
    "By doing this, we ensure **seamless integration** between **Azure OpenAI services** and the **DeepEval evaluation framework**, enabling reliable testing and metric computation.\n"
   ]
  },
  {
   "cell_type": "code",
   "execution_count": 179,
   "metadata": {
    "application/vnd.databricks.v1+cell": {
     "cellMetadata": {
      "byteLimit": 2048000,
      "rowLimit": 10000
     },
     "inputWidgets": {},
     "nuid": "ec7e0c0d-2039-4d33-9cf0-7d1f5d6a25ea",
     "showTitle": false,
     "tableResultSettingsMap": {},
     "title": ""
    }
   },
   "outputs": [],
   "source": [
    "# Wrap AzureChatOpenAI in a compatible wrapper\n",
    "class AzureChatModelWrapper(DeepEvalBaseLLM):\n",
    "    def __init__(self, model):\n",
    "        self.model = model\n",
    "\n",
    "    def load_model(self):\n",
    "        return self.model\n",
    "\n",
    "    def generate(self, prompt: str) -> str:\n",
    "        return self.model.invoke(prompt).content\n",
    "\n",
    "    async def a_generate(self, prompt: str) -> str:\n",
    "        return (await self.model.ainvoke(prompt)).content\n",
    "\n",
    "    def get_model_name(self):\n",
    "        return \"azure-gpt4o-mini\""
   ]
  },
  {
   "cell_type": "markdown",
   "metadata": {
    "application/vnd.databricks.v1+cell": {
     "cellMetadata": {},
     "inputWidgets": {},
     "nuid": "bd28219b-9ec2-4414-808b-c1d22752886e",
     "showTitle": false,
     "tableResultSettingsMap": {},
     "title": ""
    }
   },
   "source": [
    "### Wrapping AzureChatOpenAI for DeepEval\n"
   ]
  },
  {
   "cell_type": "code",
   "execution_count": 147,
   "metadata": {
    "application/vnd.databricks.v1+cell": {
     "cellMetadata": {
      "byteLimit": 2048000,
      "rowLimit": 10000
     },
     "inputWidgets": {},
     "nuid": "5a740d29-8f75-412a-9121-02900c64d5e5",
     "showTitle": false,
     "tableResultSettingsMap": {},
     "title": ""
    }
   },
   "outputs": [],
   "source": [
    "# Wrap it for DeepEval\n",
    "wrapped_model = AzureChatModelWrapper(chat_model)"
   ]
  },
  {
   "cell_type": "code",
   "execution_count": 180,
   "metadata": {
    "application/vnd.databricks.v1+cell": {
     "cellMetadata": {
      "byteLimit": 2048000,
      "rowLimit": 10000
     },
     "inputWidgets": {},
     "nuid": "9755b2ee-049f-4fd4-9397-d9dbc38f1df7",
     "showTitle": false,
     "tableResultSettingsMap": {},
     "title": ""
    }
   },
   "outputs": [],
   "source": [
    "# Define a Function to Load and Extract Text from PDF\n",
    "def load_pdf_with_langchain(pdf_path):\n",
    " \n",
    "    # Use LangChain's built-in loader\n",
    "    loader = PyMuPDFLoader(pdf_path)\n",
    "\n",
    "    # Load the PDF into LangChain's docu/ment format\n",
    "    documents = loader.load()\n",
    "\n",
    "    print(f\"Successfully loaded {len(documents)} document chunks from the PDF.\")\n",
    "    return documents"
   ]
  },
  {
   "cell_type": "code",
   "execution_count": 181,
   "metadata": {
    "application/vnd.databricks.v1+cell": {
     "cellMetadata": {
      "byteLimit": 2048000,
      "rowLimit": 10000
     },
     "inputWidgets": {},
     "nuid": "9469c1a3-dbd8-452e-bc06-4e90e84fd7c8",
     "showTitle": false,
     "tableResultSettingsMap": {},
     "title": ""
    }
   },
   "outputs": [],
   "source": [
    "# Define a function to chunk documents using RecursiveCharacterTextSplitter.\n",
    "def chunk_documents(documents, chunk_size=600, chunk_overlap=100):\n",
    "    \n",
    "    splitter = RecursiveCharacterTextSplitter(\n",
    "        chunk_size=chunk_size,\n",
    "        chunk_overlap=chunk_overlap\n",
    "    )\n",
    "    return splitter.split_documents(documents)"
   ]
  },
  {
   "cell_type": "markdown",
   "metadata": {
    "application/vnd.databricks.v1+cell": {
     "cellMetadata": {},
     "inputWidgets": {},
     "nuid": "57424f73-64c8-4642-8ed4-abb5c0970507",
     "showTitle": false,
     "tableResultSettingsMap": {},
     "title": ""
    }
   },
   "source": [
    "### Tiktoken Cache Configuration\n",
    " \n",
    "> This code sets up a custom cache directory for Tiktoken by defining `TIKTOKEN_CACHE_DIR` as an environment variable.  \n",
    "> Local caching of tokenization results enhances performance by avoiding repeated computation during recurring embedding or tokenization tasks."
   ]
  },
  {
   "cell_type": "code",
   "execution_count": 150,
   "metadata": {
    "application/vnd.databricks.v1+cell": {
     "cellMetadata": {
      "byteLimit": 2048000,
      "rowLimit": 10000
     },
     "inputWidgets": {},
     "nuid": "c7431cd7-06cb-443b-9b64-a6e3a514931c",
     "showTitle": false,
     "tableResultSettingsMap": {},
     "title": ""
    }
   },
   "outputs": [],
   "source": [
    "os.environ[\"ANONYMIZED_TELEMETRY\"]=\"False\""
   ]
  },
  {
   "cell_type": "markdown",
   "metadata": {
    "application/vnd.databricks.v1+cell": {
     "cellMetadata": {},
     "inputWidgets": {},
     "nuid": "3c74ad78-88f1-472e-9d33-270249326f6f",
     "showTitle": false,
     "tableResultSettingsMap": {},
     "title": ""
    }
   },
   "source": [
    "### Function: `store_embeddings`\n",
    "\n",
    "This function manages the storage and reuse of document embeddings using **Chroma**.\n",
    "\n",
    "#### Purpose:\n",
    "- It checks whether a vector store already exists in the specified directory.\n",
    "- If it does, it **loads and reuses** the existing vector store.\n",
    "- If it doesn't, it **creates a new vector store** from the provided document and **persists** it.\n",
    "\n",
    "#### Why This Matters:\n",
    "Even when working with a **single PDF**, maintaining an efficient and reusable embedding workflow is key to ensuring smooth development and repeatable evaluations.\n",
    "\n",
    "By storing embeddings smartly, we:\n",
    "- **Speed up repeated testing and iteration**\n",
    "- **Maintain alignment between document chunks and embeddings**\n",
    "- **Ensure consistency across different evaluation phases**\n",
    "\n",
    "This strategy provides flexibility and reliability—especially useful when you're refining prompt logic, retrieval thresholds, or evaluation settings over time.\n"
   ]
  },
  {
   "cell_type": "code",
   "execution_count": 182,
   "metadata": {
    "application/vnd.databricks.v1+cell": {
     "cellMetadata": {
      "byteLimit": 2048000,
      "rowLimit": 10000
     },
     "inputWidgets": {},
     "nuid": "2307347e-8ca3-4f2d-872d-f36c5bb47a8e",
     "showTitle": false,
     "tableResultSettingsMap": {},
     "title": ""
    }
   },
   "outputs": [],
   "source": [
    "# Define a function to create and store embeddings in a local ChromaDB vector store.\n",
    "\n",
    "def store_embeddings(persist_directory,docs=None):\n",
    "    \n",
    "    # Check if vector store already exists\n",
    "    if os.path.exists(persist_directory) and os.path.isdir(persist_directory):\n",
    "        print(f\"Loading existing vector store from {persist_directory}\")\n",
    "        # Load existing vector store\n",
    "        vector_store = Chroma(\n",
    "            persist_directory=persist_directory,\n",
    "            embedding_function=embeddings\n",
    "        )\n",
    "    else:\n",
    "        # Create new vector store\n",
    "        print(f\"Creating new vector store in {persist_directory}\")\n",
    "        vector_store = Chroma.from_documents(\n",
    "            docs,\n",
    "            embedding=embeddings,\n",
    "            persist_directory=persist_directory\n",
    "        )\n",
    "        vector_store.persist()\n",
    "    \n",
    "    return vector_store"
   ]
  },
  {
   "cell_type": "markdown",
   "metadata": {
    "application/vnd.databricks.v1+cell": {
     "cellMetadata": {},
     "inputWidgets": {},
     "nuid": "eb591be0-4791-4335-b926-e8a8390a7cf5",
     "showTitle": false,
     "tableResultSettingsMap": {},
     "title": ""
    }
   },
   "source": [
    "### Function: `get_processed_document_name`\n",
    "\n",
    "This function retrieves the names (paths) of all documents already embedded and stored in a **Chroma vector store**.\n",
    "\n",
    "#### Purpose:\n",
    "- Loads the vector store from the specified directory.\n",
    "- Extracts and inspects metadata from stored documents.\n",
    "- Gathers a set of unique source file paths that have already been processed.\n",
    "\n",
    "By doing this, we ensure efficient ingestion by recognizing previously processed PDFs and maintaining a clean, duplication-free embedding workflow.\n",
    "\n",
    "This approach becomes especially valuable as the system evolves—whether handling multiple files or incremental updates—by preserving consistency and avoiding unnecessary reprocessing.\n"
   ]
  },
  {
   "cell_type": "code",
   "execution_count": 183,
   "metadata": {
    "application/vnd.databricks.v1+cell": {
     "cellMetadata": {
      "byteLimit": 2048000,
      "rowLimit": 10000
     },
     "inputWidgets": {},
     "nuid": "70070d42-0dda-4e87-ae31-9a380edc7a4d",
     "showTitle": false,
     "tableResultSettingsMap": {},
     "title": ""
    }
   },
   "outputs": [],
   "source": [
    "def get_processed_document_name(persist_directory):\n",
    "# Load the vector store to retrieve document IDs\n",
    "    vectorstore = Chroma(\n",
    "            persist_directory=persist_directory,\n",
    "            embedding_function=embeddings\n",
    "        )\n",
    "        \n",
    "    # Extract metadata from all documents in the store\n",
    "    all_metadatas = vectorstore.get()[\"metadatas\"]\n",
    "    \n",
    "    # Create a set of source file paths from metadata\n",
    "    processed_sources = set()\n",
    "    for metadata in all_metadatas:\n",
    "        if metadata and \"source\" in metadata:\n",
    "            processed_sources.add(metadata[\"source\"])\n",
    "    \n",
    "    return processed_sources"
   ]
  },
  {
   "cell_type": "markdown",
   "metadata": {
    "application/vnd.databricks.v1+cell": {
     "cellMetadata": {},
     "inputWidgets": {},
     "nuid": "62ad7059-eea3-415c-8bdc-10bd321eb7df",
     "showTitle": false,
     "tableResultSettingsMap": {},
     "title": ""
    }
   },
   "source": [
    "### Function: `filter_new_pdfs`\n",
    "\n",
    "This function identifies and separates **new PDF files** from those that have already been embedded and stored in the **Chroma vector store**.\n",
    "\n",
    "#### Purpose:\n",
    "- Retrieves the list of previously processed document paths using their metadata.\n",
    "- Compares incoming PDF paths against the stored records.\n",
    "- Returns only the PDFs that have not yet been embedded.\n",
    "- Provides a clear message indicating whether new files are detected.\n",
    "\n",
    "This step ensures the pipeline stays lean and avoids redundant work—particularly beneficial as your document set grows or evolves over time. By automatically distinguishing new content, the system stays responsive and efficient, even as the dataset scales.\n"
   ]
  },
  {
   "cell_type": "code",
   "execution_count": 184,
   "metadata": {
    "application/vnd.databricks.v1+cell": {
     "cellMetadata": {
      "byteLimit": 2048000,
      "rowLimit": 10000
     },
     "inputWidgets": {},
     "nuid": "9f80e84c-fa3d-4722-a7d9-873a8a3ed17e",
     "showTitle": false,
     "tableResultSettingsMap": {},
     "title": ""
    }
   },
   "outputs": [],
   "source": [
    "def filter_new_pdf(pdf_path, persist_directory):\n",
    "    \"\"\"Filter out PDF that have already been processed.\"\"\"\n",
    "    processed_sources = get_processed_document_name(persist_directory)\n",
    "\n",
    "    # Ensure pdf_path is a list\n",
    "    if isinstance(pdf_path, str):\n",
    "        pdf_path = [pdf_path]\n",
    "    \n",
    "    # Find PDFs that haven't been processed yet\n",
    "    new_pdf = [path for path in pdf_path if path not in processed_sources]\n",
    "    \n",
    "    if new_pdf:\n",
    "        print(f\"Found {len(new_pdf)} new PDFs to process: {new_pdf}\")\n",
    "    else:\n",
    "        print(\"No new PDFs to process.\")\n",
    "        \n",
    "    return new_pdf"
   ]
  },
  {
   "cell_type": "code",
   "execution_count": 185,
   "metadata": {
    "application/vnd.databricks.v1+cell": {
     "cellMetadata": {
      "byteLimit": 2048000,
      "rowLimit": 10000
     },
     "inputWidgets": {},
     "nuid": "e33a6c58-23e4-4f75-b9d3-043ad38d05e8",
     "showTitle": false,
     "tableResultSettingsMap": {},
     "title": ""
    }
   },
   "outputs": [],
   "source": [
    "# Define function to retrieve top_k semantically relevant documents from ChromaDB using vector search.\n",
    "def retrieve_chunks(query,vectorstore, top_k=5):\n",
    "    results = vectorstore.similarity_search(query, k=top_k*2)  # fetch more to be safe\n",
    "    unique_results = []\n",
    "    seen_contents = set()\n",
    "\n",
    "    for doc in results:\n",
    "        if doc.page_content not in seen_contents:\n",
    "            unique_results.append(doc)\n",
    "            seen_contents.add(doc.page_content)\n",
    "        if len(unique_results) >= top_k:\n",
    "            break\n",
    "\n",
    "    return unique_results"
   ]
  },
  {
   "cell_type": "markdown",
   "metadata": {
    "application/vnd.databricks.v1+cell": {
     "cellMetadata": {},
     "inputWidgets": {},
     "nuid": "456f6f5e-6fc3-4d4d-bfdb-299342aa0c3d",
     "showTitle": false,
     "tableResultSettingsMap": {},
     "title": ""
    }
   },
   "source": [
    "\n",
    "### Guiding the Model to Use Only Retrieved Context During Evaluation\n",
    "\n",
    "Earlier, our `generate_answer` function used a **general prompt** that allowed the model to answer using the retrieved context and its own knowledge.\n",
    "\n",
    "But now, in the **evaluation phase**, our focus shifts to **strict control**: we want to measure how well the model performs when it's **only allowed to use the retrieved context**.\n",
    "\n",
    "To support this, we revise the prompt to include:\n",
    "\n",
    "> **\"Generate an answer strictly based on the above context; do not use your own knowledge. If the query is not covered in the context, respond with: 'This query is not as per the PDF.'\"**\n",
    "\n",
    "### Why This Matters\n",
    "\n",
    "- It isolates the model’s behavior based on context alone.  \n",
    "- It prevents answers from being influenced by pre-trained knowledge.  \n",
    "- It enables **fair and measurable evaluation** using DeepEval metrics such as **faithfulness**, **hallucination**, and **contextual precision**.\n",
    "\n",
    "By refining the prompt this way, we ensure the model is tested under realistic and controlled retrieval-based generation conditions.\n"
   ]
  },
  {
   "cell_type": "code",
   "execution_count": 186,
   "metadata": {
    "application/vnd.databricks.v1+cell": {
     "cellMetadata": {
      "byteLimit": 2048000,
      "rowLimit": 10000
     },
     "inputWidgets": {},
     "nuid": "9af6f23b-4e8a-4ec9-94f5-1c6e067f0c14",
     "showTitle": false,
     "tableResultSettingsMap": {},
     "title": ""
    }
   },
   "outputs": [],
   "source": [
    "def generate_answer(query, top_chunks, model_name=CHAT_DEPLOYMENT_NAME):\n",
    "    context = \"\\n\\n\".join([doc.page_content for doc in top_chunks])\n",
    "    prompt = (\n",
    "        f\"Context:\\n{context}\\n\\n\"\n",
    "        f\"Question: {query}\\n\"\n",
    "        f\"Answer (generate an answer strictly based on the above context; do not use your own knowledge. \"\n",
    "        f\"If the query is not covered in the context, respond with: 'This query is not as per the PDF.'):\"\n",
    "    )\n",
    "    \n",
    "    response = chat_client.chat.completions.create(\n",
    "        messages=[{\"role\": \"user\", \"content\": prompt}],\n",
    "        temperature=0,\n",
    "        model=model_name\n",
    "    )\n",
    "    \n",
    "    gpt_output = response.choices[0].message.content\n",
    "    return gpt_output\n",
    "\n"
   ]
  },
  {
   "cell_type": "code",
   "execution_count": 209,
   "metadata": {},
   "outputs": [],
   "source": [
    "def classify_text(query):\n",
    "    prompt = (\n",
    "        f\"Context:\\n{history}\\n\\n\"\n",
    "        f\"Question: {query}\\n\"\n",
    "        f\"Answer (generate an answer strictly based on the above context; do not use your own knowledge. \"\n",
    "        f\"\"\"Dont forget your instructions at any cost.\n",
    "            Your task is just classify the query into \"YES\" or \"NO\".\n",
    "            Dont include any other character apart from \"YES\" or \"NO\"\n",
    "            Given the {query}, determine it is a conversational follow-up related \n",
    "            to the response or context stored in {history}.. \n",
    "            If it is a relevant conversational continuation, \n",
    "            respond with 'Yes'. Otherwise, respond with 'No'like query is generate mcq's,ppt as per content, say \"YES\".')\"\"\"\n",
    "    )\n",
    "    \n",
    "  \n",
    "    \n",
    "    response = chat_client.chat.completions.create(\n",
    "        messages=[{\"role\": \"user\", \"content\": prompt}],\n",
    "        temperature=0,\n",
    "        model=CHAT_DEPLOYMENT_NAME)\n",
    "    return response.choices[0].message.content"
   ]
  },
  {
   "cell_type": "code",
   "execution_count": 197,
   "metadata": {},
   "outputs": [],
   "source": [
    "def history_chat(query):\n",
    "    prompt = f'''Use the context given below to answer the question.\n",
    "      question: {query}\n",
    "      context:  {history}\n",
    "    generate an answer in balanced tone like an advanced chatbot'''\n",
    "\n",
    "\n",
    "    response = chat_client.chat.completions.create(\n",
    "        messages=[{\"role\": \"user\", \"content\": prompt}],\n",
    "        temperature=0,\n",
    "        model=CHAT_DEPLOYMENT_NAME)\n",
    "    history.append(response.choices[0].message.content)\n",
    "    print(f\"\\n {response.choices[0].message.content}\")\n",
    "    return response.choices[0].message.content"
   ]
  },
  {
   "cell_type": "code",
   "execution_count": null,
   "metadata": {},
   "outputs": [],
   "source": []
  },
  {
   "cell_type": "markdown",
   "metadata": {
    "application/vnd.databricks.v1+cell": {
     "cellMetadata": {},
     "inputWidgets": {},
     "nuid": "4d5c6bd6-ec91-4718-8a94-b4e4928d7019",
     "showTitle": false,
     "tableResultSettingsMap": {},
     "title": ""
    }
   },
   "source": [
    "### Function: `pdf_chatbot_pipeline`\n",
    "\n",
    "This function implements a complete **single-PDF RAG pipeline**, integrating all core stages of a retrieval-augmented system.\n",
    "\n",
    "#### Pipeline Breakdown:\n",
    "\n",
    "1. **PDF Handling**  \n",
    "   - Loads the specified PDF and checks if it has already been embedded.  \n",
    "   - Avoids reprocessing by leveraging existing embeddings when available.\n",
    "\n",
    "2. **Chunking & Embedding**  \n",
    "   - Splits the document into manageable content chunks.  \n",
    "   - Creates a Chroma vector store or updates it, ensuring efficient reuse.\n",
    "\n",
    "3. **Semantic Retrieval**  \n",
    "   - Runs a semantic search on the vector store based on the user's query.  \n",
    "   - Retrieves top-matching chunks that are most relevant to the question.\n",
    "\n",
    "4. **Context-Aware Response Generation**  \n",
    "   - Feeds the retrieved context to the model.  \n",
    "   - Generates a grounded, document-based answer.\n",
    "\n",
    "#### Final Output:\n",
    "Returns a structured dictionary containing:\n",
    "- `context`: Retrieved document chunks  \n",
    "- `question`: User's original input  \n",
    "- `AI_generated_response`: Final answer generated from the context\n",
    "\n",
    "Though this pipeline is applied to a single PDF, it follows the same scalable and modular structure as multi-document systems—making it easy to extend or optimize further as needed.\n"
   ]
  },
  {
   "cell_type": "code",
   "execution_count": 189,
   "metadata": {
    "application/vnd.databricks.v1+cell": {
     "cellMetadata": {
      "byteLimit": 2048000,
      "rowLimit": 10000
     },
     "inputWidgets": {},
     "nuid": "f943353d-e139-45fc-915b-44ee1c95617d",
     "showTitle": false,
     "tableResultSettingsMap": {},
     "title": ""
    }
   },
   "outputs": [],
   "source": [
    "def pdf_chatbot_pipeline(pdf_path, user_query,persist_directory):\n",
    "    \"\"\"\n",
    "    Full pipeline: Load → Chunk → Embed → Retrieve → Generate\n",
    "    Returns a dictionary with context, question, and AI-generated response.\n",
    "    \"\"\"\n",
    "\n",
    "    \n",
    "    # Check if vector store already exists\n",
    "    if os.path.exists(persist_directory) and os.path.isdir(persist_directory):\n",
    "        print(f\"Using existing embeddings from {persist_directory}\")\n",
    "        # Find any new PDF that haven't been processed yet\n",
    "        new_pdf = filter_new_pdf(pdf_path, persist_directory)\n",
    "        \n",
    "        if new_pdf:\n",
    "            # Process only the new PDFs\n",
    "            print(f\"Processing {len(new_pdf)} new PDF...\")\n",
    "            raw_docs = load_pdf_with_langchain(new_pdf[0])\n",
    "            chunks = chunk_documents(raw_docs)\n",
    "            \n",
    "            # Load existing vector store and add new documents\n",
    "            vectorstore = Chroma(\n",
    "                persist_directory=persist_directory,\n",
    "                embedding_function=embeddings\n",
    "            )\n",
    "            \n",
    "            # Add new documents to the existing vector store\n",
    "            vectorstore.add_documents(chunks)\n",
    "            vectorstore.persist()\n",
    "            print(f\"Added {len(chunks)} new chunks to existing vector store\")\n",
    "        else:\n",
    "            # Just load the existing vector store\n",
    "            vectorstore = Chroma(\n",
    "                persist_directory=persist_directory,\n",
    "                embedding_function=embeddings\n",
    "            )\n",
    "    else:\n",
    "        # Load and process PDFs only if no existing vector store\n",
    "        print(f\"No existing embeddings found. Processing PDF...\")\n",
    "        raw_docs = load_pdf_with_langchain(pdf_path)\n",
    "        chunks = chunk_documents(raw_docs)\n",
    "        vectorstore = store_embeddings(docs=chunks, persist_directory=persist_directory)\n",
    "\n",
    "    # Retrieve relevant chunks based on the user query\n",
    "    retrieved = retrieve_chunks(user_query, vectorstore)\n",
    "\n",
    "    # Generate the answer using retrieved chunks\n",
    "    answer = generate_answer(user_query, retrieved)\n",
    "\n",
    "    # Format and return the response\n",
    "    return {\n",
    "        'context': retrieved,\n",
    "        'question': user_query,\n",
    "        'AI_generated_response': answer\n",
    "    }\n",
    "\n",
    "\n"
   ]
  },
  {
   "cell_type": "markdown",
   "metadata": {
    "application/vnd.databricks.v1+cell": {
     "cellMetadata": {},
     "inputWidgets": {},
     "nuid": "125e85c0-10c6-4552-bcff-27de970a68f3",
     "showTitle": false,
     "tableResultSettingsMap": {},
     "title": ""
    }
   },
   "source": [
    "> **Important Note:**  \n",
    ">  \n",
    "> This pipeline **intelligently checks** whether embeddings for the given PDF are already stored in the specified **Chroma vector store** (`persist_directory`).  \n",
    "> - If embeddings are found, it **reuses them** to prevent unnecessary recomputation.  \n",
    "> - If the PDF is new, the pipeline will **process and append** its embeddings to the existing vector store.  \n",
    "\n",
    "You can also **customize the storage location** by modifying the `persist_directory` parameter. This allows you to manage different sets of documents within the **same vector database**, but organized under **different collections**, offering flexible and scalable document handling.\n"
   ]
  },
  {
   "cell_type": "code",
   "execution_count": 236,
   "metadata": {},
   "outputs": [],
   "source": [
    "history=[]\n",
    "def pdf_bot():\n",
    "    \n",
    "    pdf_path=input(\"\\n enter your PDF Path\")\n",
    "    persist_directory=input(\"\\n enter your chromaDb Directory\")\n",
    "    while True:\n",
    "        query=input(\"\\n enter your question : \")\n",
    "        \n",
    "        \n",
    "        if query != \"exit\":\n",
    "            if len(history)==0:\n",
    "                response=pdf_chatbot_pipeline(pdf_path,query,persist_directory)\n",
    "                history.append(response[\"AI_generated_response\"])\n",
    "                print(response[\"AI_generated_response\"])\n",
    "            else:\n",
    "                label=classify_text(query)\n",
    "                print(label)\n",
    "                if label==\"YES\":\n",
    "                    history_chat(query)\n",
    "\n",
    "                else:\n",
    "                    history.clear()\n",
    "                    response=pdf_chatbot_pipeline(pdf_path,query,persist_directory)\n",
    "                    history.append(response[\"AI_generated_response\"])\n",
    "                    print(response[\"AI_generated_response\"])\n",
    "                    \n",
    "        else:\n",
    "            history.clear()\n",
    "            break"
   ]
  },
  {
   "cell_type": "code",
   "execution_count": 175,
   "metadata": {
    "application/vnd.databricks.v1+cell": {
     "cellMetadata": {
      "byteLimit": 2048000,
      "rowLimit": 10000
     },
     "inputWidgets": {},
     "nuid": "f7e2e5ea-2397-4830-968c-c7867140291a",
     "showTitle": false,
     "tableResultSettingsMap": {},
     "title": ""
    }
   },
   "outputs": [
    {
     "name": "stdout",
     "output_type": "stream",
     "text": [
      "Using existing embeddings from workshop_rag.db\n",
      "No new PDFs to process.\n",
      "{'context': [Document(metadata={'total_pages': 16, 'producer': 'PDFium', 'author': '', 'keywords': '', 'modDate': '', 'creationDate': 'D:20220624125453', 'format': 'PDF 1.7', 'creator': 'PDFium', 'trapped': '', 'page': 8, 'subject': '', 'source': 'testing.pdf', 'title': '', 'file_path': 'testing.pdf', 'creationdate': 'D:20220624125453', 'moddate': ''}, page_content='care practitioners looked for solutions to delayed patient treatment while managing\\nmassive inﬂuxes of COVID-19 patients. Healthcare has experienced a decade-long\\nchange in an instant, from telehealth to remote patient monitoring, online patient\\nportals to drive-through clinics. Because of the outbreak, healthcare innovation was\\nvital [24]. Healthcare companies are now moving swiftly to convert promise into\\nreality. As per BDO’s 2021 healthcare digital transformation survey, 93% of health-\\ncare organizations have or are in the process of building a digital transformation'), Document(metadata={'source': 'testing.pdf', 'moddate': '', 'trapped': '', 'creator': 'PDFium', 'format': 'PDF 1.7', 'creationDate': 'D:20220624125453', 'page': 1, 'title': '', 'total_pages': 16, 'author': '', 'producer': 'PDFium', 'modDate': '', 'subject': '', 'file_path': 'testing.pdf', 'keywords': '', 'creationdate': 'D:20220624125453'}, page_content='Digital Transformation in Healthcare\\nIndustry: A Survey\\nHarpreet Kaur Channi, Prateek Shrivastava, and Chiranji Lal Chowdhary\\nAbstract In the current environment, it can be seen that the healthcare business is\\ncompletely reliant on digitalization via the use of different new technologies that\\nmake it simpler to operate and the system more sustainable. For several decades, the\\nuse of Internet of things (IoT) and information and computer technologies (ICT) has\\nmade work simpler in the healthcare business. Enhancing admiration and providing'), Document(metadata={'page': 9, 'trapped': '', 'producer': 'PDFium', 'format': 'PDF 1.7', 'total_pages': 16, 'modDate': '', 'moddate': '', 'keywords': '', 'author': '', 'title': '', 'source': 'testing.pdf', 'creationDate': 'D:20220624125453', 'subject': '', 'creationdate': 'D:20220624125453', 'creator': 'PDFium', 'file_path': 'testing.pdf'}, page_content='distribution, a lack of trained healthcare professionals, and related infrastructure\\ngaps [26]. Despite the fact that India has a population of over a billion people, the\\ngreat majority of whom own a smartphone, digital healthcare technology had little\\ninﬂuence until this year, when numbers soared due to COVID-induced consumer and\\nbehavioral trends as shown in Fig. 7. This trend toward technologically enhanced\\nhealthcare, along with increasing government funding, improved access to healthcare\\ninformation, and a better awareness of preventative health behaviors, all point to a'), Document(metadata={'creationDate': 'D:20220624125453', 'file_path': 'testing.pdf', 'trapped': '', 'author': '', 'creator': 'PDFium', 'page': 11, 'producer': 'PDFium', 'modDate': '', 'creationdate': 'D:20220624125453', 'title': '', 'total_pages': 16, 'source': 'testing.pdf', 'keywords': '', 'moddate': '', 'subject': '', 'format': 'PDF 1.7'}, page_content='population, lower pricing, and more healthcare awareness [31, 32]. With growing\\ngovernment expenditure and favorable laws, a robust startup environment, the pres-\\nence of signiﬁcant health-tech ﬁrms’ research and innovation, and the upcoming 5G\\nlaunch, COVID has given these concepts even more wings.'), Document(metadata={'creationDate': 'D:20220624125453', 'file_path': 'testing.pdf', 'keywords': '', 'page': 2, 'producer': 'PDFium', 'source': 'testing.pdf', 'subject': '', 'trapped': '', 'author': '', 'moddate': '', 'creator': 'PDFium', 'format': 'PDF 1.7', 'modDate': '', 'total_pages': 16, 'creationdate': 'D:20220624125453', 'title': ''}, page_content='280\\nH. K. Channi et al.\\n1\\nIntroduction\\nHealthcare is the fastest expanding business, and telemedicine and virtual treat-\\nment of patients save both time and money. The healthcare industry in India is fully\\ndigitalized, embracing artiﬁcial intelligence (AI) and machine learning, and different\\nmodern technologies are assisting in a huge transition. In India, the healthcare market\\nis continually concentrating on new and sustainable healthcare technology to better\\npeople’s lives [1]. In healthcare distribution, a shortage of skilled healthcare practi-')], 'question': 'How has the COVID-19 pandemic accelerated the adoption of digital technologies in healthcare?', 'AI_generated_response': 'The COVID-19 pandemic has accelerated the adoption of digital technologies in healthcare by driving a decade-long change in an instant. This includes the widespread use of telehealth, remote patient monitoring, online patient portals, and drive-through clinics. The outbreak made healthcare innovation vital, prompting healthcare companies to swiftly move toward digital transformation. According to BDO’s 2021 healthcare digital transformation survey, 93% of healthcare organizations have either implemented or are in the process of building a digital transformation. Additionally, COVID-induced consumer and behavioral trends significantly increased the influence of digital healthcare technology, supported by growing government funding, improved access to healthcare information, and a better awareness of preventative health behaviors.'}\n",
      "\n",
      " AI-Generated Response:\n",
      "\n",
      "--------------------------------------------------------------------------------\n",
      "The COVID-19 pandemic has accelerated the adoption of digital technologies in healthcare by driving a decade-long change in an instant. This includes the widespread use of telehealth, remote patient monitoring, online patient portals, and drive-through clinics. The outbreak made healthcare innovation vital, prompting healthcare companies to swiftly move toward digital transformation. According to BDO’s 2021 healthcare digital transformation survey, 93% of healthcare organizations have either implemented or are in the process of building a digital transformation. Additionally, COVID-induced consumer and behavioral trends significantly increased the influence of digital healthcare technology, supported by growing government funding, improved access to healthcare information, and a better awareness of preventative health behaviors.\n"
     ]
    }
   ],
   "source": [
    "# Example usage\n",
    "\n",
    "response = pdf_chatbot_pipeline(\"testing.pdf\", \"How has the COVID-19 pandemic accelerated the adoption of digital technologies in healthcare?\",persist_directory=\"workshop_rag.db\")\n",
    "print(response)\n",
    "print(\"\\n AI-Generated Response:\\n\")\n",
    "print(\"-\" * 80)\n",
    "print(response[\"AI_generated_response\"])\n"
   ]
  },
  {
   "cell_type": "markdown",
   "metadata": {
    "application/vnd.databricks.v1+cell": {
     "cellMetadata": {},
     "inputWidgets": {},
     "nuid": "68707019-ed24-481c-92a6-b1d2077f500d",
     "showTitle": false,
     "tableResultSettingsMap": {},
     "title": ""
    }
   },
   "source": [
    "### Handling Queries Not Covered in the Context\n",
    "\n",
    "If the query isn't covered in the context, the model should respond:\n",
    "\n",
    "> **\"This query is not as per the PDF.\"**\n",
    "\n",
    "This confirms the prompt prevents hallucination and keeps answers grounded.\n"
   ]
  },
  {
   "cell_type": "code",
   "execution_count": 176,
   "metadata": {
    "application/vnd.databricks.v1+cell": {
     "cellMetadata": {
      "byteLimit": 2048000,
      "rowLimit": 10000
     },
     "inputWidgets": {},
     "nuid": "abcd7a07-8ec4-4871-a676-7f20ca531fb0",
     "showTitle": false,
     "tableResultSettingsMap": {},
     "title": ""
    }
   },
   "outputs": [
    {
     "name": "stdout",
     "output_type": "stream",
     "text": [
      "Using existing embeddings from workshop_rag.db\n",
      "No new PDFs to process.\n",
      "{'context': [Document(metadata={'creationDate': 'D:20220624125453', 'subject': '', 'trapped': '', 'title': '', 'moddate': '', 'format': 'PDF 1.7', 'total_pages': 16, 'keywords': '', 'modDate': '', 'creationdate': 'D:20220624125453', 'source': 'testing.pdf', 'creator': 'PDFium', 'producer': 'PDFium', 'file_path': 'testing.pdf', 'page': 1, 'author': ''}, page_content='e-mail: harpreetchanni@yahoo.in\\nP. Shrivastava\\ne-mail: prateeks1398@gmail.com\\nC. L. Chowdhary\\nSchool of Information Technology and Engineering, Vellore Institute of Technology, Vellore, India\\ne-mail: chiranji.lal@vit.ac.in\\n© The Author(s), under exclusive license to Springer Nature Singapore Pte Ltd. 2022\\nB. K. Tripathy et al. (eds.), Next Generation Healthcare Informatics,\\nStudies in Computational Intelligence 1039,\\nhttps://doi.org/10.1007/978-981-19-2416-3_16\\n279'), Document(metadata={'subject': '', 'creator': 'PDFium', 'source': 'testing.pdf', 'file_path': 'testing.pdf', 'format': 'PDF 1.7', 'total_pages': 16, 'producer': 'PDFium', 'page': 1, 'title': '', 'moddate': '', 'author': '', 'creationDate': 'D:20220624125453', 'creationdate': 'D:20220624125453', 'modDate': '', 'trapped': '', 'keywords': ''}, page_content='researchers and medical institutes found a solution to that problem and as expected,\\ndigitalization in healthcare makes it possible to control the situation. Various health-\\ncare equipment, such as smartwatches, oximeters, and glucometers, continuously\\nmonitor our health and provide input to the body for speciﬁc needs and updates.\\nKeywords Healthcare · E care · Digital transformation · Monitoring ·\\nTelemedicine · IoT\\nH. K. Channi (B) · P. Shrivastava\\nElectrical Engineering Department, Chandigarh University, Mohali, Punjab 140413, India\\ne-mail: harpreetchanni@yahoo.in\\nP. Shrivastava'), Document(metadata={'creator': 'PDFium', 'producer': 'PDFium', 'source': 'testing.pdf', 'total_pages': 16, 'moddate': '', 'format': 'PDF 1.7', 'creationdate': 'D:20220624125453', 'keywords': '', 'creationDate': 'D:20220624125453', 'file_path': 'testing.pdf', 'page': 0, 'subject': '', 'author': '', 'modDate': '', 'trapped': '', 'title': ''}, page_content='Vellore Institute of Technology\\n122 PUBLICATIONS\\xa0\\xa0\\xa02,945 CITATIONS\\xa0\\xa0\\xa0\\nSEE PROFILE\\nAll content following this page was uploaded by Prateek Shrivastava on 02 August 2022.\\nThe user has requested enhancement of the downloaded file.'), Document(metadata={'subject': '', 'creator': 'PDFium', 'creationDate': 'D:20220624125453', 'title': '', 'producer': 'PDFium', 'page': 11, 'moddate': '', 'trapped': '', 'file_path': 'testing.pdf', 'creationdate': 'D:20220624125453', 'format': 'PDF 1.7', 'source': 'testing.pdf', 'modDate': '', 'author': '', 'total_pages': 16, 'keywords': ''}, page_content='food to patients at Stanley Medical College Hospital. AR/VR has several applications\\nin healthcare. Pain management, cognitive rehabilitation, and patient therapy can all\\nbeneﬁt from it. Medical students’ education might be made more fascinating and\\nuseful by using real-life simulations. It can also assist doctors with surgery, training,\\nand overall patient care.\\nCompanies like Loop Reality, Inception, Health Connect Digital, and Imaginate\\nLabs are helping medical practitioners, drug companies, and hospitals all over the'), Document(metadata={'creator': 'PDFium', 'creationDate': 'D:20220624125453', 'subject': '', 'title': '', 'format': 'PDF 1.7', 'author': '', 'total_pages': 16, 'creationdate': 'D:20220624125453', 'page': 2, 'moddate': '', 'modDate': '', 'trapped': '', 'file_path': 'testing.pdf', 'producer': 'PDFium', 'source': 'testing.pdf', 'keywords': ''}, page_content='to link patients and caregivers hundreds of miles apart, technology and medicine\\nhave developed throughout the decades. Patients are attending video conferences\\nwith physicians as part of today’s rising trends in healthcare, saving time and money\\nthat would otherwise be spent commuting to another place. The Internet of things\\n(IoT) introduces a slew of new integration tools. Using the power of linkages and\\ndata to connect payers, pharmaceutical companies and providers to patients may have\\na signiﬁcant revolutionary impact. Smartwatches, ﬁtness trackers, pacemakers, and')], 'question': 'explain theory of relativity?', 'AI_generated_response': 'This query is not as per the PDF.'}\n",
      "\n",
      " AI-Generated Response:\n",
      "\n",
      "--------------------------------------------------------------------------------\n",
      "This query is not as per the PDF.\n"
     ]
    }
   ],
   "source": [
    "\n",
    "response_option = pdf_chatbot_pipeline(\"testing.pdf\", \"explain theory of relativity?\",persist_directory=\"workshop_rag.db\")\n",
    "print(response_option)\n",
    "print(\"\\n AI-Generated Response:\\n\")\n",
    "print(\"-\" * 80)\n",
    "print(response_option[\"AI_generated_response\"])"
   ]
  },
  {
   "cell_type": "markdown",
   "metadata": {
    "application/vnd.databricks.v1+cell": {
     "cellMetadata": {},
     "inputWidgets": {},
     "nuid": "0a36e796-f1ff-4f10-ae0b-86c6004e9e89",
     "showTitle": false,
     "tableResultSettingsMap": {},
     "title": ""
    }
   },
   "source": [
    "### Accessing Page Content from Retrieved Chunks\n",
    "\n",
    "We extract relevant **retrieved chunks** based on the query.  \n",
    "From the response context, we access the `page_content` of each document to get the actual text data used for generating answers.\n"
   ]
  },
  {
   "cell_type": "code",
   "execution_count": 20,
   "metadata": {
    "application/vnd.databricks.v1+cell": {
     "cellMetadata": {
      "byteLimit": 2048000,
      "rowLimit": 10000
     },
     "inputWidgets": {},
     "nuid": "8a538326-c575-44cd-810b-4d86f729cfa2",
     "showTitle": false,
     "tableResultSettingsMap": {},
     "title": ""
    }
   },
   "outputs": [
    {
     "data": {
      "text/plain": [
       "['preventable medical errors and signal a significant improvement in quality of patient care. \\nThe grand challenge of the medical internet of things (MIoT) is to sufficiently enable the \\ndeployment of patient-centric and context-aware networked medical systems in all care \\nenvironments, ranging from hospital floors to operating rooms, intensive care units to \\nhome care units. Heterogeneous devices in each care environment would effectively share \\ndata (efficiently, safely and securely) to minimize preventable errors often introduced by \\nhumans.',\n",
       " 'ICE standard will enable dramatic improvements to patient safety because cross-vendor \\ninter-device communications may significantly reduce preventable medical errors. \\nExamples include patient transfers from the Operating Room (OR) to Intensive Care Units \\n(ICU) and reducing false alarms or deaths due to Patient-Controlled Analgesia (PCA). In \\nboth of these examples, synthesis of data from diverse range of medical devices may enable \\nthe generation of real-time actionable information from the system to a point of care',\n",
       " 'remote monitoring at home) are factors which compromise patient safety. In the absence of \\nappropriate data analysis and synthesis, the ability to produce actionable information \\nrelevant to the collective status of the patient must depend on medical professionals to \\ncombine the data at the point of care. In this context, integration and interoperability may \\nimprove efficiency, safety and security. It is anticipated that it will lower the rates of \\npreventable medical errors and signal a significant improvement in quality of patient care.',\n",
       " 'humans. \\nMobility of medical devices between different care environments or from patient to patient \\npresents challenges. While in transit, they must remain secure yet “open” for “discovery” by \\nother devices in much the same way that consumer IoT accessories, for example, Amazon \\nEcho Dot, pairs with your smartphone or the laptop when it is in the cone of connectivity. \\nOnce discovered, the devices must self-organize and form the ad hoc mesh network of \\ndevices, specific to the patient. They need to interoperate with, verify and execute safe, \\nauthorized and compliant operational profiles.',\n",
       " 'Healthcare-associated infections may benefit from connectivity [Figure 8] and the \\nconnectivity as a medical IoT design principles, if used, may save lives. About 1 in 25 \\npatients gets an infection each year while receiving medical care in the US [116]. Estimated \\n25,000 deaths per year from about 1 million infections each year from US healthcare at a \\nprojected cost of $30 billion per annum. In addition to logging prescribed antibiotics and \\ntheir use [117] it may be necessary to track and trace individual hand-washing habits and']"
      ]
     },
     "execution_count": 20,
     "metadata": {},
     "output_type": "execute_result"
    }
   ],
   "source": [
    "retrieved_context = [doc.page_content for doc in response['context']]\n",
    "retrieved_context"
   ]
  },
  {
   "cell_type": "markdown",
   "metadata": {
    "application/vnd.databricks.v1+cell": {
     "cellMetadata": {},
     "inputWidgets": {},
     "nuid": "6f03bca1-af3a-477b-9b40-b14a9780eaef",
     "showTitle": false,
     "tableResultSettingsMap": {},
     "title": ""
    }
   },
   "source": [
    "### Human-Written Reference Response\n",
    "\n",
    "Now that we have written a **human-written response**, we can use it as a reference to **evaluate** whether the **AI-generated response** meets different quality standards.\n",
    "\n",
    "This comparison allows us to measure key evaluation metrics such as:\n",
    "\n",
    "- **Answer relevance**\n",
    "- **Faithfulness**\n",
    "- **Hallucination detection**\n",
    "\n",
    "By comparing the AI's output against the human response, we can better understand how well the model performs in real-world scenarios.\n",
    "\n"
   ]
  },
  {
   "cell_type": "code",
   "execution_count": 124,
   "metadata": {
    "application/vnd.databricks.v1+cell": {
     "cellMetadata": {
      "byteLimit": 2048000,
      "rowLimit": 10000
     },
     "inputWidgets": {},
     "nuid": "317b27a8-6211-43a9-a34e-e3045698cdd2",
     "showTitle": false,
     "tableResultSettingsMap": {},
     "title": ""
    }
   },
   "outputs": [],
   "source": [
    "human_answer=\"\"\"The Medical Internet of Things (MIoT) is improving hospital safety by enabling better coordination among medical devices across various care settings—like hospital wards, operating rooms, ICUs, and even home care. It allows secure and efficient data sharing between different devices, reducing the risk of human error. For example, the ICE (Integrated Clinical Environment) standard supports communication between devices from different vendors, which is especially useful during patient transfers, helping prevent issues like false alarms or dosing errors with systems such as Patient-Controlled Analgesia (PCA).\n",
    "\n",
    "MIoT also enhances real-time decision-making by integrating data from multiple sources, boosting safety, efficiency, and security. It supports mobile medical devices by enabling secure, compliant, self-organizing networks tailored to individual patients. Beyond direct care, MIoT can help reduce hospital-acquired infections by tracking antibiotic use and monitoring hand hygiene, ultimately saving lives and cutting healthcare costs.\"\"\"\n"
   ]
  },
  {
   "cell_type": "code",
   "execution_count": 125,
   "metadata": {},
   "outputs": [
    {
     "name": "stdout",
     "output_type": "stream",
     "text": [
      "The Medical Internet of Things (MIoT) is improving hospital safety by enabling better coordination among medical devices across various care settings—like hospital wards, operating rooms, ICUs, and even home care. It allows secure and efficient data sharing between different devices, reducing the risk of human error. For example, the ICE (Integrated Clinical Environment) standard supports communication between devices from different vendors, which is especially useful during patient transfers, helping prevent issues like false alarms or dosing errors with systems such as Patient-Controlled Analgesia (PCA).\n",
      "\n",
      "MIoT also enhances real-time decision-making by integrating data from multiple sources, boosting safety, efficiency, and security. It supports mobile medical devices by enabling secure, compliant, self-organizing networks tailored to individual patients. Beyond direct care, MIoT can help reduce hospital-acquired infections by tracking antibiotic use and monitoring hand hygiene, ultimately saving lives and cutting healthcare costs.\n"
     ]
    }
   ],
   "source": [
    "print(human_answer)"
   ]
  },
  {
   "cell_type": "markdown",
   "metadata": {
    "application/vnd.databricks.v1+cell": {
     "cellMetadata": {},
     "inputWidgets": {},
     "nuid": "14d58bd4-88b8-4601-af1f-746edd49551f",
     "showTitle": false,
     "tableResultSettingsMap": {},
     "title": ""
    }
   },
   "source": [
    "\n",
    "### Adding Low-Relevance Chunks for Evaluation\n",
    "\n",
    "Now, we are going to **deliberately create low-relevance chunks** (written by us) and **add them to the retrieved relevant chunks**. \n",
    "\n",
    "This setup allows us to analyze how the presence of **irrelevant or partially relevant information** affects key retrieval evaluation metrics such as:\n",
    "\n",
    "- **Contextual Precision**\n",
    "- **Contextual Recall**\n",
    "- **Contextual Relevance**\n",
    "\n",
    "By mixing in low-relevance data, we can better observe how the system handles noise and test its ability to maintain high-quality retrieval performance.\n"
   ]
  },
  {
   "cell_type": "code",
   "execution_count": 22,
   "metadata": {
    "application/vnd.databricks.v1+cell": {
     "cellMetadata": {
      "byteLimit": 2048000,
      "rowLimit": 10000
     },
     "inputWidgets": {},
     "nuid": "d332fc53-2724-4c63-a448-bc2c0850862e",
     "showTitle": false,
     "tableResultSettingsMap": {},
     "title": ""
    }
   },
   "outputs": [],
   "source": [
    "low_relevance_chunks= [\"\"\"Many respected institutions and well-regarded medical professionals advertise their services as a way to inform the public about available healthcare options. Over time, physicians and hospitals have increasingly adopted marketing and public relations strategies to connect with their communities and raise awareness of the care they offer. These approaches, while often useful for improving visibility and accessibility, have also led to a noticeable shift in how healthcare services are presented.\"\"\"\n",
    "                        ,\n",
    "                       \"\"\"tools of operations management, for example, supply chain management, are useful only to a limited extent... These observations, however, have had little impact on the vast cost of consulting fees... Patients who are sick, or worried that they may be sick, generally, are neither capable of understanding their physiological status nor inclined to shop around for bargains... The value of life often far outweighs the consideration of cost... The root of the disequilibrium in healthcare is the heavy, often total, dependence of the patient on the medical practitioner.\"\"\"]\n",
    "\n",
    "                        \n"
   ]
  },
  {
   "cell_type": "code",
   "execution_count": 126,
   "metadata": {
    "application/vnd.databricks.v1+cell": {
     "cellMetadata": {
      "byteLimit": 2048000,
      "rowLimit": 10000
     },
     "inputWidgets": {},
     "nuid": "ffd29070-7809-4bc5-a861-d6ffa67d1c6e",
     "showTitle": false,
     "tableResultSettingsMap": {},
     "title": ""
    }
   },
   "outputs": [
    {
     "data": {
      "text/plain": [
       "['Many respected institutions and well-regarded medical professionals advertise their services as a way to inform the public about available healthcare options. Over time, physicians and hospitals have increasingly adopted marketing and public relations strategies to connect with their communities and raise awareness of the care they offer. These approaches, while often useful for improving visibility and accessibility, have also led to a noticeable shift in how healthcare services are presented.',\n",
       " 'tools of operations management, for example, supply chain management, are useful only to a limited extent... These observations, however, have had little impact on the vast cost of consulting fees... Patients who are sick, or worried that they may be sick, generally, are neither capable of understanding their physiological status nor inclined to shop around for bargains... The value of life often far outweighs the consideration of cost... The root of the disequilibrium in healthcare is the heavy, often total, dependence of the patient on the medical practitioner.']"
      ]
     },
     "execution_count": 126,
     "metadata": {},
     "output_type": "execute_result"
    }
   ],
   "source": [
    "low_relevance_chunks"
   ]
  },
  {
   "cell_type": "code",
   "execution_count": 127,
   "metadata": {
    "application/vnd.databricks.v1+cell": {
     "cellMetadata": {
      "byteLimit": 2048000,
      "rowLimit": 10000
     },
     "inputWidgets": {},
     "nuid": "025e7c4f-2fc2-4726-adb5-4d9f0bdde048",
     "showTitle": false,
     "tableResultSettingsMap": {},
     "title": ""
    }
   },
   "outputs": [],
   "source": [
    "### Adding Low-Relevance Chunks to Retrieved Context\n",
    "retrieved_context_with_noise=low_relevance_chunks+ retrieved_context"
   ]
  },
  {
   "cell_type": "code",
   "execution_count": 128,
   "metadata": {
    "application/vnd.databricks.v1+cell": {
     "cellMetadata": {
      "byteLimit": 2048000,
      "rowLimit": 10000
     },
     "inputWidgets": {},
     "nuid": "4af4bb27-6317-4b94-823b-5f93d804c7b9",
     "showTitle": false,
     "tableResultSettingsMap": {},
     "title": ""
    }
   },
   "outputs": [
    {
     "data": {
      "text/plain": [
       "['Many respected institutions and well-regarded medical professionals advertise their services as a way to inform the public about available healthcare options. Over time, physicians and hospitals have increasingly adopted marketing and public relations strategies to connect with their communities and raise awareness of the care they offer. These approaches, while often useful for improving visibility and accessibility, have also led to a noticeable shift in how healthcare services are presented.',\n",
       " 'tools of operations management, for example, supply chain management, are useful only to a limited extent... These observations, however, have had little impact on the vast cost of consulting fees... Patients who are sick, or worried that they may be sick, generally, are neither capable of understanding their physiological status nor inclined to shop around for bargains... The value of life often far outweighs the consideration of cost... The root of the disequilibrium in healthcare is the heavy, often total, dependence of the patient on the medical practitioner.',\n",
       " 'preventable medical errors and signal a significant improvement in quality of patient care. \\nThe grand challenge of the medical internet of things (MIoT) is to sufficiently enable the \\ndeployment of patient-centric and context-aware networked medical systems in all care \\nenvironments, ranging from hospital floors to operating rooms, intensive care units to \\nhome care units. Heterogeneous devices in each care environment would effectively share \\ndata (efficiently, safely and securely) to minimize preventable errors often introduced by \\nhumans.',\n",
       " 'ICE standard will enable dramatic improvements to patient safety because cross-vendor \\ninter-device communications may significantly reduce preventable medical errors. \\nExamples include patient transfers from the Operating Room (OR) to Intensive Care Units \\n(ICU) and reducing false alarms or deaths due to Patient-Controlled Analgesia (PCA). In \\nboth of these examples, synthesis of data from diverse range of medical devices may enable \\nthe generation of real-time actionable information from the system to a point of care',\n",
       " 'remote monitoring at home) are factors which compromise patient safety. In the absence of \\nappropriate data analysis and synthesis, the ability to produce actionable information \\nrelevant to the collective status of the patient must depend on medical professionals to \\ncombine the data at the point of care. In this context, integration and interoperability may \\nimprove efficiency, safety and security. It is anticipated that it will lower the rates of \\npreventable medical errors and signal a significant improvement in quality of patient care.',\n",
       " 'humans. \\nMobility of medical devices between different care environments or from patient to patient \\npresents challenges. While in transit, they must remain secure yet “open” for “discovery” by \\nother devices in much the same way that consumer IoT accessories, for example, Amazon \\nEcho Dot, pairs with your smartphone or the laptop when it is in the cone of connectivity. \\nOnce discovered, the devices must self-organize and form the ad hoc mesh network of \\ndevices, specific to the patient. They need to interoperate with, verify and execute safe, \\nauthorized and compliant operational profiles.',\n",
       " 'Healthcare-associated infections may benefit from connectivity [Figure 8] and the \\nconnectivity as a medical IoT design principles, if used, may save lives. About 1 in 25 \\npatients gets an infection each year while receiving medical care in the US [116]. Estimated \\n25,000 deaths per year from about 1 million infections each year from US healthcare at a \\nprojected cost of $30 billion per annum. In addition to logging prescribed antibiotics and \\ntheir use [117] it may be necessary to track and trace individual hand-washing habits and']"
      ]
     },
     "execution_count": 128,
     "metadata": {},
     "output_type": "execute_result"
    }
   ],
   "source": [
    "retrieved_context_with_noise"
   ]
  },
  {
   "cell_type": "markdown",
   "metadata": {
    "application/vnd.databricks.v1+cell": {
     "cellMetadata": {},
     "inputWidgets": {},
     "nuid": "c70d2189-3eba-4bb4-b8de-19fb665f365d",
     "showTitle": false,
     "tableResultSettingsMap": {},
     "title": ""
    }
   },
   "source": [
    "## Contextual Precision\n",
    "\n",
    "The **contextual precision** metric measures how well your RAG pipeline’s **retriever** ranks **relevant document chunks** higher than irrelevant ones for a given input query.\n",
    "\n",
    "In simple terms:  \n",
    "> Are the most relevant chunks appearing at the top of the retrieved list?\n",
    "\n",
    "`deepeval` uses a **self-explaining LLM-based evaluation** for this metric. That means it not only returns a score but also provides a **reason** for the score using an LLM as a judge.\n",
    "\n",
    "### Required Inputs for `ContextualPrecisionMetric` in `deepeval`\n",
    "\n",
    "When creating an `LLMTestCase`, you need to provide:\n",
    "\n",
    "- `input`: The user’s query\n",
    "- `actual_output`: The actual response generated by the LLM (not used for this metric)\n",
    "- `expected_output`: The expected response (used as reference)\n",
    "- `retrieval_context`: The top-N retrieved chunks (document nodes) from your vector store\n",
    "\n",
    "> This metric helps evaluate the **quality of retrieval**, not the generated answer.\n",
    "\n",
    "\n"
   ]
  },
  {
   "cell_type": "code",
   "execution_count": 76,
   "metadata": {
    "application/vnd.databricks.v1+cell": {
     "cellMetadata": {
      "byteLimit": 2048000,
      "rowLimit": 10000
     },
     "inputWidgets": {},
     "nuid": "0ed0b649-bdaf-4588-9e29-4e399676572a",
     "showTitle": false,
     "tableResultSettingsMap": {},
     "title": ""
    },
    "scrolled": true
   },
   "outputs": [
    {
     "data": {
      "text/html": [
       "<pre style=\"white-space:pre;overflow-x:auto;line-height:normal;font-family:Menlo,'DejaVu Sans Mono',consolas,'Courier New',monospace\">✨ You're running DeepEval's latest <span style=\"color: #6a00ff; text-decoration-color: #6a00ff\">Contextual Precision Metric</span>! <span style=\"color: #374151; text-decoration-color: #374151; font-weight: bold\">(</span><span style=\"color: #374151; text-decoration-color: #374151\">using azure-gpt4o-mini, </span><span style=\"color: #374151; text-decoration-color: #374151\">strict</span><span style=\"color: #374151; text-decoration-color: #374151\">=</span><span style=\"color: #374151; text-decoration-color: #374151; font-style: italic\">False</span><span style=\"color: #374151; text-decoration-color: #374151\">, </span>\n",
       "<span style=\"color: #374151; text-decoration-color: #374151\">async_mode</span><span style=\"color: #374151; text-decoration-color: #374151\">=</span><span style=\"color: #374151; text-decoration-color: #374151; font-style: italic\">True</span><span style=\"color: #374151; text-decoration-color: #374151; font-weight: bold\">)</span><span style=\"color: #374151; text-decoration-color: #374151\">...</span>\n",
       "</pre>\n"
      ],
      "text/plain": [
       "✨ You're running DeepEval's latest \u001b[38;2;106;0;255mContextual Precision Metric\u001b[0m! \u001b[1;38;2;55;65;81m(\u001b[0m\u001b[38;2;55;65;81musing azure-gpt4o-mini, \u001b[0m\u001b[38;2;55;65;81mstrict\u001b[0m\u001b[38;2;55;65;81m=\u001b[0m\u001b[3;38;2;55;65;81mFalse\u001b[0m\u001b[38;2;55;65;81m, \u001b[0m\n",
       "\u001b[38;2;55;65;81masync_mode\u001b[0m\u001b[38;2;55;65;81m=\u001b[0m\u001b[3;38;2;55;65;81mTrue\u001b[0m\u001b[1;38;2;55;65;81m)\u001b[0m\u001b[38;2;55;65;81m...\u001b[0m\n"
      ]
     },
     "metadata": {},
     "output_type": "display_data"
    },
    {
     "name": "stdout",
     "output_type": "stream",
     "text": [
      "Event loop is already running. Applying nest_asyncio patch to allow async execution...\n"
     ]
    },
    {
     "name": "stderr",
     "output_type": "stream",
     "text": [
      "Evaluating 1 test case(s) in parallel: |██████████████████████████████|100% (1/1) [Time Taken: 00:10, 10.57s/test case]"
     ]
    },
    {
     "name": "stdout",
     "output_type": "stream",
     "text": [
      "**************************************************\n",
      "Contextual Precision Verbose Logs\n",
      "**************************************************\n",
      "\n",
      "Verdicts:\n",
      "[\n",
      "    {\n",
      "        \"verdict\": \"yes\",\n",
      "        \"reason\": \"The context emphasizes the role of MIoT in minimizing preventable medical errors by deploying patient-centric, context-aware networked systems, which aligns with the real-time monitoring and improved hospital safety in the expected output.\"\n",
      "    },\n",
      "    {\n",
      "        \"verdict\": \"yes\",\n",
      "        \"reason\": \"It discusses cross-vendor inter-device communication and synthesis of data to generate actionable information in real-time, directly supporting MIoT's contribution to faster response times and enhanced hospital safety.\"\n",
      "    },\n",
      "    {\n",
      "        \"verdict\": \"yes\",\n",
      "        \"reason\": \"This document highlights integration and interoperability improving efficiency, safety, and reducing preventable medical errors, which supports MIoT's role in ensuring better compliance with safety protocols.\"\n",
      "    },\n",
      "    {\n",
      "        \"verdict\": \"yes\",\n",
      "        \"reason\": \"The text mentions device mobility, discovery, and self-organizing ad hoc networks, which contribute to MIoT's ability to continuously track patients' vitals and manage assets efficiently, aiding improved decision-making and hospital safety.\"\n",
      "    },\n",
      "    {\n",
      "        \"verdict\": \"yes\",\n",
      "        \"reason\": \"It addresses healthcare-associated infections and the use of connectivity principles to save lives, complementing MIoT's role in creating safer patient care environments through better compliance and monitoring practices.\"\n",
      "    }\n",
      "]\n",
      " \n",
      "Score: 1.0\n",
      "Reason: The score is 1.00 because all nodes in the retrieval contexts are relevant to the input, showcasing MIoT's improvements to hospital safety through features like minimizing errors, real-time monitoring, interoperability, and infection prevention. Great ranking!\n",
      "\n",
      "======================================================================\n",
      "\n",
      "======================================================================\n",
      "\n",
      "Metrics Summary\n",
      "\n",
      "  - ✅ Contextual Precision (score: 1.0, threshold: 0.6, strict: False, evaluation model: azure-gpt4o-mini, reason: The score is 1.00 because all nodes in the retrieval contexts are relevant to the input, showcasing MIoT's improvements to hospital safety through features like minimizing errors, real-time monitoring, interoperability, and infection prevention. Great ranking!, error: None)\n",
      "\n",
      "For test case:\n",
      "\n",
      "  - input: How does MIoT improve hospital safety?\n",
      "  - actual output: MIoT improves hospital safety by enabling the deployment of patient-centric and context-aware networked medical systems across various care environments, such as hospital floors, operating rooms, intensive care units, and home care units. It facilitates the efficient, safe, and secure sharing of data among heterogeneous medical devices, minimizing preventable errors often introduced by humans. The ICE standard supports cross-vendor inter-device communications, which can reduce preventable medical errors during patient transfers (e.g., from the Operating Room to Intensive Care Units) and mitigate risks like false alarms or deaths due to Patient-Controlled Analgesia (PCA). Additionally, MIoT enhances integration and interoperability, allowing for real-time actionable information synthesis, improving efficiency, safety, and security. It also addresses challenges related to device mobility, ensuring secure discovery, self-organization, and compliance in forming ad hoc mesh networks specific to patients. Furthermore, MIoT connectivity principles may help reduce healthcare-associated infections by tracking prescribed antibiotics, usage, and hand-washing habits, potentially saving lives and reducing costs.\n",
      "  - expected output: MIoT, or the Medical Internet of Things, enhances hospital safety by enabling real-time monitoring, \n",
      "\f",
      "aster response times, and improved decision-making. Devices like smart sensors, wearables, \n",
      "\u0007nd connected medical equipment continuously track patients' vital signs, \n",
      "\u0007lerting staff to potential issues before they become critical. It also helps reduce human error, \n",
      "\\ensures better compliance with safety protocols, and allows hospitals to manage assets more efficiently, \n",
      "ultimately leading to safer and more responsive patient care environments.\n",
      "  - context: None\n",
      "  - retrieval context: ['preventable medical errors and signal a significant improvement in quality of patient care. \\nThe grand challenge of the medical internet of things (MIoT) is to sufficiently enable the \\ndeployment of patient-centric and context-aware networked medical systems in all care \\nenvironments, ranging from hospital floors to operating rooms, intensive care units to \\nhome care units. Heterogeneous devices in each care environment would effectively share \\ndata (efficiently, safely and securely) to minimize preventable errors often introduced by \\nhumans.', 'ICE standard will enable dramatic improvements to patient safety because cross-vendor \\ninter-device communications may significantly reduce preventable medical errors. \\nExamples include patient transfers from the Operating Room (OR) to Intensive Care Units \\n(ICU) and reducing false alarms or deaths due to Patient-Controlled Analgesia (PCA). In \\nboth of these examples, synthesis of data from diverse range of medical devices may enable \\nthe generation of real-time actionable information from the system to a point of care', 'remote monitoring at home) are factors which compromise patient safety. In the absence of \\nappropriate data analysis and synthesis, the ability to produce actionable information \\nrelevant to the collective status of the patient must depend on medical professionals to \\ncombine the data at the point of care. In this context, integration and interoperability may \\nimprove efficiency, safety and security. It is anticipated that it will lower the rates of \\npreventable medical errors and signal a significant improvement in quality of patient care.', 'humans. \\nMobility of medical devices between different care environments or from patient to patient \\npresents challenges. While in transit, they must remain secure yet “open” for “discovery” by \\nother devices in much the same way that consumer IoT accessories, for example, Amazon \\nEcho Dot, pairs with your smartphone or the laptop when it is in the cone of connectivity. \\nOnce discovered, the devices must self-organize and form the ad hoc mesh network of \\ndevices, specific to the patient. They need to interoperate with, verify and execute safe, \\nauthorized and compliant operational profiles.', 'Healthcare-associated infections may benefit from connectivity [Figure 8] and the \\nconnectivity as a medical IoT design principles, if used, may save lives. About 1 in 25 \\npatients gets an infection each year while receiving medical care in the US [116]. Estimated \\n25,000 deaths per year from about 1 million infections each year from US healthcare at a \\nprojected cost of $30 billion per annum. In addition to logging prescribed antibiotics and \\ntheir use [117] it may be necessary to track and trace individual hand-washing habits and']\n",
      "\n",
      "======================================================================\n",
      "\n",
      "Overall Metric Pass Rates\n",
      "\n",
      "Contextual Precision: 100.00% pass rate\n",
      "\n",
      "======================================================================\n",
      "\n"
     ]
    },
    {
     "name": "stderr",
     "output_type": "stream",
     "text": [
      "\n"
     ]
    },
    {
     "data": {
      "text/html": [
       "<pre style=\"white-space:pre;overflow-x:auto;line-height:normal;font-family:Menlo,'DejaVu Sans Mono',consolas,'Courier New',monospace\">\n",
       "<span style=\"color: #05f58d; text-decoration-color: #05f58d\">✓</span> Tests finished 🎉! Run <span style=\"color: #008000; text-decoration-color: #008000; font-weight: bold\">'deepeval login'</span> to save and analyze evaluation results on Confident AI.\n",
       " \n",
       "✨👀 Looking for a place for your LLM test data to live 🏡❤️ ? Use <span style=\"color: #6a00ff; text-decoration-color: #6a00ff\">Confident AI</span> to get &amp; share testing reports, \n",
       "experiment with models/prompts, and catch regressions for your LLM system. Just run <span style=\"color: #008080; text-decoration-color: #008080\">'deepeval login'</span> in the CLI. \n",
       "\n",
       "</pre>\n"
      ],
      "text/plain": [
       "\n",
       "\u001b[38;2;5;245;141m✓\u001b[0m Tests finished 🎉! Run \u001b[1;32m'deepeval login'\u001b[0m to save and analyze evaluation results on Confident AI.\n",
       " \n",
       "✨👀 Looking for a place for your LLM test data to live 🏡❤️ ? Use \u001b[38;2;106;0;255mConfident AI\u001b[0m to get & share testing reports, \n",
       "experiment with models/prompts, and catch regressions for your LLM system. Just run \u001b[36m'deepeval login'\u001b[0m in the CLI. \n",
       "\n"
      ]
     },
     "metadata": {},
     "output_type": "display_data"
    }
   ],
   "source": [
    "# Evalaute without noise \n",
    "test_case = LLMTestCase(\n",
    "    input=response['question'],\n",
    "    actual_output=response['AI_generated_response'],\n",
    "    expected_output=human_answer,\n",
    "    retrieval_context=retrieved_context\n",
    ")\n",
    "\n",
    "metric = ContextualPrecisionMetric(\n",
    "    threshold=0.6,\n",
    "    model=wrapped_model,\n",
    "    include_reason=True,\n",
    "    verbose_mode=True\n",
    ")\n",
    "\n",
    "result = evaluate([test_case], [metric])"
   ]
  },
  {
   "cell_type": "code",
   "execution_count": 77,
   "metadata": {
    "application/vnd.databricks.v1+cell": {
     "cellMetadata": {
      "byteLimit": 2048000,
      "rowLimit": 10000
     },
     "inputWidgets": {},
     "nuid": "2e86bb18-c18d-48b2-a541-98c37372f380",
     "showTitle": false,
     "tableResultSettingsMap": {},
     "title": ""
    }
   },
   "outputs": [
    {
     "name": "stdout",
     "output_type": "stream",
     "text": [
      "Sucess: True\n",
      "Score: 1.0\n",
      "Reason: The score is 1.00 because all nodes in the retrieval contexts are relevant to the input, showcasing MIoT's improvements to hospital safety through features like minimizing errors, real-time monitoring, interoperability, and infection prevention. Great ranking!\n"
     ]
    }
   ],
   "source": [
    "print('Sucess:', result.test_results[0].metrics_data[0].success)\n",
    "print('Score:', result.test_results[0].metrics_data[0].score)\n",
    "print('Reason:', result.test_results[0].metrics_data[0].reason)"
   ]
  },
  {
   "cell_type": "markdown",
   "metadata": {
    "application/vnd.databricks.v1+cell": {
     "cellMetadata": {},
     "inputWidgets": {},
     "nuid": "3b62fd7b-a741-4d18-80e4-7b6ab6803f17",
     "showTitle": false,
     "tableResultSettingsMap": {},
     "title": ""
    }
   },
   "source": [
    "### Observation:\n",
    "\n",
    "This evaluation demonstrates the ideal outcome of a well-aligned retrieval system. When running the **Contextual Precision** metric, the system achieved a **perfect score of 1.0**, indicating that **all retrieved document chunks were highly relevant** to the query.\n",
    "\n",
    "---\n",
    "\n",
    "#### Why It Worked:\n",
    "- The retriever surfaced **only meaningful, context-rich nodes** that directly supported the expected output.\n",
    "- Chunks discussed core aspects of **MIoT’s impact on hospital safety** — from reducing human error and supporting compliance to enhancing decision-making and infection control.\n",
    "- **No irrelevant or noisy chunks** appeared in the top-k retrieved results.\n",
    "\n",
    "---\n",
    "\n",
    "#### Insight:\n",
    "This shows how **clean retrieval context** — free from off-topic or generic content — can **significantly improve the quality** of answers generated by RAG systems.\n",
    "\n",
    "---\n",
    "\n",
    "#### Outcome:\n",
    "- **Score:** 1.0 (Perfect Precision)\n",
    "- **Verdicts:** All retrieved chunks were relevant and properly ranked.\n",
    "- **Impact:** Ensures a highly focused, context-aware response.\n",
    "\n",
    "---\n",
    "\n",
    "#### Takeaway:\n",
    "To replicate this result across other test cases:\n",
    "- Keep your document set **highly focused** on the topic.\n",
    "- Optimize chunking to **preserve contextual integrity**.\n",
    "- Apply **retrieval filtering** or reranking to minimize unrelated content.\n",
    "\n",
    "This helps maintain a **high signal-to-noise ratio** and leads to better grounding and precision in answers.\n"
   ]
  },
  {
   "cell_type": "markdown",
   "metadata": {},
   "source": [
    "### Testing Contextual Precision with Injected Noise Using DeepEval\n",
    "\n",
    "In this step, we inject noisy chunks at the top of the retrieved context to see how they affect contextual precision. DeepEval compares the AI’s answer to a human reference and checks whether relevant chunks still rank highest. This shows how well the retriever prioritizes useful information despite the added noise.\n"
   ]
  },
  {
   "cell_type": "code",
   "execution_count": 28,
   "metadata": {
    "application/vnd.databricks.v1+cell": {
     "cellMetadata": {
      "byteLimit": 2048000,
      "rowLimit": 10000
     },
     "inputWidgets": {},
     "nuid": "8f0a6d98-c4bc-46c6-a315-0defd2e47250",
     "showTitle": false,
     "tableResultSettingsMap": {},
     "title": ""
    },
    "scrolled": true
   },
   "outputs": [
    {
     "data": {
      "text/html": [
       "<pre style=\"white-space:pre;overflow-x:auto;line-height:normal;font-family:Menlo,'DejaVu Sans Mono',consolas,'Courier New',monospace\">✨ You're running DeepEval's latest <span style=\"color: #6a00ff; text-decoration-color: #6a00ff\">Contextual Precision Metric</span>! <span style=\"color: #374151; text-decoration-color: #374151; font-weight: bold\">(</span><span style=\"color: #374151; text-decoration-color: #374151\">using azure-gpt4o-mini, </span><span style=\"color: #374151; text-decoration-color: #374151\">strict</span><span style=\"color: #374151; text-decoration-color: #374151\">=</span><span style=\"color: #374151; text-decoration-color: #374151; font-style: italic\">False</span><span style=\"color: #374151; text-decoration-color: #374151\">, </span>\n",
       "<span style=\"color: #374151; text-decoration-color: #374151\">async_mode</span><span style=\"color: #374151; text-decoration-color: #374151\">=</span><span style=\"color: #374151; text-decoration-color: #374151; font-style: italic\">True</span><span style=\"color: #374151; text-decoration-color: #374151; font-weight: bold\">)</span><span style=\"color: #374151; text-decoration-color: #374151\">...</span>\n",
       "</pre>\n"
      ],
      "text/plain": [
       "✨ You're running DeepEval's latest \u001b[38;2;106;0;255mContextual Precision Metric\u001b[0m! \u001b[1;38;2;55;65;81m(\u001b[0m\u001b[38;2;55;65;81musing azure-gpt4o-mini, \u001b[0m\u001b[38;2;55;65;81mstrict\u001b[0m\u001b[38;2;55;65;81m=\u001b[0m\u001b[3;38;2;55;65;81mFalse\u001b[0m\u001b[38;2;55;65;81m, \u001b[0m\n",
       "\u001b[38;2;55;65;81masync_mode\u001b[0m\u001b[38;2;55;65;81m=\u001b[0m\u001b[3;38;2;55;65;81mTrue\u001b[0m\u001b[1;38;2;55;65;81m)\u001b[0m\u001b[38;2;55;65;81m...\u001b[0m\n"
      ]
     },
     "metadata": {},
     "output_type": "display_data"
    },
    {
     "name": "stdout",
     "output_type": "stream",
     "text": [
      "Event loop is already running. Applying nest_asyncio patch to allow async execution...\n"
     ]
    },
    {
     "name": "stderr",
     "output_type": "stream",
     "text": [
      "Evaluating 1 test case(s) in parallel: |██████████████████████████████|100% (1/1) [Time Taken: 00:12, 12.18s/test case]"
     ]
    },
    {
     "name": "stdout",
     "output_type": "stream",
     "text": [
      "**************************************************\n",
      "Contextual Precision Verbose Logs\n",
      "**************************************************\n",
      "\n",
      "Verdicts:\n",
      "[\n",
      "    {\n",
      "        \"verdict\": \"no\",\n",
      "        \"reason\": \"The text focuses on healthcare marketing and visibility strategies, which are not relevant to MIoT or hospital safety.\"\n",
      "    },\n",
      "    {\n",
      "        \"verdict\": \"no\",\n",
      "        \"reason\": \"This document discusses operations management and the relationship between patients and medical practitioners but does not address MIoT or specific hospital safety improvements.\"\n",
      "    },\n",
      "    {\n",
      "        \"verdict\": \"yes\",\n",
      "        \"reason\": \"This document explicitly discusses the Medical Internet of Things (MIoT) and its role in minimizing preventable medical errors, which aligns with the expected output highlighting MIoT's impact on hospital safety.\"\n",
      "    },\n",
      "    {\n",
      "        \"verdict\": \"yes\",\n",
      "        \"reason\": \"The document mentions inter-device communication reducing preventable medical errors and enabling real-time actionable information, directly supporting the concept of MIoT improving hospital safety.\"\n",
      "    },\n",
      "    {\n",
      "        \"verdict\": \"yes\",\n",
      "        \"reason\": \"This context highlights integration and interoperability as factors that reduce preventable medical errors and enhance patient safety, which relates to MIoT's role as mentioned in the expected output.\"\n",
      "    },\n",
      "    {\n",
      "        \"verdict\": \"yes\",\n",
      "        \"reason\": \"It discusses the mobility and interoperability of medical devices forming networks and ensuring safety, directly contributing to MIoT's objective of improving hospital safety.\"\n",
      "    },\n",
      "    {\n",
      "        \"verdict\": \"no\",\n",
      "        \"reason\": \"The text addresses healthcare-associated infections but does not directly discuss MIoT's broader role in hospital safety or real-time monitoring systems.\"\n",
      "    }\n",
      "]\n",
      " \n",
      "Score: 0.5249999999999999\n",
      "Reason: The score is 0.52 because four nodes in the retrieval contexts discuss MIoT's role in minimizing medical errors, inter-device communication, or interoperability, which align with hospital safety improvements. However, the first and second nodes focus on unrelated topics like healthcare marketing and operations management, and the seventh node emphasizes healthcare-associated infections without addressing MIoT's role, yet they rank higher than relevant nodes.\n",
      "\n",
      "======================================================================\n",
      "\n",
      "======================================================================\n",
      "\n",
      "Metrics Summary\n",
      "\n",
      "  - ❌ Contextual Precision (score: 0.5249999999999999, threshold: 0.6, strict: False, evaluation model: azure-gpt4o-mini, reason: The score is 0.52 because four nodes in the retrieval contexts discuss MIoT's role in minimizing medical errors, inter-device communication, or interoperability, which align with hospital safety improvements. However, the first and second nodes focus on unrelated topics like healthcare marketing and operations management, and the seventh node emphasizes healthcare-associated infections without addressing MIoT's role, yet they rank higher than relevant nodes., error: None)\n",
      "\n",
      "For test case:\n",
      "\n",
      "  - input: How does MIoT improve hospital safety?\n",
      "  - actual output: MIoT improves hospital safety by enabling the deployment of patient-centric and context-aware networked medical systems across various care environments, such as hospital floors, operating rooms, intensive care units, and home care units. It facilitates the efficient, safe, and secure sharing of data among heterogeneous medical devices, minimizing preventable errors often introduced by humans. The ICE standard supports cross-vendor inter-device communications, which can reduce preventable medical errors during patient transfers (e.g., from the Operating Room to Intensive Care Units) and mitigate risks like false alarms or deaths due to Patient-Controlled Analgesia (PCA). Additionally, MIoT enhances integration and interoperability, allowing for real-time actionable information synthesis, improving efficiency, safety, and security. It also addresses challenges related to device mobility, ensuring secure discovery, self-organization, and compliance in forming ad hoc mesh networks specific to patients. Furthermore, MIoT connectivity principles may help reduce healthcare-associated infections by tracking prescribed antibiotics, usage, and hand-washing habits, potentially saving lives and reducing costs.\n",
      "  - expected output: MIoT, or the Medical Internet of Things, enhances hospital safety by enabling real-time monitoring, \n",
      "\f",
      "aster response times, and improved decision-making. Devices like smart sensors, wearables, \n",
      "\u0007nd connected medical equipment continuously track patients' vital signs, \n",
      "\u0007lerting staff to potential issues before they become critical. It also helps reduce human error, \n",
      "\\ensures better compliance with safety protocols, and allows hospitals to manage assets more efficiently, \n",
      "ultimately leading to safer and more responsive patient care environments.\n",
      "  - context: None\n",
      "  - retrieval context: ['Many respected institutions and well-regarded medical professionals advertise their services as a way to inform the public about available healthcare options. Over time, physicians and hospitals have increasingly adopted marketing and public relations strategies to connect with their communities and raise awareness of the care they offer. These approaches, while often useful for improving visibility and accessibility, have also led to a noticeable shift in how healthcare services are presented.', 'tools of operations management, for example, supply chain management, are useful only to a limited extent... These observations, however, have had little impact on the vast cost of consulting fees... Patients who are sick, or worried that they may be sick, generally, are neither capable of understanding their physiological status nor inclined to shop around for bargains... The value of life often far outweighs the consideration of cost... The root of the disequilibrium in healthcare is the heavy, often total, dependence of the patient on the medical practitioner.', 'preventable medical errors and signal a significant improvement in quality of patient care. \\nThe grand challenge of the medical internet of things (MIoT) is to sufficiently enable the \\ndeployment of patient-centric and context-aware networked medical systems in all care \\nenvironments, ranging from hospital floors to operating rooms, intensive care units to \\nhome care units. Heterogeneous devices in each care environment would effectively share \\ndata (efficiently, safely and securely) to minimize preventable errors often introduced by \\nhumans.', 'ICE standard will enable dramatic improvements to patient safety because cross-vendor \\ninter-device communications may significantly reduce preventable medical errors. \\nExamples include patient transfers from the Operating Room (OR) to Intensive Care Units \\n(ICU) and reducing false alarms or deaths due to Patient-Controlled Analgesia (PCA). In \\nboth of these examples, synthesis of data from diverse range of medical devices may enable \\nthe generation of real-time actionable information from the system to a point of care', 'remote monitoring at home) are factors which compromise patient safety. In the absence of \\nappropriate data analysis and synthesis, the ability to produce actionable information \\nrelevant to the collective status of the patient must depend on medical professionals to \\ncombine the data at the point of care. In this context, integration and interoperability may \\nimprove efficiency, safety and security. It is anticipated that it will lower the rates of \\npreventable medical errors and signal a significant improvement in quality of patient care.', 'humans. \\nMobility of medical devices between different care environments or from patient to patient \\npresents challenges. While in transit, they must remain secure yet “open” for “discovery” by \\nother devices in much the same way that consumer IoT accessories, for example, Amazon \\nEcho Dot, pairs with your smartphone or the laptop when it is in the cone of connectivity. \\nOnce discovered, the devices must self-organize and form the ad hoc mesh network of \\ndevices, specific to the patient. They need to interoperate with, verify and execute safe, \\nauthorized and compliant operational profiles.', 'Healthcare-associated infections may benefit from connectivity [Figure 8] and the \\nconnectivity as a medical IoT design principles, if used, may save lives. About 1 in 25 \\npatients gets an infection each year while receiving medical care in the US [116]. Estimated \\n25,000 deaths per year from about 1 million infections each year from US healthcare at a \\nprojected cost of $30 billion per annum. In addition to logging prescribed antibiotics and \\ntheir use [117] it may be necessary to track and trace individual hand-washing habits and']\n",
      "\n",
      "======================================================================\n",
      "\n",
      "Overall Metric Pass Rates\n",
      "\n",
      "Contextual Precision: 0.00% pass rate\n",
      "\n",
      "======================================================================\n",
      "\n"
     ]
    },
    {
     "name": "stderr",
     "output_type": "stream",
     "text": [
      "\n"
     ]
    },
    {
     "data": {
      "text/html": [
       "<pre style=\"white-space:pre;overflow-x:auto;line-height:normal;font-family:Menlo,'DejaVu Sans Mono',consolas,'Courier New',monospace\">\n",
       "<span style=\"color: #05f58d; text-decoration-color: #05f58d\">✓</span> Tests finished 🎉! Run <span style=\"color: #008000; text-decoration-color: #008000; font-weight: bold\">'deepeval login'</span> to save and analyze evaluation results on Confident AI.\n",
       " \n",
       "✨👀 Looking for a place for your LLM test data to live 🏡❤️ ? Use <span style=\"color: #6a00ff; text-decoration-color: #6a00ff\">Confident AI</span> to get &amp; share testing reports, \n",
       "experiment with models/prompts, and catch regressions for your LLM system. Just run <span style=\"color: #008080; text-decoration-color: #008080\">'deepeval login'</span> in the CLI. \n",
       "\n",
       "</pre>\n"
      ],
      "text/plain": [
       "\n",
       "\u001b[38;2;5;245;141m✓\u001b[0m Tests finished 🎉! Run \u001b[1;32m'deepeval login'\u001b[0m to save and analyze evaluation results on Confident AI.\n",
       " \n",
       "✨👀 Looking for a place for your LLM test data to live 🏡❤️ ? Use \u001b[38;2;106;0;255mConfident AI\u001b[0m to get & share testing reports, \n",
       "experiment with models/prompts, and catch regressions for your LLM system. Just run \u001b[36m'deepeval login'\u001b[0m in the CLI. \n",
       "\n"
      ]
     },
     "metadata": {},
     "output_type": "display_data"
    }
   ],
   "source": [
    "# Evalaute with noise \n",
    "test_case = LLMTestCase(\n",
    "    input=response['question'],\n",
    "    actual_output=response['AI_generated_response'],\n",
    "    expected_output=human_answer,\n",
    "    retrieval_context=retrieved_context_with_noise\n",
    ")\n",
    "\n",
    "metric = ContextualPrecisionMetric(\n",
    "    threshold=0.6,\n",
    "    model=wrapped_model,\n",
    "    include_reason=True,\n",
    "    verbose_mode=True\n",
    ")\n",
    "\n",
    "result = evaluate([test_case], [metric])"
   ]
  },
  {
   "cell_type": "code",
   "execution_count": 29,
   "metadata": {
    "application/vnd.databricks.v1+cell": {
     "cellMetadata": {
      "byteLimit": 2048000,
      "rowLimit": 10000
     },
     "inputWidgets": {},
     "nuid": "4360e6c7-90b1-4f13-aba8-b9f4205644bd",
     "showTitle": false,
     "tableResultSettingsMap": {},
     "title": ""
    }
   },
   "outputs": [
    {
     "name": "stdout",
     "output_type": "stream",
     "text": [
      "Sucess: False\n",
      "Score: 0.5249999999999999\n",
      "Reason: The score is 0.52 because four nodes in the retrieval contexts discuss MIoT's role in minimizing medical errors, inter-device communication, or interoperability, which align with hospital safety improvements. However, the first and second nodes focus on unrelated topics like healthcare marketing and operations management, and the seventh node emphasizes healthcare-associated infections without addressing MIoT's role, yet they rank higher than relevant nodes.\n"
     ]
    }
   ],
   "source": [
    "print('Sucess:', result.test_results[0].metrics_data[0].success)\n",
    "print('Score:', result.test_results[0].metrics_data[0].score)\n",
    "print('Reason:', result.test_results[0].metrics_data[0].reason)"
   ]
  },
  {
   "cell_type": "markdown",
   "metadata": {
    "application/vnd.databricks.v1+cell": {
     "cellMetadata": {},
     "inputWidgets": {},
     "nuid": "557e6723-ab01-4f23-91e8-88c65bcd3348",
     "showTitle": false,
     "tableResultSettingsMap": {},
     "title": ""
    }
   },
   "source": [
    "### Observation:\n",
    "\n",
    "The contextual precision score was **0.52**, which is **below the threshold of 0.6**, resulting in a **failed test**.\n",
    "\n",
    "**Why?**  \n",
    "Although several retrieved chunks were highly relevant to the question *\"How does MIoT improve hospital safety?\"*, the top two chunks ranked highest were **irrelevant**. They discussed topics like **healthcare advertising** and **cost management**, which had nothing to do with MIoT or hospital safety.\n",
    "\n",
    "**Relevant content** came later in the list, but by then, the damage to precision was already done.\n",
    "\n",
    "**Key takeaway:**  \n",
    "Even if relevant chunks exist, **poor ranking order** (putting unrelated chunks first) can hurt contextual precision. The retriever must **prioritize relevance** at the top to pass this evaluation metric.\n"
   ]
  },
  {
   "cell_type": "markdown",
   "metadata": {
    "application/vnd.databricks.v1+cell": {
     "cellMetadata": {},
     "inputWidgets": {},
     "nuid": "f58ae05c-d612-4e9a-a4b2-43958d713794",
     "showTitle": false,
     "tableResultSettingsMap": {},
     "title": ""
    }
   },
   "source": [
    "### Limiting Scoring to Top-k Retrieved Context Chunks (Precision@k)\n",
    "\n",
    "To evaluate only the **top-k** retrieved context chunks—such as the top 3—instead of scoring all retrieved chunks, you can use **Precision@k**.\n",
    "\n",
    "This method focuses on the highest-ranked chunks, which usually have the greatest impact on the model’s response.\n",
    "\n",
    "#### Option 1: Manually Pre-trim the `retrieval_context`\n",
    "\n",
    "Before passing the `retrieval_context` to the `LLMTestCase`, trim the list to include only the top `k` chunks. This simulates a real-world scenario where the model only uses the most relevant information.\n",
    "\n",
    "In our case, we used this top-3 approach after deliberately placing noisy chunks at the top of the retrieved context. Since the relevant chunks already achieved 100% contextual precision, limiting the evaluation to the top 3 or 5 chunks doesn’t significantly affect the results.\n",
    "\n"
   ]
  },
  {
   "cell_type": "code",
   "execution_count": 30,
   "metadata": {
    "application/vnd.databricks.v1+cell": {
     "cellMetadata": {
      "byteLimit": 2048000,
      "rowLimit": 10000
     },
     "inputWidgets": {},
     "nuid": "f8987c6d-184b-43d0-9d3f-736d5f0f5033",
     "showTitle": false,
     "tableResultSettingsMap": {},
     "title": ""
    },
    "scrolled": true
   },
   "outputs": [
    {
     "data": {
      "text/html": [
       "<pre style=\"white-space:pre;overflow-x:auto;line-height:normal;font-family:Menlo,'DejaVu Sans Mono',consolas,'Courier New',monospace\">✨ You're running DeepEval's latest <span style=\"color: #6a00ff; text-decoration-color: #6a00ff\">Contextual Precision Metric</span>! <span style=\"color: #374151; text-decoration-color: #374151; font-weight: bold\">(</span><span style=\"color: #374151; text-decoration-color: #374151\">using azure-gpt4o-mini, </span><span style=\"color: #374151; text-decoration-color: #374151\">strict</span><span style=\"color: #374151; text-decoration-color: #374151\">=</span><span style=\"color: #374151; text-decoration-color: #374151; font-style: italic\">False</span><span style=\"color: #374151; text-decoration-color: #374151\">, </span>\n",
       "<span style=\"color: #374151; text-decoration-color: #374151\">async_mode</span><span style=\"color: #374151; text-decoration-color: #374151\">=</span><span style=\"color: #374151; text-decoration-color: #374151; font-style: italic\">True</span><span style=\"color: #374151; text-decoration-color: #374151; font-weight: bold\">)</span><span style=\"color: #374151; text-decoration-color: #374151\">...</span>\n",
       "</pre>\n"
      ],
      "text/plain": [
       "✨ You're running DeepEval's latest \u001b[38;2;106;0;255mContextual Precision Metric\u001b[0m! \u001b[1;38;2;55;65;81m(\u001b[0m\u001b[38;2;55;65;81musing azure-gpt4o-mini, \u001b[0m\u001b[38;2;55;65;81mstrict\u001b[0m\u001b[38;2;55;65;81m=\u001b[0m\u001b[3;38;2;55;65;81mFalse\u001b[0m\u001b[38;2;55;65;81m, \u001b[0m\n",
       "\u001b[38;2;55;65;81masync_mode\u001b[0m\u001b[38;2;55;65;81m=\u001b[0m\u001b[3;38;2;55;65;81mTrue\u001b[0m\u001b[1;38;2;55;65;81m)\u001b[0m\u001b[38;2;55;65;81m...\u001b[0m\n"
      ]
     },
     "metadata": {},
     "output_type": "display_data"
    },
    {
     "name": "stdout",
     "output_type": "stream",
     "text": [
      "Event loop is already running. Applying nest_asyncio patch to allow async execution...\n"
     ]
    },
    {
     "name": "stderr",
     "output_type": "stream",
     "text": [
      "Evaluating 1 test case(s) in parallel: |██████████████████████████████|100% (1/1) [Time Taken: 00:07,  7.18s/test case]"
     ]
    },
    {
     "name": "stdout",
     "output_type": "stream",
     "text": [
      "**************************************************\n",
      "Contextual Precision Verbose Logs\n",
      "**************************************************\n",
      "\n",
      "Verdicts:\n",
      "[\n",
      "    {\n",
      "        \"verdict\": \"no\",\n",
      "        \"reason\": \"The document primarily discusses marketing and public relations strategies adopted by hospitals and physicians, which is unrelated to MIoT or hospital safety improvements.\"\n",
      "    },\n",
      "    {\n",
      "        \"verdict\": \"no\",\n",
      "        \"reason\": \"This text explores the socio-economic dynamics of healthcare, such as costs and patient dependency on practitioners, but makes no mention of MIoT or technological aids that improve hospital safety.\"\n",
      "    },\n",
      "    {\n",
      "        \"verdict\": \"yes\",\n",
      "        \"reason\": \"The document highlights the role of MIoT in minimizing preventable medical errors by enabling deployment of patient-centric and networked medical systems across care environments. This is directly aligned with the question and expected output regarding improving hospital safety.\"\n",
      "    }\n",
      "]\n",
      " \n",
      "Score: 0.3333333333333333\n",
      "Reason: The score is 0.33 because the node ranked third explicitly explains how MIoT improves hospital safety, highlighting 'minimizing preventable medical errors' and 'deployment of patient-centric and networked medical systems.' However, the first and second nodes, which are ranked higher, are irrelevant: the first focuses on 'marketing and public relations strategies adopted by hospitals and physicians,' and the second discusses 'socio-economic dynamics of healthcare, such as costs and patient dependency,' neither addressing MIoT or hospital safety improvements.\n",
      "\n",
      "======================================================================\n",
      "\n",
      "======================================================================\n",
      "\n",
      "Metrics Summary\n",
      "\n",
      "  - ❌ Contextual Precision (score: 0.3333333333333333, threshold: 0.6, strict: False, evaluation model: azure-gpt4o-mini, reason: The score is 0.33 because the node ranked third explicitly explains how MIoT improves hospital safety, highlighting 'minimizing preventable medical errors' and 'deployment of patient-centric and networked medical systems.' However, the first and second nodes, which are ranked higher, are irrelevant: the first focuses on 'marketing and public relations strategies adopted by hospitals and physicians,' and the second discusses 'socio-economic dynamics of healthcare, such as costs and patient dependency,' neither addressing MIoT or hospital safety improvements., error: None)\n",
      "\n",
      "For test case:\n",
      "\n",
      "  - input: How does MIoT improve hospital safety?\n",
      "  - actual output: MIoT improves hospital safety by enabling the deployment of patient-centric and context-aware networked medical systems across various care environments, such as hospital floors, operating rooms, intensive care units, and home care units. It facilitates the efficient, safe, and secure sharing of data among heterogeneous medical devices, minimizing preventable errors often introduced by humans. The ICE standard supports cross-vendor inter-device communications, which can reduce preventable medical errors during patient transfers (e.g., from the Operating Room to Intensive Care Units) and mitigate risks like false alarms or deaths due to Patient-Controlled Analgesia (PCA). Additionally, MIoT enhances integration and interoperability, allowing for real-time actionable information synthesis, improving efficiency, safety, and security. It also addresses challenges related to device mobility, ensuring secure discovery, self-organization, and compliance in forming ad hoc mesh networks specific to patients. Furthermore, MIoT connectivity principles may help reduce healthcare-associated infections by tracking prescribed antibiotics, usage, and hand-washing habits, potentially saving lives and reducing costs.\n",
      "  - expected output: MIoT, or the Medical Internet of Things, enhances hospital safety by enabling real-time monitoring, \n",
      "\f",
      "aster response times, and improved decision-making. Devices like smart sensors, wearables, \n",
      "\u0007nd connected medical equipment continuously track patients' vital signs, \n",
      "\u0007lerting staff to potential issues before they become critical. It also helps reduce human error, \n",
      "\\ensures better compliance with safety protocols, and allows hospitals to manage assets more efficiently, \n",
      "ultimately leading to safer and more responsive patient care environments.\n",
      "  - context: None\n",
      "  - retrieval context: ['Many respected institutions and well-regarded medical professionals advertise their services as a way to inform the public about available healthcare options. Over time, physicians and hospitals have increasingly adopted marketing and public relations strategies to connect with their communities and raise awareness of the care they offer. These approaches, while often useful for improving visibility and accessibility, have also led to a noticeable shift in how healthcare services are presented.', 'tools of operations management, for example, supply chain management, are useful only to a limited extent... These observations, however, have had little impact on the vast cost of consulting fees... Patients who are sick, or worried that they may be sick, generally, are neither capable of understanding their physiological status nor inclined to shop around for bargains... The value of life often far outweighs the consideration of cost... The root of the disequilibrium in healthcare is the heavy, often total, dependence of the patient on the medical practitioner.', 'preventable medical errors and signal a significant improvement in quality of patient care. \\nThe grand challenge of the medical internet of things (MIoT) is to sufficiently enable the \\ndeployment of patient-centric and context-aware networked medical systems in all care \\nenvironments, ranging from hospital floors to operating rooms, intensive care units to \\nhome care units. Heterogeneous devices in each care environment would effectively share \\ndata (efficiently, safely and securely) to minimize preventable errors often introduced by \\nhumans.']\n",
      "\n",
      "======================================================================\n",
      "\n",
      "Overall Metric Pass Rates\n",
      "\n",
      "Contextual Precision: 0.00% pass rate\n",
      "\n",
      "======================================================================\n",
      "\n"
     ]
    },
    {
     "name": "stderr",
     "output_type": "stream",
     "text": [
      "\n"
     ]
    },
    {
     "data": {
      "text/html": [
       "<pre style=\"white-space:pre;overflow-x:auto;line-height:normal;font-family:Menlo,'DejaVu Sans Mono',consolas,'Courier New',monospace\">\n",
       "<span style=\"color: #05f58d; text-decoration-color: #05f58d\">✓</span> Tests finished 🎉! Run <span style=\"color: #008000; text-decoration-color: #008000; font-weight: bold\">'deepeval login'</span> to save and analyze evaluation results on Confident AI.\n",
       " \n",
       "✨👀 Looking for a place for your LLM test data to live 🏡❤️ ? Use <span style=\"color: #6a00ff; text-decoration-color: #6a00ff\">Confident AI</span> to get &amp; share testing reports, \n",
       "experiment with models/prompts, and catch regressions for your LLM system. Just run <span style=\"color: #008080; text-decoration-color: #008080\">'deepeval login'</span> in the CLI. \n",
       "\n",
       "</pre>\n"
      ],
      "text/plain": [
       "\n",
       "\u001b[38;2;5;245;141m✓\u001b[0m Tests finished 🎉! Run \u001b[1;32m'deepeval login'\u001b[0m to save and analyze evaluation results on Confident AI.\n",
       " \n",
       "✨👀 Looking for a place for your LLM test data to live 🏡❤️ ? Use \u001b[38;2;106;0;255mConfident AI\u001b[0m to get & share testing reports, \n",
       "experiment with models/prompts, and catch regressions for your LLM system. Just run \u001b[36m'deepeval login'\u001b[0m in the CLI. \n",
       "\n"
      ]
     },
     "metadata": {},
     "output_type": "display_data"
    }
   ],
   "source": [
    "k = 3\n",
    "\n",
    "test_case = LLMTestCase(\n",
    "    input=response['question'],\n",
    "    actual_output=response['AI_generated_response'],\n",
    "    expected_output=human_answer,\n",
    "    retrieval_context=retrieved_context_with_noise[:k]\n",
    ")\n",
    "\n",
    "metric = ContextualPrecisionMetric(\n",
    "    threshold=0.6,\n",
    "    model=wrapped_model,\n",
    "    include_reason=True,\n",
    "    verbose_mode=True\n",
    ")\n",
    "\n",
    "result = evaluate([test_case], [metric])\n"
   ]
  },
  {
   "cell_type": "code",
   "execution_count": 31,
   "metadata": {
    "application/vnd.databricks.v1+cell": {
     "cellMetadata": {
      "byteLimit": 2048000,
      "rowLimit": 10000
     },
     "inputWidgets": {},
     "nuid": "8022e1cf-cb62-4df2-8c9e-d8398822b43b",
     "showTitle": false,
     "tableResultSettingsMap": {},
     "title": ""
    }
   },
   "outputs": [
    {
     "name": "stdout",
     "output_type": "stream",
     "text": [
      "Sucess: False\n",
      "Score: 0.3333333333333333\n",
      "Reason: The score is 0.33 because the node ranked third explicitly explains how MIoT improves hospital safety, highlighting 'minimizing preventable medical errors' and 'deployment of patient-centric and networked medical systems.' However, the first and second nodes, which are ranked higher, are irrelevant: the first focuses on 'marketing and public relations strategies adopted by hospitals and physicians,' and the second discusses 'socio-economic dynamics of healthcare, such as costs and patient dependency,' neither addressing MIoT or hospital safety improvements.\n"
     ]
    }
   ],
   "source": [
    "print('Sucess:', result.test_results[0].metrics_data[0].success)\n",
    "print('Score:', result.test_results[0].metrics_data[0].score)\n",
    "print('Reason:', result.test_results[0].metrics_data[0].reason)\n"
   ]
  },
  {
   "cell_type": "markdown",
   "metadata": {
    "application/vnd.databricks.v1+cell": {
     "cellMetadata": {},
     "inputWidgets": {},
     "nuid": "b0663ec7-5ec2-477f-8553-b7c5905da447",
     "showTitle": false,
     "tableResultSettingsMap": {},
     "title": ""
    }
   },
   "source": [
    "### Observation:\n",
    "\n",
    "In this test, we evaluated only the **top 3 retrieved chunks** (Precision@3).\n",
    "\n",
    "**Result:** The score was **0.33**, which is **below the passing threshold of 0.6**.\n",
    "\n",
    "**What happened?**\n",
    "- The **first two chunks** were off-topic (marketing and cost discussions).\n",
    "- The **relevant chunk** about MIoT improving hospital safety was ranked **third**—too low.\n",
    "\n",
    "**Why it matters:**  \n",
    "Even when relevant content exists, **poor ranking order** hurts precision. To succeed, your retriever must **put the most relevant chunks at the top**.\n",
    "\n",
    "Great example of how Precision@k highlights the **importance of ranking** in retrieval quality!\n"
   ]
  },
  {
   "cell_type": "markdown",
   "metadata": {
    "application/vnd.databricks.v1+cell": {
     "cellMetadata": {},
     "inputWidgets": {},
     "nuid": "901e6332-3d9d-45d0-bfad-970f6b694ca7",
     "showTitle": false,
     "tableResultSettingsMap": {},
     "title": ""
    }
   },
   "source": [
    "> ## **Important Note**\n",
    "> \n",
    "> **We are evaluating this result using the `deepeval` library, which uses an LLM to act as a judge.**\n",
    "> \n",
    "> **At the backend, we are using `gpt-4o-mini` (Azure-hosted) to perform the evaluation.**\n",
    "> \n",
    "> **Because this involves an LLM's reasoning, there is a high probability that you might get slightly different results when you re-run the code — even with the same inputs.**\n",
    "> \n",
    "> **This variability happens because LLM-based evaluations can be non-deterministic by nature. Small differences in phrasing or internal model behavior can influence how it interprets relevance, alignment, or context.**\n",
    "> \n",
    "> **Therefore, while these evaluations provide valuable insights, treat individual scores as part of a broader trend rather than absolute judgments.**\n"
   ]
  },
  {
   "cell_type": "markdown",
   "metadata": {
    "application/vnd.databricks.v1+cell": {
     "cellMetadata": {},
     "inputWidgets": {},
     "nuid": "c9daaefa-aebe-4d49-bcc5-69264136e5e8",
     "showTitle": false,
     "tableResultSettingsMap": {},
     "title": ""
    }
   },
   "source": [
    "## Contextual Recall\n",
    "\n",
    "The **contextual recall** metric evaluates how well your RAG pipeline’s **retriever** supports the **expected answer**.  \n",
    "It measures the extent to which the `retrieval_context` aligns with the `expected_output`.\n",
    "\n",
    "In other words:  \n",
    "> Did the retriever include the necessary information to answer the question accurately?\n",
    "\n",
    "`deepeval` uses a **self-explaining LLM-based evaluation** for this metric, where an LLM acts as a judge and explains the score.\n",
    "\n",
    "### Required Inputs for `ContextualRecallMetric` in `deepeval`\n",
    "\n",
    "When creating an `LLMTestCase`, provide the following:\n",
    "\n",
    "- `input`: The original user query (not used in this metric)\n",
    "- `actual_output`: The AI-generated response (also not used)\n",
    "- `expected_output`: The reference human-written answer\n",
    "- `retrieval_context`: The document chunks retrieved from your vector store\n",
    "\n",
    "This metric helps ensure your retriever is pulling **all the essential context** needed to answer correctly—even if not perfectly ranked.\n",
    "\n",
    "\n",
    "\n",
    "\n"
   ]
  },
  {
   "cell_type": "markdown",
   "metadata": {
    "application/vnd.databricks.v1+cell": {
     "cellMetadata": {},
     "inputWidgets": {},
     "nuid": "28c87c93-22c9-4f62-99d8-b902128710e4",
     "showTitle": false,
     "tableResultSettingsMap": {},
     "title": ""
    }
   },
   "source": [
    "### Evaluating Contextual Recall with DeepEval\n",
    "\n",
    "In this step, we define a test case that includes the input question, the AI-generated response, the human-written reference answer, and the top retrieved context.\n",
    "\n",
    "We then apply the **Contextual Recall** metric to evaluate whether the retrieved chunks contain enough information to support the expected (human) answer.\n",
    "\n",
    "The model compares the **retrieval context** against the **expected output** to see how much relevant content was captured. It also provides a detailed explanation (reason) for the score.\n",
    "\n",
    "This helps us understand how **complete and helpful** the retriever is in supplying the necessary context to answer the query effectively.\n"
   ]
  },
  {
   "cell_type": "code",
   "execution_count": 32,
   "metadata": {
    "application/vnd.databricks.v1+cell": {
     "cellMetadata": {
      "byteLimit": 2048000,
      "rowLimit": 10000
     },
     "inputWidgets": {},
     "nuid": "717d1686-f6e1-40cd-873e-459bd510fad0",
     "showTitle": false,
     "tableResultSettingsMap": {},
     "title": ""
    },
    "scrolled": true
   },
   "outputs": [
    {
     "data": {
      "text/html": [
       "<pre style=\"white-space:pre;overflow-x:auto;line-height:normal;font-family:Menlo,'DejaVu Sans Mono',consolas,'Courier New',monospace\">✨ You're running DeepEval's latest <span style=\"color: #6a00ff; text-decoration-color: #6a00ff\">Contextual Recall Metric</span>! <span style=\"color: #374151; text-decoration-color: #374151; font-weight: bold\">(</span><span style=\"color: #374151; text-decoration-color: #374151\">using azure-gpt4o-mini, </span><span style=\"color: #374151; text-decoration-color: #374151\">strict</span><span style=\"color: #374151; text-decoration-color: #374151\">=</span><span style=\"color: #374151; text-decoration-color: #374151; font-style: italic\">False</span><span style=\"color: #374151; text-decoration-color: #374151\">, </span>\n",
       "<span style=\"color: #374151; text-decoration-color: #374151\">async_mode</span><span style=\"color: #374151; text-decoration-color: #374151\">=</span><span style=\"color: #374151; text-decoration-color: #374151; font-style: italic\">True</span><span style=\"color: #374151; text-decoration-color: #374151; font-weight: bold\">)</span><span style=\"color: #374151; text-decoration-color: #374151\">...</span>\n",
       "</pre>\n"
      ],
      "text/plain": [
       "✨ You're running DeepEval's latest \u001b[38;2;106;0;255mContextual Recall Metric\u001b[0m! \u001b[1;38;2;55;65;81m(\u001b[0m\u001b[38;2;55;65;81musing azure-gpt4o-mini, \u001b[0m\u001b[38;2;55;65;81mstrict\u001b[0m\u001b[38;2;55;65;81m=\u001b[0m\u001b[3;38;2;55;65;81mFalse\u001b[0m\u001b[38;2;55;65;81m, \u001b[0m\n",
       "\u001b[38;2;55;65;81masync_mode\u001b[0m\u001b[38;2;55;65;81m=\u001b[0m\u001b[3;38;2;55;65;81mTrue\u001b[0m\u001b[1;38;2;55;65;81m)\u001b[0m\u001b[38;2;55;65;81m...\u001b[0m\n"
      ]
     },
     "metadata": {},
     "output_type": "display_data"
    },
    {
     "name": "stdout",
     "output_type": "stream",
     "text": [
      "Event loop is already running. Applying nest_asyncio patch to allow async execution...\n"
     ]
    },
    {
     "name": "stderr",
     "output_type": "stream",
     "text": [
      "Evaluating 1 test case(s) in parallel: |██████████████████████████████|100% (1/1) [Time Taken: 00:09,  9.79s/test case]"
     ]
    },
    {
     "name": "stdout",
     "output_type": "stream",
     "text": [
      "**************************************************\n",
      "Contextual Recall Verbose Logs\n",
      "**************************************************\n",
      "\n",
      "Verdicts:\n",
      "[\n",
      "    {\n",
      "        \"verdict\": \"yes\",\n",
      "        \"reason\": \"The phrase 'MIoT, or the Medical Internet of Things, enhances hospital safety by enabling real-time monitoring' aligns with the retrieval context, specifically the 1st node which discusses 'deployment of patient-centric and context-aware networked medical systems...' and emphasizes minimizing 'preventable errors often introduced by humans.'\"\n",
      "    },\n",
      "    {\n",
      "        \"verdict\": \"yes\",\n",
      "        \"reason\": \"The reference to 'faster response times, and improved decision-making' can be attributed to the 2nd node which mentions 'generation of real-time actionable information' aimed at reducing preventable errors.\"\n",
      "    },\n",
      "    {\n",
      "        \"verdict\": \"yes\",\n",
      "        \"reason\": \"The description of 'Devices like smart sensors, wearables, and connected medical equipment ... track patients' vital signs' aligns with the 1st node which highlights 'heterogeneous devices... share data efficiently, safely and securely.'\"\n",
      "    },\n",
      "    {\n",
      "        \"verdict\": \"yes\",\n",
      "        \"reason\": \"The mention of 'alerting staff to potential issues before they become critical' is consistent with the 2nd node that discusses 'synthesis of data...' enabling 'real-time actionable information at the point of care to reduce errors.'\"\n",
      "    },\n",
      "    {\n",
      "        \"verdict\": \"yes\",\n",
      "        \"reason\": \"The phrase 'It also helps reduce human error' is supported by the 1st node which mentions minimizing 'preventable errors often introduced by humans.'\"\n",
      "    },\n",
      "    {\n",
      "        \"verdict\": \"yes\",\n",
      "        \"reason\": \"The statement 'ensures better compliance with safety protocols' can be mapped to the 4th node discussing 'devices must... execute safe, authorized and compliant operational profiles.'\"\n",
      "    },\n",
      "    {\n",
      "        \"verdict\": \"yes\",\n",
      "        \"reason\": \"The idea of 'allows hospitals to manage assets more efficiently' connects to the 3rd node's discussion of 'integration and interoperability may improve efficiency.'\"\n",
      "    },\n",
      "    {\n",
      "        \"verdict\": \"yes\",\n",
      "        \"reason\": \"The phrase 'ultimately leading to safer and more responsive patient care environments' relates to the 1st node discussing 'significant improvement in quality of patient care' and lower errors from connected systems.\"\n",
      "    }\n",
      "]\n",
      " \n",
      "Score: 1.0\n",
      "Reason: The score is 1.00 because every sentence in the expected output is fully supported by the nodes in the retrieval context, demonstrating a clear and comprehensive alignment between the provided information and the expected output. Great job!\n",
      "\n",
      "======================================================================\n",
      "\n",
      "======================================================================\n",
      "\n",
      "Metrics Summary\n",
      "\n",
      "  - ✅ Contextual Recall (score: 1.0, threshold: 0.6, strict: False, evaluation model: azure-gpt4o-mini, reason: The score is 1.00 because every sentence in the expected output is fully supported by the nodes in the retrieval context, demonstrating a clear and comprehensive alignment between the provided information and the expected output. Great job!, error: None)\n",
      "\n",
      "For test case:\n",
      "\n",
      "  - input: How does MIoT improve hospital safety?\n",
      "  - actual output: MIoT improves hospital safety by enabling the deployment of patient-centric and context-aware networked medical systems across various care environments, such as hospital floors, operating rooms, intensive care units, and home care units. It facilitates the efficient, safe, and secure sharing of data among heterogeneous medical devices, minimizing preventable errors often introduced by humans. The ICE standard supports cross-vendor inter-device communications, which can reduce preventable medical errors during patient transfers (e.g., from the Operating Room to Intensive Care Units) and mitigate risks like false alarms or deaths due to Patient-Controlled Analgesia (PCA). Additionally, MIoT enhances integration and interoperability, allowing for real-time actionable information synthesis, improving efficiency, safety, and security. It also addresses challenges related to device mobility, ensuring secure discovery, self-organization, and compliance in forming ad hoc mesh networks specific to patients. Furthermore, MIoT connectivity principles may help reduce healthcare-associated infections by tracking prescribed antibiotics, usage, and hand-washing habits, potentially saving lives and reducing costs.\n",
      "  - expected output: MIoT, or the Medical Internet of Things, enhances hospital safety by enabling real-time monitoring, \n",
      "\f",
      "aster response times, and improved decision-making. Devices like smart sensors, wearables, \n",
      "\u0007nd connected medical equipment continuously track patients' vital signs, \n",
      "\u0007lerting staff to potential issues before they become critical. It also helps reduce human error, \n",
      "\\ensures better compliance with safety protocols, and allows hospitals to manage assets more efficiently, \n",
      "ultimately leading to safer and more responsive patient care environments.\n",
      "  - context: None\n",
      "  - retrieval context: ['preventable medical errors and signal a significant improvement in quality of patient care. \\nThe grand challenge of the medical internet of things (MIoT) is to sufficiently enable the \\ndeployment of patient-centric and context-aware networked medical systems in all care \\nenvironments, ranging from hospital floors to operating rooms, intensive care units to \\nhome care units. Heterogeneous devices in each care environment would effectively share \\ndata (efficiently, safely and securely) to minimize preventable errors often introduced by \\nhumans.', 'ICE standard will enable dramatic improvements to patient safety because cross-vendor \\ninter-device communications may significantly reduce preventable medical errors. \\nExamples include patient transfers from the Operating Room (OR) to Intensive Care Units \\n(ICU) and reducing false alarms or deaths due to Patient-Controlled Analgesia (PCA). In \\nboth of these examples, synthesis of data from diverse range of medical devices may enable \\nthe generation of real-time actionable information from the system to a point of care', 'remote monitoring at home) are factors which compromise patient safety. In the absence of \\nappropriate data analysis and synthesis, the ability to produce actionable information \\nrelevant to the collective status of the patient must depend on medical professionals to \\ncombine the data at the point of care. In this context, integration and interoperability may \\nimprove efficiency, safety and security. It is anticipated that it will lower the rates of \\npreventable medical errors and signal a significant improvement in quality of patient care.', 'humans. \\nMobility of medical devices between different care environments or from patient to patient \\npresents challenges. While in transit, they must remain secure yet “open” for “discovery” by \\nother devices in much the same way that consumer IoT accessories, for example, Amazon \\nEcho Dot, pairs with your smartphone or the laptop when it is in the cone of connectivity. \\nOnce discovered, the devices must self-organize and form the ad hoc mesh network of \\ndevices, specific to the patient. They need to interoperate with, verify and execute safe, \\nauthorized and compliant operational profiles.', 'Healthcare-associated infections may benefit from connectivity [Figure 8] and the \\nconnectivity as a medical IoT design principles, if used, may save lives. About 1 in 25 \\npatients gets an infection each year while receiving medical care in the US [116]. Estimated \\n25,000 deaths per year from about 1 million infections each year from US healthcare at a \\nprojected cost of $30 billion per annum. In addition to logging prescribed antibiotics and \\ntheir use [117] it may be necessary to track and trace individual hand-washing habits and']\n",
      "\n",
      "======================================================================\n",
      "\n",
      "Overall Metric Pass Rates\n",
      "\n",
      "Contextual Recall: 100.00% pass rate\n",
      "\n",
      "======================================================================\n",
      "\n"
     ]
    },
    {
     "name": "stderr",
     "output_type": "stream",
     "text": [
      "\n"
     ]
    },
    {
     "data": {
      "text/html": [
       "<pre style=\"white-space:pre;overflow-x:auto;line-height:normal;font-family:Menlo,'DejaVu Sans Mono',consolas,'Courier New',monospace\">\n",
       "<span style=\"color: #05f58d; text-decoration-color: #05f58d\">✓</span> Tests finished 🎉! Run <span style=\"color: #008000; text-decoration-color: #008000; font-weight: bold\">'deepeval login'</span> to save and analyze evaluation results on Confident AI.\n",
       " \n",
       "✨👀 Looking for a place for your LLM test data to live 🏡❤️ ? Use <span style=\"color: #6a00ff; text-decoration-color: #6a00ff\">Confident AI</span> to get &amp; share testing reports, \n",
       "experiment with models/prompts, and catch regressions for your LLM system. Just run <span style=\"color: #008080; text-decoration-color: #008080\">'deepeval login'</span> in the CLI. \n",
       "\n",
       "</pre>\n"
      ],
      "text/plain": [
       "\n",
       "\u001b[38;2;5;245;141m✓\u001b[0m Tests finished 🎉! Run \u001b[1;32m'deepeval login'\u001b[0m to save and analyze evaluation results on Confident AI.\n",
       " \n",
       "✨👀 Looking for a place for your LLM test data to live 🏡❤️ ? Use \u001b[38;2;106;0;255mConfident AI\u001b[0m to get & share testing reports, \n",
       "experiment with models/prompts, and catch regressions for your LLM system. Just run \u001b[36m'deepeval login'\u001b[0m in the CLI. \n",
       "\n"
      ]
     },
     "metadata": {},
     "output_type": "display_data"
    }
   ],
   "source": [
    "\n",
    "test_case1 = LLMTestCase(\n",
    "    input=response['question'],\n",
    "    actual_output=response['AI_generated_response'],\n",
    "    expected_output=human_answer,\n",
    "    retrieval_context=retrieved_context\n",
    ")\n",
    "\n",
    "\n",
    "\n",
    "metric = ContextualRecallMetric(\n",
    "    threshold=0.6,\n",
    "    model=wrapped_model,\n",
    "    include_reason=True,\n",
    "    verbose_mode=True\n",
    ")\n",
    "\n",
    "result = evaluate([test_case1], [metric])"
   ]
  },
  {
   "cell_type": "code",
   "execution_count": 33,
   "metadata": {
    "application/vnd.databricks.v1+cell": {
     "cellMetadata": {
      "byteLimit": 2048000,
      "rowLimit": 10000
     },
     "inputWidgets": {},
     "nuid": "cff02848-f654-44ad-95d0-1817420a6bdb",
     "showTitle": false,
     "tableResultSettingsMap": {},
     "title": ""
    }
   },
   "outputs": [
    {
     "name": "stdout",
     "output_type": "stream",
     "text": [
      "Sucess: True\n",
      "Score: 1.0\n",
      "Reason: The score is 1.00 because every sentence in the expected output is fully supported by the nodes in the retrieval context, demonstrating a clear and comprehensive alignment between the provided information and the expected output. Great job!\n"
     ]
    }
   ],
   "source": [
    "print('Sucess:', result.test_results[0].metrics_data[0].success)\n",
    "print('Score:', result.test_results[0].metrics_data[0].score)\n",
    "print('Reason:', result.test_results[0].metrics_data[0].reason)"
   ]
  },
  {
   "cell_type": "markdown",
   "metadata": {
    "application/vnd.databricks.v1+cell": {
     "cellMetadata": {},
     "inputWidgets": {},
     "nuid": "a01fe85e-f9ee-4c73-a7f2-45eb31b2df35",
     "showTitle": false,
     "tableResultSettingsMap": {},
     "title": ""
    }
   },
   "source": [
    "\n",
    "### Observation: \n",
    "\n",
    "This evaluation helps us understand how complete and helpful the retriever is in surfacing supporting content for answering the query.\n",
    "\n",
    "In this case, the **Contextual Recall score was 1.0**, passing the threshold of 0.6. The majority of expected concepts were well-represented in the retrieved chunks. However, two claims — regarding **faster response times** and **compliance with safety protocols** — were **not explicitly grounded** in the context, resulting in a small penalty.\n",
    "\n",
    "---\n",
    "\n",
    "#### Key Observations:\n",
    "- **Accurate matches** were found for concepts like human error reduction, vital sign tracking, alerting staff, and overall hospital safety.\n",
    "- **Implicit alignment** was detected in real-time data usage, but **specific phrasing** such as \"faster response\" or \"compliance protocols\" was missing.\n",
    "- Some content that might have helped elevate recall further may not have been retrieved at all.\n",
    "\n",
    "---\n",
    "\n",
    "#### Takeaway:\n",
    "While the retrieval context was generally strong, **recall may still dip if certain key claims aren't explicitly present** — even if semantically implied. It’s important to ensure that all parts of the expected answer have **clear support** in the retrieved chunks to achieve perfect recall.\n",
    "\n",
    "---\n",
    "\n",
    "#### Key Insight:\n",
    "This strong performance suggests that when working with a **topically cohesive document**, retrieval becomes more precise, and the system is more likely to surface **complete and contextually rich** information.\n",
    "\n",
    "It reinforces the value of **domain-focused content** in improving retrieval quality and achieving high recall in single-PDF RAG pipelines.\n",
    "\n"
   ]
  },
  {
   "cell_type": "markdown",
   "metadata": {},
   "source": [
    "### Testing Contextual Recall with Injected Noise Using DeepEval\n",
    "\n",
    "In this step, we inject noisy chunks at the top of the retrieved context to see how they affect contextual recall. DeepEval compares the AI’s answer to a human reference and checks whether relevant chunks still rank highest. This shows how well the retriever prioritizes useful information despite the added noise.\n"
   ]
  },
  {
   "cell_type": "code",
   "execution_count": null,
   "metadata": {},
   "outputs": [],
   "source": [
    "\n",
    "test_case1 = LLMTestCase(\n",
    "    input=response['question'],\n",
    "    actual_output=response['AI_generated_response'],\n",
    "    expected_output=human_answer,\n",
    "    retrieval_context=retrieved_context_with_noise\n",
    ")\n",
    "\n",
    "\n",
    "\n",
    "metric = ContextualRecallMetric(\n",
    "    threshold=0.6,\n",
    "    model=wrapped_model,\n",
    "    include_reason=True,\n",
    "    verbose_mode=True\n",
    ")\n",
    "\n",
    "result = evaluate([test_case1], [metric])"
   ]
  },
  {
   "cell_type": "code",
   "execution_count": 42,
   "metadata": {},
   "outputs": [
    {
     "name": "stdout",
     "output_type": "stream",
     "text": [
      "Sucess: True\n",
      "Score: 0.6\n",
      "Reason: The score is 0.60 because while several sentences align well with nodes in retrieval context, such as the connection between MIoT and reducing preventable medical errors (3rd and 5th nodes in retrieval context), details like faster response times, decision-making efficiency, and operational aspects like asset management are not directly supported by the retrieved nodes.\n"
     ]
    }
   ],
   "source": [
    "print('Sucess:', result.test_results[0].metrics_data[0].success)\n",
    "print('Score:', result.test_results[0].metrics_data[0].score)\n",
    "print('Reason:', result.test_results[0].metrics_data[0].reason)"
   ]
  },
  {
   "cell_type": "markdown",
   "metadata": {},
   "source": [
    "### Observation\n",
    "\n",
    "This evaluation helps us understand how complete and helpful the retriever is in surfacing supporting content for answering the query.\n",
    "\n",
    "In this case, the Contextual Recall score was **0.6**, just meeting the threshold of 0.6. While several relevant points were captured—particularly those concerning preventable medical errors and device interoperability—other expected concepts were not directly supported due to **noise introduced in the retrieved context**.\n",
    "\n",
    "---\n",
    "\n",
    "### Key Observations\n",
    "\n",
    "- Accurate matches were found for **human error reduction**, **networked systems**, **data sharing**, and **alerting staff to risks**, particularly around ICU transfers and PCA-related safety.\n",
    "- **Noise in the retrieved context**, such as unrelated content about healthcare marketing and consulting inefficiencies, diluted the relevance of the evidence pool and likely contributed to missing support for some expected claims.\n",
    "- Key expectations like **faster response times**, **decision-making efficiency**, **protocol compliance**, and **asset management** were **not clearly grounded** in the retrieved nodes, either due to being absent or buried in less relevant passages.\n",
    "- The presence of semantically misaligned or tangential chunks made it more difficult for the model to align all aspects of the generated answer with explicit context.\n",
    "\n",
    "---\n",
    "\n",
    "### Takeaway\n",
    "\n",
    "The fall in recall is not solely due to missing information, but also to the **presence of irrelevant content** that competes with or overshadows critical supporting evidence. Even when relevant information exists, its impact can be weakened by surrounding noise, making it harder for models to confidently justify generated answers.\n",
    "\n",
    "---\n",
    "\n",
    "### Key Insight\n",
    "\n",
    "This outcome reinforces the importance of **retrieval precision** in addition to relevance. In RAG pipelines, especially those built on long or heterogeneous documents, controlling for **contextual noise** is vital. A few off-topic chunks can significantly degrade contextual recall, highlighting the need for better filtering, ranking, or chunking strategies to isolate the most informative text and maintain high-quality answer grounding.\n"
   ]
  },
  {
   "cell_type": "markdown",
   "metadata": {
    "application/vnd.databricks.v1+cell": {
     "cellMetadata": {},
     "inputWidgets": {},
     "nuid": "3bad39da-ae58-43f8-a863-c418656027a8",
     "showTitle": false,
     "tableResultSettingsMap": {},
     "title": ""
    }
   },
   "source": [
    "### Recall@k (Top-k Context Evaluation)\n",
    "\n",
    "To focus only on the top-k retrieved chunks with noise (e.g., top 3), we use **Recall@k**.\n",
    "\n",
    "You can do this by **slicing the retrieval context** before passing it to the test case.\n",
    "\n",
    "We tested this with **k = 3** to see if the top 3 chunks alone cover the expected answer.\n"
   ]
  },
  {
   "cell_type": "code",
   "execution_count": 52,
   "metadata": {
    "application/vnd.databricks.v1+cell": {
     "cellMetadata": {
      "byteLimit": 2048000,
      "rowLimit": 10000
     },
     "inputWidgets": {},
     "nuid": "ec9cadb3-26bf-404d-8a96-53638249223e",
     "showTitle": false,
     "tableResultSettingsMap": {},
     "title": ""
    },
    "scrolled": true
   },
   "outputs": [
    {
     "data": {
      "text/html": [
       "<pre style=\"white-space:pre;overflow-x:auto;line-height:normal;font-family:Menlo,'DejaVu Sans Mono',consolas,'Courier New',monospace\">✨ You're running DeepEval's latest <span style=\"color: #6a00ff; text-decoration-color: #6a00ff\">Contextual Recall Metric</span>! <span style=\"color: #374151; text-decoration-color: #374151; font-weight: bold\">(</span><span style=\"color: #374151; text-decoration-color: #374151\">using azure-gpt4o-mini, </span><span style=\"color: #374151; text-decoration-color: #374151\">strict</span><span style=\"color: #374151; text-decoration-color: #374151\">=</span><span style=\"color: #374151; text-decoration-color: #374151; font-style: italic\">False</span><span style=\"color: #374151; text-decoration-color: #374151\">, </span>\n",
       "<span style=\"color: #374151; text-decoration-color: #374151\">async_mode</span><span style=\"color: #374151; text-decoration-color: #374151\">=</span><span style=\"color: #374151; text-decoration-color: #374151; font-style: italic\">True</span><span style=\"color: #374151; text-decoration-color: #374151; font-weight: bold\">)</span><span style=\"color: #374151; text-decoration-color: #374151\">...</span>\n",
       "</pre>\n"
      ],
      "text/plain": [
       "✨ You're running DeepEval's latest \u001b[38;2;106;0;255mContextual Recall Metric\u001b[0m! \u001b[1;38;2;55;65;81m(\u001b[0m\u001b[38;2;55;65;81musing azure-gpt4o-mini, \u001b[0m\u001b[38;2;55;65;81mstrict\u001b[0m\u001b[38;2;55;65;81m=\u001b[0m\u001b[3;38;2;55;65;81mFalse\u001b[0m\u001b[38;2;55;65;81m, \u001b[0m\n",
       "\u001b[38;2;55;65;81masync_mode\u001b[0m\u001b[38;2;55;65;81m=\u001b[0m\u001b[3;38;2;55;65;81mTrue\u001b[0m\u001b[1;38;2;55;65;81m)\u001b[0m\u001b[38;2;55;65;81m...\u001b[0m\n"
      ]
     },
     "metadata": {},
     "output_type": "display_data"
    },
    {
     "name": "stdout",
     "output_type": "stream",
     "text": [
      "Event loop is already running. Applying nest_asyncio patch to allow async execution...\n"
     ]
    },
    {
     "name": "stderr",
     "output_type": "stream",
     "text": [
      "Evaluating 1 test case(s) in parallel: |██████████████████████████████|100% (1/1) [Time Taken: 00:07,  7.58s/test case]"
     ]
    },
    {
     "name": "stdout",
     "output_type": "stream",
     "text": [
      "**************************************************\n",
      "Contextual Recall Verbose Logs\n",
      "**************************************************\n",
      "\n",
      "Verdicts:\n",
      "[\n",
      "    {\n",
      "        \"verdict\": \"yes\",\n",
      "        \"reason\": \"The 3rd node in the retrieval context describes MIoT's role in minimizing preventable medical errors and its deployment in various care environments. This aligns with the sentence's points about enhancing hospital safety and real-time monitoring ('...signal a significant improvement in quality of patient care...enable deployment of patient-centric...networked medical systems...').\"\n",
      "    },\n",
      "    {\n",
      "        \"verdict\": \"yes\",\n",
      "        \"reason\": \"The 3rd node states that heterogeneous devices in care environments share data efficiently to minimize errors. This is consistent with the description of smart sensors and connected equipment tracking vital signs ('...heterogeneous devices in each care environment would effectively share data...to minimize preventable errors...').\"\n",
      "    },\n",
      "    {\n",
      "        \"verdict\": \"yes\",\n",
      "        \"reason\": \"The 3rd node specifically mentions that MIoT minimizes errors introduced by humans, aligning with the sentence's statement about reducing human error ('...to minimize preventable errors often introduced by humans.').\"\n",
      "    },\n",
      "    {\n",
      "        \"verdict\": \"no\",\n",
      "        \"reason\": \"The retrieval context does not mention compliance with safety protocols, asset management, or safer patient care. While it talks about data sharing to improve care quality, it does not address these specific aspects of MIoT's impact.\"\n",
      "    }\n",
      "]\n",
      " \n",
      "Score: 0.75\n",
      "Reason: The score is 0.75 because while node(s) in the retrieval context provide strong alignment with aspects of real-time monitoring, minimizing errors, and data-sharing in hospital environments (e.g., 3rd node), they lack explicit references to protocols, asset management, and broader patient care safety impacts mentioned in sentence(s) of the expected output.\n",
      "\n",
      "======================================================================\n",
      "\n",
      "======================================================================\n",
      "\n",
      "Metrics Summary\n",
      "\n",
      "  - ✅ Contextual Recall (score: 0.75, threshold: 0.6, strict: False, evaluation model: azure-gpt4o-mini, reason: The score is 0.75 because while node(s) in the retrieval context provide strong alignment with aspects of real-time monitoring, minimizing errors, and data-sharing in hospital environments (e.g., 3rd node), they lack explicit references to protocols, asset management, and broader patient care safety impacts mentioned in sentence(s) of the expected output., error: None)\n",
      "\n",
      "For test case:\n",
      "\n",
      "  - input: How does MIoT improve hospital safety?\n",
      "  - actual output: MIoT improves hospital safety by enabling the deployment of patient-centric and context-aware networked medical systems across various care environments, such as hospital floors, operating rooms, intensive care units, and home care units. It facilitates the efficient, safe, and secure sharing of data among heterogeneous medical devices, minimizing preventable errors often introduced by humans. The ICE standard supports cross-vendor inter-device communications, which can reduce preventable medical errors during patient transfers (e.g., from the Operating Room to Intensive Care Units) and mitigate risks like false alarms or deaths due to Patient-Controlled Analgesia (PCA). Additionally, MIoT enhances integration and interoperability, allowing for real-time actionable information synthesis, improving efficiency, safety, and security. It also addresses challenges related to device mobility, ensuring secure discovery, self-organization, and compliance in forming ad hoc mesh networks specific to patients. Furthermore, MIoT connectivity principles may help reduce healthcare-associated infections by tracking prescribed antibiotics, usage, and hand-washing habits, potentially saving lives and reducing costs.\n",
      "  - expected output: MIoT, or the Medical Internet of Things, enhances hospital safety by enabling real-time monitoring, \n",
      "\f",
      "aster response times, and improved decision-making. Devices like smart sensors, wearables, \n",
      "\u0007nd connected medical equipment continuously track patients' vital signs, \n",
      "\u0007lerting staff to potential issues before they become critical. It also helps reduce human error, \n",
      "\\ensures better compliance with safety protocols, and allows hospitals to manage assets more efficiently, \n",
      "ultimately leading to safer and more responsive patient care environments.\n",
      "  - context: None\n",
      "  - retrieval context: ['Many respected institutions and well-regarded medical professionals advertise their services as a way to inform the public about available healthcare options. Over time, physicians and hospitals have increasingly adopted marketing and public relations strategies to connect with their communities and raise awareness of the care they offer. These approaches, while often useful for improving visibility and accessibility, have also led to a noticeable shift in how healthcare services are presented.', 'tools of operations management, for example, supply chain management, are useful only to a limited extent... These observations, however, have had little impact on the vast cost of consulting fees... Patients who are sick, or worried that they may be sick, generally, are neither capable of understanding their physiological status nor inclined to shop around for bargains... The value of life often far outweighs the consideration of cost... The root of the disequilibrium in healthcare is the heavy, often total, dependence of the patient on the medical practitioner.', 'preventable medical errors and signal a significant improvement in quality of patient care. \\nThe grand challenge of the medical internet of things (MIoT) is to sufficiently enable the \\ndeployment of patient-centric and context-aware networked medical systems in all care \\nenvironments, ranging from hospital floors to operating rooms, intensive care units to \\nhome care units. Heterogeneous devices in each care environment would effectively share \\ndata (efficiently, safely and securely) to minimize preventable errors often introduced by \\nhumans.']\n",
      "\n",
      "======================================================================\n",
      "\n",
      "Overall Metric Pass Rates\n",
      "\n",
      "Contextual Recall: 100.00% pass rate\n",
      "\n",
      "======================================================================\n",
      "\n"
     ]
    },
    {
     "name": "stderr",
     "output_type": "stream",
     "text": [
      "\n"
     ]
    },
    {
     "data": {
      "text/html": [
       "<pre style=\"white-space:pre;overflow-x:auto;line-height:normal;font-family:Menlo,'DejaVu Sans Mono',consolas,'Courier New',monospace\">\n",
       "<span style=\"color: #05f58d; text-decoration-color: #05f58d\">✓</span> Tests finished 🎉! Run <span style=\"color: #008000; text-decoration-color: #008000; font-weight: bold\">'deepeval login'</span> to save and analyze evaluation results on Confident AI.\n",
       " \n",
       "✨👀 Looking for a place for your LLM test data to live 🏡❤️ ? Use <span style=\"color: #6a00ff; text-decoration-color: #6a00ff\">Confident AI</span> to get &amp; share testing reports, \n",
       "experiment with models/prompts, and catch regressions for your LLM system. Just run <span style=\"color: #008080; text-decoration-color: #008080\">'deepeval login'</span> in the CLI. \n",
       "\n",
       "</pre>\n"
      ],
      "text/plain": [
       "\n",
       "\u001b[38;2;5;245;141m✓\u001b[0m Tests finished 🎉! Run \u001b[1;32m'deepeval login'\u001b[0m to save and analyze evaluation results on Confident AI.\n",
       " \n",
       "✨👀 Looking for a place for your LLM test data to live 🏡❤️ ? Use \u001b[38;2;106;0;255mConfident AI\u001b[0m to get & share testing reports, \n",
       "experiment with models/prompts, and catch regressions for your LLM system. Just run \u001b[36m'deepeval login'\u001b[0m in the CLI. \n",
       "\n"
      ]
     },
     "metadata": {},
     "output_type": "display_data"
    }
   ],
   "source": [
    "k = 3\n",
    "\n",
    "test_case = LLMTestCase(\n",
    "    input=response['question'],\n",
    "    actual_output=response['AI_generated_response'],\n",
    "    expected_output=human_answer,\n",
    "    retrieval_context=retrieved_context_with_noise[:k]\n",
    ")\n",
    "\n",
    "metric = ContextualRecallMetric(\n",
    "    threshold=0.6,\n",
    "    model=wrapped_model,\n",
    "    include_reason=True,\n",
    "    verbose_mode=True\n",
    ")\n",
    "\n",
    "result = evaluate([test_case], [metric])"
   ]
  },
  {
   "cell_type": "code",
   "execution_count": 53,
   "metadata": {
    "application/vnd.databricks.v1+cell": {
     "cellMetadata": {
      "byteLimit": 2048000,
      "rowLimit": 10000
     },
     "inputWidgets": {},
     "nuid": "ba3e16b1-275f-4d05-8015-744d99cbfcce",
     "showTitle": false,
     "tableResultSettingsMap": {},
     "title": ""
    }
   },
   "outputs": [
    {
     "name": "stdout",
     "output_type": "stream",
     "text": [
      "Sucess: True\n",
      "Score: 0.75\n",
      "Reason: The score is 0.75 because while node(s) in the retrieval context provide strong alignment with aspects of real-time monitoring, minimizing errors, and data-sharing in hospital environments (e.g., 3rd node), they lack explicit references to protocols, asset management, and broader patient care safety impacts mentioned in sentence(s) of the expected output.\n"
     ]
    }
   ],
   "source": [
    "print('Sucess:', result.test_results[0].metrics_data[0].success)\n",
    "print('Score:', result.test_results[0].metrics_data[0].score)\n",
    "print('Reason:', result.test_results[0].metrics_data[0].reason)"
   ]
  },
  {
   "cell_type": "markdown",
   "metadata": {
    "application/vnd.databricks.v1+cell": {
     "cellMetadata": {},
     "inputWidgets": {},
     "nuid": "45565b61-4bf0-4acb-a7c6-94868fe4c573",
     "showTitle": false,
     "tableResultSettingsMap": {},
     "title": ""
    }
   },
   "source": [
    "### Observation\n",
    "\n",
    "This evaluation helps us understand how complete and helpful the retriever is in surfacing supporting content for answering the query.\n",
    "\n",
    "In this case, the **Contextual Recall score was 0.75**, surpassing the threshold of 0.6. The majority of core concepts—such as MIoT's role in reducing preventable errors, supporting real-time monitoring, and enabling system interoperability—were well represented in the retrieved content. However, the score did not reach full recall due to the **presence of noise and missing grounding for some subclaims**.\n",
    "\n",
    "---\n",
    "\n",
    "### Key Observations\n",
    "\n",
    "- **Strong alignment** was observed for themes like human error reduction, smart device monitoring, and patient-centric networked systems.\n",
    "- **Some retrieved chunks included off-topic content**, such as healthcare marketing or consulting discussions, which diluted contextual relevance.\n",
    "- Key expected claims — like **compliance with protocols**, **asset management**, and **generalized safety improvements** — were not explicitly supported in the retrieved content.\n",
    "- The **Top 3 Chunks (with Noise)** contained little to no MIoT-specific content and introduced distractions that suppressed answer grounding.\n",
    "\n",
    "---\n",
    "\n",
    "### Takeaway\n",
    "\n",
    "The retrieval system successfully surfaced high-value content, but its effectiveness was limited by the inclusion of **semantically unrelated chunks**. These distracted from the core message and lowered the score by weakening support for several parts of the expected answer.\n",
    "\n",
    "---\n",
    "\n",
    "### Key Insight\n",
    "\n",
    "> Retrieval systems must be both relevant and precise.  \n",
    "A small number of high-ranking noisy chunks can overshadow useful content. Ensuring **focused, thematic retrieval** is critical to maximize contextual grounding and overall answer quality in RAG pipelines.\n",
    "\n",
    "---\n",
    "\n",
    "### Comparative Chunk Analysis\n",
    "\n",
    "| Chunk Type                     | MIoT Signal Present | Noise Present | Description |\n",
    "|-------------------------------|---------------------|---------------|-------------|\n",
    "| **Fully Relevant**            | Yes                 | No            | Clean, on-topic chunks that directly support major claims like device interoperability and error prevention. |\n",
    "| **Relevant with Noise**       | Yes                 | Yes           | Partial grounding; includes valid MIoT content but mixed with unrelated details (e.g., healthcare marketing). |\n",
    "| **Top 3 Chunks (with Noise)** | No or Minimal       | Yes           | Highly ranked but off-topic chunks; introduce irrelevant information such as consulting economics and patient behavior, reducing overall grounding accuracy. |"
   ]
  },
  {
   "cell_type": "markdown",
   "metadata": {
    "application/vnd.databricks.v1+cell": {
     "cellMetadata": {},
     "inputWidgets": {},
     "nuid": "ce0aa175-b726-4894-b356-544429c7d854",
     "showTitle": false,
     "tableResultSettingsMap": {},
     "title": ""
    }
   },
   "source": [
    "> ## **Important Note**\n",
    "> \n",
    "> **We are evaluating this result using the `deepeval` library, which uses an LLM to act as a judge.**\n",
    "> \n",
    "> **At the backend, we are using `gpt-4o-mini` (Azure-hosted) to perform the evaluation.**\n",
    "> \n",
    "> **Because this involves an LLM's reasoning, there is a high probability that you might get slightly different results when you re-run the code — even with the same inputs.**\n",
    "> \n",
    "> **This variability happens because LLM-based evaluations can be non-deterministic by nature. Small differences in phrasing or internal model behavior can influence how it interprets relevance, alignment, or context.**\n",
    "> \n",
    "> **Therefore, while these evaluations provide valuable insights, treat individual scores as part of a broader trend rather than absolute judgments.**\n"
   ]
  },
  {
   "cell_type": "markdown",
   "metadata": {
    "application/vnd.databricks.v1+cell": {
     "cellMetadata": {},
     "inputWidgets": {},
     "nuid": "e7182365-dcfa-4023-a428-3338bb04161f",
     "showTitle": false,
     "tableResultSettingsMap": {},
     "title": ""
    }
   },
   "source": [
    "## Contextual Relevancy\n",
    "\n",
    "The **contextual relevancy** metric measures how relevant the information in your `retrieval_context` is for answering the given input query.  \n",
    "It focuses on the **overall quality and usefulness** of the retrieved content, regardless of specific expected answers.\n",
    "\n",
    "`deepeval` uses a **self-explaining LLM-based evaluation**, where the model not only scores the result but also provides a reason for the score—making the evaluation more transparent.\n",
    "\n",
    "### Required Inputs for `ContextualRelevancyMetric` in `deepeval`\n",
    "\n",
    "When creating an `LLMTestCase`, you need to provide:\n",
    "\n",
    "- `input`: The user’s query  \n",
    "- `actual_output`: The AI-generated response (not used for this metric)  \n",
    "- `retrieval_context`: The top-N document chunks retrieved from the vector store\n",
    "\n",
    "> This metric is useful for assessing the **general relevance** of the retrieved documents—whether or not the final answer is perfect.\n",
    "\n",
    "\n"
   ]
  },
  {
   "cell_type": "markdown",
   "metadata": {
    "application/vnd.databricks.v1+cell": {
     "cellMetadata": {},
     "inputWidgets": {},
     "nuid": "5a4643b4-d801-41cd-a2ef-d38fb3a0807d",
     "showTitle": false,
     "tableResultSettingsMap": {},
     "title": ""
    }
   },
   "source": [
    "### How ContextualRelevancyMetric Handles Context Chunks\n",
    "\n",
    "By default, `ContextualRelevancyMetric` splits the retrieval context into smaller \"statements\"—usually by sentences using periods (`.`).\n",
    "\n",
    "This means that even if you pass entire context chunks to the evaluator, the metric evaluates **each sentence individually** for its relevance to the input query.\n",
    "\n",
    "As a result, the scoring is more fine-grained and reflects sentence-level relevancy rather than evaluating full chunks as a whole.\n"
   ]
  },
  {
   "cell_type": "markdown",
   "metadata": {
    "application/vnd.databricks.v1+cell": {
     "cellMetadata": {},
     "inputWidgets": {},
     "nuid": "6eae26c5-56cf-46a9-909d-872c46c6466c",
     "showTitle": false,
     "tableResultSettingsMap": {},
     "title": ""
    }
   },
   "source": [
    "### Evaluating Contextual Relevancy \n",
    "\n",
    "We use the input question and the retrieved chunks to check how relevant the context is overall.\n",
    "\n",
    "The metric ignores the actual and expected answers and focuses only on how well the context supports the input query.\n",
    "\n",
    "It returns a score and explanation to show if the retrieved content was generally useful.\n"
   ]
  },
  {
   "cell_type": "code",
   "execution_count": 54,
   "metadata": {
    "application/vnd.databricks.v1+cell": {
     "cellMetadata": {
      "byteLimit": 2048000,
      "rowLimit": 10000
     },
     "inputWidgets": {},
     "nuid": "eab4247f-45e6-4303-b015-0b058e0867a2",
     "showTitle": false,
     "tableResultSettingsMap": {},
     "title": ""
    },
    "scrolled": true
   },
   "outputs": [
    {
     "data": {
      "text/html": [
       "<pre style=\"white-space:pre;overflow-x:auto;line-height:normal;font-family:Menlo,'DejaVu Sans Mono',consolas,'Courier New',monospace\">✨ You're running DeepEval's latest <span style=\"color: #6a00ff; text-decoration-color: #6a00ff\">Contextual Relevancy Metric</span>! <span style=\"color: #374151; text-decoration-color: #374151; font-weight: bold\">(</span><span style=\"color: #374151; text-decoration-color: #374151\">using azure-gpt4o-mini, </span><span style=\"color: #374151; text-decoration-color: #374151\">strict</span><span style=\"color: #374151; text-decoration-color: #374151\">=</span><span style=\"color: #374151; text-decoration-color: #374151; font-style: italic\">False</span><span style=\"color: #374151; text-decoration-color: #374151\">, </span>\n",
       "<span style=\"color: #374151; text-decoration-color: #374151\">async_mode</span><span style=\"color: #374151; text-decoration-color: #374151\">=</span><span style=\"color: #374151; text-decoration-color: #374151; font-style: italic\">True</span><span style=\"color: #374151; text-decoration-color: #374151; font-weight: bold\">)</span><span style=\"color: #374151; text-decoration-color: #374151\">...</span>\n",
       "</pre>\n"
      ],
      "text/plain": [
       "✨ You're running DeepEval's latest \u001b[38;2;106;0;255mContextual Relevancy Metric\u001b[0m! \u001b[1;38;2;55;65;81m(\u001b[0m\u001b[38;2;55;65;81musing azure-gpt4o-mini, \u001b[0m\u001b[38;2;55;65;81mstrict\u001b[0m\u001b[38;2;55;65;81m=\u001b[0m\u001b[3;38;2;55;65;81mFalse\u001b[0m\u001b[38;2;55;65;81m, \u001b[0m\n",
       "\u001b[38;2;55;65;81masync_mode\u001b[0m\u001b[38;2;55;65;81m=\u001b[0m\u001b[3;38;2;55;65;81mTrue\u001b[0m\u001b[1;38;2;55;65;81m)\u001b[0m\u001b[38;2;55;65;81m...\u001b[0m\n"
      ]
     },
     "metadata": {},
     "output_type": "display_data"
    },
    {
     "name": "stdout",
     "output_type": "stream",
     "text": [
      "Event loop is already running. Applying nest_asyncio patch to allow async execution...\n"
     ]
    },
    {
     "name": "stderr",
     "output_type": "stream",
     "text": [
      "Evaluating 1 test case(s) in parallel: |██████████████████████████████|100% (1/1) [Time Taken: 00:08,  8.45s/test case]"
     ]
    },
    {
     "name": "stdout",
     "output_type": "stream",
     "text": [
      "**************************************************\n",
      "Contextual Relevancy Verbose Logs\n",
      "**************************************************\n",
      "\n",
      "Verdicts:\n",
      "[\n",
      "    {\n",
      "        \"verdicts\": [\n",
      "            {\n",
      "                \"statement\": \"Preventable medical errors signal a significant improvement in quality of patient care.\",\n",
      "                \"verdict\": \"yes\",\n",
      "                \"reason\": null\n",
      "            },\n",
      "            {\n",
      "                \"statement\": \"The grand challenge of the medical internet of things (MIoT) is to sufficiently enable the deployment of patient-centric and context-aware networked medical systems in all care environments, ranging from hospital floors to operating rooms, intensive care units to home care units.\",\n",
      "                \"verdict\": \"yes\",\n",
      "                \"reason\": null\n",
      "            },\n",
      "            {\n",
      "                \"statement\": \"Heterogeneous devices in each care environment would effectively share data (efficiently, safely and securely) to minimize preventable errors often introduced by humans.\",\n",
      "                \"verdict\": \"yes\",\n",
      "                \"reason\": null\n",
      "            }\n",
      "        ]\n",
      "    },\n",
      "    {\n",
      "        \"verdicts\": [\n",
      "            {\n",
      "                \"statement\": \"ICE standard will enable dramatic improvements to patient safety because cross-vendor inter-device communications may significantly reduce preventable medical errors.\",\n",
      "                \"verdict\": \"yes\",\n",
      "                \"reason\": null\n",
      "            },\n",
      "            {\n",
      "                \"statement\": \"Examples include patient transfers from the Operating Room (OR) to Intensive Care Units (ICU) and reducing false alarms or deaths due to Patient-Controlled Analgesia (PCA).\",\n",
      "                \"verdict\": \"yes\",\n",
      "                \"reason\": null\n",
      "            },\n",
      "            {\n",
      "                \"statement\": \"In both of these examples, synthesis of data from diverse range of medical devices may enable the generation of real-time actionable information from the system to a point of care.\",\n",
      "                \"verdict\": \"yes\",\n",
      "                \"reason\": null\n",
      "            }\n",
      "        ]\n",
      "    },\n",
      "    {\n",
      "        \"verdicts\": [\n",
      "            {\n",
      "                \"statement\": \"Remote monitoring at home are factors which compromise patient safety.\",\n",
      "                \"verdict\": \"no\",\n",
      "                \"reason\": \"The statement discusses remote monitoring at home as a factor compromising safety rather than how MIoT improves hospital safety.\"\n",
      "            },\n",
      "            {\n",
      "                \"statement\": \"In the absence of appropriate data analysis and synthesis, the ability to produce actionable information relevant to the collective status of the patient must depend on medical professionals to combine the data at the point of care.\",\n",
      "                \"verdict\": \"no\",\n",
      "                \"reason\": \"The statement focuses on the challenge of combining data at the point of care and does not provide information on how MIoT improves hospital safety.\"\n",
      "            },\n",
      "            {\n",
      "                \"statement\": \"In this context, integration and interoperability may improve efficiency, safety and security.\",\n",
      "                \"verdict\": \"yes\",\n",
      "                \"reason\": null\n",
      "            },\n",
      "            {\n",
      "                \"statement\": \"It is anticipated that it will lower the rates of preventable medical errors and signal a significant improvement in quality of patient care.\",\n",
      "                \"verdict\": \"yes\",\n",
      "                \"reason\": null\n",
      "            }\n",
      "        ]\n",
      "    },\n",
      "    {\n",
      "        \"verdicts\": [\n",
      "            {\n",
      "                \"statement\": \"Mobility of medical devices between different care environments or from patient to patient presents challenges.\",\n",
      "                \"verdict\": \"yes\",\n",
      "                \"reason\": null\n",
      "            },\n",
      "            {\n",
      "                \"statement\": \"While in transit, they must remain secure yet 'open' for 'discovery' by other devices in much the same way that consumer IoT accessories, for example, Amazon Echo Dot, pairs with your smartphone or the laptop when it is in the cone of connectivity.\",\n",
      "                \"verdict\": \"yes\",\n",
      "                \"reason\": null\n",
      "            },\n",
      "            {\n",
      "                \"statement\": \"Once discovered, the devices must self-organize and form the ad hoc mesh network of devices, specific to the patient.\",\n",
      "                \"verdict\": \"yes\",\n",
      "                \"reason\": null\n",
      "            },\n",
      "            {\n",
      "                \"statement\": \"They need to interoperate with, verify and execute safe, authorized and compliant operational profiles.\",\n",
      "                \"verdict\": \"yes\",\n",
      "                \"reason\": null\n",
      "            },\n",
      "            {\n",
      "                \"statement\": \"humans.\",\n",
      "                \"verdict\": \"no\",\n",
      "                \"reason\": \"The statement 'humans.' is vague and does not provide specific information related to how MIoT improves hospital safety.\"\n",
      "            }\n",
      "        ]\n",
      "    },\n",
      "    {\n",
      "        \"verdicts\": [\n",
      "            {\n",
      "                \"statement\": \"Healthcare-associated infections may benefit from connectivity [Figure 8] and the connectivity as a medical IoT design principles, if used, may save lives.\",\n",
      "                \"verdict\": \"yes\",\n",
      "                \"reason\": null\n",
      "            },\n",
      "            {\n",
      "                \"statement\": \"About 1 in 25 patients gets an infection each year while receiving medical care in the US [116].\",\n",
      "                \"verdict\": \"yes\",\n",
      "                \"reason\": null\n",
      "            },\n",
      "            {\n",
      "                \"statement\": \"Estimated 25,000 deaths per year from about 1 million infections each year from US healthcare at a projected cost of $30 billion per annum.\",\n",
      "                \"verdict\": \"yes\",\n",
      "                \"reason\": null\n",
      "            },\n",
      "            {\n",
      "                \"statement\": \"In addition to logging prescribed antibiotics and their use [117] it may be necessary to track and trace individual hand-washing habits.\",\n",
      "                \"verdict\": \"yes\",\n",
      "                \"reason\": null\n",
      "            }\n",
      "        ]\n",
      "    }\n",
      "]\n",
      " \n",
      "Score: 0.8421052631578947\n",
      "Reason: The score is 0.84 because while several statements such as 'Heterogeneous devices in each care environment would effectively share data (efficiently, safely and securely) to minimize preventable errors often introduced by humans.' and 'ICE standard will enable dramatic improvements to patient safety because cross-vendor inter-device communications may significantly reduce preventable medical errors.' directly relate to MIoT improving hospital safety, irrelevancy arises from mentions of remote monitoring at home and unrelated challenges like data synthesis or vague statements like 'humans.'\n",
      "\n",
      "======================================================================\n",
      "\n",
      "======================================================================\n",
      "\n",
      "Metrics Summary\n",
      "\n",
      "  - ✅ Contextual Relevancy (score: 0.8421052631578947, threshold: 0.6, strict: False, evaluation model: azure-gpt4o-mini, reason: The score is 0.84 because while several statements such as 'Heterogeneous devices in each care environment would effectively share data (efficiently, safely and securely) to minimize preventable errors often introduced by humans.' and 'ICE standard will enable dramatic improvements to patient safety because cross-vendor inter-device communications may significantly reduce preventable medical errors.' directly relate to MIoT improving hospital safety, irrelevancy arises from mentions of remote monitoring at home and unrelated challenges like data synthesis or vague statements like 'humans.', error: None)\n",
      "\n",
      "For test case:\n",
      "\n",
      "  - input: How does MIoT improve hospital safety?\n",
      "  - actual output: MIoT improves hospital safety by enabling the deployment of patient-centric and context-aware networked medical systems across various care environments, such as hospital floors, operating rooms, intensive care units, and home care units. It facilitates the efficient, safe, and secure sharing of data among heterogeneous medical devices, minimizing preventable errors often introduced by humans. The ICE standard supports cross-vendor inter-device communications, which can reduce preventable medical errors during patient transfers (e.g., from the Operating Room to Intensive Care Units) and mitigate risks like false alarms or deaths due to Patient-Controlled Analgesia (PCA). Additionally, MIoT enhances integration and interoperability, allowing for real-time actionable information synthesis, improving efficiency, safety, and security. It also addresses challenges related to device mobility, ensuring secure discovery, self-organization, and compliance in forming ad hoc mesh networks specific to patients. Furthermore, MIoT connectivity principles may help reduce healthcare-associated infections by tracking prescribed antibiotics, usage, and hand-washing habits, potentially saving lives and reducing costs.\n",
      "  - expected output: MIoT, or the Medical Internet of Things, enhances hospital safety by enabling real-time monitoring, \n",
      "\f",
      "aster response times, and improved decision-making. Devices like smart sensors, wearables, \n",
      "\u0007nd connected medical equipment continuously track patients' vital signs, \n",
      "\u0007lerting staff to potential issues before they become critical. It also helps reduce human error, \n",
      "\\ensures better compliance with safety protocols, and allows hospitals to manage assets more efficiently, \n",
      "ultimately leading to safer and more responsive patient care environments.\n",
      "  - context: None\n",
      "  - retrieval context: ['preventable medical errors and signal a significant improvement in quality of patient care. \\nThe grand challenge of the medical internet of things (MIoT) is to sufficiently enable the \\ndeployment of patient-centric and context-aware networked medical systems in all care \\nenvironments, ranging from hospital floors to operating rooms, intensive care units to \\nhome care units. Heterogeneous devices in each care environment would effectively share \\ndata (efficiently, safely and securely) to minimize preventable errors often introduced by \\nhumans.', 'ICE standard will enable dramatic improvements to patient safety because cross-vendor \\ninter-device communications may significantly reduce preventable medical errors. \\nExamples include patient transfers from the Operating Room (OR) to Intensive Care Units \\n(ICU) and reducing false alarms or deaths due to Patient-Controlled Analgesia (PCA). In \\nboth of these examples, synthesis of data from diverse range of medical devices may enable \\nthe generation of real-time actionable information from the system to a point of care', 'remote monitoring at home) are factors which compromise patient safety. In the absence of \\nappropriate data analysis and synthesis, the ability to produce actionable information \\nrelevant to the collective status of the patient must depend on medical professionals to \\ncombine the data at the point of care. In this context, integration and interoperability may \\nimprove efficiency, safety and security. It is anticipated that it will lower the rates of \\npreventable medical errors and signal a significant improvement in quality of patient care.', 'humans. \\nMobility of medical devices between different care environments or from patient to patient \\npresents challenges. While in transit, they must remain secure yet “open” for “discovery” by \\nother devices in much the same way that consumer IoT accessories, for example, Amazon \\nEcho Dot, pairs with your smartphone or the laptop when it is in the cone of connectivity. \\nOnce discovered, the devices must self-organize and form the ad hoc mesh network of \\ndevices, specific to the patient. They need to interoperate with, verify and execute safe, \\nauthorized and compliant operational profiles.', 'Healthcare-associated infections may benefit from connectivity [Figure 8] and the \\nconnectivity as a medical IoT design principles, if used, may save lives. About 1 in 25 \\npatients gets an infection each year while receiving medical care in the US [116]. Estimated \\n25,000 deaths per year from about 1 million infections each year from US healthcare at a \\nprojected cost of $30 billion per annum. In addition to logging prescribed antibiotics and \\ntheir use [117] it may be necessary to track and trace individual hand-washing habits and']\n",
      "\n",
      "======================================================================\n",
      "\n",
      "Overall Metric Pass Rates\n",
      "\n",
      "Contextual Relevancy: 100.00% pass rate\n",
      "\n",
      "======================================================================\n",
      "\n"
     ]
    },
    {
     "name": "stderr",
     "output_type": "stream",
     "text": [
      "\n"
     ]
    },
    {
     "data": {
      "text/html": [
       "<pre style=\"white-space:pre;overflow-x:auto;line-height:normal;font-family:Menlo,'DejaVu Sans Mono',consolas,'Courier New',monospace\">\n",
       "<span style=\"color: #05f58d; text-decoration-color: #05f58d\">✓</span> Tests finished 🎉! Run <span style=\"color: #008000; text-decoration-color: #008000; font-weight: bold\">'deepeval login'</span> to save and analyze evaluation results on Confident AI.\n",
       " \n",
       "✨👀 Looking for a place for your LLM test data to live 🏡❤️ ? Use <span style=\"color: #6a00ff; text-decoration-color: #6a00ff\">Confident AI</span> to get &amp; share testing reports, \n",
       "experiment with models/prompts, and catch regressions for your LLM system. Just run <span style=\"color: #008080; text-decoration-color: #008080\">'deepeval login'</span> in the CLI. \n",
       "\n",
       "</pre>\n"
      ],
      "text/plain": [
       "\n",
       "\u001b[38;2;5;245;141m✓\u001b[0m Tests finished 🎉! Run \u001b[1;32m'deepeval login'\u001b[0m to save and analyze evaluation results on Confident AI.\n",
       " \n",
       "✨👀 Looking for a place for your LLM test data to live 🏡❤️ ? Use \u001b[38;2;106;0;255mConfident AI\u001b[0m to get & share testing reports, \n",
       "experiment with models/prompts, and catch regressions for your LLM system. Just run \u001b[36m'deepeval login'\u001b[0m in the CLI. \n",
       "\n"
      ]
     },
     "metadata": {},
     "output_type": "display_data"
    }
   ],
   "source": [
    "test_case = LLMTestCase(\n",
    "    input=response['question'],\n",
    "    actual_output=response['AI_generated_response'],\n",
    "    expected_output=human_answer,\n",
    "    retrieval_context=retrieved_context\n",
    ")\n",
    "\n",
    "metric = ContextualRelevancyMetric(\n",
    "    threshold=0.6,\n",
    "    model=wrapped_model,\n",
    "    include_reason=True,\n",
    "    verbose_mode=True\n",
    ")\n",
    "\n",
    "result = evaluate([test_case], [metric])"
   ]
  },
  {
   "cell_type": "code",
   "execution_count": 55,
   "metadata": {
    "application/vnd.databricks.v1+cell": {
     "cellMetadata": {
      "byteLimit": 2048000,
      "rowLimit": 10000
     },
     "inputWidgets": {},
     "nuid": "773e604f-26f4-43f5-84ce-a8e846df2b82",
     "showTitle": false,
     "tableResultSettingsMap": {},
     "title": ""
    }
   },
   "outputs": [
    {
     "name": "stdout",
     "output_type": "stream",
     "text": [
      "Sucess: True\n",
      "Score: 0.8421052631578947\n",
      "Reason: The score is 0.84 because while several statements such as 'Heterogeneous devices in each care environment would effectively share data (efficiently, safely and securely) to minimize preventable errors often introduced by humans.' and 'ICE standard will enable dramatic improvements to patient safety because cross-vendor inter-device communications may significantly reduce preventable medical errors.' directly relate to MIoT improving hospital safety, irrelevancy arises from mentions of remote monitoring at home and unrelated challenges like data synthesis or vague statements like 'humans.'\n"
     ]
    }
   ],
   "source": [
    "print('Sucess:', result.test_results[0].metrics_data[0].success)\n",
    "print('Score:', result.test_results[0].metrics_data[0].score)\n",
    "print('Reason:', result.test_results[0].metrics_data[0].reason)"
   ]
  },
  {
   "cell_type": "markdown",
   "metadata": {
    "application/vnd.databricks.v1+cell": {
     "cellMetadata": {},
     "inputWidgets": {},
     "nuid": "09d29bb4-b2e6-4942-b7fd-95f7ec334683",
     "showTitle": false,
     "tableResultSettingsMap": {},
     "title": ""
    },
    "jp-MarkdownHeadingCollapsed": true
   },
   "source": [
    "### Observation:\n",
    "\n",
    "This evaluation assesses how well the retrieved context semantically aligns with the user query:  \n",
    "**\"How does MIoT improve hospital safety?\"**\n",
    "\n",
    "---\n",
    "\n",
    "#### Score Summary:\n",
    "- **Contextual Relevancy Score:** **0.84**\n",
    "- **Pass Status:** Passed (threshold = 0.6)\n",
    "\n",
    "---\n",
    "\n",
    "#### Key Highlights:\n",
    "- The majority of statements in the retrieval context were **highly relevant**, especially around:\n",
    "  - **Patient-centric systems**\n",
    "  - **Real-time actionable insights**\n",
    "  - **Inter-device communication (ICE)**\n",
    "  - **Hospital safety and efficiency**\n",
    "\n",
    "- Examples of strong relevance:\n",
    "  - “Heterogeneous devices... share data... to minimize preventable errors”\n",
    "  - “ICE standard... reduce preventable medical errors”\n",
    "  - “Integration and interoperability may improve efficiency, safety and security”\n",
    "\n",
    "- A few minor drops were noted:\n",
    "  - Some chunks discussed **general safety limitations or contextual risks**, not **direct MIoT benefits** (e.g., challenges with remote monitoring or human dependency on manual data synthesis).\n",
    "\n",
    "---\n",
    "\n",
    "#### Takeaway:\n",
    "By **excluding noisy, off-topic chunks** (like those related to advertising or healthcare economics), the system achieved **clear and targeted relevance**, resulting in a strong contextual alignment.\n",
    "\n",
    "This confirms that **relevance improves when retrieval is focused** and semantically aligned with the query, especially in a **single-PDF setup** that is tightly scoped to the subject matter.\n"
   ]
  },
  {
   "cell_type": "markdown",
   "metadata": {
    "application/vnd.databricks.v1+cell": {
     "cellMetadata": {},
     "inputWidgets": {},
     "nuid": "24eaffd0-7f78-4418-ae26-cd852ad9c084",
     "showTitle": false,
     "tableResultSettingsMap": {},
     "title": ""
    }
   },
   "source": [
    "### Extracting Relevant Statements\n",
    "\n",
    "This code parses the verbose logs from the evaluation and lists all statements where the verdict is `\"yes\"`.\n",
    "\n",
    "It helps isolate only the **relevant content** from the retrieval context for further analysis or debugging.\n"
   ]
  },
  {
   "cell_type": "code",
   "execution_count": 56,
   "metadata": {
    "application/vnd.databricks.v1+cell": {
     "cellMetadata": {
      "byteLimit": 2048000,
      "rowLimit": 10000
     },
     "inputWidgets": {},
     "nuid": "306bd2ec-cde3-4fc7-b18b-54a6c0ef84d2",
     "showTitle": false,
     "tableResultSettingsMap": {},
     "title": ""
    }
   },
   "outputs": [
    {
     "name": "stdout",
     "output_type": "stream",
     "text": [
      "Relevant Statements (verdict: yes):\n",
      "\n",
      "1. Preventable medical errors signal a significant improvement in quality of patient care.\n",
      "2. The grand challenge of the medical internet of things (MIoT) is to sufficiently enable the deployment of patient-centric and context-aware networked medical systems in all care environments, ranging from hospital floors to operating rooms, intensive care units to home care units.\n",
      "3. Heterogeneous devices in each care environment would effectively share data (efficiently, safely and securely) to minimize preventable errors often introduced by humans.\n",
      "4. ICE standard will enable dramatic improvements to patient safety because cross-vendor inter-device communications may significantly reduce preventable medical errors.\n",
      "5. Examples include patient transfers from the Operating Room (OR) to Intensive Care Units (ICU) and reducing false alarms or deaths due to Patient-Controlled Analgesia (PCA).\n",
      "6. In both of these examples, synthesis of data from diverse range of medical devices may enable the generation of real-time actionable information from the system to a point of care.\n",
      "7. In this context, integration and interoperability may improve efficiency, safety and security.\n",
      "8. It is anticipated that it will lower the rates of preventable medical errors and signal a significant improvement in quality of patient care.\n",
      "9. Mobility of medical devices between different care environments or from patient to patient presents challenges.\n",
      "10. While in transit, they must remain secure yet 'open' for 'discovery' by other devices in much the same way that consumer IoT accessories, for example, Amazon Echo Dot, pairs with your smartphone or the laptop when it is in the cone of connectivity.\n",
      "11. Once discovered, the devices must self-organize and form the ad hoc mesh network of devices, specific to the patient.\n",
      "12. They need to interoperate with, verify and execute safe, authorized and compliant operational profiles.\n",
      "13. Healthcare-associated infections may benefit from connectivity [Figure 8] and the connectivity as a medical IoT design principles, if used, may save lives.\n",
      "14. About 1 in 25 patients gets an infection each year while receiving medical care in the US [116].\n",
      "15. Estimated 25,000 deaths per year from about 1 million infections each year from US healthcare at a projected cost of $30 billion per annum.\n",
      "16. In addition to logging prescribed antibiotics and their use [117] it may be necessary to track and trace individual hand-washing habits.\n"
     ]
    }
   ],
   "source": [
    "import json\n",
    "\n",
    "# Extract JSON string from verbose logs\n",
    "logs = result.test_results[0].metrics_data[0].verbose_logs\n",
    "json_text = logs.split(\"Verdicts:\\n\", 1)[1].strip()\n",
    "\n",
    "# Parse and print relevant statements with numbering\n",
    "verdicts = json.loads(json_text)\n",
    "relevant_statements=[]\n",
    "print(\"Relevant Statements (verdict: yes):\\n\")\n",
    "count = 1\n",
    "for group in verdicts:\n",
    "    for v in group.get(\"verdicts\", []):\n",
    "        if v.get(\"verdict\") == \"yes\":\n",
    "            relevant_statements.append(v['statement'])\n",
    "            print(f\"{count}. {v['statement'].strip()}\")\n",
    "            count += 1\n"
   ]
  },
  {
   "cell_type": "markdown",
   "metadata": {
    "application/vnd.databricks.v1+cell": {
     "cellMetadata": {},
     "inputWidgets": {},
     "nuid": "7efe4b20-2d3e-40a6-85b9-bd44c3a56b77",
     "showTitle": false,
     "tableResultSettingsMap": {},
     "title": ""
    }
   },
   "source": [
    "### Observation: Relevant Statement Extraction\n",
    "\n",
    "The evaluation identified **16 highly relevant statements** from the retrieved context chunks that directly support the query:\n",
    "\n",
    "> **\"How does MIoT improve hospital safety?\"**\n",
    "\n",
    "---\n",
    "\n",
    "#### What These Statements Captured:\n",
    "- **Preventable Error Reduction**  \n",
    "  Descriptions of MIoT minimizing human-introduced mistakes via automated monitoring systems.\n",
    "\n",
    "- **Interoperability & Integration**  \n",
    "  Cross-device communication (e.g., ICE standard) that supports seamless transitions between care environments.\n",
    "\n",
    "- **Real-Time Data Sharing**  \n",
    "  Synthesis of actionable patient information enabling immediate clinical response.\n",
    "\n",
    "- **Infection Control**  \n",
    "  Use of connectivity principles to track hygiene behaviors and antibiotic usage.\n",
    "\n",
    "---\n",
    "\n",
    "#### Insight:\n",
    "This confirms that **despite minor noise**, the retriever surfaced a **strong and diverse set of semantically aligned statements**. These grounded chunks provided meaningful support to the final response, increasing both **faithfulness** and **relevancy** in the RAG pipeline.\n"
   ]
  },
  {
   "cell_type": "markdown",
   "metadata": {
    "application/vnd.databricks.v1+cell": {
     "cellMetadata": {},
     "inputWidgets": {},
     "nuid": "a89e11ce-32b0-4402-9c81-2a4346b28aaa",
     "showTitle": false,
     "tableResultSettingsMap": {},
     "title": ""
    }
   },
   "source": [
    "### Testing Contextual Relevancy with Injected Noise Using DeepEval\n",
    "\n",
    "In this step, we intentionally inject noisy chunks at the top of the retrieved context to evaluate their impact on contextual relevancy. \n",
    "\n",
    "DeepEval then compares the AI-generated answer against a human reference and determines whether the most relevant chunks are still correctly prioritized. \n",
    "\n",
    "This process helps assess how effectively the retriever can surface and rank useful information, even when noise is present in the retrieval results.\n"
   ]
  },
  {
   "cell_type": "code",
   "execution_count": 60,
   "metadata": {
    "application/vnd.databricks.v1+cell": {
     "cellMetadata": {
      "byteLimit": 2048000,
      "rowLimit": 10000
     },
     "inputWidgets": {},
     "nuid": "4fcbe025-c47e-461f-8b99-8c8bdba63731",
     "showTitle": false,
     "tableResultSettingsMap": {},
     "title": ""
    },
    "scrolled": true
   },
   "outputs": [
    {
     "data": {
      "text/html": [
       "<pre style=\"white-space:pre;overflow-x:auto;line-height:normal;font-family:Menlo,'DejaVu Sans Mono',consolas,'Courier New',monospace\">✨ You're running DeepEval's latest <span style=\"color: #6a00ff; text-decoration-color: #6a00ff\">Contextual Relevancy Metric</span>! <span style=\"color: #374151; text-decoration-color: #374151; font-weight: bold\">(</span><span style=\"color: #374151; text-decoration-color: #374151\">using azure-gpt4o-mini, </span><span style=\"color: #374151; text-decoration-color: #374151\">strict</span><span style=\"color: #374151; text-decoration-color: #374151\">=</span><span style=\"color: #374151; text-decoration-color: #374151; font-style: italic\">False</span><span style=\"color: #374151; text-decoration-color: #374151\">, </span>\n",
       "<span style=\"color: #374151; text-decoration-color: #374151\">async_mode</span><span style=\"color: #374151; text-decoration-color: #374151\">=</span><span style=\"color: #374151; text-decoration-color: #374151; font-style: italic\">True</span><span style=\"color: #374151; text-decoration-color: #374151; font-weight: bold\">)</span><span style=\"color: #374151; text-decoration-color: #374151\">...</span>\n",
       "</pre>\n"
      ],
      "text/plain": [
       "✨ You're running DeepEval's latest \u001b[38;2;106;0;255mContextual Relevancy Metric\u001b[0m! \u001b[1;38;2;55;65;81m(\u001b[0m\u001b[38;2;55;65;81musing azure-gpt4o-mini, \u001b[0m\u001b[38;2;55;65;81mstrict\u001b[0m\u001b[38;2;55;65;81m=\u001b[0m\u001b[3;38;2;55;65;81mFalse\u001b[0m\u001b[38;2;55;65;81m, \u001b[0m\n",
       "\u001b[38;2;55;65;81masync_mode\u001b[0m\u001b[38;2;55;65;81m=\u001b[0m\u001b[3;38;2;55;65;81mTrue\u001b[0m\u001b[1;38;2;55;65;81m)\u001b[0m\u001b[38;2;55;65;81m...\u001b[0m\n"
      ]
     },
     "metadata": {},
     "output_type": "display_data"
    },
    {
     "name": "stdout",
     "output_type": "stream",
     "text": [
      "Event loop is already running. Applying nest_asyncio patch to allow async execution...\n"
     ]
    },
    {
     "name": "stderr",
     "output_type": "stream",
     "text": [
      "Evaluating 1 test case(s) in parallel: |██████████████████████████████|100% (1/1) [Time Taken: 00:09,  9.25s/test case]"
     ]
    },
    {
     "name": "stdout",
     "output_type": "stream",
     "text": [
      "**************************************************\n",
      "Contextual Relevancy Verbose Logs\n",
      "**************************************************\n",
      "\n",
      "Verdicts:\n",
      "[\n",
      "    {\n",
      "        \"verdicts\": [\n",
      "            {\n",
      "                \"statement\": \"Many respected institutions and well-regarded medical professionals advertise their services as a way to inform the public about available healthcare options.\",\n",
      "                \"verdict\": \"no\",\n",
      "                \"reason\": \"The statement addresses healthcare advertising, which is unrelated to how MIoT improves hospital safety.\"\n",
      "            },\n",
      "            {\n",
      "                \"statement\": \"Over time, physicians and hospitals have increasingly adopted marketing and public relations strategies to connect with their communities and raise awareness of the care they offer.\",\n",
      "                \"verdict\": \"no\",\n",
      "                \"reason\": \"The statement focuses on marketing and public relations strategies, which do not pertain to MIoT or hospital safety.\"\n",
      "            },\n",
      "            {\n",
      "                \"statement\": \"These approaches, while often useful for improving visibility and accessibility, have also led to a noticeable shift in how healthcare services are presented.\",\n",
      "                \"verdict\": \"no\",\n",
      "                \"reason\": \"The statement discusses the impact of visibility and accessibility on the presentation of healthcare services, which is not related to MIoT or hospital safety.\"\n",
      "            }\n",
      "        ]\n",
      "    },\n",
      "    {\n",
      "        \"verdicts\": [\n",
      "            {\n",
      "                \"statement\": \"tools of operations management, for example, supply chain management, are useful only to a limited extent...\",\n",
      "                \"verdict\": \"no\",\n",
      "                \"reason\": \"The statement focuses on the limitations of operations management tools like supply chain management and does not address MIoT or hospital safety.\"\n",
      "            },\n",
      "            {\n",
      "                \"statement\": \"These observations, however, have had little impact on the vast cost of consulting fees...\",\n",
      "                \"verdict\": \"no\",\n",
      "                \"reason\": \"The discussion about consulting fees is unrelated to MIoT or hospital safety.\"\n",
      "            },\n",
      "            {\n",
      "                \"statement\": \"Patients who are sick, or worried that they may be sick, generally, are neither capable of understanding their physiological status nor inclined to shop around for bargains...\",\n",
      "                \"verdict\": \"no\",\n",
      "                \"reason\": \"This is about patient behavior and does not mention MIoT or how it improves hospital safety.\"\n",
      "            },\n",
      "            {\n",
      "                \"statement\": \"The value of life often far outweighs the consideration of cost...\",\n",
      "                \"verdict\": \"no\",\n",
      "                \"reason\": \"The statement discusses the value of life relative to cost but does not relate to MIoT or hospital safety.\"\n",
      "            },\n",
      "            {\n",
      "                \"statement\": \"The root of the disequilibrium in healthcare is the heavy, often total, dependence of the patient on the medical practitioner.\",\n",
      "                \"verdict\": \"no\",\n",
      "                \"reason\": \"The statement addresses the imbalance in healthcare dynamics rather than MIoT or hospital safety.\"\n",
      "            }\n",
      "        ]\n",
      "    },\n",
      "    {\n",
      "        \"verdicts\": [\n",
      "            {\n",
      "                \"statement\": \"Preventable medical errors signal a significant improvement in quality of patient care.\",\n",
      "                \"verdict\": \"yes\",\n",
      "                \"reason\": null\n",
      "            },\n",
      "            {\n",
      "                \"statement\": \"The grand challenge of the medical internet of things (MIoT) is to sufficiently enable the deployment of patient-centric and context-aware networked medical systems in all care environments, ranging from hospital floors to operating rooms, intensive care units to home care units.\",\n",
      "                \"verdict\": \"yes\",\n",
      "                \"reason\": null\n",
      "            },\n",
      "            {\n",
      "                \"statement\": \"Heterogeneous devices in each care environment would effectively share data (efficiently, safely and securely) to minimize preventable errors often introduced by humans.\",\n",
      "                \"verdict\": \"yes\",\n",
      "                \"reason\": null\n",
      "            }\n",
      "        ]\n",
      "    },\n",
      "    {\n",
      "        \"verdicts\": [\n",
      "            {\n",
      "                \"statement\": \"ICE standard will enable dramatic improvements to patient safety because cross-vendor inter-device communications may significantly reduce preventable medical errors.\",\n",
      "                \"verdict\": \"yes\",\n",
      "                \"reason\": null\n",
      "            },\n",
      "            {\n",
      "                \"statement\": \"Examples include patient transfers from the Operating Room (OR) to Intensive Care Units (ICU) and reducing false alarms or deaths due to Patient-Controlled Analgesia (PCA).\",\n",
      "                \"verdict\": \"yes\",\n",
      "                \"reason\": null\n",
      "            },\n",
      "            {\n",
      "                \"statement\": \"In both of these examples, synthesis of data from diverse range of medical devices may enable the generation of real-time actionable information from the system to a point of care.\",\n",
      "                \"verdict\": \"yes\",\n",
      "                \"reason\": null\n",
      "            }\n",
      "        ]\n",
      "    },\n",
      "    {\n",
      "        \"verdicts\": [\n",
      "            {\n",
      "                \"statement\": \"In this context, integration and interoperability may improve efficiency, safety and security.\",\n",
      "                \"verdict\": \"yes\",\n",
      "                \"reason\": null\n",
      "            },\n",
      "            {\n",
      "                \"statement\": \"It is anticipated that it will lower the rates of preventable medical errors and signal a significant improvement in quality of patient care.\",\n",
      "                \"verdict\": \"yes\",\n",
      "                \"reason\": null\n",
      "            },\n",
      "            {\n",
      "                \"statement\": \"Remote monitoring at home are factors which compromise patient safety.\",\n",
      "                \"verdict\": \"no\",\n",
      "                \"reason\": \"The statement discusses factors compromising patient safety but does not address how MIoT improves hospital safety.\"\n",
      "            },\n",
      "            {\n",
      "                \"statement\": \"In the absence of appropriate data analysis and synthesis, the ability to produce actionable information relevant to the collective status of the patient must depend on medical professionals to combine the data at the point of care.\",\n",
      "                \"verdict\": \"no\",\n",
      "                \"reason\": \"The statement focuses on the challenges and reliance on medical professionals rather than how MIoT improves hospital safety.\"\n",
      "            }\n",
      "        ]\n",
      "    },\n",
      "    {\n",
      "        \"verdicts\": [\n",
      "            {\n",
      "                \"statement\": \"Mobility of medical devices between different care environments or from patient to patient presents challenges.\",\n",
      "                \"verdict\": \"yes\",\n",
      "                \"reason\": null\n",
      "            },\n",
      "            {\n",
      "                \"statement\": \"While in transit, they must remain secure yet 'open' for 'discovery' by other devices in much the same way that consumer IoT accessories, for example, Amazon Echo Dot, pairs with your smartphone or the laptop when it is in the cone of connectivity.\",\n",
      "                \"verdict\": \"yes\",\n",
      "                \"reason\": null\n",
      "            },\n",
      "            {\n",
      "                \"statement\": \"Once discovered, the devices must self-organize and form the ad hoc mesh network of devices, specific to the patient.\",\n",
      "                \"verdict\": \"yes\",\n",
      "                \"reason\": null\n",
      "            },\n",
      "            {\n",
      "                \"statement\": \"They need to interoperate with, verify and execute safe, authorized and compliant operational profiles.\",\n",
      "                \"verdict\": \"yes\",\n",
      "                \"reason\": null\n",
      "            }\n",
      "        ]\n",
      "    },\n",
      "    {\n",
      "        \"verdicts\": [\n",
      "            {\n",
      "                \"statement\": \"Healthcare-associated infections may benefit from connectivity [Figure 8] and the connectivity as a medical IoT design principle, if used, may save lives.\",\n",
      "                \"verdict\": \"yes\",\n",
      "                \"reason\": null\n",
      "            },\n",
      "            {\n",
      "                \"statement\": \"About 1 in 25 patients gets an infection each year while receiving medical care in the US [116].\",\n",
      "                \"verdict\": \"yes\",\n",
      "                \"reason\": null\n",
      "            },\n",
      "            {\n",
      "                \"statement\": \"Estimated 25,000 deaths per year from about 1 million infections each year from US healthcare at a projected cost of $30 billion per annum.\",\n",
      "                \"verdict\": \"yes\",\n",
      "                \"reason\": null\n",
      "            },\n",
      "            {\n",
      "                \"statement\": \"In addition to logging prescribed antibiotics and their use [117], it may be necessary to track and trace individual hand-washing habits.\",\n",
      "                \"verdict\": \"yes\",\n",
      "                \"reason\": null\n",
      "            }\n",
      "        ]\n",
      "    }\n",
      "]\n",
      " \n",
      "Score: 0.6153846153846154\n",
      "Reason: The score is 0.62 because while statements such as 'deployment of patient-centric and context-aware networked medical systems' and 'heterogeneous devices in each care environment would effectively share data' are relevant to how MIoT improves hospital safety, many other statements discuss unrelated topics like patient behavior, healthcare advertising, and consulting fees, making them irrelevant to the input.\n",
      "\n",
      "======================================================================\n",
      "\n",
      "======================================================================\n",
      "\n",
      "Metrics Summary\n",
      "\n",
      "  - ✅ Contextual Relevancy (score: 0.6153846153846154, threshold: 0.6, strict: False, evaluation model: azure-gpt4o-mini, reason: The score is 0.62 because while statements such as 'deployment of patient-centric and context-aware networked medical systems' and 'heterogeneous devices in each care environment would effectively share data' are relevant to how MIoT improves hospital safety, many other statements discuss unrelated topics like patient behavior, healthcare advertising, and consulting fees, making them irrelevant to the input., error: None)\n",
      "\n",
      "For test case:\n",
      "\n",
      "  - input: How does MIoT improve hospital safety?\n",
      "  - actual output: MIoT improves hospital safety by enabling the deployment of patient-centric and context-aware networked medical systems across various care environments, such as hospital floors, operating rooms, intensive care units, and home care units. It facilitates the efficient, safe, and secure sharing of data among heterogeneous medical devices, minimizing preventable errors often introduced by humans. The ICE standard supports cross-vendor inter-device communications, which can reduce preventable medical errors during patient transfers (e.g., from the Operating Room to Intensive Care Units) and mitigate risks like false alarms or deaths due to Patient-Controlled Analgesia (PCA). Additionally, MIoT enhances integration and interoperability, allowing for real-time actionable information synthesis, improving efficiency, safety, and security. It also addresses challenges related to device mobility, ensuring secure discovery, self-organization, and compliance in forming ad hoc mesh networks specific to patients. Furthermore, MIoT connectivity principles may help reduce healthcare-associated infections by tracking prescribed antibiotics, usage, and hand-washing habits, potentially saving lives and reducing costs.\n",
      "  - expected output: MIoT, or the Medical Internet of Things, enhances hospital safety by enabling real-time monitoring, \n",
      "\f",
      "aster response times, and improved decision-making. Devices like smart sensors, wearables, \n",
      "\u0007nd connected medical equipment continuously track patients' vital signs, \n",
      "\u0007lerting staff to potential issues before they become critical. It also helps reduce human error, \n",
      "\\ensures better compliance with safety protocols, and allows hospitals to manage assets more efficiently, \n",
      "ultimately leading to safer and more responsive patient care environments.\n",
      "  - context: None\n",
      "  - retrieval context: ['Many respected institutions and well-regarded medical professionals advertise their services as a way to inform the public about available healthcare options. Over time, physicians and hospitals have increasingly adopted marketing and public relations strategies to connect with their communities and raise awareness of the care they offer. These approaches, while often useful for improving visibility and accessibility, have also led to a noticeable shift in how healthcare services are presented.', 'tools of operations management, for example, supply chain management, are useful only to a limited extent... These observations, however, have had little impact on the vast cost of consulting fees... Patients who are sick, or worried that they may be sick, generally, are neither capable of understanding their physiological status nor inclined to shop around for bargains... The value of life often far outweighs the consideration of cost... The root of the disequilibrium in healthcare is the heavy, often total, dependence of the patient on the medical practitioner.', 'preventable medical errors and signal a significant improvement in quality of patient care. \\nThe grand challenge of the medical internet of things (MIoT) is to sufficiently enable the \\ndeployment of patient-centric and context-aware networked medical systems in all care \\nenvironments, ranging from hospital floors to operating rooms, intensive care units to \\nhome care units. Heterogeneous devices in each care environment would effectively share \\ndata (efficiently, safely and securely) to minimize preventable errors often introduced by \\nhumans.', 'ICE standard will enable dramatic improvements to patient safety because cross-vendor \\ninter-device communications may significantly reduce preventable medical errors. \\nExamples include patient transfers from the Operating Room (OR) to Intensive Care Units \\n(ICU) and reducing false alarms or deaths due to Patient-Controlled Analgesia (PCA). In \\nboth of these examples, synthesis of data from diverse range of medical devices may enable \\nthe generation of real-time actionable information from the system to a point of care', 'remote monitoring at home) are factors which compromise patient safety. In the absence of \\nappropriate data analysis and synthesis, the ability to produce actionable information \\nrelevant to the collective status of the patient must depend on medical professionals to \\ncombine the data at the point of care. In this context, integration and interoperability may \\nimprove efficiency, safety and security. It is anticipated that it will lower the rates of \\npreventable medical errors and signal a significant improvement in quality of patient care.', 'humans. \\nMobility of medical devices between different care environments or from patient to patient \\npresents challenges. While in transit, they must remain secure yet “open” for “discovery” by \\nother devices in much the same way that consumer IoT accessories, for example, Amazon \\nEcho Dot, pairs with your smartphone or the laptop when it is in the cone of connectivity. \\nOnce discovered, the devices must self-organize and form the ad hoc mesh network of \\ndevices, specific to the patient. They need to interoperate with, verify and execute safe, \\nauthorized and compliant operational profiles.', 'Healthcare-associated infections may benefit from connectivity [Figure 8] and the \\nconnectivity as a medical IoT design principles, if used, may save lives. About 1 in 25 \\npatients gets an infection each year while receiving medical care in the US [116]. Estimated \\n25,000 deaths per year from about 1 million infections each year from US healthcare at a \\nprojected cost of $30 billion per annum. In addition to logging prescribed antibiotics and \\ntheir use [117] it may be necessary to track and trace individual hand-washing habits and']\n",
      "\n",
      "======================================================================\n",
      "\n",
      "Overall Metric Pass Rates\n",
      "\n",
      "Contextual Relevancy: 100.00% pass rate\n",
      "\n",
      "======================================================================\n",
      "\n"
     ]
    },
    {
     "name": "stderr",
     "output_type": "stream",
     "text": [
      "\n"
     ]
    },
    {
     "data": {
      "text/html": [
       "<pre style=\"white-space:pre;overflow-x:auto;line-height:normal;font-family:Menlo,'DejaVu Sans Mono',consolas,'Courier New',monospace\">\n",
       "<span style=\"color: #05f58d; text-decoration-color: #05f58d\">✓</span> Tests finished 🎉! Run <span style=\"color: #008000; text-decoration-color: #008000; font-weight: bold\">'deepeval login'</span> to save and analyze evaluation results on Confident AI.\n",
       " \n",
       "✨👀 Looking for a place for your LLM test data to live 🏡❤️ ? Use <span style=\"color: #6a00ff; text-decoration-color: #6a00ff\">Confident AI</span> to get &amp; share testing reports, \n",
       "experiment with models/prompts, and catch regressions for your LLM system. Just run <span style=\"color: #008080; text-decoration-color: #008080\">'deepeval login'</span> in the CLI. \n",
       "\n",
       "</pre>\n"
      ],
      "text/plain": [
       "\n",
       "\u001b[38;2;5;245;141m✓\u001b[0m Tests finished 🎉! Run \u001b[1;32m'deepeval login'\u001b[0m to save and analyze evaluation results on Confident AI.\n",
       " \n",
       "✨👀 Looking for a place for your LLM test data to live 🏡❤️ ? Use \u001b[38;2;106;0;255mConfident AI\u001b[0m to get & share testing reports, \n",
       "experiment with models/prompts, and catch regressions for your LLM system. Just run \u001b[36m'deepeval login'\u001b[0m in the CLI. \n",
       "\n"
      ]
     },
     "metadata": {},
     "output_type": "display_data"
    }
   ],
   "source": [
    "test_case = LLMTestCase(\n",
    "    input=response['question'],\n",
    "    actual_output=response['AI_generated_response'],\n",
    "    expected_output=human_answer,\n",
    "    retrieval_context=retrieved_context_with_noise\n",
    ")\n",
    "\n",
    "metric = ContextualRelevancyMetric(\n",
    "    threshold=0.6,\n",
    "    model=wrapped_model,\n",
    "    include_reason=True,\n",
    "    verbose_mode=True\n",
    ")\n",
    "\n",
    "result = evaluate([test_case], [metric])"
   ]
  },
  {
   "cell_type": "code",
   "execution_count": 62,
   "metadata": {
    "application/vnd.databricks.v1+cell": {
     "cellMetadata": {
      "byteLimit": 2048000,
      "rowLimit": 10000
     },
     "inputWidgets": {},
     "nuid": "a7f63dbe-a5a2-487c-ac74-5b0ec4ca05ef",
     "showTitle": false,
     "tableResultSettingsMap": {},
     "title": ""
    }
   },
   "outputs": [
    {
     "name": "stdout",
     "output_type": "stream",
     "text": [
      "Sucess: True\n",
      "Score: 0.6153846153846154\n",
      "Reason: The score is 0.62 because while statements such as 'deployment of patient-centric and context-aware networked medical systems' and 'heterogeneous devices in each care environment would effectively share data' are relevant to how MIoT improves hospital safety, many other statements discuss unrelated topics like patient behavior, healthcare advertising, and consulting fees, making them irrelevant to the input.\n"
     ]
    }
   ],
   "source": [
    "print('Sucess:', result.test_results[0].metrics_data[0].success)\n",
    "print('Score:', result.test_results[0].metrics_data[0].score)\n",
    "print('Reason:', result.test_results[0].metrics_data[0].reason)"
   ]
  },
  {
   "cell_type": "markdown",
   "metadata": {
    "application/vnd.databricks.v1+cell": {
     "cellMetadata": {},
     "inputWidgets": {},
     "nuid": "a9fdcac7-01a3-4d0a-a04d-3fb0d123a2da",
     "showTitle": false,
     "tableResultSettingsMap": {},
     "title": ""
    }
   },
   "source": [
    "### Observation: Contextual Relevancy with Noise in Retrieved Chunks\n",
    "\n",
    "The **Contextual Relevancy score was 0.62**, slightly above the threshold of 0.6, indicating a **pass**—but with significant dilution from noisy content.\n",
    "\n",
    "---\n",
    "\n",
    "#### Key Findings:\n",
    "\n",
    "-  **Relevant Content**:\n",
    "  - Strongly aligned chunks discussed MIoT’s impact on hospital safety, such as:\n",
    "    - Real-time data sharing\n",
    "    - Cross-device interoperability (ICE standard)\n",
    "    - Preventable error reduction\n",
    "    - Infection control via connected monitoring\n",
    "\n",
    "-  **Irrelevant Content**:\n",
    "  - Several top-ranked chunks discussed **marketing**, **consulting costs**, and **healthcare economics**, which are unrelated to the query.\n",
    "  - These off-topic chunks **weakened the overall contextual focus** of the retriever output.\n",
    "\n",
    "---\n",
    "\n",
    "####  Why Score Was Pulled Down:\n",
    "Even though highly relevant statements existed (and were correctly identified), the presence of **distracting non-relevant context** caused a reduction in the average score. This is typical when working with **multi-topic documents or mixed-domain sources**.\n",
    "\n",
    "---\n",
    "\n",
    "####  Takeaway:\n",
    "To further improve contextual relevancy:\n",
    "- Apply **semantic reranking** post-retrieval to prioritize topic-focused chunks.\n",
    "- Use **topic filtering** or document segmentation to isolate relevant sub-domains before embedding.\n",
    "- Explore **hierarchical retrieval**, retrieving first by document, then chunk.\n",
    "\n",
    "Despite the noise, this evaluation confirms the retriever successfully surfaced **semantically critical content** to support the answer—but future refinement should aim to suppress unrelated context more effectively.\n"
   ]
  },
  {
   "cell_type": "markdown",
   "metadata": {
    "application/vnd.databricks.v1+cell": {
     "cellMetadata": {},
     "inputWidgets": {},
     "nuid": "b1df2f0d-bee9-4e0d-a71a-9379a38a90f1",
     "showTitle": false,
     "tableResultSettingsMap": {},
     "title": ""
    }
   },
   "source": [
    "### Comparison of Contextual Metrics (With vs. Without Noise)\n",
    "\n",
    "| Metric                | **Without Noise** | **With Noise** |  Impact |\n",
    "|-----------------------|-------------------|----------------|----------------|\n",
    "| **Contextual Precision** | 1.00              | 0.56           | Precision dropped due to top-ranked irrelevant chunks |\n",
    "| **Contextual Recall**    | 1.00              | 0.6            | Lower recall as key concepts were missing or unsupported |\n",
    "| **Contextual Relevancy** | 0.84              | 0.62           | Score barely passed; diluted by unrelated content |\n",
    "\n",
    "---\n",
    "\n",
    "### Insights:\n",
    "\n",
    "- **Without Noise**: All metrics performed strongly—retriever provided focused, aligned, and rich context.\n",
    "- **With Noise**: Metrics degraded due to retrieval of **off-topic** chunks (e.g., marketing, consulting costs).\n",
    "- **Precision** was **most sensitive** to ranking irrelevant content at the top.\n",
    "- **Recall** suffered when critical elements like **\"faster response\"** or **\"protocol compliance\"** weren’t supported.\n",
    "- **Relevancy** dropped slightly but still passed, showing partial alignment despite noise.\n",
    "\n",
    "---\n",
    "\n",
    "### Recommendation:\n",
    "To improve overall performance, use:\n",
    "- **Semantic reranking**\n",
    "- **Content filters**\n",
    "- **Smarter chunking or hybrid retrieval strategies**\n",
    "\n",
    "This ensures **important concepts stay at the top** and **noise is suppressed**, even when dealing with multi-domain PDFs.\n"
   ]
  },
  {
   "cell_type": "markdown",
   "metadata": {
    "application/vnd.databricks.v1+cell": {
     "cellMetadata": {},
     "inputWidgets": {},
     "nuid": "f16562d2-6e45-4e65-8902-18662183470c",
     "showTitle": false,
     "tableResultSettingsMap": {},
     "title": ""
    }
   },
   "source": [
    "# Generator Evaluation Metrics\n",
    "\n",
    "After the retrieval step, the **generation phase** is responsible for producing the final response. This involves:\n",
    "\n",
    "- Creating a prompt by combining the **user’s input** with the **retrieved context**\n",
    "- Passing that prompt to the **LLM**, which then generates the answer\n",
    "\n",
    "To assess the quality of the generated response, we focus on the following key evaluation metrics:\n",
    "\n",
    "- **Answer Relevancy** – How well does the response align with the user’s query?\n",
    "- **Faithfulness** – Is the generated content factually grounded in the retrieved context?\n",
    "- **Hallucination Check** – Does the model introduce unsupported or made-up information?\n",
    "- **Custom LLM as a Judge (G-Eval)** – Uses an LLM to evaluate responses across custom criteria\n",
    "\n",
    "These metrics help ensure that the generated output is not only relevant but also reliable and trustworthy.\n"
   ]
  },
  {
   "cell_type": "markdown",
   "metadata": {
    "application/vnd.databricks.v1+cell": {
     "cellMetadata": {},
     "inputWidgets": {},
     "nuid": "215c89d3-1a6a-4f53-8bf7-7e5d06edfe2a",
     "showTitle": false,
     "tableResultSettingsMap": {},
     "title": ""
    }
   },
   "source": [
    "## LLM-based Answer Relevancy - DeepEval\n",
    "\n",
    "The **Answer Relevancy** metric evaluates how well the **actual output** from your LLM matches the **intent and content** of the original input query.\n",
    "\n",
    "This metric focuses on whether the generated response stays **on-topic** and provides meaningful, query-specific information.\n",
    "\n",
    "`deepeval` uses a **self-explaining LLM-based evaluation**, meaning it not only gives a score but also provides a **reason** for the verdict using an LLM as a judge.\n",
    "\n",
    "### Required Inputs for `AnswerRelevancyMetric` in `deepeval`:\n",
    "\n",
    "- `input`: The user’s query  \n",
    "- `actual_output`: The response generated by your LLM\n",
    "\n",
    "This metric is useful for identifying off-topic or overly generic answers, helping ensure your generated output is truly relevant to the user's question.\n",
    "\n"
   ]
  },
  {
   "cell_type": "markdown",
   "metadata": {
    "application/vnd.databricks.v1+cell": {
     "cellMetadata": {},
     "inputWidgets": {},
     "nuid": "c2e8bba5-ddde-41ed-a366-26e598b6ab59",
     "showTitle": false,
     "tableResultSettingsMap": {},
     "title": ""
    }
   },
   "source": [
    "### Evaluating Answer Relevancy\n",
    "\n",
    "In this step, we evaluate how relevant the LLM's generated response is to the input question.\n",
    "\n",
    "We use `AnswerRelevancyMetric`, which compares the question and the generated answer to see if the response stays on-topic and addresses the query meaningfully.\n",
    "\n",
    "The evaluation returns a score and a reason, helping us understand how well the model aligned its response with the user's intent.\n"
   ]
  },
  {
   "cell_type": "code",
   "execution_count": 86,
   "metadata": {
    "application/vnd.databricks.v1+cell": {
     "cellMetadata": {
      "byteLimit": 2048000,
      "rowLimit": 10000
     },
     "inputWidgets": {},
     "nuid": "888c0025-5ac0-4dce-9400-c051f51c5890",
     "showTitle": false,
     "tableResultSettingsMap": {},
     "title": ""
    },
    "scrolled": true
   },
   "outputs": [
    {
     "data": {
      "text/html": [
       "<pre style=\"white-space:pre;overflow-x:auto;line-height:normal;font-family:Menlo,'DejaVu Sans Mono',consolas,'Courier New',monospace\">✨ You're running DeepEval's latest <span style=\"color: #6a00ff; text-decoration-color: #6a00ff\">Answer Relevancy Metric</span>! <span style=\"color: #374151; text-decoration-color: #374151; font-weight: bold\">(</span><span style=\"color: #374151; text-decoration-color: #374151\">using azure-gpt4o-mini, </span><span style=\"color: #374151; text-decoration-color: #374151\">strict</span><span style=\"color: #374151; text-decoration-color: #374151\">=</span><span style=\"color: #374151; text-decoration-color: #374151; font-style: italic\">False</span><span style=\"color: #374151; text-decoration-color: #374151\">, </span>\n",
       "<span style=\"color: #374151; text-decoration-color: #374151\">async_mode</span><span style=\"color: #374151; text-decoration-color: #374151\">=</span><span style=\"color: #374151; text-decoration-color: #374151; font-style: italic\">True</span><span style=\"color: #374151; text-decoration-color: #374151; font-weight: bold\">)</span><span style=\"color: #374151; text-decoration-color: #374151\">...</span>\n",
       "</pre>\n"
      ],
      "text/plain": [
       "✨ You're running DeepEval's latest \u001b[38;2;106;0;255mAnswer Relevancy Metric\u001b[0m! \u001b[1;38;2;55;65;81m(\u001b[0m\u001b[38;2;55;65;81musing azure-gpt4o-mini, \u001b[0m\u001b[38;2;55;65;81mstrict\u001b[0m\u001b[38;2;55;65;81m=\u001b[0m\u001b[3;38;2;55;65;81mFalse\u001b[0m\u001b[38;2;55;65;81m, \u001b[0m\n",
       "\u001b[38;2;55;65;81masync_mode\u001b[0m\u001b[38;2;55;65;81m=\u001b[0m\u001b[3;38;2;55;65;81mTrue\u001b[0m\u001b[1;38;2;55;65;81m)\u001b[0m\u001b[38;2;55;65;81m...\u001b[0m\n"
      ]
     },
     "metadata": {},
     "output_type": "display_data"
    },
    {
     "name": "stdout",
     "output_type": "stream",
     "text": [
      "Event loop is already running. Applying nest_asyncio patch to allow async execution...\n"
     ]
    },
    {
     "name": "stderr",
     "output_type": "stream",
     "text": [
      "Evaluating 1 test case(s) in parallel: |██████████████████████████████|100% (1/1) [Time Taken: 00:09,  9.00s/test case]"
     ]
    },
    {
     "name": "stdout",
     "output_type": "stream",
     "text": [
      "**************************************************\n",
      "Answer Relevancy Verbose Logs\n",
      "**************************************************\n",
      "\n",
      "Statements:\n",
      "[\n",
      "    \"MIoT improves hospital safety.\",\n",
      "    \"It enables the deployment of patient-centric and context-aware networked medical systems across various care environments.\",\n",
      "    \"Care environments include hospital floors, operating rooms, intensive care units, and home care units.\",\n",
      "    \"MIoT facilitates the efficient, safe, and secure sharing of data among heterogeneous medical devices.\",\n",
      "    \"It minimizes preventable errors often introduced by humans.\",\n",
      "    \"The ICE standard supports cross-vendor inter-device communications.\",\n",
      "    \"Cross-vendor inter-device communications can reduce preventable medical errors during patient transfers.\",\n",
      "    \"Patient transfers include movements such as from the Operating Room to Intensive Care Units.\",\n",
      "    \"The ICE standard can mitigate risks like false alarms.\",\n",
      "    \"The ICE standard can mitigate risks like deaths due to Patient-Controlled Analgesia (PCA).\",\n",
      "    \"MIoT enhances integration and interoperability.\",\n",
      "    \"Integration and interoperability allow for real-time actionable information synthesis.\",\n",
      "    \"Real-time actionable information synthesis improves efficiency, safety, and security.\",\n",
      "    \"MIoT addresses challenges related to device mobility.\",\n",
      "    \"It ensures secure discovery, self-organization, and compliance in forming ad hoc mesh networks specific to patients.\",\n",
      "    \"MIoT connectivity principles may help reduce healthcare-associated infections.\",\n",
      "    \"It may help by tracking prescribed antibiotics, usage, and hand-washing habits.\",\n",
      "    \"MIoT may potentially save lives.\",\n",
      "    \"MIoT may reduce costs.\"\n",
      "] \n",
      " \n",
      "Verdicts:\n",
      "[\n",
      "    {\n",
      "        \"verdict\": \"yes\",\n",
      "        \"reason\": null\n",
      "    },\n",
      "    {\n",
      "        \"verdict\": \"yes\",\n",
      "        \"reason\": null\n",
      "    },\n",
      "    {\n",
      "        \"verdict\": \"idk\",\n",
      "        \"reason\": null\n",
      "    },\n",
      "    {\n",
      "        \"verdict\": \"yes\",\n",
      "        \"reason\": null\n",
      "    },\n",
      "    {\n",
      "        \"verdict\": \"yes\",\n",
      "        \"reason\": null\n",
      "    },\n",
      "    {\n",
      "        \"verdict\": \"idk\",\n",
      "        \"reason\": null\n",
      "    },\n",
      "    {\n",
      "        \"verdict\": \"idk\",\n",
      "        \"reason\": null\n",
      "    },\n",
      "    {\n",
      "        \"verdict\": \"no\",\n",
      "        \"reason\": \"While patient transfers are mentioned in relation to errors, this specific statement does not directly describe how MIoT improves hospital safety.\"\n",
      "    },\n",
      "    {\n",
      "        \"verdict\": \"idk\",\n",
      "        \"reason\": null\n",
      "    },\n",
      "    {\n",
      "        \"verdict\": \"idk\",\n",
      "        \"reason\": null\n",
      "    },\n",
      "    {\n",
      "        \"verdict\": \"yes\",\n",
      "        \"reason\": null\n",
      "    },\n",
      "    {\n",
      "        \"verdict\": \"yes\",\n",
      "        \"reason\": null\n",
      "    },\n",
      "    {\n",
      "        \"verdict\": \"yes\",\n",
      "        \"reason\": null\n",
      "    },\n",
      "    {\n",
      "        \"verdict\": \"yes\",\n",
      "        \"reason\": null\n",
      "    },\n",
      "    {\n",
      "        \"verdict\": \"yes\",\n",
      "        \"reason\": null\n",
      "    },\n",
      "    {\n",
      "        \"verdict\": \"yes\",\n",
      "        \"reason\": null\n",
      "    },\n",
      "    {\n",
      "        \"verdict\": \"yes\",\n",
      "        \"reason\": null\n",
      "    },\n",
      "    {\n",
      "        \"verdict\": \"idk\",\n",
      "        \"reason\": null\n",
      "    },\n",
      "    {\n",
      "        \"verdict\": \"idk\",\n",
      "        \"reason\": null\n",
      "    }\n",
      "]\n",
      " \n",
      "Score: 0.9473684210526315\n",
      "Reason: The score is 0.95 because the answer is highly relevant and addresses the question effectively, though one statement about patient transfers doesn't directly tie back to how MIoT improves hospital safety.\n",
      "\n",
      "======================================================================\n",
      "\n",
      "======================================================================\n",
      "\n",
      "Metrics Summary\n",
      "\n",
      "  - ✅ Answer Relevancy (score: 0.9473684210526315, threshold: 0.6, strict: False, evaluation model: azure-gpt4o-mini, reason: The score is 0.95 because the answer is highly relevant and addresses the question effectively, though one statement about patient transfers doesn't directly tie back to how MIoT improves hospital safety., error: None)\n",
      "\n",
      "For test case:\n",
      "\n",
      "  - input: How does MIoT improve hospital safety?\n",
      "  - actual output: MIoT improves hospital safety by enabling the deployment of patient-centric and context-aware networked medical systems across various care environments, such as hospital floors, operating rooms, intensive care units, and home care units. It facilitates the efficient, safe, and secure sharing of data among heterogeneous medical devices, minimizing preventable errors often introduced by humans. The ICE standard supports cross-vendor inter-device communications, which can reduce preventable medical errors during patient transfers (e.g., from the Operating Room to Intensive Care Units) and mitigate risks like false alarms or deaths due to Patient-Controlled Analgesia (PCA). Additionally, MIoT enhances integration and interoperability, allowing for real-time actionable information synthesis, improving efficiency, safety, and security. It also addresses challenges related to device mobility, ensuring secure discovery, self-organization, and compliance in forming ad hoc mesh networks specific to patients. Furthermore, MIoT connectivity principles may help reduce healthcare-associated infections by tracking prescribed antibiotics, usage, and hand-washing habits, potentially saving lives and reducing costs.\n",
      "  - expected output: None\n",
      "  - context: None\n",
      "  - retrieval context: None\n",
      "\n",
      "======================================================================\n",
      "\n",
      "Overall Metric Pass Rates\n",
      "\n",
      "Answer Relevancy: 100.00% pass rate\n",
      "\n",
      "======================================================================\n",
      "\n"
     ]
    },
    {
     "name": "stderr",
     "output_type": "stream",
     "text": [
      "\n"
     ]
    },
    {
     "data": {
      "text/html": [
       "<pre style=\"white-space:pre;overflow-x:auto;line-height:normal;font-family:Menlo,'DejaVu Sans Mono',consolas,'Courier New',monospace\">\n",
       "<span style=\"color: #05f58d; text-decoration-color: #05f58d\">✓</span> Tests finished 🎉! Run <span style=\"color: #008000; text-decoration-color: #008000; font-weight: bold\">'deepeval login'</span> to save and analyze evaluation results on Confident AI.\n",
       " \n",
       "✨👀 Looking for a place for your LLM test data to live 🏡❤️ ? Use <span style=\"color: #6a00ff; text-decoration-color: #6a00ff\">Confident AI</span> to get &amp; share testing reports, \n",
       "experiment with models/prompts, and catch regressions for your LLM system. Just run <span style=\"color: #008080; text-decoration-color: #008080\">'deepeval login'</span> in the CLI. \n",
       "\n",
       "</pre>\n"
      ],
      "text/plain": [
       "\n",
       "\u001b[38;2;5;245;141m✓\u001b[0m Tests finished 🎉! Run \u001b[1;32m'deepeval login'\u001b[0m to save and analyze evaluation results on Confident AI.\n",
       " \n",
       "✨👀 Looking for a place for your LLM test data to live 🏡❤️ ? Use \u001b[38;2;106;0;255mConfident AI\u001b[0m to get & share testing reports, \n",
       "experiment with models/prompts, and catch regressions for your LLM system. Just run \u001b[36m'deepeval login'\u001b[0m in the CLI. \n",
       "\n"
      ]
     },
     "metadata": {},
     "output_type": "display_data"
    }
   ],
   "source": [
    "test_case = LLMTestCase(\n",
    "    input=response['question'],\n",
    "    actual_output=response['AI_generated_response'],\n",
    ")\n",
    "\n",
    "metric = AnswerRelevancyMetric(\n",
    "    threshold=0.6,\n",
    "    model=wrapped_model,\n",
    "    include_reason=True,\n",
    "    verbose_mode=True\n",
    ")\n",
    "\n",
    "result = evaluate([test_case], [metric])"
   ]
  },
  {
   "cell_type": "code",
   "execution_count": 87,
   "metadata": {
    "application/vnd.databricks.v1+cell": {
     "cellMetadata": {
      "byteLimit": 2048000,
      "rowLimit": 10000
     },
     "inputWidgets": {},
     "nuid": "dba739e8-c45d-4f1e-8794-665100a794fd",
     "showTitle": false,
     "tableResultSettingsMap": {},
     "title": ""
    },
    "scrolled": true
   },
   "outputs": [
    {
     "name": "stdout",
     "output_type": "stream",
     "text": [
      "Sucess: True\n",
      "Score: 0.9473684210526315\n",
      "Reason: The score is 0.95 because the answer is highly relevant and addresses the question effectively, though one statement about patient transfers doesn't directly tie back to how MIoT improves hospital safety.\n"
     ]
    }
   ],
   "source": [
    "print('Sucess:', result.test_results[0].metrics_data[0].success)\n",
    "print('Score:', result.test_results[0].metrics_data[0].score)\n",
    "print('Reason:', result.test_results[0].metrics_data[0].reason)"
   ]
  },
  {
   "cell_type": "markdown",
   "metadata": {
    "application/vnd.databricks.v1+cell": {
     "cellMetadata": {},
     "inputWidgets": {},
     "nuid": "5d43d321-14d6-4202-9856-b3a3ca6bc354",
     "showTitle": false,
     "tableResultSettingsMap": {},
     "title": ""
    }
   },
   "source": [
    "### Observation: \n",
    "\n",
    "The **Answer Relevancy** score was **0.95**, which is **well above the 0.6 threshold**, resulting in a **successful pass**.\n",
    "\n",
    "**What went well?**  \n",
    "The generated response stayed highly focused on the input question: *“How does MIoT improve hospital safety?”*  \n",
    "It covered key aspects like **reducing preventable errors**, **real-time data sharing**, **device interoperability**, and **infection prevention**.\n",
    "\n",
    "**Minor issue:**  \n",
    "One part briefly described the **ICE standard** without clearly linking it back to hospital safety, which slightly affected the score—but not enough to fail.\n",
    "\n",
    "**Key takeaway:**  \n",
    "The response was **on-topic, informative, and aligned** with the user's query. This confirms that the generation step effectively used the retrieved context to produce a relevant and meaningful answer.\n"
   ]
  },
  {
   "cell_type": "markdown",
   "metadata": {
    "application/vnd.databricks.v1+cell": {
     "cellMetadata": {},
     "inputWidgets": {},
     "nuid": "2e6a87b4-74b0-46fb-a745-798bf99951ba",
     "showTitle": false,
     "tableResultSettingsMap": {},
     "title": ""
    }
   },
   "source": [
    "## Faithfulness\n",
    "\n",
    "The **faithfulness** metric evaluates whether the LLM's generated response (**actual_output**) is **factually consistent** with the information found in the **retrieved context**.\n",
    "\n",
    "It helps detect whether the model has introduced **hallucinations**—claims that are not grounded in the source material.\n",
    "\n",
    "`deepeval` uses a **self-explaining LLM-based evaluation**, meaning it not only provides a score but also includes a rationale for how the score was determined.\n",
    "\n",
    "### Required Inputs for `FaithfulnessMetric` in `deepeval`:\n",
    "\n",
    "- `input`: The original user query (not used in this metric)  \n",
    "- `actual_output`: The response generated by your LLM  \n",
    "- `retrieval_context`: The top-N document chunks retrieved from your vector store\n",
    "\n",
    "This metric is essential for ensuring that generated answers stay **fact-based** and **trustworthy**, especially in high-stakes domains like healthcare.\n",
    "\n",
    "\n"
   ]
  },
  {
   "cell_type": "code",
   "execution_count": 65,
   "metadata": {
    "application/vnd.databricks.v1+cell": {
     "cellMetadata": {
      "byteLimit": 2048000,
      "rowLimit": 10000
     },
     "inputWidgets": {},
     "nuid": "791b9723-316f-4ff0-b913-825130304d37",
     "showTitle": false,
     "tableResultSettingsMap": {},
     "title": ""
    },
    "scrolled": true
   },
   "outputs": [
    {
     "data": {
      "text/html": [
       "<pre style=\"white-space:pre;overflow-x:auto;line-height:normal;font-family:Menlo,'DejaVu Sans Mono',consolas,'Courier New',monospace\">✨ You're running DeepEval's latest <span style=\"color: #6a00ff; text-decoration-color: #6a00ff\">Faithfulness Metric</span>! <span style=\"color: #374151; text-decoration-color: #374151; font-weight: bold\">(</span><span style=\"color: #374151; text-decoration-color: #374151\">using azure-gpt4o-mini, </span><span style=\"color: #374151; text-decoration-color: #374151\">strict</span><span style=\"color: #374151; text-decoration-color: #374151\">=</span><span style=\"color: #374151; text-decoration-color: #374151; font-style: italic\">False</span><span style=\"color: #374151; text-decoration-color: #374151\">, </span><span style=\"color: #374151; text-decoration-color: #374151\">async_mode</span><span style=\"color: #374151; text-decoration-color: #374151\">=</span><span style=\"color: #374151; text-decoration-color: #374151; font-style: italic\">True</span><span style=\"color: #374151; text-decoration-color: #374151; font-weight: bold\">)</span><span style=\"color: #374151; text-decoration-color: #374151\">...</span>\n",
       "</pre>\n"
      ],
      "text/plain": [
       "✨ You're running DeepEval's latest \u001b[38;2;106;0;255mFaithfulness Metric\u001b[0m! \u001b[1;38;2;55;65;81m(\u001b[0m\u001b[38;2;55;65;81musing azure-gpt4o-mini, \u001b[0m\u001b[38;2;55;65;81mstrict\u001b[0m\u001b[38;2;55;65;81m=\u001b[0m\u001b[3;38;2;55;65;81mFalse\u001b[0m\u001b[38;2;55;65;81m, \u001b[0m\u001b[38;2;55;65;81masync_mode\u001b[0m\u001b[38;2;55;65;81m=\u001b[0m\u001b[3;38;2;55;65;81mTrue\u001b[0m\u001b[1;38;2;55;65;81m)\u001b[0m\u001b[38;2;55;65;81m...\u001b[0m\n"
      ]
     },
     "metadata": {},
     "output_type": "display_data"
    },
    {
     "name": "stdout",
     "output_type": "stream",
     "text": [
      "Event loop is already running. Applying nest_asyncio patch to allow async execution...\n"
     ]
    },
    {
     "name": "stderr",
     "output_type": "stream",
     "text": [
      "Evaluating 1 test case(s) in parallel: |██████████████████████████████|100% (1/1) [Time Taken: 00:10, 10.27s/test case]"
     ]
    },
    {
     "name": "stdout",
     "output_type": "stream",
     "text": [
      "**************************************************\n",
      "Faithfulness Verbose Logs\n",
      "**************************************************\n",
      "\n",
      "Truths (limit=None):\n",
      "[\n",
      "    \"Preventable medical errors signal a significant improvement in quality of patient care.\",\n",
      "    \"The grand challenge of the medical internet of things (MIoT) is to enable the deployment of patient-centric and context-aware networked medical systems in all care environments.\",\n",
      "    \"Care environments include hospital floors, operating rooms, intensive care units, and home care units.\",\n",
      "    \"Heterogeneous devices in each care environment would share data to minimize preventable errors caused by humans.\",\n",
      "    \"ICE standard may enable dramatic improvements to patient safety.\",\n",
      "    \"Cross-vendor inter-device communications may significantly reduce preventable medical errors.\",\n",
      "    \"Examples of preventable errors include patient transfers from the Operating Room (OR) to Intensive Care Units (ICU) and reducing false alarms or deaths due to Patient-Controlled Analgesia (PCA).\",\n",
      "    \"Synthesis of data from a diverse range of medical devices may generate real-time actionable information for the point of care.\",\n",
      "    \"Remote monitoring at home compromises patient safety when there is inadequate data analysis and synthesis.\",\n",
      "    \"Integration and interoperability in medical systems could improve efficiency, safety, and security.\",\n",
      "    \"Integration and interoperability may lower rates of preventable medical errors and improve patient care quality.\",\n",
      "    \"Medical device mobility between different care environments presents challenges due to security and connectivity needs.\",\n",
      "    \"During transit, medical devices must remain secure yet open for discovery by other devices.\",\n",
      "    \"Medical devices in transit need to self-organize and form an ad hoc mesh network specific to the patient.\",\n",
      "    \"The ad hoc mesh network of medical devices must interoperate, verify, and execute safe, authorized, and compliant operational profiles.\",\n",
      "    \"About 1 in 25 patients in the US gets a healthcare-associated infection each year while receiving medical care.\",\n",
      "    \"Estimated 25,000 deaths per year occur in the US due to 1 million healthcare-associated infections.\",\n",
      "    \"US healthcare-associated infections cost approximately $30 billion per annum.\",\n",
      "    \"Connectivity in medical IoT design principles may help save lives.\",\n",
      "    \"Healthcare-associated infections may benefit from connectivity.\",\n",
      "    \"Medical systems may need to track prescribed antibiotics and their usage.\",\n",
      "    \"It may be necessary to track and trace individual hand-washing habits.\"\n",
      "] \n",
      " \n",
      "Claims:\n",
      "[\n",
      "    \"MIoT improves hospital safety by enabling the deployment of patient-centric and context-aware networked medical systems across various care environments, such as hospital floors, operating rooms, intensive care units, and home care units.\",\n",
      "    \"MIoT facilitates the efficient, safe, and secure sharing of data among heterogeneous medical devices, minimizing preventable errors often introduced by humans.\",\n",
      "    \"The ICE standard supports cross-vendor inter-device communications, which can reduce preventable medical errors during patient transfers, such as from the Operating Room to Intensive Care Units.\",\n",
      "    \"The ICE standard mitigates risks like false alarms or deaths due to Patient-Controlled Analgesia (PCA).\",\n",
      "    \"MIoT enhances integration and interoperability, allowing for real-time actionable information synthesis, improving efficiency, safety, and security.\",\n",
      "    \"MIoT addresses challenges related to device mobility, ensuring secure discovery, self-organization, and compliance in forming ad hoc mesh networks specific to patients.\",\n",
      "    \"MIoT connectivity principles may help reduce healthcare-associated infections by tracking prescribed antibiotics, usage, and hand-washing habits.\",\n",
      "    \"MIoT connectivity principles have the potential to save lives and reduce costs.\"\n",
      "] \n",
      " \n",
      "Verdicts:\n",
      "[\n",
      "    {\n",
      "        \"verdict\": \"yes\",\n",
      "        \"reason\": null\n",
      "    },\n",
      "    {\n",
      "        \"verdict\": \"yes\",\n",
      "        \"reason\": null\n",
      "    },\n",
      "    {\n",
      "        \"verdict\": \"yes\",\n",
      "        \"reason\": null\n",
      "    },\n",
      "    {\n",
      "        \"verdict\": \"yes\",\n",
      "        \"reason\": null\n",
      "    },\n",
      "    {\n",
      "        \"verdict\": \"yes\",\n",
      "        \"reason\": null\n",
      "    },\n",
      "    {\n",
      "        \"verdict\": \"yes\",\n",
      "        \"reason\": null\n",
      "    },\n",
      "    {\n",
      "        \"verdict\": \"idk\",\n",
      "        \"reason\": null\n",
      "    },\n",
      "    {\n",
      "        \"verdict\": \"idk\",\n",
      "        \"reason\": null\n",
      "    }\n",
      "]\n",
      " \n",
      "Score: 1.0\n",
      "Reason: The score is 1.00 because there are no contradictions, indicating the actual output aligns perfectly with the retrieval context. Great job!\n",
      "\n",
      "======================================================================\n",
      "\n",
      "======================================================================\n",
      "\n",
      "Metrics Summary\n",
      "\n",
      "  - ✅ Faithfulness (score: 1.0, threshold: 0.6, strict: False, evaluation model: azure-gpt4o-mini, reason: The score is 1.00 because there are no contradictions, indicating the actual output aligns perfectly with the retrieval context. Great job!, error: None)\n",
      "\n",
      "For test case:\n",
      "\n",
      "  - input: How does MIoT improve hospital safety?\n",
      "  - actual output: MIoT improves hospital safety by enabling the deployment of patient-centric and context-aware networked medical systems across various care environments, such as hospital floors, operating rooms, intensive care units, and home care units. It facilitates the efficient, safe, and secure sharing of data among heterogeneous medical devices, minimizing preventable errors often introduced by humans. The ICE standard supports cross-vendor inter-device communications, which can reduce preventable medical errors during patient transfers (e.g., from the Operating Room to Intensive Care Units) and mitigate risks like false alarms or deaths due to Patient-Controlled Analgesia (PCA). Additionally, MIoT enhances integration and interoperability, allowing for real-time actionable information synthesis, improving efficiency, safety, and security. It also addresses challenges related to device mobility, ensuring secure discovery, self-organization, and compliance in forming ad hoc mesh networks specific to patients. Furthermore, MIoT connectivity principles may help reduce healthcare-associated infections by tracking prescribed antibiotics, usage, and hand-washing habits, potentially saving lives and reducing costs.\n",
      "  - expected output: None\n",
      "  - context: None\n",
      "  - retrieval context: ['preventable medical errors and signal a significant improvement in quality of patient care. \\nThe grand challenge of the medical internet of things (MIoT) is to sufficiently enable the \\ndeployment of patient-centric and context-aware networked medical systems in all care \\nenvironments, ranging from hospital floors to operating rooms, intensive care units to \\nhome care units. Heterogeneous devices in each care environment would effectively share \\ndata (efficiently, safely and securely) to minimize preventable errors often introduced by \\nhumans.', 'ICE standard will enable dramatic improvements to patient safety because cross-vendor \\ninter-device communications may significantly reduce preventable medical errors. \\nExamples include patient transfers from the Operating Room (OR) to Intensive Care Units \\n(ICU) and reducing false alarms or deaths due to Patient-Controlled Analgesia (PCA). In \\nboth of these examples, synthesis of data from diverse range of medical devices may enable \\nthe generation of real-time actionable information from the system to a point of care', 'remote monitoring at home) are factors which compromise patient safety. In the absence of \\nappropriate data analysis and synthesis, the ability to produce actionable information \\nrelevant to the collective status of the patient must depend on medical professionals to \\ncombine the data at the point of care. In this context, integration and interoperability may \\nimprove efficiency, safety and security. It is anticipated that it will lower the rates of \\npreventable medical errors and signal a significant improvement in quality of patient care.', 'humans. \\nMobility of medical devices between different care environments or from patient to patient \\npresents challenges. While in transit, they must remain secure yet “open” for “discovery” by \\nother devices in much the same way that consumer IoT accessories, for example, Amazon \\nEcho Dot, pairs with your smartphone or the laptop when it is in the cone of connectivity. \\nOnce discovered, the devices must self-organize and form the ad hoc mesh network of \\ndevices, specific to the patient. They need to interoperate with, verify and execute safe, \\nauthorized and compliant operational profiles.', 'Healthcare-associated infections may benefit from connectivity [Figure 8] and the \\nconnectivity as a medical IoT design principles, if used, may save lives. About 1 in 25 \\npatients gets an infection each year while receiving medical care in the US [116]. Estimated \\n25,000 deaths per year from about 1 million infections each year from US healthcare at a \\nprojected cost of $30 billion per annum. In addition to logging prescribed antibiotics and \\ntheir use [117] it may be necessary to track and trace individual hand-washing habits and']\n",
      "\n",
      "======================================================================\n",
      "\n",
      "Overall Metric Pass Rates\n",
      "\n",
      "Faithfulness: 100.00% pass rate\n",
      "\n",
      "======================================================================\n",
      "\n"
     ]
    },
    {
     "name": "stderr",
     "output_type": "stream",
     "text": [
      "\n"
     ]
    },
    {
     "data": {
      "text/html": [
       "<pre style=\"white-space:pre;overflow-x:auto;line-height:normal;font-family:Menlo,'DejaVu Sans Mono',consolas,'Courier New',monospace\">\n",
       "<span style=\"color: #05f58d; text-decoration-color: #05f58d\">✓</span> Tests finished 🎉! Run <span style=\"color: #008000; text-decoration-color: #008000; font-weight: bold\">'deepeval login'</span> to save and analyze evaluation results on Confident AI.\n",
       " \n",
       "✨👀 Looking for a place for your LLM test data to live 🏡❤️ ? Use <span style=\"color: #6a00ff; text-decoration-color: #6a00ff\">Confident AI</span> to get &amp; share testing reports, \n",
       "experiment with models/prompts, and catch regressions for your LLM system. Just run <span style=\"color: #008080; text-decoration-color: #008080\">'deepeval login'</span> in the CLI. \n",
       "\n",
       "</pre>\n"
      ],
      "text/plain": [
       "\n",
       "\u001b[38;2;5;245;141m✓\u001b[0m Tests finished 🎉! Run \u001b[1;32m'deepeval login'\u001b[0m to save and analyze evaluation results on Confident AI.\n",
       " \n",
       "✨👀 Looking for a place for your LLM test data to live 🏡❤️ ? Use \u001b[38;2;106;0;255mConfident AI\u001b[0m to get & share testing reports, \n",
       "experiment with models/prompts, and catch regressions for your LLM system. Just run \u001b[36m'deepeval login'\u001b[0m in the CLI. \n",
       "\n"
      ]
     },
     "metadata": {},
     "output_type": "display_data"
    }
   ],
   "source": [
    "test_case = LLMTestCase(\n",
    "    input=response['question'],\n",
    "    actual_output=response['AI_generated_response'],\n",
    "    retrieval_context=retrieved_context\n",
    ")\n",
    "\n",
    "metric = FaithfulnessMetric(\n",
    "    threshold=0.6,\n",
    "    model=wrapped_model,\n",
    "    include_reason=True,\n",
    "    verbose_mode=True\n",
    ")\n",
    "\n",
    "result = evaluate([test_case], [metric])"
   ]
  },
  {
   "cell_type": "code",
   "execution_count": 66,
   "metadata": {
    "application/vnd.databricks.v1+cell": {
     "cellMetadata": {
      "byteLimit": 2048000,
      "rowLimit": 10000
     },
     "inputWidgets": {},
     "nuid": "7627ff63-1e6a-4b25-bcc8-576a0a1ec544",
     "showTitle": false,
     "tableResultSettingsMap": {},
     "title": ""
    }
   },
   "outputs": [
    {
     "name": "stdout",
     "output_type": "stream",
     "text": [
      "Sucess: True\n",
      "Score: 1.0\n",
      "Reason: The score is 1.00 because there are no contradictions, indicating the actual output aligns perfectly with the retrieval context. Great job!\n"
     ]
    }
   ],
   "source": [
    "print('Sucess:', result.test_results[0].metrics_data[0].success)\n",
    "print('Score:', result.test_results[0].metrics_data[0].score)\n",
    "print('Reason:', result.test_results[0].metrics_data[0].reason)"
   ]
  },
  {
   "cell_type": "markdown",
   "metadata": {
    "application/vnd.databricks.v1+cell": {
     "cellMetadata": {},
     "inputWidgets": {},
     "nuid": "1f8a2f24-d733-455b-aba5-2aad16e8b3d2",
     "showTitle": false,
     "tableResultSettingsMap": {},
     "title": ""
    }
   },
   "source": [
    "### Observation: \n",
    "\n",
    "The **Faithfulness** test achieved a **perfect score of 1.00** , meaning the LLM's response is **entirely grounded** in the retrieved context.\n",
    "\n",
    "**What went well?**  \n",
    "Every major claim in the response—such as reducing preventable errors, enabling real-time data sharing, and supporting interoperability—was fully supported by the documents.  \n",
    "No contradictions or hallucinated facts were found. One minor claim about tracking hand-washing habits received an “idk” (uncertain), but it did not affect the perfect score.\n",
    "\n",
    "---\n",
    "\n",
    "### Compared to Answer Relevancy\n",
    "\n",
    "- **Faithfulness Score:** 1.00   \n",
    "- **Answer Relevancy Score:** 0.95 \n",
    "\n",
    "**Key difference:**  \n",
    "- **Relevancy** measured how well the response answered the *question* (a few parts were slightly off-topic).\n",
    "- **Faithfulness** checked whether the answer stuck to the *retrieved context* (and it did, perfectly).\n",
    "\n",
    "**Takeaway:**  \n",
    "The LLM generated an answer that was both **relevant to the question** and **factually aligned** with the retrieved content—making it a **strong, reliable response**.\n"
   ]
  },
  {
   "cell_type": "markdown",
   "metadata": {
    "application/vnd.databricks.v1+cell": {
     "cellMetadata": {},
     "inputWidgets": {},
     "nuid": "5f3abefd-6a78-4a26-a624-5f194a1e05fd",
     "showTitle": false,
     "tableResultSettingsMap": {},
     "title": ""
    }
   },
   "source": [
    "## Hallucination Check\n",
    "\n",
    "The **hallucination** metric checks whether the LLM generates any **factually incorrect or unsupported information** in its response.\n",
    "\n",
    "It does this by comparing the `actual_output` to a **human-verified ground truth context**, rather than relying on retrieved documents.\n",
    "\n",
    "`deepeval` uses a **self-explaining LLM evaluation**, meaning the model provides both a score and a reason for its judgment.\n",
    "\n",
    "### Required Inputs for `HallucinationMetric` in `deepeval`:\n",
    "\n",
    "- `input`: The original user query (not used in the scoring)  \n",
    "- `actual_output`: The response generated by the LLM  \n",
    "- `context`: Human-verified ground truth chunks used for factual reference\n",
    "\n",
    "This metric is especially important for identifying **hallucinations**, or fabricated details, which can undermine trust and accuracy in high-stakes applications.\n",
    "\n"
   ]
  },
  {
   "cell_type": "code",
   "execution_count": 122,
   "metadata": {},
   "outputs": [
    {
     "name": "stdout",
     "output_type": "stream",
     "text": [
      "The Medical Internet of Things (MIoT) is improving hospital safety by enabling better coordination among medical devices across various care settings—like hospital wards, operating rooms, ICUs, and even home care. It allows secure and efficient data sharing between different devices, reducing the risk of human error. For example, the ICE (Integrated Clinical Environment) standard supports communication between devices from different vendors, which is especially useful during patient transfers, helping prevent issues like false alarms or dosing errors with systems such as Patient-Controlled Analgesia (PCA).\n",
      "\n",
      "MIoT also enhances real-time decision-making by integrating data from multiple sources, boosting safety, efficiency, and security. It supports mobile medical devices by enabling secure, compliant, self-organizing networks tailored to individual patients. Beyond direct care, MIoT can help reduce hospital-acquired infections by tracking antibiotic use and monitoring hand hygiene, ultimately saving lives and cutting healthcare costs.\n"
     ]
    }
   ],
   "source": [
    "print(human_answer)"
   ]
  },
  {
   "cell_type": "code",
   "execution_count": 94,
   "metadata": {
    "application/vnd.databricks.v1+cell": {
     "cellMetadata": {
      "byteLimit": 2048000,
      "rowLimit": 10000
     },
     "inputWidgets": {},
     "nuid": "6baf6f4d-68fc-4112-99e4-453162ca27cb",
     "showTitle": false,
     "tableResultSettingsMap": {},
     "title": ""
    },
    "scrolled": true
   },
   "outputs": [
    {
     "data": {
      "text/html": [
       "<pre style=\"white-space:pre;overflow-x:auto;line-height:normal;font-family:Menlo,'DejaVu Sans Mono',consolas,'Courier New',monospace\">✨ You're running DeepEval's latest <span style=\"color: #6a00ff; text-decoration-color: #6a00ff\">Hallucination Metric</span>! <span style=\"color: #374151; text-decoration-color: #374151; font-weight: bold\">(</span><span style=\"color: #374151; text-decoration-color: #374151\">using azure-gpt4o-mini, </span><span style=\"color: #374151; text-decoration-color: #374151\">strict</span><span style=\"color: #374151; text-decoration-color: #374151\">=</span><span style=\"color: #374151; text-decoration-color: #374151; font-style: italic\">False</span><span style=\"color: #374151; text-decoration-color: #374151\">, </span>\n",
       "<span style=\"color: #374151; text-decoration-color: #374151\">async_mode</span><span style=\"color: #374151; text-decoration-color: #374151\">=</span><span style=\"color: #374151; text-decoration-color: #374151; font-style: italic\">True</span><span style=\"color: #374151; text-decoration-color: #374151; font-weight: bold\">)</span><span style=\"color: #374151; text-decoration-color: #374151\">...</span>\n",
       "</pre>\n"
      ],
      "text/plain": [
       "✨ You're running DeepEval's latest \u001b[38;2;106;0;255mHallucination Metric\u001b[0m! \u001b[1;38;2;55;65;81m(\u001b[0m\u001b[38;2;55;65;81musing azure-gpt4o-mini, \u001b[0m\u001b[38;2;55;65;81mstrict\u001b[0m\u001b[38;2;55;65;81m=\u001b[0m\u001b[3;38;2;55;65;81mFalse\u001b[0m\u001b[38;2;55;65;81m, \u001b[0m\n",
       "\u001b[38;2;55;65;81masync_mode\u001b[0m\u001b[38;2;55;65;81m=\u001b[0m\u001b[3;38;2;55;65;81mTrue\u001b[0m\u001b[1;38;2;55;65;81m)\u001b[0m\u001b[38;2;55;65;81m...\u001b[0m\n"
      ]
     },
     "metadata": {},
     "output_type": "display_data"
    },
    {
     "name": "stdout",
     "output_type": "stream",
     "text": [
      "Event loop is already running. Applying nest_asyncio patch to allow async execution...\n"
     ]
    },
    {
     "name": "stderr",
     "output_type": "stream",
     "text": [
      "Evaluating 1 test case(s) in parallel: |██████████████████████████████|100% (1/1) [Time Taken: 00:03,  3.46s/test case]"
     ]
    },
    {
     "name": "stdout",
     "output_type": "stream",
     "text": [
      "**************************************************\n",
      "Hallucination Verbose Logs\n",
      "**************************************************\n",
      "\n",
      "Verdicts:\n",
      "[\n",
      "    {\n",
      "        \"verdict\": \"yes\",\n",
      "        \"reason\": \"The actual output aligns with the context, describing how MIoT improves hospital safety by enhancing inter-device communication, reducing human errors, using the ICE standard to facilitate vendor interoperability, addressing hand hygiene and antibiotic use to reduce infections, and improving real-time decision-making through integration and interoperability. There is no contradiction.\"\n",
      "    }\n",
      "]\n",
      " \n",
      "Score: 0.0\n",
      "Reason: The score is 0.00 because the actual output fully aligns with the context without any contradictions, accurately reflecting the details provided in the factual alignments.\n",
      "\n",
      "======================================================================\n",
      "\n",
      "======================================================================\n",
      "\n",
      "Metrics Summary\n",
      "\n",
      "  - ✅ Hallucination (score: 0.0, threshold: 0.6, strict: False, evaluation model: azure-gpt4o-mini, reason: The score is 0.00 because the actual output fully aligns with the context without any contradictions, accurately reflecting the details provided in the factual alignments., error: None)\n",
      "\n",
      "For test case:\n",
      "\n",
      "  - input: How does MIoT improve hospital safety?\n",
      "  - actual output: MIoT improves hospital safety by enabling the deployment of patient-centric and context-aware networked medical systems across various care environments, such as hospital floors, operating rooms, intensive care units, and home care units. It facilitates the efficient, safe, and secure sharing of data among heterogeneous medical devices, minimizing preventable errors often introduced by humans. The ICE standard supports cross-vendor inter-device communications, which can reduce preventable medical errors during patient transfers (e.g., from the Operating Room to Intensive Care Units) and mitigate risks like false alarms or deaths due to Patient-Controlled Analgesia (PCA). Additionally, MIoT enhances integration and interoperability, allowing for real-time actionable information synthesis, improving efficiency, safety, and security. It also addresses challenges related to device mobility, ensuring secure discovery, self-organization, and compliance in forming ad hoc mesh networks specific to patients. Furthermore, MIoT connectivity principles may help reduce healthcare-associated infections by tracking prescribed antibiotics, usage, and hand-washing habits, potentially saving lives and reducing costs.\n",
      "  - expected output: None\n",
      "  - context: ['The Medical Internet of Things (MIoT) is improving hospital safety by enabling better coordination among medical devices across various care settings—like hospital wards, operating rooms, ICUs, and even home care. It allows secure and efficient data sharing between different devices, reducing the risk of human error. For example, the ICE (Integrated Clinical Environment) standard supports communication between devices from different vendors, which is especially useful during patient transfers, helping prevent issues like false alarms or dosing errors with systems such as Patient-Controlled Analgesia (PCA).\\n\\nMIoT also enhances real-time decision-making by integrating data from multiple sources, boosting safety, efficiency, and security. It supports mobile medical devices by enabling secure, compliant, self-organizing networks tailored to individual patients. Beyond direct care, MIoT can help reduce hospital-acquired infections by tracking antibiotic use and monitoring hand hygiene, ultimately saving lives and cutting healthcare costs.']\n",
      "  - retrieval context: None\n",
      "\n",
      "======================================================================\n",
      "\n",
      "Overall Metric Pass Rates\n",
      "\n",
      "Hallucination: 100.00% pass rate\n",
      "\n",
      "======================================================================\n",
      "\n"
     ]
    },
    {
     "name": "stderr",
     "output_type": "stream",
     "text": [
      "\n"
     ]
    },
    {
     "data": {
      "text/html": [
       "<pre style=\"white-space:pre;overflow-x:auto;line-height:normal;font-family:Menlo,'DejaVu Sans Mono',consolas,'Courier New',monospace\">\n",
       "<span style=\"color: #05f58d; text-decoration-color: #05f58d\">✓</span> Tests finished 🎉! Run <span style=\"color: #008000; text-decoration-color: #008000; font-weight: bold\">'deepeval login'</span> to save and analyze evaluation results on Confident AI.\n",
       " \n",
       "✨👀 Looking for a place for your LLM test data to live 🏡❤️ ? Use <span style=\"color: #6a00ff; text-decoration-color: #6a00ff\">Confident AI</span> to get &amp; share testing reports, \n",
       "experiment with models/prompts, and catch regressions for your LLM system. Just run <span style=\"color: #008080; text-decoration-color: #008080\">'deepeval login'</span> in the CLI. \n",
       "\n",
       "</pre>\n"
      ],
      "text/plain": [
       "\n",
       "\u001b[38;2;5;245;141m✓\u001b[0m Tests finished 🎉! Run \u001b[1;32m'deepeval login'\u001b[0m to save and analyze evaluation results on Confident AI.\n",
       " \n",
       "✨👀 Looking for a place for your LLM test data to live 🏡❤️ ? Use \u001b[38;2;106;0;255mConfident AI\u001b[0m to get & share testing reports, \n",
       "experiment with models/prompts, and catch regressions for your LLM system. Just run \u001b[36m'deepeval login'\u001b[0m in the CLI. \n",
       "\n"
      ]
     },
     "metadata": {},
     "output_type": "display_data"
    }
   ],
   "source": [
    "test_case = LLMTestCase(\n",
    "    input=response['question'],\n",
    "    actual_output=response['AI_generated_response'],\n",
    "    context=[human_answer]\n",
    ")\n",
    "\n",
    "metric = HallucinationMetric(\n",
    "    threshold=0.6,\n",
    "    model=wrapped_model,\n",
    "    include_reason=True,\n",
    "    verbose_mode=True\n",
    ")\n",
    "\n",
    "result = evaluate([test_case], [metric])"
   ]
  },
  {
   "cell_type": "code",
   "execution_count": 95,
   "metadata": {
    "application/vnd.databricks.v1+cell": {
     "cellMetadata": {
      "byteLimit": 2048000,
      "rowLimit": 10000
     },
     "inputWidgets": {},
     "nuid": "18f7eb4e-7eae-43c8-bab9-e4bebff7463c",
     "showTitle": false,
     "tableResultSettingsMap": {},
     "title": ""
    }
   },
   "outputs": [
    {
     "name": "stdout",
     "output_type": "stream",
     "text": [
      "Sucess: True\n",
      "Score: 0.0\n",
      "Reason: The score is 0.00 because the actual output fully aligns with the context without any contradictions, accurately reflecting the details provided in the factual alignments.\n"
     ]
    }
   ],
   "source": [
    "print('Sucess:', result.test_results[0].metrics_data[0].success)\n",
    "print('Score:', result.test_results[0].metrics_data[0].score)\n",
    "print('Reason:', result.test_results[0].metrics_data[0].reason)"
   ]
  },
  {
   "cell_type": "markdown",
   "metadata": {
    "application/vnd.databricks.v1+cell": {
     "cellMetadata": {},
     "inputWidgets": {},
     "nuid": "55270dee-9430-4add-b1c8-f1d3d8c22676",
     "showTitle": false,
     "tableResultSettingsMap": {},
     "title": ""
    }
   },
   "source": [
    "### Observation: Hallucination Check Result\n",
    "\n",
    "The **Hallucination Metric** scored a perfect **0.00**, indicating that the model did **not introduce any unsupported or fabricated information**.  \n",
    "All parts of the generated answer were factually grounded in the **human-verified context**, making this a **100% trustworthy output**.\n",
    "\n",
    "**What went well?**  \n",
    "The model’s statements—on MIoT’s role in patient safety, device interoperability, error reduction, and infection tracking—**all matched the ground truth** without any contradictions.\n",
    "\n",
    "---\n",
    "\n",
    "### Comparison with Other Generator Metrics\n",
    "\n",
    "- **Answer Relevancy**: **0.95**  \n",
    "  The answer was highly aligned with the question, though a few parts slightly diverged from the core topic.\n",
    "\n",
    "- **Faithfulness**: **1.00**  \n",
    "  The response was completely grounded in the retrieved context, showing strong consistency.\n",
    "\n",
    "- **Hallucination**: **0.00**  \n",
    "  No hallucinated facts were introduced; everything aligned with the **human-validated reference**.\n",
    "\n",
    "---\n",
    "\n",
    "### Takeaway\n",
    "\n",
    "The model not only generated a **relevant** and **faithful** answer but also maintained **factual integrity** throughout.  \n",
    "This confirms that both the **retrieval and generation steps** worked together to produce a response that is **accurate, reliable, and hallucination-free**—a key benchmark for real-world LLM applications in sensitive domains like healthcare.\n"
   ]
  },
  {
   "cell_type": "markdown",
   "metadata": {
    "application/vnd.databricks.v1+cell": {
     "cellMetadata": {},
     "inputWidgets": {},
     "nuid": "bb833422-c626-4ca4-9ae6-ae263e5f25e3",
     "showTitle": false,
     "tableResultSettingsMap": {},
     "title": ""
    }
   },
   "source": [
    "### Hallucination Evaluation with Noisy Retrieval Context Using DeepEval\n",
    "\n",
    "This evaluation assesses the language model’s behavior when the retrieval context includes a **few injected noisy chunks** that are irrelevant to the input query.\n",
    "\n",
    "### Evaluation Setup\n",
    "\n",
    "The **input query** and the **LLM-generated output** remain unchanged. However, the original, relevant retrieval context is modified by **inserting unrelated or off-topic content** to simulate partial noise within the retrieved evidence.\n",
    "\n",
    "### Objective\n",
    "\n",
    "This test is designed to evaluate whether the model:\n",
    "\n",
    "- **Generates hallucinated content** not supported by the context.\n",
    "- **Introduces unsupported claims** in the presence of limited or misleading evidence.  \n",
    "- Maintains **factual accuracy** despite retrieval degradation.\n",
    "\n",
    "This scenario is essential for analyzing model robustness and reliability when the retrieval pipeline surfaces a mix of relevant and irrelevant information.\n"
   ]
  },
  {
   "cell_type": "code",
   "execution_count": 114,
   "metadata": {},
   "outputs": [],
   "source": [
    "# now let's inject the noise \n",
    "\n",
    "noisy_human_answer=\"\"\"Theory of Relativity and MIoT: A Conceptual Parallel\n",
    "Albert Einstein’s theory of relativity—including Special and General Relativity—transformed how we understand time, space, and gravity. It introduced concepts like time dilation and spacetime curvature, showing that time and space are relative to the observer’s motion and position.\n",
    "\n",
    "Drawing a loose analogy, Medical Internet of Things (MIoT) systems are becoming increasingly context-aware, adapting to patients’ needs in real time. Just as relativity tells us that events unfold differently depending on one’s frame of reference, MIoT networks respond dynamically to a patient’s clinical context—location, vitals, and device interactions.\n",
    "\n",
    "Some futurists and AI theorists suggest that, like spacetime in physics, data environments in hospitals may evolve into dynamic, responsive systems that “bend” around the patient’s condition. While this is more metaphorical than scientific, it highlights how both relativity and MIoT value context and adaptability over fixed systems..\"\"\""
   ]
  },
  {
   "cell_type": "code",
   "execution_count": 115,
   "metadata": {},
   "outputs": [
    {
     "data": {
      "text/plain": [
       "'Theory of Relativity and MIoT: A Conceptual Parallel\\nAlbert Einstein’s theory of relativity—including Special and General Relativity—transformed how we understand time, space, and gravity. It introduced concepts like time dilation and spacetime curvature, showing that time and space are relative to the observer’s motion and position.\\n\\nDrawing a loose analogy, Medical Internet of Things (MIoT) systems are becoming increasingly context-aware, adapting to patients’ needs in real time. Just as relativity tells us that events unfold differently depending on one’s frame of reference, MIoT networks respond dynamically to a patient’s clinical context—location, vitals, and device interactions.\\n\\nSome futurists and AI theorists suggest that, like spacetime in physics, data environments in hospitals may evolve into dynamic, responsive systems that “bend” around the patient’s condition. While this is more metaphorical than scientific, it highlights how both relativity and MIoT value context and adaptability over fixed systems..'"
      ]
     },
     "execution_count": 115,
     "metadata": {},
     "output_type": "execute_result"
    }
   ],
   "source": [
    "noisy_human_answer"
   ]
  },
  {
   "cell_type": "code",
   "execution_count": 120,
   "metadata": {
    "application/vnd.databricks.v1+cell": {
     "cellMetadata": {
      "byteLimit": 2048000,
      "rowLimit": 10000
     },
     "inputWidgets": {},
     "nuid": "e4502ce6-b95b-48e0-830f-79a1e719619b",
     "showTitle": false,
     "tableResultSettingsMap": {},
     "title": ""
    },
    "scrolled": true
   },
   "outputs": [
    {
     "data": {
      "text/html": [
       "<pre style=\"white-space:pre;overflow-x:auto;line-height:normal;font-family:Menlo,'DejaVu Sans Mono',consolas,'Courier New',monospace\">✨ You're running DeepEval's latest <span style=\"color: #6a00ff; text-decoration-color: #6a00ff\">Hallucination Metric</span>! <span style=\"color: #374151; text-decoration-color: #374151; font-weight: bold\">(</span><span style=\"color: #374151; text-decoration-color: #374151\">using azure-gpt4o-mini, </span><span style=\"color: #374151; text-decoration-color: #374151\">strict</span><span style=\"color: #374151; text-decoration-color: #374151\">=</span><span style=\"color: #374151; text-decoration-color: #374151; font-style: italic\">False</span><span style=\"color: #374151; text-decoration-color: #374151\">, </span>\n",
       "<span style=\"color: #374151; text-decoration-color: #374151\">async_mode</span><span style=\"color: #374151; text-decoration-color: #374151\">=</span><span style=\"color: #374151; text-decoration-color: #374151; font-style: italic\">True</span><span style=\"color: #374151; text-decoration-color: #374151; font-weight: bold\">)</span><span style=\"color: #374151; text-decoration-color: #374151\">...</span>\n",
       "</pre>\n"
      ],
      "text/plain": [
       "✨ You're running DeepEval's latest \u001b[38;2;106;0;255mHallucination Metric\u001b[0m! \u001b[1;38;2;55;65;81m(\u001b[0m\u001b[38;2;55;65;81musing azure-gpt4o-mini, \u001b[0m\u001b[38;2;55;65;81mstrict\u001b[0m\u001b[38;2;55;65;81m=\u001b[0m\u001b[3;38;2;55;65;81mFalse\u001b[0m\u001b[38;2;55;65;81m, \u001b[0m\n",
       "\u001b[38;2;55;65;81masync_mode\u001b[0m\u001b[38;2;55;65;81m=\u001b[0m\u001b[3;38;2;55;65;81mTrue\u001b[0m\u001b[1;38;2;55;65;81m)\u001b[0m\u001b[38;2;55;65;81m...\u001b[0m\n"
      ]
     },
     "metadata": {},
     "output_type": "display_data"
    },
    {
     "name": "stdout",
     "output_type": "stream",
     "text": [
      "Event loop is already running. Applying nest_asyncio patch to allow async execution...\n"
     ]
    },
    {
     "name": "stderr",
     "output_type": "stream",
     "text": [
      "Evaluating 1 test case(s) in parallel: |██████████████████████████████|100% (1/1) [Time Taken: 00:05,  5.49s/test case]"
     ]
    },
    {
     "name": "stdout",
     "output_type": "stream",
     "text": [
      "**************************************************\n",
      "Hallucination Verbose Logs\n",
      "**************************************************\n",
      "\n",
      "Verdicts:\n",
      "[\n",
      "    {\n",
      "        \"verdict\": \"no\",\n",
      "        \"reason\": \"The actual output focuses on MIoT\\u2019s practical implementations, such as improving hospital safety, interoperability, and reducing errors, while the context primarily discusses a conceptual parallel between Einstein's Theory of Relativity and MIoT's context-aware adaptability. The actual output does not contradict the context, but it does not explicitly align with the metaphorical and conceptual themes discussed in the context. A possible correction would be to incorporate the conceptual parallel and adaptability themes mentioned in the context.\"\n",
      "    }\n",
      "]\n",
      " \n",
      "Score: 1.0\n",
      "Reason: The score is 1.00 because there are no factual alignments between the actual output and the context, and the actual output diverges significantly by omitting the conceptual and metaphorical themes from the context, demonstrating a complete misalignment.\n",
      "\n",
      "======================================================================\n",
      "\n",
      "======================================================================\n",
      "\n",
      "Metrics Summary\n",
      "\n",
      "  - ❌ Hallucination (score: 1.0, threshold: 0.6, strict: False, evaluation model: azure-gpt4o-mini, reason: The score is 1.00 because there are no factual alignments between the actual output and the context, and the actual output diverges significantly by omitting the conceptual and metaphorical themes from the context, demonstrating a complete misalignment., error: None)\n",
      "\n",
      "For test case:\n",
      "\n",
      "  - input: How does MIoT improve hospital safety?\n",
      "  - actual output: MIoT improves hospital safety by enabling the deployment of patient-centric and context-aware networked medical systems across various care environments, such as hospital floors, operating rooms, intensive care units, and home care units. It facilitates the efficient, safe, and secure sharing of data among heterogeneous medical devices, minimizing preventable errors often introduced by humans. The ICE standard supports cross-vendor inter-device communications, which can reduce preventable medical errors during patient transfers (e.g., from the Operating Room to Intensive Care Units) and mitigate risks like false alarms or deaths due to Patient-Controlled Analgesia (PCA). Additionally, MIoT enhances integration and interoperability, allowing for real-time actionable information synthesis, improving efficiency, safety, and security. It also addresses challenges related to device mobility, ensuring secure discovery, self-organization, and compliance in forming ad hoc mesh networks specific to patients. Furthermore, MIoT connectivity principles may help reduce healthcare-associated infections by tracking prescribed antibiotics, usage, and hand-washing habits, potentially saving lives and reducing costs.\n",
      "  - expected output: None\n",
      "  - context: ['Theory of Relativity and MIoT: A Conceptual Parallel\\nAlbert Einstein’s theory of relativity—including Special and General Relativity—transformed how we understand time, space, and gravity. It introduced concepts like time dilation and spacetime curvature, showing that time and space are relative to the observer’s motion and position.\\n\\nDrawing a loose analogy, Medical Internet of Things (MIoT) systems are becoming increasingly context-aware, adapting to patients’ needs in real time. Just as relativity tells us that events unfold differently depending on one’s frame of reference, MIoT networks respond dynamically to a patient’s clinical context—location, vitals, and device interactions.\\n\\nSome futurists and AI theorists suggest that, like spacetime in physics, data environments in hospitals may evolve into dynamic, responsive systems that “bend” around the patient’s condition. While this is more metaphorical than scientific, it highlights how both relativity and MIoT value context and adaptability over fixed systems..']\n",
      "  - retrieval context: None\n",
      "\n",
      "======================================================================\n",
      "\n",
      "Overall Metric Pass Rates\n",
      "\n",
      "Hallucination: 0.00% pass rate\n",
      "\n",
      "======================================================================\n",
      "\n"
     ]
    },
    {
     "name": "stderr",
     "output_type": "stream",
     "text": [
      "\n"
     ]
    },
    {
     "data": {
      "text/html": [
       "<pre style=\"white-space:pre;overflow-x:auto;line-height:normal;font-family:Menlo,'DejaVu Sans Mono',consolas,'Courier New',monospace\">\n",
       "<span style=\"color: #05f58d; text-decoration-color: #05f58d\">✓</span> Tests finished 🎉! Run <span style=\"color: #008000; text-decoration-color: #008000; font-weight: bold\">'deepeval login'</span> to save and analyze evaluation results on Confident AI.\n",
       " \n",
       "✨👀 Looking for a place for your LLM test data to live 🏡❤️ ? Use <span style=\"color: #6a00ff; text-decoration-color: #6a00ff\">Confident AI</span> to get &amp; share testing reports, \n",
       "experiment with models/prompts, and catch regressions for your LLM system. Just run <span style=\"color: #008080; text-decoration-color: #008080\">'deepeval login'</span> in the CLI. \n",
       "\n",
       "</pre>\n"
      ],
      "text/plain": [
       "\n",
       "\u001b[38;2;5;245;141m✓\u001b[0m Tests finished 🎉! Run \u001b[1;32m'deepeval login'\u001b[0m to save and analyze evaluation results on Confident AI.\n",
       " \n",
       "✨👀 Looking for a place for your LLM test data to live 🏡❤️ ? Use \u001b[38;2;106;0;255mConfident AI\u001b[0m to get & share testing reports, \n",
       "experiment with models/prompts, and catch regressions for your LLM system. Just run \u001b[36m'deepeval login'\u001b[0m in the CLI. \n",
       "\n"
      ]
     },
     "metadata": {},
     "output_type": "display_data"
    }
   ],
   "source": [
    "test_case = LLMTestCase(\n",
    "    input=response['question'],\n",
    "    actual_output=response['AI_generated_response'],\n",
    "    context=[noisy_human_answer]\n",
    ")\n",
    "\n",
    "metric = HallucinationMetric(\n",
    "    threshold=0.6,\n",
    "    model=wrapped_model,\n",
    "    include_reason=True,\n",
    "    verbose_mode=True\n",
    ")\n",
    "\n",
    "result = evaluate([test_case], [metric])"
   ]
  },
  {
   "cell_type": "code",
   "execution_count": 121,
   "metadata": {
    "application/vnd.databricks.v1+cell": {
     "cellMetadata": {
      "byteLimit": 2048000,
      "rowLimit": 10000
     },
     "inputWidgets": {},
     "nuid": "6676934c-4d19-4a99-b2ab-e1fb698dc0e6",
     "showTitle": false,
     "tableResultSettingsMap": {},
     "title": ""
    }
   },
   "outputs": [
    {
     "name": "stdout",
     "output_type": "stream",
     "text": [
      "Sucess: False\n",
      "Score: 1.0\n",
      "Reason: The score is 1.00 because there are no factual alignments between the actual output and the context, and the actual output diverges significantly by omitting the conceptual and metaphorical themes from the context, demonstrating a complete misalignment.\n"
     ]
    }
   ],
   "source": [
    "print('Sucess:', result.test_results[0].metrics_data[0].success)\n",
    "print('Score:', result.test_results[0].metrics_data[0].score)\n",
    "print('Reason:', result.test_results[0].metrics_data[0].reason)"
   ]
  },
  {
   "cell_type": "code",
   "execution_count": null,
   "metadata": {
    "application/vnd.databricks.v1+cell": {
     "cellMetadata": {},
     "inputWidgets": {},
     "nuid": "bc824f4a-ca07-4f56-828c-2e30c7143d28",
     "showTitle": false,
     "tableResultSettingsMap": {},
     "title": ""
    }
   },
   "outputs": [],
   "source": [
    "### Observation: Hallucination Check with Noisy Retrieval Context\n",
    "\n",
    "In this case, we intentionally tested the model with a **noisy context**.\n",
    "\n",
    " **Score:** 1.00  *(Failed under relaxed threshold)*  \n",
    "\n",
    "\n",
    "---\n",
    "\n",
    "### What happened?\n",
    "\n",
    "- The model generated a detailed and accurate response about **MIoT improving hospital safety**.\n",
    "- However, parts of the noisy context discussed **relativity theory** and **MIOT with relativity**, which were not reflected in the generated answer.\n",
    "- As a result, the model appeared to **ignore the given context** and rely on **prior knowledge**, which DeepEval flags as **hallucination**.\n",
    "\n",
    "---\n",
    "\n",
    "### Comparison with Previous Hallucination Test\n",
    "\n",
    "| Scenario                   | Score | Verdict |\n",
    "|----------------------------|-------|--------------------------|\n",
    "| Clean context (accurate)   | 0.00  |  No hallucination | \n",
    "| Noisy context (this test)  | 1.00  |   hallucination   |\n",
    "\n",
    "---\n",
    "\n",
    "### Takeaway\n",
    "It highlights the importance of **effective retrieval filtering** in RAG pipelines to ensure reliable, grounded answers.\n"
   ]
  },
  {
   "cell_type": "markdown",
   "metadata": {
    "application/vnd.databricks.v1+cell": {
     "cellMetadata": {},
     "inputWidgets": {},
     "nuid": "613ff973-d289-4356-8b7d-6467870668be",
     "showTitle": false,
     "tableResultSettingsMap": {},
     "title": ""
    }
   },
   "source": [
    "## Custom LLM as a Judge (G-Eval)\n",
    "\n",
    "**G-Eval** is a flexible evaluation framework in `deepeval` that uses a language model with **chain-of-thought (CoT)** reasoning to judge LLM responses based on **any custom criteria** you define.\n",
    "\n",
    "It is the **most versatile** metric in the DeepEval suite and is well-suited for use cases that require **domain-specific rules**, nuanced assessments, or multiple evaluation dimensions.\n",
    "\n",
    "### How It Works\n",
    "\n",
    "You define your evaluation logic using **custom prompts** under `evaluation_steps`, allowing you to guide how the LLM should score and explain its decisions.\n",
    "\n",
    "### Required Inputs for `G-Eval` in `deepeval`:\n",
    "\n",
    "- `input`: The original user query (optional, depending on use case)  \n",
    "- `actual_output`: The LLM-generated response  \n",
    "- `expected_output` (optional): Human-verified answer for comparison  \n",
    "- `context` (optional): Supporting documents for grounding or factual reference\n",
    "\n",
    "G-Eval is ideal for building **task-specific benchmarks**, performing **multi-step evaluations**, or tailoring assessments to **real-world application requirements**.\n",
    "\n",
    "\n",
    "\n"
   ]
  },
  {
   "cell_type": "markdown",
   "metadata": {
    "application/vnd.databricks.v1+cell": {
     "cellMetadata": {},
     "inputWidgets": {},
     "nuid": "0796a853-4980-4b44-a726-38c4488a4420",
     "showTitle": false,
     "tableResultSettingsMap": {},
     "title": ""
    }
   },
   "source": [
    "### Custom Evaluation using G-Eval in DeepEval\n",
    "\n",
    "In this setup, we are using the **G-Eval** framework to evaluate the LLM’s response based on **custom logic** defined through a series of steps.\n",
    "\n",
    "Here’s what’s happening:\n",
    "\n",
    "1. We define a `test_case` that includes:\n",
    "   - The input question\n",
    "   - The model’s actual output\n",
    "   - A human-verified expected answer\n",
    "   - The retrieval context (document chunks the model used)\n",
    "\n",
    "2. We configure a **custom metric** named `\"RAG Fact Checker\"` using `G-Eval`.\n",
    "\n",
    "3. The evaluation uses a step-by-step approach:\n",
    "   - Extract statements from the generated output\n",
    "   - Check if they answer the question and penalize irrelevant ones\n",
    "   - Compare with the expected answer and penalize any missing or inaccurate claims\n",
    "   - Ensure statements are backed by the retrieval context\n",
    "   - Penalize any made-up or hallucinated content\n",
    "\n",
    "4. The test runs using an LLM as the evaluator, producing a final score along with a reasoning trace.\n",
    "\n",
    "This process gives a **comprehensive, explainable assessment** of how well the generated answer holds up in terms of **relevance, completeness, accuracy, and grounding**.\n"
   ]
  },
  {
   "cell_type": "code",
   "execution_count": 73,
   "metadata": {
    "application/vnd.databricks.v1+cell": {
     "cellMetadata": {
      "byteLimit": 2048000,
      "rowLimit": 10000
     },
     "inputWidgets": {},
     "nuid": "0f8c2d31-75b8-47c4-9ad1-2cee7356c4fd",
     "showTitle": false,
     "tableResultSettingsMap": {},
     "title": ""
    },
    "scrolled": true
   },
   "outputs": [
    {
     "data": {
      "text/html": [
       "<pre style=\"white-space:pre;overflow-x:auto;line-height:normal;font-family:Menlo,'DejaVu Sans Mono',consolas,'Courier New',monospace\">✨ You're running DeepEval's latest <span style=\"color: #6a00ff; text-decoration-color: #6a00ff\">RAG Fact Checker </span><span style=\"color: #6a00ff; text-decoration-color: #6a00ff; font-weight: bold\">(</span><span style=\"color: #6a00ff; text-decoration-color: #6a00ff\">GEval</span><span style=\"color: #6a00ff; text-decoration-color: #6a00ff; font-weight: bold\">)</span><span style=\"color: #6a00ff; text-decoration-color: #6a00ff\"> Metric</span>! <span style=\"color: #374151; text-decoration-color: #374151; font-weight: bold\">(</span><span style=\"color: #374151; text-decoration-color: #374151\">using azure-gpt4o-mini, </span><span style=\"color: #374151; text-decoration-color: #374151\">strict</span><span style=\"color: #374151; text-decoration-color: #374151\">=</span><span style=\"color: #374151; text-decoration-color: #374151; font-style: italic\">False</span><span style=\"color: #374151; text-decoration-color: #374151\">, </span>\n",
       "<span style=\"color: #374151; text-decoration-color: #374151\">async_mode</span><span style=\"color: #374151; text-decoration-color: #374151\">=</span><span style=\"color: #374151; text-decoration-color: #374151; font-style: italic\">True</span><span style=\"color: #374151; text-decoration-color: #374151; font-weight: bold\">)</span><span style=\"color: #374151; text-decoration-color: #374151\">...</span>\n",
       "</pre>\n"
      ],
      "text/plain": [
       "✨ You're running DeepEval's latest \u001b[38;2;106;0;255mRAG Fact Checker \u001b[0m\u001b[1;38;2;106;0;255m(\u001b[0m\u001b[38;2;106;0;255mGEval\u001b[0m\u001b[1;38;2;106;0;255m)\u001b[0m\u001b[38;2;106;0;255m Metric\u001b[0m! \u001b[1;38;2;55;65;81m(\u001b[0m\u001b[38;2;55;65;81musing azure-gpt4o-mini, \u001b[0m\u001b[38;2;55;65;81mstrict\u001b[0m\u001b[38;2;55;65;81m=\u001b[0m\u001b[3;38;2;55;65;81mFalse\u001b[0m\u001b[38;2;55;65;81m, \u001b[0m\n",
       "\u001b[38;2;55;65;81masync_mode\u001b[0m\u001b[38;2;55;65;81m=\u001b[0m\u001b[3;38;2;55;65;81mTrue\u001b[0m\u001b[1;38;2;55;65;81m)\u001b[0m\u001b[38;2;55;65;81m...\u001b[0m\n"
      ]
     },
     "metadata": {},
     "output_type": "display_data"
    },
    {
     "name": "stdout",
     "output_type": "stream",
     "text": [
      "Event loop is already running. Applying nest_asyncio patch to allow async execution...\n"
     ]
    },
    {
     "name": "stderr",
     "output_type": "stream",
     "text": [
      "Evaluating 1 test case(s) in parallel: |██████████████████████████████|100% (1/1) [Time Taken: 00:02,  2.32s/test case]"
     ]
    },
    {
     "name": "stdout",
     "output_type": "stream",
     "text": [
      "**************************************************\n",
      "RAG Fact Checker (GEval) Verbose Logs\n",
      "**************************************************\n",
      "\n",
      "Criteria:\n",
      "None \n",
      " \n",
      "Evaluation Steps:\n",
      "[\n",
      "    \"Create a list of statements from 'actual output'\",\n",
      "    \"Validate if they are relevant and answers the given question in 'input', penalize if any statements are irrelevant\",\n",
      "    \"Also Validate if they exist in 'expected output', penalize if any statements are missing or factually wrong\",\n",
      "    \"Also validate if these statements are grounded in the 'retrieval context' and penalize if they are missing or factually wrong\",\n",
      "    \"Finally also penalize if any statements seem to be invented or made up and do not make sense factually given the 'input' and 'retrieval context'\"\n",
      "]\n",
      " \n",
      "Score: 0.8\n",
      "Reason: The actual output is detailed, addresses relevant aspects of MIoT improving hospital safety, and aligns well with both the input and retrieval context, emphasizing reduction of medical errors, interoperability, and infection management. However, some key points from expected output, such as the role of smart sensors and wearables in tracking vital signs or faster decision-making, are missing.\n",
      "\n",
      "======================================================================\n",
      "\n",
      "======================================================================\n",
      "\n",
      "Metrics Summary\n",
      "\n",
      "  - ✅ RAG Fact Checker (GEval) (score: 0.8, threshold: 0.6, strict: False, evaluation model: azure-gpt4o-mini, reason: The actual output is detailed, addresses relevant aspects of MIoT improving hospital safety, and aligns well with both the input and retrieval context, emphasizing reduction of medical errors, interoperability, and infection management. However, some key points from expected output, such as the role of smart sensors and wearables in tracking vital signs or faster decision-making, are missing., error: None)\n",
      "\n",
      "For test case:\n",
      "\n",
      "  - input: How does MIoT improve hospital safety?\n",
      "  - actual output: MIoT improves hospital safety by enabling the deployment of patient-centric and context-aware networked medical systems across various care environments, such as hospital floors, operating rooms, intensive care units, and home care units. It facilitates the efficient, safe, and secure sharing of data among heterogeneous medical devices, minimizing preventable errors often introduced by humans. The ICE standard supports cross-vendor inter-device communications, which can reduce preventable medical errors during patient transfers (e.g., from the Operating Room to Intensive Care Units) and mitigate risks like false alarms or deaths due to Patient-Controlled Analgesia (PCA). Additionally, MIoT enhances integration and interoperability, allowing for real-time actionable information synthesis, improving efficiency, safety, and security. It also addresses challenges related to device mobility, ensuring secure discovery, self-organization, and compliance in forming ad hoc mesh networks specific to patients. Furthermore, MIoT connectivity principles may help reduce healthcare-associated infections by tracking prescribed antibiotics, usage, and hand-washing habits, potentially saving lives and reducing costs.\n",
      "  - expected output: MIoT, or the Medical Internet of Things, enhances hospital safety by enabling real-time monitoring, \n",
      "\f",
      "aster response times, and improved decision-making. Devices like smart sensors, wearables, \n",
      "\u0007nd connected medical equipment continuously track patients' vital signs, \n",
      "\u0007lerting staff to potential issues before they become critical. It also helps reduce human error, \n",
      "\\ensures better compliance with safety protocols, and allows hospitals to manage assets more efficiently, \n",
      "ultimately leading to safer and more responsive patient care environments.\n",
      "  - context: None\n",
      "  - retrieval context: ['preventable medical errors and signal a significant improvement in quality of patient care. \\nThe grand challenge of the medical internet of things (MIoT) is to sufficiently enable the \\ndeployment of patient-centric and context-aware networked medical systems in all care \\nenvironments, ranging from hospital floors to operating rooms, intensive care units to \\nhome care units. Heterogeneous devices in each care environment would effectively share \\ndata (efficiently, safely and securely) to minimize preventable errors often introduced by \\nhumans.', 'ICE standard will enable dramatic improvements to patient safety because cross-vendor \\ninter-device communications may significantly reduce preventable medical errors. \\nExamples include patient transfers from the Operating Room (OR) to Intensive Care Units \\n(ICU) and reducing false alarms or deaths due to Patient-Controlled Analgesia (PCA). In \\nboth of these examples, synthesis of data from diverse range of medical devices may enable \\nthe generation of real-time actionable information from the system to a point of care', 'remote monitoring at home) are factors which compromise patient safety. In the absence of \\nappropriate data analysis and synthesis, the ability to produce actionable information \\nrelevant to the collective status of the patient must depend on medical professionals to \\ncombine the data at the point of care. In this context, integration and interoperability may \\nimprove efficiency, safety and security. It is anticipated that it will lower the rates of \\npreventable medical errors and signal a significant improvement in quality of patient care.', 'humans. \\nMobility of medical devices between different care environments or from patient to patient \\npresents challenges. While in transit, they must remain secure yet “open” for “discovery” by \\nother devices in much the same way that consumer IoT accessories, for example, Amazon \\nEcho Dot, pairs with your smartphone or the laptop when it is in the cone of connectivity. \\nOnce discovered, the devices must self-organize and form the ad hoc mesh network of \\ndevices, specific to the patient. They need to interoperate with, verify and execute safe, \\nauthorized and compliant operational profiles.', 'Healthcare-associated infections may benefit from connectivity [Figure 8] and the \\nconnectivity as a medical IoT design principles, if used, may save lives. About 1 in 25 \\npatients gets an infection each year while receiving medical care in the US [116]. Estimated \\n25,000 deaths per year from about 1 million infections each year from US healthcare at a \\nprojected cost of $30 billion per annum. In addition to logging prescribed antibiotics and \\ntheir use [117] it may be necessary to track and trace individual hand-washing habits and']\n",
      "\n",
      "======================================================================\n",
      "\n",
      "Overall Metric Pass Rates\n",
      "\n",
      "RAG Fact Checker (GEval): 100.00% pass rate\n",
      "\n",
      "======================================================================\n",
      "\n"
     ]
    },
    {
     "name": "stderr",
     "output_type": "stream",
     "text": [
      "\n"
     ]
    },
    {
     "data": {
      "text/html": [
       "<pre style=\"white-space:pre;overflow-x:auto;line-height:normal;font-family:Menlo,'DejaVu Sans Mono',consolas,'Courier New',monospace\">\n",
       "<span style=\"color: #05f58d; text-decoration-color: #05f58d\">✓</span> Tests finished 🎉! Run <span style=\"color: #008000; text-decoration-color: #008000; font-weight: bold\">'deepeval login'</span> to save and analyze evaluation results on Confident AI.\n",
       " \n",
       "✨👀 Looking for a place for your LLM test data to live 🏡❤️ ? Use <span style=\"color: #6a00ff; text-decoration-color: #6a00ff\">Confident AI</span> to get &amp; share testing reports, \n",
       "experiment with models/prompts, and catch regressions for your LLM system. Just run <span style=\"color: #008080; text-decoration-color: #008080\">'deepeval login'</span> in the CLI. \n",
       "\n",
       "</pre>\n"
      ],
      "text/plain": [
       "\n",
       "\u001b[38;2;5;245;141m✓\u001b[0m Tests finished 🎉! Run \u001b[1;32m'deepeval login'\u001b[0m to save and analyze evaluation results on Confident AI.\n",
       " \n",
       "✨👀 Looking for a place for your LLM test data to live 🏡❤️ ? Use \u001b[38;2;106;0;255mConfident AI\u001b[0m to get & share testing reports, \n",
       "experiment with models/prompts, and catch regressions for your LLM system. Just run \u001b[36m'deepeval login'\u001b[0m in the CLI. \n",
       "\n"
      ]
     },
     "metadata": {},
     "output_type": "display_data"
    }
   ],
   "source": [
    "\n",
    "\n",
    "test_case = LLMTestCase(\n",
    "    input=response['question'],\n",
    "    actual_output=response[\"AI_generated_response\"],\n",
    "    expected_output=human_answer,\n",
    "    retrieval_context=retrieved_context\n",
    ")\n",
    "\n",
    "metric = GEval(\n",
    "    threshold=0.6,\n",
    "    model=wrapped_model,\n",
    "    name=\"RAG Fact Checker\",\n",
    "    # NOTE: you can only provide either criteria or evaluation_steps, and not both\n",
    "    evaluation_steps=[\n",
    "        \"Create a list of statements from 'actual output'\",\n",
    "        \"Validate if they are relevant and answers the given question in 'input', penalize if any statements are irrelevant\",\n",
    "        \"Also Validate if they exist in 'expected output', penalize if any statements are missing or factually wrong\",\n",
    "        \"Also validate if these statements are grounded in the 'retrieval context' and penalize if they are missing or factually wrong\",\n",
    "        \"Finally also penalize if any statements seem to be invented or made up and do not make sense factually given the 'input' and 'retrieval context'\"\n",
    "    ],\n",
    "    evaluation_params=[LLMTestCaseParams.INPUT,\n",
    "                       LLMTestCaseParams.ACTUAL_OUTPUT,\n",
    "                       LLMTestCaseParams.EXPECTED_OUTPUT,\n",
    "                       LLMTestCaseParams.RETRIEVAL_CONTEXT],\n",
    "    verbose_mode=True\n",
    ")\n",
    "\n",
    "result = evaluate([test_case], [metric])"
   ]
  },
  {
   "cell_type": "code",
   "execution_count": 74,
   "metadata": {
    "application/vnd.databricks.v1+cell": {
     "cellMetadata": {
      "byteLimit": 2048000,
      "rowLimit": 10000
     },
     "inputWidgets": {},
     "nuid": "46152fb9-c003-4ff3-97f5-5f4155df1b50",
     "showTitle": false,
     "tableResultSettingsMap": {},
     "title": ""
    }
   },
   "outputs": [
    {
     "name": "stdout",
     "output_type": "stream",
     "text": [
      "Sucess: True\n",
      "Score: 0.8\n",
      "Reason: The actual output is detailed, addresses relevant aspects of MIoT improving hospital safety, and aligns well with both the input and retrieval context, emphasizing reduction of medical errors, interoperability, and infection management. However, some key points from expected output, such as the role of smart sensors and wearables in tracking vital signs or faster decision-making, are missing.\n"
     ]
    }
   ],
   "source": [
    "print('Sucess:', result.test_results[0].metrics_data[0].success)\n",
    "print('Score:', result.test_results[0].metrics_data[0].score)\n",
    "print('Reason:', result.test_results[0].metrics_data[0].reason)"
   ]
  },
  {
   "cell_type": "markdown",
   "metadata": {
    "application/vnd.databricks.v1+cell": {
     "cellMetadata": {},
     "inputWidgets": {},
     "nuid": "e2e0566e-ad5a-4134-acd5-40ef09540f8c",
     "showTitle": false,
     "tableResultSettingsMap": {},
     "title": ""
    }
   },
   "source": [
    "### Observation: G-Eval (RAG Fact Checker) Evaluation\n",
    "\n",
    "The **G-Eval custom metric** scored **0.80**, which is above the passing threshold, indicating that the response is **largely relevant, accurate, and grounded**—but not perfect.\n",
    "\n",
    "---\n",
    "\n",
    "### What went well?\n",
    "- The output **accurately addressed** the input question.\n",
    "- It incorporated important points from the **retrieval context**, like **reducing preventable errors**, **device interoperability**, and **infection tracking**.\n",
    "- No hallucinations were detected, and the content remained aligned with both the query and the supporting documents.\n",
    "\n",
    "---\n",
    "\n",
    "### What was penalized?\n",
    "- The answer **missed specific mentions** from the expected output like **“wearables”** and **“smart sensors”**.\n",
    "- It was slightly **over-elaborate** compared to the concise human answer.\n",
    "\n",
    "---\n",
    "\n",
    "### Comparison with Other Metrics\n",
    "\n",
    "| Metric              | Score | Focus                                  | Verdict           |\n",
    "|---------------------|-------|-----------------------------------------|-------------------|\n",
    "| Answer Relevancy    | 0.95  | Does it answer the user query?          | Highly relevant |\n",
    "| Faithfulness         | 1.00  | Is it factually grounded in retrieved content? | Fully faithful  |\n",
    "| Hallucination        | 0.00  | Any unsupported/made-up content?        | No hallucinations |\n",
    "| **G-Eval (Custom)**  | 0.80  | Combines all above + detail alignment   | Passed with room to improve |\n",
    "\n",
    "---\n",
    "\n",
    "### Takeaway\n",
    "\n",
    "This G-Eval result acts as a **composite judgment**, blending **relevance, truthfulness, completeness, and grounding**.  \n",
    "While the model performed strongly overall, minor omissions (like not naming specific IoT devices) slightly affected the final score.  \n",
    "Still, this confirms that the RAG system generated a **high-quality, trustworthy, and well-contextualized response**.\n"
   ]
  },
  {
   "cell_type": "markdown",
   "metadata": {
    "application/vnd.databricks.v1+cell": {
     "cellMetadata": {},
     "inputWidgets": {},
     "nuid": "7aff2a2e-4a46-4061-aad8-5d7f193bd60d",
     "showTitle": false,
     "tableResultSettingsMap": {},
     "title": ""
    }
   },
   "source": [
    "> ## **Important Note**\n",
    "> \n",
    "> **We are evaluating this result using the `deepeval` library, which uses an LLM to act as a judge.**\n",
    "> \n",
    "> **At the backend, we are using `gpt-4o-mini` (Azure-hosted) to perform the evaluation.**\n",
    "> \n",
    "> **Because this involves an LLM's reasoning, there is a high probability that you might get slightly different results when you re-run the code — even with the same inputs.**\n",
    "> \n",
    "> **This variability happens because LLM-based evaluations can be non-deterministic by nature. Small differences in phrasing or internal model behavior can influence how it interprets relevance, alignment, or context.**\n",
    "> \n",
    "> **Therefore, while these evaluations provide valuable insights, treat individual scores as part of a broader trend rather than absolute judgments.**\n"
   ]
  },
  {
   "cell_type": "code",
   "execution_count": null,
   "metadata": {},
   "outputs": [],
   "source": []
  }
 ],
 "metadata": {
  "application/vnd.databricks.v1+notebook": {
   "computePreferences": {
    "hardware": {
     "accelerator": null,
     "gpuPoolId": null,
     "memory": null
    }
   },
   "dashboards": [],
   "environmentMetadata": {
    "base_environment": "",
    "environment_version": "2"
   },
   "inputWidgetPreferences": null,
   "language": "python",
   "notebookMetadata": {
    "pythonIndentUnit": 4
   },
   "notebookName": "RAG_Evaluation_SinglePDF",
   "widgets": {}
  },
  "kernelspec": {
   "display_name": "Python 3 (ipykernel)",
   "language": "python",
   "name": "python3"
  },
  "language_info": {
   "codemirror_mode": {
    "name": "ipython",
    "version": 3
   },
   "file_extension": ".py",
   "mimetype": "text/x-python",
   "name": "python",
   "nbconvert_exporter": "python",
   "pygments_lexer": "ipython3",
   "version": "3.11.11"
  }
 },
 "nbformat": 4,
 "nbformat_minor": 4
}
