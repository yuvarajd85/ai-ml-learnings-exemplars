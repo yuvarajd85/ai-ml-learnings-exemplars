{
 "cells": [
  {
   "cell_type": "code",
   "execution_count": 240,
   "id": "ae56ca9f-e897-4b48-937e-4197a8a5c604",
   "metadata": {},
   "outputs": [],
   "source": [
    "import boto3\n",
    "import polars as pl\n",
    "import json\n",
    "import awswrangler as wr"
   ]
  },
  {
   "cell_type": "code",
   "execution_count": 241,
   "id": "d948717f-4407-48f3-9e0f-ea09b33e90fe",
   "metadata": {},
   "outputs": [],
   "source": [
    "boto3_session = boto3.Session(region_name='us-east-1')"
   ]
  },
  {
   "cell_type": "code",
   "execution_count": 242,
   "id": "be55ada5-44f2-4938-a534-bc8b41ba75a8",
   "metadata": {},
   "outputs": [
    {
     "name": "stdout",
     "output_type": "stream",
     "text": [
      "{'employee_id': 'bigint', 'first_name': 'string', 'last_name': 'string', 'department_id': 'bigint', 'hire_date': 'string'}\n",
      "{'department_id': 'bigint', 'department_name': 'string'}\n",
      "{'employee_id': 'bigint', 'service_id': 'bigint', 'enrollment_date': 'string'}\n",
      "{'service_id': 'bigint', 'employee_id': 'bigint', 'department_id': 'bigint', 'start_date': 'string', 'end_date': 'string'}\n",
      "{'service_id': 'bigint', 'service_name': 'string'}\n",
      "{'employee': {...}, 'department': {...}, 'enrollment': {...}, 'service_history': {...}, 'services': {...}}\n"
     ]
    }
   ],
   "source": [
    "catalog_id = \"529088288102\"\n",
    "table_list = [\"employee\", \"department\", \"enrollment\", \"service_history\", \"services\"]\n",
    "table_schema = {}\n",
    "for table in table_list:\n",
    "    response = wr.catalog.get_table_types(database=\"finetune_llm_querygen\", table=table, catalog_id=catalog_id)\n",
    "    print(response)\n",
    "    table_schema[table] = table_schema\n",
    "\n",
    "print(table_schema)"
   ]
  },
  {
   "cell_type": "code",
   "execution_count": 243,
   "id": "738bfd10-c3db-4756-a81d-532d7f077508",
   "metadata": {},
   "outputs": [],
   "source": [
    "bedrock_client = boto3.client(\"bedrock-runtime\", region_name=\"us-east-1\")"
   ]
  },
  {
   "cell_type": "code",
   "execution_count": 244,
   "id": "8763da03-b617-44bf-9c28-ffcdff68f58b",
   "metadata": {},
   "outputs": [],
   "source": [
    "prompt = \"\"\"\n",
    "Assume you are an AI SQL assistant. Generate SQL queries based on the provided prompts. The schema for different tables in the data lake is as follows:\n",
    "{\"database\" : \"finetune_llm_querygen\",\n",
    "\"tables\" : \n",
    "{ \"employees\" :  {'employee_id': 'bigint', 'first_name': 'string', 'last_name': 'string', 'department_id': 'bigint', 'hire_date': 'string'},\n",
    "\"departments\" : {'department_id': 'bigint', 'department_name': 'string'},\n",
    "\"service_history\" : {'service_id': 'bigint', 'employee_id': 'bigint', 'department_id': 'bigint', 'start_date': 'string', 'end_date': 'string'},\n",
    "\"enrollments\" : {'employee_id': 'bigint', 'service_id': 'bigint', 'enrollment_date': 'string'}\n",
    "}\n",
    "}\n",
    "Examples:\n",
    "prompt: List all employees in the IT department.\n",
    "completion: Select * from employee e Join department d on e.department_id = d.department_id where d.department_name = 'IT';\n",
    "\n",
    "prompt: get all services available in the system.\n",
    "completion: Select * from services;\n",
    "\n",
    "prompt: find all employees with the last_name 'Smith'.\n",
    "completion: Select * from employee where last_name = 'Smith';\n",
    "\n",
    "\"\"\"\n",
    "\n"
   ]
  },
  {
   "cell_type": "code",
   "execution_count": 245,
   "id": "59680163-7abd-42be-97ed-a5542784a47e",
   "metadata": {},
   "outputs": [
    {
     "name": "stdout",
     "output_type": "stream",
     "text": [
      "\n",
      "generate the sql to list the employee_id and their department name. No details required.\n",
      "\n"
     ]
    }
   ],
   "source": [
    "# prompt = f\"\"\"\n",
    "# Generate the sql to retrieve employee information and their service history using the following tables employee table schema : {table_schema['employee']}, department table schema : {table_schema['department']},\n",
    "# service_history table schema: {table_schema['service_history']}. Use the table information from the provided tables schema and columns only. Just give SQL output no explanation required.\n",
    "# \"\"\"\n",
    "\n",
    "# prompt = f\"\"\"\n",
    "# Generate the sql to list all the employees from the employee table who are in the department '103'. No details required.\n",
    "# \"\"\"\n",
    "\n",
    "prompt = f\"\"\"\n",
    "generate the sql to list the employee_id and their department name. No details required.\n",
    "\"\"\"\n",
    "\n",
    "print(prompt)"
   ]
  },
  {
   "cell_type": "code",
   "execution_count": 246,
   "id": "091e6cd6-d71c-4658-a2b4-714dc2cb822c",
   "metadata": {},
   "outputs": [],
   "source": [
    "body = json.dumps(\n",
    "    {\n",
    "        \"anthropic_version\" : \"bedrock-2023-05-31\",\n",
    "        \"max_tokens\" : 512,\n",
    "        \"messages\" : [\n",
    "            {\n",
    "                \"role\" : \"user\",\n",
    "                \"content\" : [{\"type\": \"text\", \"text\": prompt}]\n",
    "            }],\n",
    "        \"temperature\" : 1\n",
    "    \n",
    "    }\n",
    ")\n",
    "\n",
    "prompt_request = {\n",
    "    \"body\" : body,\n",
    "    \"modelId\" : \"anthropic.claude-3-5-sonnet-20240620-v1:0\"\n",
    "}"
   ]
  },
  {
   "cell_type": "code",
   "execution_count": 247,
   "id": "5e94548a-ae03-43dd-826e-12635a77fa6a",
   "metadata": {},
   "outputs": [
    {
     "name": "stdout",
     "output_type": "stream",
     "text": [
      "Here's a simple SQL query to list the employee_id and their department name:\n",
      "\n",
      "```sql\n",
      "SELECT e.employee_id, d.department_name\n",
      "FROM employees e\n",
      "JOIN departments d ON e.department_id = d.department_id;\n",
      "```\n",
      "\n",
      "This query assumes:\n",
      "1. There's an \"employees\" table with columns including \"employee_id\" and \"department_id\"\n",
      "2. There's a \"departments\" table with columns including \"department_id\" and \"department_name\"\n",
      "3. The two tables are related by the \"department_id\" column\n",
      "\n",
      "The query joins these tables to match each employee with their department name.\n",
      "['\\nSELECT e.employee_id, d.department_name\\nFROM employees e\\nJOIN departments d ON e.department_id = d.department_id;\\n']\n"
     ]
    }
   ],
   "source": [
    "import re\n",
    "response = bedrock_client.invoke_model(modelId=prompt_request['modelId'], body=prompt_request['body'])\n",
    "response_json = json.loads(response.get('body').read())\n",
    "response_text = response_json.get('content')[0].get('text')\n",
    "print(response_text)\n",
    "if \"```sql\" in response_text:\n",
    "    response_text = re.compile(r'```sql(.*?)```', re.DOTALL).findall(response_text)\n",
    "print(response_text)"
   ]
  },
  {
   "cell_type": "code",
   "execution_count": 248,
   "id": "16d1795b-1652-4fb9-a920-70a280c7b0ad",
   "metadata": {},
   "outputs": [
    {
     "name": "stdout",
     "output_type": "stream",
     "text": [
      "shape: (5, 2)\n",
      "┌─────────────┬─────────────────┐\n",
      "│ employee_id ┆ department_name │\n",
      "│ ---         ┆ ---             │\n",
      "│ i64         ┆ str             │\n",
      "╞═════════════╪═════════════════╡\n",
      "│ 1           ┆ Sales           │\n",
      "│ 2           ┆ IT              │\n",
      "│ 3           ┆ HR              │\n",
      "│ 4           ┆ HR              │\n",
      "│ 5           ┆ HR              │\n",
      "└─────────────┴─────────────────┘\n"
     ]
    }
   ],
   "source": [
    "df = pl.from_pandas(wr.athena.read_sql_query(sql=response_text[0],\n",
    "                              database=\"finetune_llm_querygen\",\n",
    "                              workgroup='primary',\n",
    "                              boto3_session=boto3_session,\n",
    "                              data_source='AwsDataCatalog'\n",
    "                             ))\n",
    "print(df.head())"
   ]
  },
  {
   "cell_type": "code",
   "execution_count": null,
   "id": "203b77b2-aec2-4c19-a3ff-74d84a666b43",
   "metadata": {},
   "outputs": [],
   "source": []
  }
 ],
 "metadata": {
  "kernelspec": {
   "display_name": "conda_python3",
   "language": "python",
   "name": "conda_python3"
  },
  "language_info": {
   "codemirror_mode": {
    "name": "ipython",
    "version": 3
   },
   "file_extension": ".py",
   "mimetype": "text/x-python",
   "name": "python",
   "nbconvert_exporter": "python",
   "pygments_lexer": "ipython3",
   "version": "3.10.16"
  }
 },
 "nbformat": 4,
 "nbformat_minor": 5
}
