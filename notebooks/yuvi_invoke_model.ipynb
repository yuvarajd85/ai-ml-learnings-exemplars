{
 "cells": [
  {
   "cell_type": "code",
   "execution_count": 22,
   "id": "ae56ca9f-e897-4b48-937e-4197a8a5c604",
   "metadata": {},
   "outputs": [],
   "source": [
    "import boto3\n",
    "import polars as pl\n",
    "import json\n",
    "import awswrangler as wr"
   ]
  },
  {
   "cell_type": "code",
   "execution_count": 23,
   "id": "d948717f-4407-48f3-9e0f-ea09b33e90fe",
   "metadata": {},
   "outputs": [],
   "source": [
    "boto3_session = boto3.Session(region_name='us-east-1')"
   ]
  },
  {
   "cell_type": "code",
   "execution_count": 24,
   "id": "be55ada5-44f2-4938-a534-bc8b41ba75a8",
   "metadata": {},
   "outputs": [
    {
     "name": "stdout",
     "output_type": "stream",
     "text": [
      "{'employee_id': 'bigint', 'first_name': 'string', 'last_name': 'string', 'department_id': 'bigint', 'hire_date': 'string'}\n",
      "{'department_id': 'bigint', 'department_name': 'string'}\n",
      "{'employee_id': 'bigint', 'service_id': 'bigint', 'enrollment_date': 'string'}\n",
      "{'service_id': 'bigint', 'employee_id': 'bigint', 'department_id': 'bigint', 'start_date': 'string', 'end_date': 'string'}\n",
      "{'service_id': 'bigint', 'service_name': 'string'}\n",
      "{'employee': {...}, 'department': {...}, 'enrollment': {...}, 'service_history': {...}, 'services': {...}}\n"
     ]
    }
   ],
   "source": [
    "catalog_id = \"529088288102\"\n",
    "table_list = [\"employee\", \"department\", \"enrollment\", \"service_history\", \"services\"]\n",
    "table_schema = {}\n",
    "for table in table_list:\n",
    "    response = wr.catalog.get_table_types(database=\"finetune_llm_querygen\", table=table, catalog_id=catalog_id)\n",
    "    print(response)\n",
    "    table_schema[table] = table_schema\n",
    "\n",
    "print(table_schema)"
   ]
  },
  {
   "cell_type": "code",
   "execution_count": 25,
   "id": "738bfd10-c3db-4756-a81d-532d7f077508",
   "metadata": {},
   "outputs": [],
   "source": [
    "bedrock_client = boto3.client(\"bedrock-runtime\", region_name=\"us-east-1\")"
   ]
  },
  {
   "cell_type": "code",
   "execution_count": 61,
   "id": "59680163-7abd-42be-97ed-a5542784a47e",
   "metadata": {},
   "outputs": [
    {
     "name": "stdout",
     "output_type": "stream",
     "text": [
      "\n",
      "generate the sql query for the following spec and refer to the table schema provided below as reference for the actual table column names: and\n",
      "fetch employee names and list all the departments they served as a service history report where employee details, department details and service details data are hosted in separated tables.\n",
      "table schema for employee table {'employee': {...}, 'department': {...}, 'enrollment': {...}, 'service_history': {...}, 'services': {...}},  department table {'employee': {...}, 'department': {...}, 'enrollment': {...}, 'service_history': {...}, 'services': {...}}, service history {'employee': {...}, 'department': {...}, 'enrollment': {...}, 'service_history': {...}, 'services': {...}}\n",
      "Just give SQL output no explanation required\n",
      "Sample query:\n",
      "SELECT \n",
      "    e.employee_id,\n",
      "    e.first_name,\n",
      "    e.last_name,\n",
      "    d.department_name,\n",
      "    sh.start_date,\n",
      "    sh.end_date\n",
      "FROM \n",
      "    finetune_llm_querygen.employee e\n",
      "JOIN \n",
      "    finetune_llm_querygen.service_history sh ON e.employee_id = sh.employee_id\n",
      "JOIN \n",
      "    finetune_llm_querygen.department d ON sh.department_id = d.department_id\n",
      "ORDER BY \n",
      "    e.employee_id, sh.start_date\n",
      "\n"
     ]
    }
   ],
   "source": [
    "prompt = f\"\"\"\n",
    "generate the sql query for the following spec and refer to the table schema provided below as reference for the actual table column names: and\n",
    "fetch employee names and list all the departments they served as a service history report where employee details, department details and service details data are hosted in separated tables.\n",
    "table schema for employee table {table_schema['employee']},  department table {table_schema['department']}, service history {table_schema['service_history']}\n",
    "Just give SQL output no explanation required\n",
    "Sample query:\n",
    "SELECT \n",
    "    e.employee_id,\n",
    "    e.first_name,\n",
    "    e.last_name,\n",
    "    d.department_name,\n",
    "    sh.start_date,\n",
    "    sh.end_date\n",
    "FROM \n",
    "    finetune_llm_querygen.employee e\n",
    "JOIN \n",
    "    finetune_llm_querygen.service_history sh ON e.employee_id = sh.employee_id\n",
    "JOIN \n",
    "    finetune_llm_querygen.department d ON sh.department_id = d.department_id\n",
    "ORDER BY \n",
    "    e.employee_id, sh.start_date\n",
    "\"\"\"\n",
    "\n",
    "print(prompt)"
   ]
  },
  {
   "cell_type": "code",
   "execution_count": 62,
   "id": "091e6cd6-d71c-4658-a2b4-714dc2cb822c",
   "metadata": {},
   "outputs": [],
   "source": [
    "body = json.dumps(\n",
    "    {\n",
    "        \"anthropic_version\" : \"bedrock-2023-05-31\",\n",
    "        \"max_tokens\" : 512,\n",
    "        \"messages\" : [\n",
    "            {\n",
    "                \"role\" : \"user\",\n",
    "                \"content\" : [{\"type\": \"text\", \"text\": prompt}]\n",
    "            }],\n",
    "        \"temperature\" : 1\n",
    "    \n",
    "    }\n",
    ")\n",
    "\n",
    "prompt_request = {\n",
    "    \"body\" : body,\n",
    "    \"modelId\" : \"anthropic.claude-3-5-sonnet-20240620-v1:0\"\n",
    "}"
   ]
  },
  {
   "cell_type": "code",
   "execution_count": 63,
   "id": "5e94548a-ae03-43dd-826e-12635a77fa6a",
   "metadata": {},
   "outputs": [
    {
     "name": "stdout",
     "output_type": "stream",
     "text": [
      "SELECT \n",
      "    e.employee_id,\n",
      "    e.first_name,\n",
      "    e.last_name,\n",
      "    d.department_name,\n",
      "    sh.start_date,\n",
      "    sh.end_date\n",
      "FROM \n",
      "    employee e\n",
      "JOIN \n",
      "    service_history sh ON e.employee_id = sh.employee_id\n",
      "JOIN \n",
      "    department d ON sh.department_id = d.department_id\n",
      "ORDER BY \n",
      "    e.employee_id, sh.start_date\n"
     ]
    }
   ],
   "source": [
    "response = bedrock_client.invoke_model(modelId=prompt_request['modelId'], body=prompt_request['body'])\n",
    "response_json = json.loads(response.get('body').read())\n",
    "response_text = response_json.get('content')[0].get('text')\n",
    "print(response_text)"
   ]
  },
  {
   "cell_type": "code",
   "execution_count": 65,
   "id": "16d1795b-1652-4fb9-a920-70a280c7b0ad",
   "metadata": {},
   "outputs": [
    {
     "name": "stdout",
     "output_type": "stream",
     "text": [
      "shape: (5, 6)\n",
      "┌─────────────┬────────────┬───────────┬─────────────────┬────────────┬────────────┐\n",
      "│ employee_id ┆ first_name ┆ last_name ┆ department_name ┆ start_date ┆ end_date   │\n",
      "│ ---         ┆ ---        ┆ ---       ┆ ---             ┆ ---        ┆ ---        │\n",
      "│ i64         ┆ str        ┆ str       ┆ str             ┆ str        ┆ str        │\n",
      "╞═════════════╪════════════╪═══════════╪═════════════════╪════════════╪════════════╡\n",
      "│ 1           ┆ Bryan      ┆ Diaz      ┆ Sales           ┆ 2017-09-28 ┆ 2019-04-04 │\n",
      "│ 5           ┆ Michelle   ┆ Guzman    ┆ HR              ┆ 2015-07-15 ┆ 2016-09-10 │\n",
      "│ 7           ┆ Donna      ┆ Beck      ┆ IT              ┆ 2016-05-16 ┆ 2019-03-09 │\n",
      "│ 8           ┆ Deanna     ┆ Sanford   ┆ Sales           ┆ 2020-04-01 ┆ 2021-11-17 │\n",
      "│ 9           ┆ Marcus     ┆ Garcia    ┆ IT              ┆ 2016-03-30 ┆ 2018-03-25 │\n",
      "└─────────────┴────────────┴───────────┴─────────────────┴────────────┴────────────┘\n"
     ]
    }
   ],
   "source": [
    "# response_text = str(response_text).replace(\"employee_name\",\"first_name\")\n",
    "df = pl.from_pandas(wr.athena.read_sql_query(sql=response_text,\n",
    "                              database=\"finetune_llm_querygen\",\n",
    "                              workgroup='primary',\n",
    "                              boto3_session=boto3_session,\n",
    "                              data_source='AwsDataCatalog'\n",
    "                             ))\n",
    "print(df.head())"
   ]
  }
 ],
 "metadata": {
  "kernelspec": {
   "display_name": "conda_python3",
   "language": "python",
   "name": "conda_python3"
  },
  "language_info": {
   "codemirror_mode": {
    "name": "ipython",
    "version": 3
   },
   "file_extension": ".py",
   "mimetype": "text/x-python",
   "name": "python",
   "nbconvert_exporter": "python",
   "pygments_lexer": "ipython3",
   "version": "3.10.16"
  }
 },
 "nbformat": 4,
 "nbformat_minor": 5
}
