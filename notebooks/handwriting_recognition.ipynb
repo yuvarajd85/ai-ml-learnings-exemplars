{
 "cells": [
  {
   "cell_type": "code",
   "execution_count": 50,
   "id": "a2661c2f-5a40-4c5b-8971-c1636884cf74",
   "metadata": {},
   "outputs": [
    {
     "name": "stdout",
     "output_type": "stream",
     "text": [
      "Running Tensorflow 2.19.0\n"
     ]
    }
   ],
   "source": [
    "import polars as pl\n",
    "import tensorflow as tf\n",
    "from tensorflow.keras import models, layers, datasets, utils, backend, optimizers\n",
    "from tensorflow.keras.utils import to_categorical\n",
    "import matplotlib.pyplot as mlplot\n",
    "import numpy as np\n",
    "import random as rn\n",
    "\n",
    "print(f\"Running Tensorflow {tf.__version__}\")"
   ]
  },
  {
   "cell_type": "code",
   "execution_count": 51,
   "id": "220755a3-8822-4b90-8548-8ffec374f70c",
   "metadata": {},
   "outputs": [],
   "source": [
    "#load Dataset\n",
    "(x_train, y_train), (x_test, y_test) = datasets.mnist.load_data()\n",
    "\n",
    "x_train, x_test = x_train/255.0, x_test/255.0\n",
    "y_train = to_categorical(y_train, 10)\n",
    "y_test = to_categorical(y_test, 10)"
   ]
  },
  {
   "cell_type": "code",
   "execution_count": 52,
   "id": "160e21f8-c59a-4262-b855-80bf52bb6d12",
   "metadata": {},
   "outputs": [
    {
     "name": "stdout",
     "output_type": "stream",
     "text": [
      "(60000, 28, 28)\n"
     ]
    }
   ],
   "source": [
    "print(x_train.shape)"
   ]
  },
  {
   "cell_type": "code",
   "execution_count": 30,
   "id": "d40bb943-1f0c-4617-8c2d-3dd13179eea2",
   "metadata": {},
   "outputs": [],
   "source": [
    "#Randomly select 8 examples and plot them\n",
    "def plotExamples(data, labels, model_predict):\n",
    "    # mlplot.figure(figsize(8,5))\n",
    "\n",
    "    for i in range(8):\n",
    "        sub = 241 + i\n",
    "        ax = mlplot.subplot(sub)\n",
    "        index = np.random.randint(0,data.shape[0])\n",
    "        ax.set_title(f\"num: {str(np.argmax(labels[index]))} , {str(np.argmax(model_predict[index]))}\")\n",
    "        im = np.reshape(data[index], (28,28))\n",
    "        mlplot.imshow(im, cmap=\"gray\")\n",
    "    mlplot.show()\n",
    "    "
   ]
  },
  {
   "cell_type": "code",
   "execution_count": 31,
   "id": "344a23b6-1d6c-4eda-ab73-60f044de1f60",
   "metadata": {},
   "outputs": [
    {
     "data": {
      "image/png": "[encoded data removed]",
      "text/plain": [
       "<Figure size 640x480 with 8 Axes>"
      ]
     },
     "metadata": {},
     "output_type": "display_data"
    }
   ],
   "source": [
    "plotExamples(x_train, y_train, y_train)"
   ]
  },
  {
   "cell_type": "code",
   "execution_count": 32,
   "id": "587bda3a-a7fa-461d-91c3-a2609af55106",
   "metadata": {},
   "outputs": [],
   "source": [
    "backend.clear_session()\n",
    "rn.seed(139)\n",
    "np.random.seed(7)\n",
    "tf.random.set_seed(13)"
   ]
  },
  {
   "cell_type": "code",
   "execution_count": 53,
   "id": "c7e35175-0d0f-450c-a6c6-7fa4567e7166",
   "metadata": {},
   "outputs": [],
   "source": [
    "hw_model = models.Sequential()\n",
    "hw_model.add(layers.Flatten(input_shape=(28,28)))\n",
    "hw_model.add(layers.Dense(256,activation='sigmoid',name='Hidden_Layer1'))\n",
    "hw_model.add(layers.Dense(128,activation='sigmoid',name='Hidden_Layer2'))\n",
    "hw_model.add(layers.Dense(64,activation='relu',name='Hidden_Layer3'))\n",
    "hw_model.add(layers.Dense(32,activation='relu',name='Hidden_Layer4'))\n",
    "hw_model.add(layers.Dense(10,activation='softmax',name='Output_Layer'))"
   ]
  },
  {
   "cell_type": "markdown",
   "id": "9b453144-714f-4ee7-9a2d-aa290a99f8cb",
   "metadata": {},
   "source": [
    "### Specify the hyperparameters and compile the model\n",
    "- Use Stochastic gradient descent (SGD) as the Optimizer with `learning_rate` of `0.01`\n",
    "- Use `Mean Squared Error` as the loss function\n",
    "\n",
    "$$\n",
    "\\mathrm{MSE} = \\frac{1}{n} \\sum_{i=1}^{n} (y_i - \\hat{y}_i)^2\n",
    "$$\n",
    "\n",
    "Where: \n",
    "( $y_i$ ) = Actual value\n",
    "\n",
    "( $\\hat{y}_i$ ) = Predicted value\n",
    "\n",
    "( $n$ ) = Number of data points\n",
    "\n",
    "## **Explanation**\n",
    "- MSE measures how far the predictions are from the actual values.\n",
    "- Squaring the errors ensures that large errors are penalized more than small ones.\n",
    "- A **lower MSE** indicates a better model fit."
   ]
  },
  {
   "cell_type": "code",
   "execution_count": 54,
   "id": "666abb48-5b22-47f2-bd7d-2f4ec07686e0",
   "metadata": {},
   "outputs": [],
   "source": [
    "#Create SGD optimizer with learning rate `0.01`\n",
    "sgd = optimizers.SGD(learning_rate=0.01)\n",
    "\n",
    "#Compile the model, using MSE as loss function, SGD as optimizer\n",
    "hw_model.compile(optimizer=sgd, loss='categorical_crossentropy', metrics=['accuracy'])"
   ]
  },
  {
   "cell_type": "code",
   "execution_count": 55,
   "id": "586d26ff-79c7-49ab-bcb9-9cb8ae77fcf5",
   "metadata": {},
   "outputs": [
    {
     "data": {
      "text/html": [
       "<pre style=\"white-space:pre;overflow-x:auto;line-height:normal;font-family:Menlo,'DejaVu Sans Mono',consolas,'Courier New',monospace\"><span style=\"font-weight: bold\">Model: \"sequential_5\"</span>\n",
       "</pre>\n"
      ],
      "text/plain": [
       "\u001b[1mModel: \"sequential_5\"\u001b[0m\n"
      ]
     },
     "metadata": {},
     "output_type": "display_data"
    },
    {
     "data": {
      "text/html": [
       "<pre style=\"white-space:pre;overflow-x:auto;line-height:normal;font-family:Menlo,'DejaVu Sans Mono',consolas,'Courier New',monospace\">┏━━━━━━━━━━━━━━━━━━━━━━━━━━━━━━━━━━━━━━┳━━━━━━━━━━━━━━━━━━━━━━━━━━━━━┳━━━━━━━━━━━━━━━━━┓\n",
       "┃<span style=\"font-weight: bold\"> Layer (type)                         </span>┃<span style=\"font-weight: bold\"> Output Shape                </span>┃<span style=\"font-weight: bold\">         Param # </span>┃\n",
       "┡━━━━━━━━━━━━━━━━━━━━━━━━━━━━━━━━━━━━━━╇━━━━━━━━━━━━━━━━━━━━━━━━━━━━━╇━━━━━━━━━━━━━━━━━┩\n",
       "│ flatten_1 (<span style=\"color: #0087ff; text-decoration-color: #0087ff\">Flatten</span>)                  │ (<span style=\"color: #00d7ff; text-decoration-color: #00d7ff\">None</span>, <span style=\"color: #00af00; text-decoration-color: #00af00\">784</span>)                 │               <span style=\"color: #00af00; text-decoration-color: #00af00\">0</span> │\n",
       "├──────────────────────────────────────┼─────────────────────────────┼─────────────────┤\n",
       "│ Hidden_Layer1 (<span style=\"color: #0087ff; text-decoration-color: #0087ff\">Dense</span>)                │ (<span style=\"color: #00d7ff; text-decoration-color: #00d7ff\">None</span>, <span style=\"color: #00af00; text-decoration-color: #00af00\">256</span>)                 │         <span style=\"color: #00af00; text-decoration-color: #00af00\">200,960</span> │\n",
       "├──────────────────────────────────────┼─────────────────────────────┼─────────────────┤\n",
       "│ Hidden_Layer2 (<span style=\"color: #0087ff; text-decoration-color: #0087ff\">Dense</span>)                │ (<span style=\"color: #00d7ff; text-decoration-color: #00d7ff\">None</span>, <span style=\"color: #00af00; text-decoration-color: #00af00\">128</span>)                 │          <span style=\"color: #00af00; text-decoration-color: #00af00\">32,896</span> │\n",
       "├──────────────────────────────────────┼─────────────────────────────┼─────────────────┤\n",
       "│ Hidden_Layer3 (<span style=\"color: #0087ff; text-decoration-color: #0087ff\">Dense</span>)                │ (<span style=\"color: #00d7ff; text-decoration-color: #00d7ff\">None</span>, <span style=\"color: #00af00; text-decoration-color: #00af00\">64</span>)                  │           <span style=\"color: #00af00; text-decoration-color: #00af00\">8,256</span> │\n",
       "├──────────────────────────────────────┼─────────────────────────────┼─────────────────┤\n",
       "│ Hidden_Layer4 (<span style=\"color: #0087ff; text-decoration-color: #0087ff\">Dense</span>)                │ (<span style=\"color: #00d7ff; text-decoration-color: #00d7ff\">None</span>, <span style=\"color: #00af00; text-decoration-color: #00af00\">32</span>)                  │           <span style=\"color: #00af00; text-decoration-color: #00af00\">2,080</span> │\n",
       "├──────────────────────────────────────┼─────────────────────────────┼─────────────────┤\n",
       "│ Output_Layer (<span style=\"color: #0087ff; text-decoration-color: #0087ff\">Dense</span>)                 │ (<span style=\"color: #00d7ff; text-decoration-color: #00d7ff\">None</span>, <span style=\"color: #00af00; text-decoration-color: #00af00\">10</span>)                  │             <span style=\"color: #00af00; text-decoration-color: #00af00\">330</span> │\n",
       "└──────────────────────────────────────┴─────────────────────────────┴─────────────────┘\n",
       "</pre>\n"
      ],
      "text/plain": [
       "┏━━━━━━━━━━━━━━━━━━━━━━━━━━━━━━━━━━━━━━┳━━━━━━━━━━━━━━━━━━━━━━━━━━━━━┳━━━━━━━━━━━━━━━━━┓\n",
       "┃\u001b[1m \u001b[0m\u001b[1mLayer (type)                        \u001b[0m\u001b[1m \u001b[0m┃\u001b[1m \u001b[0m\u001b[1mOutput Shape               \u001b[0m\u001b[1m \u001b[0m┃\u001b[1m \u001b[0m\u001b[1m        Param #\u001b[0m\u001b[1m \u001b[0m┃\n",
       "┡━━━━━━━━━━━━━━━━━━━━━━━━━━━━━━━━━━━━━━╇━━━━━━━━━━━━━━━━━━━━━━━━━━━━━╇━━━━━━━━━━━━━━━━━┩\n",
       "│ flatten_1 (\u001b[38;5;33mFlatten\u001b[0m)                  │ (\u001b[38;5;45mNone\u001b[0m, \u001b[38;5;34m784\u001b[0m)                 │               \u001b[38;5;34m0\u001b[0m │\n",
       "├──────────────────────────────────────┼─────────────────────────────┼─────────────────┤\n",
       "│ Hidden_Layer1 (\u001b[38;5;33mDense\u001b[0m)                │ (\u001b[38;5;45mNone\u001b[0m, \u001b[38;5;34m256\u001b[0m)                 │         \u001b[38;5;34m200,960\u001b[0m │\n",
       "├──────────────────────────────────────┼─────────────────────────────┼─────────────────┤\n",
       "│ Hidden_Layer2 (\u001b[38;5;33mDense\u001b[0m)                │ (\u001b[38;5;45mNone\u001b[0m, \u001b[38;5;34m128\u001b[0m)                 │          \u001b[38;5;34m32,896\u001b[0m │\n",
       "├──────────────────────────────────────┼─────────────────────────────┼─────────────────┤\n",
       "│ Hidden_Layer3 (\u001b[38;5;33mDense\u001b[0m)                │ (\u001b[38;5;45mNone\u001b[0m, \u001b[38;5;34m64\u001b[0m)                  │           \u001b[38;5;34m8,256\u001b[0m │\n",
       "├──────────────────────────────────────┼─────────────────────────────┼─────────────────┤\n",
       "│ Hidden_Layer4 (\u001b[38;5;33mDense\u001b[0m)                │ (\u001b[38;5;45mNone\u001b[0m, \u001b[38;5;34m32\u001b[0m)                  │           \u001b[38;5;34m2,080\u001b[0m │\n",
       "├──────────────────────────────────────┼─────────────────────────────┼─────────────────┤\n",
       "│ Output_Layer (\u001b[38;5;33mDense\u001b[0m)                 │ (\u001b[38;5;45mNone\u001b[0m, \u001b[38;5;34m10\u001b[0m)                  │             \u001b[38;5;34m330\u001b[0m │\n",
       "└──────────────────────────────────────┴─────────────────────────────┴─────────────────┘\n"
      ]
     },
     "metadata": {},
     "output_type": "display_data"
    },
    {
     "data": {
      "text/html": [
       "<pre style=\"white-space:pre;overflow-x:auto;line-height:normal;font-family:Menlo,'DejaVu Sans Mono',consolas,'Courier New',monospace\"><span style=\"font-weight: bold\"> Total params: </span><span style=\"color: #00af00; text-decoration-color: #00af00\">244,522</span> (955.16 KB)\n",
       "</pre>\n"
      ],
      "text/plain": [
       "\u001b[1m Total params: \u001b[0m\u001b[38;5;34m244,522\u001b[0m (955.16 KB)\n"
      ]
     },
     "metadata": {},
     "output_type": "display_data"
    },
    {
     "data": {
      "text/html": [
       "<pre style=\"white-space:pre;overflow-x:auto;line-height:normal;font-family:Menlo,'DejaVu Sans Mono',consolas,'Courier New',monospace\"><span style=\"font-weight: bold\"> Trainable params: </span><span style=\"color: #00af00; text-decoration-color: #00af00\">244,522</span> (955.16 KB)\n",
       "</pre>\n"
      ],
      "text/plain": [
       "\u001b[1m Trainable params: \u001b[0m\u001b[38;5;34m244,522\u001b[0m (955.16 KB)\n"
      ]
     },
     "metadata": {},
     "output_type": "display_data"
    },
    {
     "data": {
      "text/html": [
       "<pre style=\"white-space:pre;overflow-x:auto;line-height:normal;font-family:Menlo,'DejaVu Sans Mono',consolas,'Courier New',monospace\"><span style=\"font-weight: bold\"> Non-trainable params: </span><span style=\"color: #00af00; text-decoration-color: #00af00\">0</span> (0.00 B)\n",
       "</pre>\n"
      ],
      "text/plain": [
       "\u001b[1m Non-trainable params: \u001b[0m\u001b[38;5;34m0\u001b[0m (0.00 B)\n"
      ]
     },
     "metadata": {},
     "output_type": "display_data"
    }
   ],
   "source": [
    "hw_model.summary()"
   ]
  },
  {
   "cell_type": "code",
   "execution_count": 56,
   "id": "d249dc28-7658-4dce-bef9-a433ba235b3a",
   "metadata": {},
   "outputs": [
    {
     "name": "stdout",
     "output_type": "stream",
     "text": [
      "Epoch 1/15\n",
      "938/938 - 3s - 4ms/step - accuracy: 0.1588 - loss: 2.2804\n",
      "Epoch 2/15\n",
      "938/938 - 3s - 3ms/step - accuracy: 0.3331 - loss: 2.1591\n",
      "Epoch 3/15\n",
      "938/938 - 3s - 3ms/step - accuracy: 0.5032 - loss: 1.5911\n",
      "Epoch 4/15\n",
      "938/938 - 3s - 3ms/step - accuracy: 0.6923 - loss: 0.9697\n",
      "Epoch 5/15\n",
      "938/938 - 3s - 3ms/step - accuracy: 0.7769 - loss: 0.7178\n",
      "Epoch 6/15\n",
      "938/938 - 3s - 3ms/step - accuracy: 0.8122 - loss: 0.6121\n",
      "Epoch 7/15\n",
      "938/938 - 3s - 3ms/step - accuracy: 0.8334 - loss: 0.5514\n",
      "Epoch 8/15\n",
      "938/938 - 3s - 3ms/step - accuracy: 0.8523 - loss: 0.4995\n",
      "Epoch 9/15\n",
      "938/938 - 3s - 3ms/step - accuracy: 0.8663 - loss: 0.4570\n",
      "Epoch 10/15\n",
      "938/938 - 3s - 3ms/step - accuracy: 0.8746 - loss: 0.4303\n",
      "Epoch 11/15\n",
      "938/938 - 3s - 3ms/step - accuracy: 0.8794 - loss: 0.4131\n",
      "Epoch 12/15\n",
      "938/938 - 3s - 3ms/step - accuracy: 0.8835 - loss: 0.4002\n",
      "Epoch 13/15\n",
      "938/938 - 3s - 3ms/step - accuracy: 0.8870 - loss: 0.3895\n",
      "Epoch 14/15\n",
      "938/938 - 3s - 3ms/step - accuracy: 0.8891 - loss: 0.3800\n",
      "Epoch 15/15\n",
      "938/938 - 3s - 3ms/step - accuracy: 0.8918 - loss: 0.3714\n"
     ]
    },
    {
     "data": {
      "text/plain": [
       "<keras.src.callbacks.history.History at 0x1dd232d1310>"
      ]
     },
     "execution_count": 56,
     "metadata": {},
     "output_type": "execute_result"
    }
   ],
   "source": [
    "hw_model.fit(x=x_train, y=y_train, batch_size=64, epochs=15, verbose=2)"
   ]
  },
  {
   "cell_type": "code",
   "execution_count": 57,
   "id": "4ea6fa7c-6d5d-4ec7-84f5-90ecbb5d09a4",
   "metadata": {},
   "outputs": [
    {
     "name": "stdout",
     "output_type": "stream",
     "text": [
      "Model Accuracy: 89.85\n"
     ]
    }
   ],
   "source": [
    "#Evaluate the model\n",
    "hw_scores = hw_model.evaluate(x_test, y_test, verbose=0)\n",
    "print(f\"Model Accuracy: {hw_scores[1]*100:.2f}\")"
   ]
  },
  {
   "cell_type": "code",
   "execution_count": 58,
   "id": "b54cfd04-ba7f-4470-9836-6cc77246e3ee",
   "metadata": {},
   "outputs": [
    {
     "name": "stdout",
     "output_type": "stream",
     "text": [
      "\u001b[1m313/313\u001b[0m \u001b[32m━━━━━━━━━━━━━━━━━━━━\u001b[0m\u001b[37m\u001b[0m \u001b[1m1s\u001b[0m 2ms/step  \n"
     ]
    },
    {
     "data": {
      "text/plain": [
       "array([[1.6294146e-03, 8.7870811e-10, 5.5555638e-04, ..., 9.9276054e-01,\n",
       "        4.8767010e-06, 1.5133986e-03],\n",
       "       [2.0850175e-03, 6.4566411e-05, 9.6107221e-01, ..., 3.6558490e-09,\n",
       "        1.8853225e-03, 3.8416706e-10],\n",
       "       [2.8079528e-09, 9.7724402e-01, 7.3372186e-03, ..., 5.4047594e-04,\n",
       "        1.4118456e-03, 4.5289678e-04],\n",
       "       ...,\n",
       "       [4.1746318e-07, 3.9220369e-05, 8.7030749e-06, ..., 5.3710031e-04,\n",
       "        9.6180085e-03, 2.7059916e-01],\n",
       "       [2.3503529e-03, 9.1342496e-05, 3.1143214e-04, ..., 9.0292588e-06,\n",
       "        8.2720868e-02, 5.7780562e-04],\n",
       "       [1.7838174e-05, 3.6378147e-09, 3.3224575e-04, ..., 4.1463191e-10,\n",
       "        5.4356533e-06, 7.0309678e-09]], dtype=float32)"
      ]
     },
     "execution_count": 58,
     "metadata": {},
     "output_type": "execute_result"
    }
   ],
   "source": [
    "hw_model.predict(x_test)"
   ]
  },
  {
   "cell_type": "code",
   "execution_count": null,
   "id": "3cb1074a-d60a-4217-94e1-16be958d777b",
   "metadata": {},
   "outputs": [],
   "source": []
  }
 ],
 "metadata": {
  "kernelspec": {
   "display_name": "Python 3 (ipykernel)",
   "language": "python",
   "name": "python3"
  },
  "language_info": {
   "codemirror_mode": {
    "name": "ipython",
    "version": 3
   },
   "file_extension": ".py",
   "mimetype": "text/x-python",
   "name": "python",
   "nbconvert_exporter": "python",
   "pygments_lexer": "ipython3",
   "version": "3.11.0"
  }
 },
 "nbformat": 4,
 "nbformat_minor": 5
}
