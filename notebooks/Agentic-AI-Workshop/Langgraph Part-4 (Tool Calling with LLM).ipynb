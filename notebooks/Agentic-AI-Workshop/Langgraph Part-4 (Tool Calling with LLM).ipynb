{
 "cells": [
  {
   "cell_type": "code",
   "execution_count": 25,
   "id": "initial_id",
   "metadata": {
    "ExecuteTime": {
     "end_time": "2025-06-20T22:00:24.429638Z",
     "start_time": "2025-06-20T22:00:23.237318Z"
    }
   },
   "outputs": [],
   "source": [
    "from langchain.chat_models import init_chat_model\n",
    "from typing import Annotated\n",
    "from typing_extensions import TypedDict\n",
    "from langgraph.graph import StateGraph, START, END\n",
    "from langgraph.graph.message import add_messages\n",
    "from langchain_core.tools import tool\n",
    "from langgraph.prebuilt import ToolNode, tools_condition"
   ]
  },
  {
   "cell_type": "code",
   "execution_count": 26,
   "id": "98afda7e82d78885",
   "metadata": {
    "ExecuteTime": {
     "end_time": "2025-06-20T22:00:28.797169Z",
     "start_time": "2025-06-20T22:00:28.768168Z"
    }
   },
   "outputs": [
    {
     "data": {
      "text/plain": [
       "True"
      ]
     },
     "execution_count": 26,
     "metadata": {},
     "output_type": "execute_result"
    }
   ],
   "source": [
    "from dotenv import load_dotenv\n",
    "load_dotenv()"
   ]
  },
  {
   "cell_type": "code",
   "execution_count": 27,
   "id": "ca26e5c9b6f90e70",
   "metadata": {
    "ExecuteTime": {
     "end_time": "2025-06-20T22:00:36.355878Z",
     "start_time": "2025-06-20T22:00:36.343361Z"
    }
   },
   "outputs": [],
   "source": [
    "# --- State definition ---\n",
    "class State(TypedDict):\n",
    "    # Conversation history. The `add_messages` annotation tells LangGraph to APPEND\n",
    "    # messages instead of replacing them.\n",
    "    messages: Annotated[list, add_messages]"
   ]
  },
  {
   "cell_type": "code",
   "execution_count": 28,
   "id": "1ae1551f32e48052",
   "metadata": {
    "ExecuteTime": {
     "end_time": "2025-06-20T22:06:27.835885Z",
     "start_time": "2025-06-20T22:06:26.935758Z"
    }
   },
   "outputs": [],
   "source": [
    "# --- Tools (simple, deterministic) ---\n",
    "@tool\n",
    "def get_stock_price(symbol: str) -> float:\n",
    "    \"\"\"Return the current price of a stock given the stock symbol.\n",
    "    :param symbol: stock symbol (e.g., 'AAPL')\n",
    "    :return: current price of the stock\n",
    "    \"\"\"\n",
    "    return {\n",
    "        \"MSFT\": 200.3,\n",
    "        \"AAPL\": 100.4,\n",
    "        \"AMZN\": 150.0,\n",
    "        \"RIL\": 87.6\n",
    "    }.get(symbol.upper(), 0.0)\n",
    "\n",
    "tools = [get_stock_price]"
   ]
  },
  {
   "cell_type": "code",
   "execution_count": 29,
   "id": "de135bd8-3cb1-4968-830b-9514e4ba8761",
   "metadata": {},
   "outputs": [],
   "source": [
    "# --- LLM setup (bound to tools) ---\n",
    "llm = init_chat_model(\"openai:gpt-5\")\n",
    "llm_with_tools = llm.bind_tools(tools)"
   ]
  },
  {
   "cell_type": "code",
   "execution_count": 23,
   "id": "f87bd5ce-40c0-4c85-89bc-f74e6185ec2b",
   "metadata": {},
   "outputs": [],
   "source": [
    "# --- Nodes ---\n",
    "def chatbot(state: State) -> State:\n",
    "    reply = llm_with_tools.invoke(state[\"messages\"])\n",
    "    return {\"messages\": [reply]}\n",
    "\n"
   ]
  },
  {
   "cell_type": "code",
   "execution_count": 24,
   "id": "4397f99a-cc75-42f3-9135-14533ffa7852",
   "metadata": {},
   "outputs": [
    {
     "data": {
      "image/png": "[encoded data removed]",
      "text/plain": [
       "<IPython.core.display.Image object>"
      ]
     },
     "metadata": {},
     "output_type": "display_data"
    }
   ],
   "source": [
    "builder = StateGraph(State)\n",
    "\n",
    "builder.add_node(chatbot)\n",
    "builder.add_node(\"tools\", ToolNode(tools))\n",
    "\n",
    "builder.add_edge(START, \"chatbot\")\n",
    "builder.add_conditional_edges(\"chatbot\", tools_condition)\n",
    "\n",
    "graph = builder.compile()\n",
    "\n",
    "from IPython.display import Image, display\n",
    "\n",
    "display(Image(graph.get_graph().draw_mermaid_png()))"
   ]
  },
  {
   "cell_type": "code",
   "execution_count": 20,
   "id": "1fca0bcad1001c0f",
   "metadata": {
    "ExecuteTime": {
     "end_time": "2025-06-20T22:09:54.487653Z",
     "start_time": "2025-06-20T22:09:53.959262Z"
    }
   },
   "outputs": [
    {
     "name": "stdout",
     "output_type": "stream",
     "text": [
      "200.3\n"
     ]
    }
   ],
   "source": [
    "state = graph.invoke({\"messages\": [{\"role\": \"user\", \"content\": \"Give only the number: current price of MSFT?\"}]})\n",
    "print(state[\"messages\"][-1].content)"
   ]
  },
  {
   "cell_type": "code",
   "execution_count": 21,
   "id": "a790a5ff481e68dd",
   "metadata": {
    "ExecuteTime": {
     "end_time": "2025-06-20T22:11:27.896213Z",
     "start_time": "2025-06-20T22:11:27.371735Z"
    }
   },
   "outputs": [
    {
     "name": "stdout",
     "output_type": "stream",
     "text": [
      "George Washington\n"
     ]
    }
   ],
   "source": [
    "state = graph.invoke({\"messages\": [{\"role\": \"user\", \"content\": \"name first US president? print person name only\"}]})\n",
    "print(state[\"messages\"][-1].content)"
   ]
  },
  {
   "cell_type": "code",
   "execution_count": 22,
   "id": "832e942faae3ca47",
   "metadata": {
    "ExecuteTime": {
     "end_time": "2025-06-20T22:12:03.620773Z",
     "start_time": "2025-06-20T22:12:02.943597Z"
    }
   },
   "outputs": [
    {
     "name": "stdout",
     "output_type": "stream",
     "text": [
      "200.3\n"
     ]
    }
   ],
   "source": [
    "msg = \"Buy 20 AMZN and 15 MSFT at their current prices. Return only the total cost in USD (number).\"\n",
    "\n",
    "state = graph.invoke({\"messages\": [{\"role\": \"user\", \"content\": msg}]})\n",
    "print(state[\"messages\"][-1].content)"
   ]
  },
  {
   "cell_type": "code",
   "execution_count": null,
   "id": "370a52be-410b-4707-b31e-c290cebce10d",
   "metadata": {},
   "outputs": [],
   "source": []
  }
 ],
 "metadata": {
  "kernelspec": {
   "display_name": "Python 3 (ipykernel)",
   "language": "python",
   "name": "python3"
  },
  "language_info": {
   "codemirror_mode": {
    "name": "ipython",
    "version": 3
   },
   "file_extension": ".py",
   "mimetype": "text/x-python",
   "name": "python",
   "nbconvert_exporter": "python",
   "pygments_lexer": "ipython3",
   "version": "3.13.7"
  }
 },
 "nbformat": 4,
 "nbformat_minor": 5
}
