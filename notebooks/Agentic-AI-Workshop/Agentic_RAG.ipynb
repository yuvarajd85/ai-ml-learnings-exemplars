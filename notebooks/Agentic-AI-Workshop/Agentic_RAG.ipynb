{
 "cells": [
  {
   "cell_type": "markdown",
   "id": "617c804f-3829-4cd8-afb0-6a22925a451e",
   "metadata": {},
   "source": [
    "# Understanding Agentic RAG\n",
    "\n",
    "## What is RAG?\n",
    "RAG stands for **Retrieval-Augmented Generation**.  \n",
    "It means an AI model doesn’t rely only on what it already knows internally.  \n",
    "Instead, it does two things:\n",
    "- **Retrieves** information from external sources (like documents, databases, or APIs).  \n",
    "- **Augments** its answer with that retrieved information to give a more accurate response.  \n",
    "\n",
    "---\n",
    "\n",
    "## What is Agentic RAG?\n",
    "Agentic RAG is an advanced version of RAG where the model behaves more like an **agent** that can plan and act in multiple steps.  \n",
    "\n",
    "The process looks like this:\n",
    "1. **Plan** → The model decides what information it needs.  \n",
    "2. **Retrieve** → It searches for relevant information from external sources.  \n",
    "3. **Reason** → It checks if the information is enough.  \n",
    "4. **Loop** → If the information is missing, it refines the query and searches again.  \n",
    "5. **Answer** → Finally, it generates a well-informed and complete response.  \n",
    "\n",
    "---\n",
    "\n",
    "## Analogy\n",
    "- **Plain RAG**: Like asking a friend one question and they go to the library once, grab a book, and give you an answer.  \n",
    "- **Agentic RAG**: Like asking a friend who is willing to make several trips to the library, check indexes, compare different sources, and then give you a much better, researched answer.  \n",
    "\n",
    "---\n",
    "\n",
    "## Key Takeaway\n",
    "- **RAG** = Retrieve once, then answer.  \n",
    "- **Agentic RAG** = Think, plan, retrieve multiple times, and then answer.  \n",
    "- This makes Agentic RAG more powerful and reliable for complex tasks that need multiple steps of reasoning.  \n"
   ]
  },
  {
   "cell_type": "markdown",
   "id": "ffa6fa9a-66f7-41b6-8e9b-d8addca402d9",
   "metadata": {},
   "source": [
    "\n",
    "\n",
    "![Agentic Rag Workflow](AGENTIC_RAG.png)\n",
    "\n"
   ]
  },
  {
   "cell_type": "markdown",
   "id": "d0bcef91-6839-484a-8577-00a400d0287b",
   "metadata": {},
   "source": [
    "### Agentic Langgraph Workflow"
   ]
  },
  {
   "cell_type": "markdown",
   "id": "1c909e05-95e7-4dd6-9305-3b4b8f64f58c",
   "metadata": {},
   "source": [
    "<img src=\"AGENTIC_RAG_LANGGRAPH.png\" alt=\"Uploaded Picture\" width=\"300\">\n"
   ]
  },
  {
   "cell_type": "code",
   "execution_count": 6,
   "id": "2e08a442-9333-40e2-a971-ae018896e19c",
   "metadata": {},
   "outputs": [],
   "source": [
    "# !pip install faiss-cpu\n",
    "# !pip install langgraph\n",
    "# !pip install langchain\n",
    "# !pip install langchain-core\n",
    "# !pip install langchain-community'\n",
    "# !pip install langchain-openai\n"
   ]
  },
  {
   "cell_type": "code",
   "execution_count": 7,
   "id": "da2985b8",
   "metadata": {},
   "outputs": [],
   "source": [
    "# ------------------------------------------\n",
    "# 🔑 Load Environment Variables and API Key\n",
    "# ------------------------------------------\n",
    "\n",
    "# 1. Import required libraries\n",
    "import os\n",
    "from dotenv import load_dotenv\n",
    "\n",
    "# 2. Load variables from the .env file into environment\n",
    "load_dotenv()\n",
    "\n",
    "# 3. Set OpenAI API key from environment\n",
    "OPENAI_API_KEY = os.getenv(\"OPENAI_API_KEY\")\n",
    "\n",
    "\n",
    "\n"
   ]
  },
  {
   "cell_type": "code",
   "execution_count": 8,
   "id": "64c96f04",
   "metadata": {},
   "outputs": [],
   "source": [
    "# ------------------------------------------------\n",
    "# 📦 Import Required Libraries for LangChain Setup\n",
    "# ------------------------------------------------\n",
    "\n",
    "# 🔹 Load documents from the web\n",
    "from langchain_community.document_loaders import WebBaseLoader\n",
    "\n",
    "# 🔹 Vector database (FAISS) for storing embeddings\n",
    "from langchain_community.vectorstores import FAISS\n",
    "\n",
    "# 🔹 OpenAI embeddings (turn text into vectors)\n",
    "from langchain_openai import OpenAIEmbeddings\n",
    "\n",
    "# 🔹 Text splitter for breaking documents into chunks\n",
    "from langchain_text_splitters import RecursiveCharacterTextSplitter\n",
    "\n"
   ]
  },
  {
   "cell_type": "code",
   "execution_count": 13,
   "id": "706e2335",
   "metadata": {},
   "outputs": [
    {
     "name": "stdout",
     "output_type": "stream",
     "text": [
      "✅ Loaded 3 documents from 3 URLs\n"
     ]
    }
   ],
   "source": [
    "# ------------------------------------------------\n",
    "# 🌐 Load Documents from Web Sources\n",
    "# ------------------------------------------------\n",
    "\n",
    "# 1. Define list of URLs to fetch content from\n",
    "langgraph_urls = [\n",
    "    \"https://www.analyticsvidhya.com/blog/2024/07/langgraph-revolutionizing-ai-agent/\",\n",
    "    \"https://langchain-ai.github.io/langgraph/tutorials/workflows/\",\n",
    "    \"https://medium.com/cyberark-engineering/building-production-ready-ai-agents-with-langgraph-a-real-life-use-case-7bda34c7f4e4\"\n",
    "]\n",
    "\n",
    "# 2. Load documents from each URL using WebBaseLoader\n",
    "docs=[WebBaseLoader(url).load() for url in langgraph_urls]\n",
    "print(f\"✅ Loaded {len(docs)} documents from {len(langgraph_urls)} URLs\")\n"
   ]
  },
  {
   "cell_type": "code",
   "execution_count": 14,
   "id": "f1040fd6-de61-4c24-85c1-6b0717641cb0",
   "metadata": {},
   "outputs": [
    {
     "name": "stdout",
     "output_type": "stream",
     "text": [
      "Total documents loaded: 3\n"
     ]
    }
   ],
   "source": [
    "# ------------------------------------------------\n",
    "# 🗂️ Flatten the List of Documents\n",
    "# ------------------------------------------------\n",
    "\n",
    "# docs currently looks like: [[doc1, doc2], [doc3], [doc4, doc5, ...]]\n",
    "# We need a single flat list of documents\n",
    "\n",
    "docs_list = [item for sublist in docs for item in sublist]\n",
    "\n",
    "print(f\"Total documents loaded: {len(docs_list)}\")\n"
   ]
  },
  {
   "cell_type": "code",
   "execution_count": 25,
   "id": "4a08aee2",
   "metadata": {},
   "outputs": [
    {
     "name": "stdout",
     "output_type": "stream",
     "text": [
      "Total chunks created: 135\n",
      "✅ Vectorstore and retriever are ready!\n"
     ]
    }
   ],
   "source": [
    "# ------------------------------------------------\n",
    "# ✂️ Step 1: Split Documents into Chunks\n",
    "# ------------------------------------------------\n",
    "from langchain_text_splitters import RecursiveCharacterTextSplitter\n",
    "\n",
    "# Define how big each chunk should be (and overlap for context continuity)\n",
    "text_splitter = RecursiveCharacterTextSplitter(\n",
    "    chunk_size=500,   # max characters per chunk\n",
    "    chunk_overlap=100  # overlap between chunks for smoother context\n",
    ")\n",
    "\n",
    "# Apply splitter to our flattened list of documents\n",
    "doc_splits = text_splitter.split_documents(docs_list)\n",
    "\n",
    "print(f\"Total chunks created: {len(doc_splits)}\")\n",
    "\n",
    "# ------------------------------------------------\n",
    "# 🗄️ Step 2: Create Vector Database (FAISS)\n",
    "# ------------------------------------------------\n",
    "\n",
    "# Build FAISS vectorstore from document chunks\n",
    "vectorstore_langgraph = FAISS.from_documents(\n",
    "    documents=doc_splits,\n",
    "    embedding=OpenAIEmbeddings()\n",
    ")\n",
    "\n",
    "# ------------------------------------------------\n",
    "# 🔍 Step 3: Create a Retriever\n",
    "# ------------------------------------------------\n",
    "retriever = vectorstore_langgraph.as_retriever()\n",
    "\n",
    "print(\"✅ Vectorstore and retriever are ready!\")\n",
    "                                                                                       # search_kwargs={\"k\": 3,\"score_threshold\": 0.7}"
   ]
  },
  {
   "cell_type": "code",
   "execution_count": 26,
   "id": "a345380f-dbc7-4da6-9b01-64e887d236fb",
   "metadata": {},
   "outputs": [
    {
     "name": "stdout",
     "output_type": "stream",
     "text": [
      "[1] Source: https://jordan-mungujakisa.medium.com/creating-an-ai-blog-post-generator-with-langchain-a-step-by-step-guide-b96e896c89c0\n",
      "concept of workflows. A workflow is basically a series of pre-determined steps that are carried out with the aim of achieving an end goal using AI. The workflow that impressed me the most was the SEO(Search engine optimization) Optimized Blog Generator workflow, which basically searches the web, picks the top 3 search results, analyses their structure, generates questions, blog title, blog outline and finally the final blog. And I thought this would be a great opportunity to use LangChain to\n",
      "--------------------------------------------------------------------------------\n",
      "[2] Source: https://python.langchain.com/docs/tutorials/\n",
      "Refer to the how-to guides for more detail on using all LangChain components. Orchestration​ Get started using LangGraph to assemble LangChain components into full-featured applications.\n",
      "--------------------------------------------------------------------------------\n",
      "[3] Source: https://jordan-mungujakisa.medium.com/creating-an-ai-blog-post-generator-with-langchain-a-step-by-step-guide-b96e896c89c0\n",
      "Creating an AI Blog Post Generator with LangChain: A Step-by-Step Guide | by Jordan Mungujakisa | MediumSitemapOpen in appSign upSign inMedium LogoWriteSign upSign inCreating an AI Blog Post Generator with LangChain: A Step-by-Step GuideJordan Mungujakisa6 min read·Jun 7, 2024--2ListenSharePress enter or click to view image in full sizeThere is an AI content creation tool called copy.ai that has a concept of workflows. A workflow is basically a series of pre-determined steps that are carried out\n",
      "--------------------------------------------------------------------------------\n",
      "[4] Source: https://python.langchain.com/docs/tutorials/\n",
      "Evaluate your LLM application Edit this pagePreviousIntroductionNextBuild a Question Answering application over a Graph DatabaseGet startedOrchestrationLangSmithEvaluationCommunityLangChain ForumTwitterSlackGitHubOrganizationPythonJS/TSMoreHomepageBlogYouTubeCopyright © 2025 LangChain, Inc.\n",
      "--------------------------------------------------------------------------------\n"
     ]
    }
   ],
   "source": [
    "# ------------------------------------------------\n",
    "# 🔍 Ask the retriever (tuned) and show readable results\n",
    "# ------------------------------------------------\n",
    "\n",
    "\n",
    "query = \"In LangGraph, what is a workflow?\"\n",
    "results = retriever.invoke(query)  # returns List[Document]\n",
    "\n",
    "def preview(text, n=500):\n",
    "    text = (text or \"\").replace(\"\\n\", \" \")\n",
    "    return text[:n] + (\"…\" if len(text) > n else \"\")\n",
    "\n",
    "for i, doc in enumerate(results, 1):\n",
    "    meta = getattr(doc, \"metadata\", {}) or {}\n",
    "    src = meta.get(\"source\") or meta.get(\"url\") or meta.get(\"Source\") or \"Unknown source\"\n",
    "    print(f\"[{i}] Source: {src}\")\n",
    "    print(preview(doc.page_content))\n",
    "    print(\"-\" * 80)\n"
   ]
  },
  {
   "cell_type": "code",
   "execution_count": 27,
   "id": "e0a7a99e",
   "metadata": {},
   "outputs": [
    {
     "name": "stdout",
     "output_type": "stream",
     "text": [
      "✅ Retriever tool created!\n"
     ]
    }
   ],
   "source": [
    "# ------------------------------------------------\n",
    "# 🛠️ Step 1: Import Retriever Tool Builder\n",
    "# ------------------------------------------------\n",
    "from langchain.tools.retriever import create_retriever_tool\n",
    "\n",
    "# ------------------------------------------------\n",
    "# 🛠️ Step 2: Wrap Retriever as a Tool\n",
    "# ------------------------------------------------\n",
    "retriever_tool = create_retriever_tool(\n",
    "    retriever=retriever,                         # the retriever we built from FAISS\n",
    "    name=\"retriever_vector_from_db1\",            # unique tool name (used by agents)\n",
    "    description=\"Search and retrieve information about LangGraph articles\"  \n",
    ")\n",
    "\n",
    "print(\"✅ Retriever tool created!\")\n"
   ]
  },
  {
   "cell_type": "markdown",
   "id": "10ac6e08",
   "metadata": {},
   "source": [
    "### Langchain Blogs- Seperate Vector Store\n"
   ]
  },
  {
   "cell_type": "code",
   "execution_count": 28,
   "id": "7c2ed2c3",
   "metadata": {},
   "outputs": [
    {
     "name": "stdout",
     "output_type": "stream",
     "text": [
      "✅ Loaded 3 documents from 3 URLs\n"
     ]
    }
   ],
   "source": [
    "# ------------------------------------------------\n",
    "# 🌐 Load LangChain Documents from Web Sources\n",
    "# ------------------------------------------------\n",
    "\n",
    "# 1. Define list of URLs to fetch content from\n",
    "langchain_urls = [\n",
    "    \"https://python.langchain.com/docs/tutorials/\",\n",
    "    \"https://www.analyticsvidhya.com/blog/2025/07/langchain-fitness-coach/\",\n",
    "    \"https://jordan-mungujakisa.medium.com/creating-an-ai-blog-post-generator-with-langchain-a-step-by-step-guide-b96e896c89c0\"\n",
    "]\n",
    "\n",
    "\n",
    "# 2. Load documents from each URL using WebBaseLoader\n",
    "docs=[WebBaseLoader(url).load() for url in langchain_urls]\n",
    "print(f\"✅ Loaded {len(docs)} documents from {len(langchain_urls)} URLs\")\n"
   ]
  },
  {
   "cell_type": "code",
   "execution_count": 29,
   "id": "e1e45106-3b2e-4370-a28b-75e0a735dfe9",
   "metadata": {},
   "outputs": [
    {
     "name": "stdout",
     "output_type": "stream",
     "text": [
      "Total documents loaded: 3\n"
     ]
    }
   ],
   "source": [
    "# ------------------------------------------------\n",
    "# 🗂️ Flatten the List of Documents\n",
    "# ------------------------------------------------\n",
    "\n",
    "# docs currently looks like: [[doc1, doc2], [doc3], [doc4, doc5, ...]]\n",
    "# We need a single flat list of documents\n",
    "\n",
    "docs_list = [item for sublist in docs for item in sublist]\n",
    "\n",
    "print(f\"Total documents loaded: {len(docs_list)}\")\n"
   ]
  },
  {
   "cell_type": "code",
   "execution_count": 30,
   "id": "f834d0de",
   "metadata": {},
   "outputs": [
    {
     "name": "stdout",
     "output_type": "stream",
     "text": [
      "✅ Created 135 chunks from 3 documents\n",
      "✅ Vectorstore for LangChain created\n",
      "✅ Retriever for LangChain is ready!\n"
     ]
    }
   ],
   "source": [
    "\n",
    "# ------------------------------------------------\n",
    "# ✂️ Step 1: Split Documents into Chunks\n",
    "# ------------------------------------------------\n",
    "text_splitter = RecursiveCharacterTextSplitter(\n",
    "    chunk_size=500,   # maximum characters per chunk\n",
    "    chunk_overlap=100  # overlap between chunks (keeps context flow)\n",
    ")\n",
    "\n",
    "doc_splits = text_splitter.split_documents(docs_list)\n",
    "\n",
    "print(f\"✅ Created {len(doc_splits)} chunks from {len(docs_list)} documents\")\n",
    "\n",
    "# ------------------------------------------------\n",
    "# 🗄️ Step 2: Build Vector Database (FAISS)\n",
    "# ------------------------------------------------\n",
    "vectorstore_langchain = FAISS.from_documents(\n",
    "    documents=doc_splits,\n",
    "    embedding=OpenAIEmbeddings()\n",
    ")\n",
    "\n",
    "print(\"✅ Vectorstore for LangChain created\")\n",
    "\n",
    "# ------------------------------------------------\n",
    "# 🔍 Step 3: Create Retriever\n",
    "# ------------------------------------------------\n",
    "retriever_langchain = vectorstore_langchain.as_retriever()\n",
    "\n",
    "print(\"✅ Retriever for LangChain is ready!\")\n"
   ]
  },
  {
   "cell_type": "code",
   "execution_count": 31,
   "id": "8c3073cc-08aa-436b-8507-8ea46c9d02bf",
   "metadata": {},
   "outputs": [
    {
     "name": "stdout",
     "output_type": "stream",
     "text": [
      "[1] Source: https://www.analyticsvidhya.com/blog/2025/07/langchain-fitness-coach/\n",
      "Use Cases for Langchain\n",
      "--------------------------------------------------------------------------------\n",
      "[2] Source: https://www.analyticsvidhya.com/blog/2025/07/langchain-fitness-coach/\n",
      "Langchain enables you to do much more when building advanced AI applications by combining large language models (LLMs) with tools, data sources, and memory. Instead of invoking the LLM with a plain text prompt, you can create agents that invoke functions, query information, and manage conversations with state. For a fitness coach, Langchain allows you to combine LLM intelligence with custom logic – for example, create workout suggestions, track progress, and get health data – so you can be a\n",
      "--------------------------------------------------------------------------------\n",
      "[3] Source: https://python.langchain.com/docs/tutorials/\n",
      "Tutorials | 🦜️🔗 LangChain\n",
      "--------------------------------------------------------------------------------\n",
      "[4] Source: https://python.langchain.com/docs/tutorials/\n",
      "Skip to main contentThese docs will be deprecated and no longer maintained with the release of LangChain v1.0 in October 2025. Visit the v1.0 alpha docsIntegrationsAPI ReferenceMoreContributingPeopleError referenceLangSmithLangGraphLangChain HubLangChain JS/TSv0.3v0.3v0.2v0.1💬SearchIntroductionTutorialsBuild a Question Answering application over a Graph DatabaseTutorialsBuild a simple LLM application with chat models and prompt templatesBuild a ChatbotBuild a Retrieval Augmented Generation\n",
      "--------------------------------------------------------------------------------\n"
     ]
    }
   ],
   "source": [
    "# ------------------------------------------------\n",
    "# 🔍 Ask the retriever (tuned) and show readable results\n",
    "# ------------------------------------------------\n",
    "\n",
    "\n",
    "query = \"what is langchain?\"\n",
    "results = retriever_langchain.invoke(query)  # returns List[Document]\n",
    "\n",
    "def preview(text, n=500):\n",
    "    text = (text or \"\").replace(\"\\n\", \" \")\n",
    "    return text[:n] + (\"…\" if len(text) > n else \"\")\n",
    "\n",
    "for i, doc in enumerate(results, 1):\n",
    "    meta = getattr(doc, \"metadata\", {}) or {}\n",
    "    src = meta.get(\"source\") or meta.get(\"url\") or meta.get(\"Source\") or \"Unknown source\"\n",
    "    print(f\"[{i}] Source: {src}\")\n",
    "    print(preview(doc.page_content))\n",
    "    print(\"-\" * 80)\n"
   ]
  },
  {
   "cell_type": "code",
   "execution_count": 32,
   "id": "cf70c2f1",
   "metadata": {},
   "outputs": [
    {
     "name": "stdout",
     "output_type": "stream",
     "text": [
      "✅ LangChain retriever tool created successfully!\n"
     ]
    }
   ],
   "source": [
    "# ------------------------------------------------\n",
    "# 🛠️ Step 1: Import Retriever Tool Builder\n",
    "# ------------------------------------------------\n",
    "from langchain.tools.retriever import create_retriever_tool\n",
    "\n",
    "# ------------------------------------------------\n",
    "# 🛠️ Step 2: Wrap LangChain Retriever as a Tool\n",
    "# ------------------------------------------------\n",
    "retriever_tool_langchain = create_retriever_tool(\n",
    "    retriever=retriever_langchain,                 # our FAISS retriever for LangChain docs\n",
    "    name=\"retriever_vector_from_db2\",              # unique name for this retriever tool\n",
    "    description=\"Search and retrieve information about LangChain\"  \n",
    ")\n",
    "\n",
    "print(\"✅ LangChain retriever tool created successfully!\")\n"
   ]
  },
  {
   "cell_type": "code",
   "execution_count": 33,
   "id": "edbc7887",
   "metadata": {},
   "outputs": [
    {
     "name": "stdout",
     "output_type": "stream",
     "text": [
      "✅ Tools ready: 2 retrievers available\n",
      "- retriever_vector_from_db1: Search and retrieve information about LangGraph articles\n",
      "- retriever_vector_from_db2: Search and retrieve information about LangChain\n"
     ]
    }
   ],
   "source": [
    "# ------------------------------------------------\n",
    "# 🧰 Collect All Tools\n",
    "# ------------------------------------------------\n",
    "\n",
    "# Combine both retriever tools into one list\n",
    "tools = [\n",
    "    retriever_tool,            # LangGraph retriever\n",
    "    retriever_tool_langchain   # LangChain retriever\n",
    "]\n",
    "\n",
    "print(f\"✅ Tools ready: {len(tools)} retrievers available\")\n",
    "for t in tools:\n",
    "    print(f\"- {t.name}: {t.description}\")\n"
   ]
  },
  {
   "cell_type": "markdown",
   "id": "760a65ca",
   "metadata": {},
   "source": [
    "### LangGraph Workflow"
   ]
  },
  {
   "cell_type": "code",
   "execution_count": 34,
   "id": "127c309b",
   "metadata": {},
   "outputs": [
    {
     "name": "stdout",
     "output_type": "stream",
     "text": [
      "✅ AgentState schema defined\n"
     ]
    }
   ],
   "source": [
    "# ------------------------------------------------\n",
    "# 🧩 Step 1: Import Dependencies\n",
    "# ------------------------------------------------\n",
    "from typing import Annotated, Sequence\n",
    "from typing_extensions import TypedDict\n",
    "\n",
    "from langchain_core.messages import BaseMessage\n",
    "from langgraph.graph.message import add_messages\n",
    "\n",
    "# ------------------------------------------------\n",
    "# 🧩 Step 2: Define the Agent's State\n",
    "# ------------------------------------------------\n",
    "class AgentState(TypedDict):\n",
    "    \"\"\"\n",
    "    Defines the structure of the agent's memory/state.\n",
    "    \n",
    "    - messages: A sequence of chat messages exchanged between user and agent.\n",
    "    - Annotated[...] + add_messages: ensures that when state updates happen,\n",
    "      new messages are appended instead of replacing the old ones.\n",
    "    \"\"\"\n",
    "    messages: Annotated[Sequence[BaseMessage], add_messages]\n",
    "\n",
    "print(\"✅ AgentState schema defined\")\n"
   ]
  },
  {
   "cell_type": "code",
   "execution_count": 35,
   "id": "9b581a0a",
   "metadata": {},
   "outputs": [
    {
     "name": "stdout",
     "output_type": "stream",
     "text": [
      "✅ LLM Response: Hello! How can I assist you today?\n"
     ]
    }
   ],
   "source": [
    "# ------------------------------------------------\n",
    "# 🤖 Step 1: Import Chat Model\n",
    "# ------------------------------------------------\n",
    "from langchain_openai import ChatOpenAI\n",
    "\n",
    "# ------------------------------------------------\n",
    "# 🤖 Step 2: Initialize the LLM\n",
    "# ------------------------------------------------\n",
    "llm = ChatOpenAI(\n",
    "    model=\"gpt-4.1-nano-2025-04-14\",  # pick your model\n",
    "    temperature=0.7,                   # controls randomness (0 = deterministic)\n",
    ")\n",
    "\n",
    "# ------------------------------------------------\n",
    "# 🤖 Step 3: Quick Sanity Check\n",
    "# ------------------------------------------------\n",
    "response = llm.invoke(\"Hi\")\n",
    "print(\"✅ LLM Response:\", response.content)\n"
   ]
  },
  {
   "cell_type": "code",
   "execution_count": 36,
   "id": "f5176f4c",
   "metadata": {},
   "outputs": [
    {
     "name": "stdout",
     "output_type": "stream",
     "text": [
      "✅ Agent node function defined\n"
     ]
    }
   ],
   "source": [
    "# ------------------------------------------------\n",
    "# 🤖 Define the Agent Node Function\n",
    "# ------------------------------------------------\n",
    "\n",
    "\n",
    "def agent(state):\n",
    "    \"\"\"\n",
    "    Agent node that invokes the LLM and decides whether to:\n",
    "      - Use retriever tools (LangGraph / LangChain knowledge bases), or\n",
    "      - Respond directly without tool use.\n",
    "\n",
    "    Args:\n",
    "        state (dict): The current agent state containing chat messages.\n",
    "\n",
    "    Returns:\n",
    "        dict: Updated state with the agent's response appended to messages.\n",
    "    \"\"\"\n",
    "    print(\"--- CALL AGENT ---\")\n",
    "    \n",
    "    # Extract current conversation\n",
    "    messages = state[\"messages\"]\n",
    "\n",
    "    # Initialize the LLM\n",
    "    model = ChatOpenAI(\n",
    "        model=\"gpt-4.1-nano-2025-04-14\",\n",
    "        temperature=0.7\n",
    "    )\n",
    "\n",
    "    # Bind retriever tools so the model can decide when to use them\n",
    "    model = model.bind_tools(tools)\n",
    "\n",
    "    # Invoke the LLM with conversation history\n",
    "    response = model.invoke(messages)\n",
    "\n",
    "    # Return response appended as a list (LangGraph expects list appending)\n",
    "    return {\"messages\": [response]}\n",
    "\n",
    "print(\"✅ Agent node function defined\")\n"
   ]
  },
  {
   "cell_type": "code",
   "execution_count": 37,
   "id": "67749188",
   "metadata": {},
   "outputs": [],
   "source": [
    "# ------------------------------------------------\n",
    "# 📦 Imports for Agent Workflow\n",
    "# ------------------------------------------------\n",
    "\n",
    "# 🔹 Typing and schemas\n",
    "from typing import Annotated, Literal, Sequence\n",
    "from typing_extensions import TypedDict\n",
    "\n",
    "# 🔹 LangChain core primitives\n",
    "from langchain import hub\n",
    "from langchain_core.messages import BaseMessage, HumanMessage\n",
    "from langchain_core.output_parsers import StrOutputParser\n",
    "from langchain_core.prompts import PromptTemplate\n",
    "\n",
    "# 🔹 Validation / structured outputs\n",
    "from pydantic import BaseModel, Field\n"
   ]
  },
  {
   "cell_type": "code",
   "execution_count": 38,
   "id": "b41d12b7-5a75-4f23-bea2-123f4b5b74f0",
   "metadata": {},
   "outputs": [],
   "source": [
    "# ------------------------------------------------\n",
    "# 🔗 Edge Function: Grade Retrieved Documents\n",
    "# ------------------------------------------------\n",
    "from typing import Literal\n",
    "from langchain_core.prompts import PromptTemplate\n",
    "from langchain_openai import ChatOpenAI\n",
    "from pydantic import BaseModel, Field\n",
    "\n",
    "def grade_documents(state) -> Literal[\"generate\", \"rewrite\"]:\n",
    "    \"\"\"\n",
    "    Determines whether the retrieved documents are relevant to the question.\n",
    "    Returns:\n",
    "        \"generate\" if docs are relevant,\n",
    "        \"rewrite\" if docs are not relevant.\n",
    "    \"\"\"\n",
    "\n",
    "    print(\"--- CHECK RELEVANCE ---\")\n",
    "\n",
    "    # ------------------------------------------------\n",
    "    # 🧩 Step 1: Define Output Schema\n",
    "    # ------------------------------------------------\n",
    "    class Grade(BaseModel):\n",
    "        \"\"\"Binary score for relevance check.\"\"\"\n",
    "        binary_score: str = Field(description=\"Relevance score: 'yes' or 'no'\")\n",
    "\n",
    "    # ------------------------------------------------\n",
    "    # 🧩 Step 2: Initialize LLM with Structured Output\n",
    "    # ------------------------------------------------\n",
    "    model = ChatOpenAI(model=\"gpt-4.1-nano-2025-04-14\", temperature=0)\n",
    "    llm_with_tool = model.with_structured_output(Grade)\n",
    "\n",
    "    # ------------------------------------------------\n",
    "    # 🧩 Step 3: Define Relevance Prompt\n",
    "    # ------------------------------------------------\n",
    "    # Prompt\n",
    "    prompt = PromptTemplate(\n",
    "        template=\"\"\"You are a grader assessing relevance of a retrieved document to a user question. \\n \n",
    "        Here is the retrieved document: \\n\\n {context} \\n\\n\n",
    "        Here is the user question: {question} \\n\n",
    "        If the document contains keyword(s) or semantic meaning related to the user question, grade it as relevant. \\n\n",
    "        Give a binary score 'yes' or 'no' score to indicate whether the document is relevant to the question.\"\"\",\n",
    "        input_variables=[\"context\", \"question\"],\n",
    "    )\n",
    "\n",
    "\n",
    "    # Build the chain\n",
    "    chain = prompt | llm_with_tool\n",
    "\n",
    "    # ------------------------------------------------\n",
    "    # 🧩 Step 4: Extract Question & Docs from State\n",
    "    # ------------------------------------------------\n",
    "    messages = state[\"messages\"]\n",
    "    last_message = messages[-1]         # retrieved docs (or agent response)\n",
    "    question = messages[0].content      # original user query\n",
    "    docs = last_message.content         # doc contents to grade\n",
    "\n",
    "    # ------------------------------------------------\n",
    "    # 🧩 Step 5: Run the Grader\n",
    "    # ------------------------------------------------\n",
    "    scored_result = chain.invoke({\"question\": question, \"context\": docs})\n",
    "    score = scored_result.binary_score.lower()\n",
    "\n",
    "    # ------------------------------------------------\n",
    "    # 🧩 Step 6: Decision\n",
    "    # ------------------------------------------------\n",
    "    if score == \"yes\":\n",
    "        print(\"--- DECISION: DOCS RELEVANT ---\")\n",
    "        return \"generate\"\n",
    "    else:\n",
    "        print(\"--- DECISION: DOCS NOT RELEVANT ---\")\n",
    "        return \"rewrite\"\n"
   ]
  },
  {
   "cell_type": "code",
   "execution_count": 39,
   "id": "884aa9a3",
   "metadata": {},
   "outputs": [],
   "source": [
    "# ------------------------------------------------\n",
    "# 📝 Node: Generate Final Answer\n",
    "# ------------------------------------------------\n",
    "from langchain import hub\n",
    "from langchain_openai import ChatOpenAI\n",
    "from langchain_core.output_parsers import StrOutputParser\n",
    "\n",
    "def generate(state):\n",
    "    \"\"\"\n",
    "    Generate a final answer from retrieved documents and user question.\n",
    "\n",
    "    Args:\n",
    "        state (dict): Current state containing conversation messages.\n",
    "\n",
    "    Returns:\n",
    "        dict: Updated state with the generated answer appended.\n",
    "    \"\"\"\n",
    "    print(\"--- GENERATE ---\")\n",
    "\n",
    "    # ------------------------------------------------\n",
    "    # 🧩 Step 1: Extract Question & Retrieved Docs\n",
    "    # ------------------------------------------------\n",
    "    messages = state[\"messages\"]\n",
    "    question = messages[0].content        # user question\n",
    "    last_message = messages[-1]           # retrieved documents or agent response\n",
    "    docs = last_message.content\n",
    "\n",
    "    # ------------------------------------------------\n",
    "    # 🧩 Step 2: Load Prompt Template\n",
    "    # ------------------------------------------------\n",
    "    # rlm/rag-prompt is a community template for RAG-style answers\n",
    "    prompt = hub.pull(\"rlm/rag-prompt\")\n",
    "\n",
    "    # ------------------------------------------------\n",
    "    # 🧩 Step 3: Initialize LLM\n",
    "    # ------------------------------------------------\n",
    "    llm = ChatOpenAI(model=\"gpt-4.1-nano-2025-04-14\", temperature=0)\n",
    "\n",
    "    # ------------------------------------------------\n",
    "    # 🧩 Step 4: Define Chain (Prompt → LLM → Parser)\n",
    "    # ------------------------------------------------\n",
    "    rag_chain = prompt | llm | StrOutputParser()\n",
    "\n",
    "    # ------------------------------------------------\n",
    "    # 🧩 Step 5: Run Chain\n",
    "    # ------------------------------------------------\n",
    "    response = rag_chain.invoke({\n",
    "        \"context\": docs,\n",
    "        \"question\": question\n",
    "    })\n",
    "\n",
    "    # LangGraph expects list so we wrap response\n",
    "    return {\"messages\": [response]}\n"
   ]
  },
  {
   "cell_type": "code",
   "execution_count": 40,
   "id": "aa2a563b",
   "metadata": {},
   "outputs": [],
   "source": [
    "# ------------------------------------------------\n",
    "# 🔄 Node: Rewrite Query\n",
    "# ------------------------------------------------\n",
    "from langchain_core.messages import HumanMessage\n",
    "from langchain_openai import ChatOpenAI\n",
    "\n",
    "def rewrite(state):\n",
    "    \"\"\"\n",
    "    Reformulate the user query into a better, clearer version\n",
    "    if retrieved documents were not relevant.\n",
    "\n",
    "    Args:\n",
    "        state (dict): Current state containing conversation messages.\n",
    "\n",
    "    Returns:\n",
    "        dict: Updated state with the rewritten question appended.\n",
    "    \"\"\"\n",
    "    print(\"--- TRANSFORM QUERY ---\")\n",
    "\n",
    "    # ------------------------------------------------\n",
    "    # 🧩 Step 1: Extract the Original Question\n",
    "    # ------------------------------------------------\n",
    "    messages = state[\"messages\"]\n",
    "    question = messages[0].content\n",
    "\n",
    "    # ------------------------------------------------\n",
    "    # 🧩 Step 2: Build Rewriting Prompt\n",
    "    # ------------------------------------------------\n",
    "    msg = [\n",
    "        HumanMessage(\n",
    "            content=f\"\"\"\n",
    "            Look at the input and reason about the underlying semantic intent.  \n",
    "            Here is the initial question:\n",
    "            -------------------\n",
    "            {question}\n",
    "            -------------------\n",
    "            Please rewrite this into a clearer, improved question.\n",
    "            \"\"\"\n",
    "        )\n",
    "    ]\n",
    "\n",
    "    # ------------------------------------------------\n",
    "    # 🧩 Step 3: Call LLM to Rewrite\n",
    "    # ------------------------------------------------\n",
    "    model = ChatOpenAI(model=\"gpt-4.1-nano-2025-04-14\", temperature=0.3)\n",
    "    response = model.invoke(msg)\n",
    "\n",
    "    # ------------------------------------------------\n",
    "    # 🧩 Step 4: Return Updated State\n",
    "    # ------------------------------------------------\n",
    "    return {\"messages\": [response]}\n"
   ]
  },
  {
   "cell_type": "code",
   "execution_count": 41,
   "id": "26bbd7fc",
   "metadata": {},
   "outputs": [
    {
     "data": {
      "image/png": "[encoded data removed]",
      "text/plain": [
       "<IPython.core.display.Image object>"
      ]
     },
     "metadata": {},
     "output_type": "display_data"
    },
    {
     "name": "stdout",
     "output_type": "stream",
     "text": [
      "✅ Workflow compiled and visualized.\n"
     ]
    }
   ],
   "source": [
    "# ------------------------------------------------\n",
    "# 🕸️ Build the LangGraph Workflow (Nodes + Edges)\n",
    "# ------------------------------------------------\n",
    "from langgraph.graph import START, END, StateGraph\n",
    "from langgraph.prebuilt import ToolNode, tools_condition\n",
    "from IPython.display import Image, display\n",
    "\n",
    "# ------------------------------------------------\n",
    "# 1) Initialize the stateful workflow with our AgentState\n",
    "# ------------------------------------------------\n",
    "workflow = StateGraph(AgentState)\n",
    "\n",
    "# ------------------------------------------------\n",
    "# 2) Register Nodes\n",
    "#    - \"agent\": decides to use tools or answer directly\n",
    "#    - \"retrieve\": executes retriever tools (LangGraph + LangChain)\n",
    "#    - \"rewrite\": improves the user query if retrieval was irrelevant\n",
    "#    - \"generate\": synthesizes final answer from retrieved docs\n",
    "# ------------------------------------------------\n",
    "workflow.add_node(\"agent\", agent)\n",
    "\n",
    "# Use the tools list you previously created: tools = [retriever_tool, retriever_tool_langchain]\n",
    "retrieve_node = ToolNode(tools)\n",
    "workflow.add_node(\"retrieve\", retrieve_node)\n",
    "\n",
    "workflow.add_node(\"rewrite\", rewrite)\n",
    "workflow.add_node(\"generate\", generate)\n",
    "\n",
    "# ------------------------------------------------\n",
    "# 3) Entry Edge: START -> agent\n",
    "# ------------------------------------------------\n",
    "workflow.add_edge(START, \"agent\")\n",
    "\n",
    "# ------------------------------------------------\n",
    "# 4) Conditional from agent:\n",
    "#    - If model decides to use tools -> go to \"retrieve\"\n",
    "#    - If model ends (no tool)      -> END\n",
    "# ------------------------------------------------\n",
    "workflow.add_conditional_edges(\n",
    "    \"agent\",\n",
    "    tools_condition,                 # inspects the agent output for tool usage\n",
    "    {\n",
    "        \"tools\": \"retrieve\",         # when tools are requested\n",
    "        END: END,                    # when agent chooses to finish\n",
    "    },\n",
    ")\n",
    "\n",
    "# ------------------------------------------------\n",
    "# 5) Conditional after retrieve:\n",
    "#    - grade_documents returns \"generate\" or \"rewrite\"\n",
    "# ------------------------------------------------\n",
    "workflow.add_conditional_edges(\n",
    "    \"retrieve\",\n",
    "    grade_documents,                 # returns \"generate\" or \"rewrite\"\n",
    ")\n",
    "\n",
    "# ------------------------------------------------\n",
    "# 6) Final Edges\n",
    "# ------------------------------------------------\n",
    "workflow.add_edge(\"generate\", END)   # after generating, finish\n",
    "workflow.add_edge(\"rewrite\", \"agent\")# after rewriting, try agent again\n",
    "\n",
    "# ------------------------------------------------\n",
    "# 7) Compile the graph and visualize\n",
    "# ------------------------------------------------\n",
    "graph = workflow.compile()\n",
    "\n",
    "# Visualize the compiled graph (Mermaid PNG)\n",
    "display(Image(graph.get_graph(xray=True).draw_mermaid_png()))\n",
    "print(\"✅ Workflow compiled and visualized.\")\n"
   ]
  },
  {
   "cell_type": "code",
   "execution_count": 42,
   "id": "661decb5",
   "metadata": {},
   "outputs": [
    {
     "name": "stdout",
     "output_type": "stream",
     "text": [
      "--- CALL AGENT ---\n",
      "--- CHECK RELEVANCE ---\n",
      "--- DECISION: DOCS RELEVANT ---\n",
      "--- GENERATE ---\n",
      "✅ Graph execution completed\n",
      "\n",
      "💡 Answer:\n",
      " LangGraph is a tool within the LangChain ecosystem used to assemble LangChain components into full-featured applications. It facilitates orchestration of these components to build complex AI applications. It is part of the broader set of tools and guides available for developing with LangChain.\n"
     ]
    }
   ],
   "source": [
    "# ------------------------------------------------\n",
    "# ▶️ Run the Workflow\n",
    "# ------------------------------------------------\n",
    "from langchain_core.messages import HumanMessage\n",
    "\n",
    "# Wrap the input in a HumanMessage\n",
    "input_state = {\n",
    "    \"messages\": [HumanMessage(content=\"What is LangGraph?\")]\n",
    "}\n",
    "\n",
    "# Invoke the workflow\n",
    "result = graph.invoke(input_state)\n",
    "\n",
    "# ------------------------------------------------\n",
    "# 📌 Show Final Answer\n",
    "# ------------------------------------------------\n",
    "print(\"✅ Graph execution completed\\n\")\n",
    "final_answer = result[\"messages\"][-1].content\n",
    "print(\"💡 Answer:\\n\", final_answer)\n",
    "\n",
    "\n",
    "\n"
   ]
  },
  {
   "cell_type": "code",
   "execution_count": 43,
   "id": "448a376d",
   "metadata": {},
   "outputs": [
    {
     "name": "stdout",
     "output_type": "stream",
     "text": [
      "--- CALL AGENT ---\n",
      "--- CHECK RELEVANCE ---\n",
      "--- DECISION: DOCS RELEVANT ---\n",
      "--- GENERATE ---\n",
      "✅ Graph execution completed\n",
      "\n",
      "LangChain is a framework that enables the development of advanced AI applications by integrating large language models (LLMs) with tools, data sources, and memory. It allows creating agents that can invoke functions, query information, and manage conversations with state. Essentially, it helps build more interactive and intelligent AI systems.\n"
     ]
    }
   ],
   "source": [
    "# ------------------------------------------------\n",
    "# ▶️ Run Workflow with LangChain Question\n",
    "# ------------------------------------------------\n",
    "\n",
    "\n",
    "# Wrap the input as a HumanMessage inside a list\n",
    "input_state = {\n",
    "    \"messages\": [HumanMessage(content=\"What is LangChain?\")]\n",
    "}\n",
    "\n",
    "# Invoke the workflow\n",
    "result = graph.invoke(input_state)\n",
    "\n",
    "# ------------------------------------------------\n",
    "# 📌 Show Only Final Answer\n",
    "# ------------------------------------------------\n",
    "print(\"✅ Graph execution completed\\n\")\n",
    "print(result[\"messages\"][-1].content)\n"
   ]
  },
  {
   "cell_type": "code",
   "execution_count": 44,
   "id": "c03cb88a",
   "metadata": {},
   "outputs": [
    {
     "name": "stdout",
     "output_type": "stream",
     "text": [
      "--- CALL AGENT ---\n",
      "--- CHECK RELEVANCE ---\n",
      "--- DECISION: DOCS RELEVANT ---\n",
      "--- GENERATE ---\n",
      "Machine learning is a subset of artificial intelligence that involves developing algorithms and models that enable computers to learn from and make decisions based on data. It encompasses techniques like supervised, unsupervised, and reinforcement learning to identify patterns and improve performance over time. It serves as the foundation for many advanced AI applications, including generative AI and large language models.\n"
     ]
    }
   ],
   "source": [
    "\n",
    "\n",
    "# Input query\n",
    "input_state = {\n",
    "    \"messages\": [HumanMessage(content=\"What is Machine learning?\")]\n",
    "}\n",
    "\n",
    "# Run the workflow\n",
    "result = graph.invoke(input_state)\n",
    "\n",
    "# ✅ Print only the final answer content\n",
    "print(result[\"messages\"][-1].content)\n"
   ]
  },
  {
   "cell_type": "code",
   "execution_count": null,
   "id": "7c2427a7",
   "metadata": {},
   "outputs": [],
   "source": []
  }
 ],
 "metadata": {
  "kernelspec": {
   "display_name": "Python 3 (ipykernel)",
   "language": "python",
   "name": "python3"
  },
  "language_info": {
   "codemirror_mode": {
    "name": "ipython",
    "version": 3
   },
   "file_extension": ".py",
   "mimetype": "text/x-python",
   "name": "python",
   "nbconvert_exporter": "python",
   "pygments_lexer": "ipython3",
   "version": "3.13.7"
  }
 },
 "nbformat": 4,
 "nbformat_minor": 5
}
