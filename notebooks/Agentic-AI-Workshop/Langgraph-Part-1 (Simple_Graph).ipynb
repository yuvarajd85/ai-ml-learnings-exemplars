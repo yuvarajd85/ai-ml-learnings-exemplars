{
 "cells": [
  {
   "cell_type": "code",
   "execution_count": 8,
   "id": "74f7fb97-68da-49e1-b97c-c71c8770934d",
   "metadata": {},
   "outputs": [],
   "source": [
    "from typing import TypedDict\n",
    "from langgraph.graph import StateGraph, START, END\n",
    "from IPython.display import Image, display"
   ]
  },
  {
   "cell_type": "markdown",
   "id": "74adaf20-e450-43a8-b1d8-12d7ba496a20",
   "metadata": {},
   "source": [
    "\n",
    "### -------- Case study: Personal Savings Planner --------"
   ]
  },
  {
   "cell_type": "code",
   "execution_count": 9,
   "id": "e426b1c6-c684-43f3-bfa8-89e4bd149aef",
   "metadata": {},
   "outputs": [],
   "source": [
    "\n",
    "class SavingsState(TypedDict):\n",
    "    # ---- Inputs (given by user) ----\n",
    "    income_usd: float        # monthly income\n",
    "    expenses_usd: float      # monthly expenses\n",
    "\n",
    "    # ---- Outputs (computed by nodes) ----\n",
    "    savings_usd: float       # monthly savings\n",
    "    yearly_savings_usd: float\n"
   ]
  },
  {
   "cell_type": "code",
   "execution_count": 10,
   "id": "de8efcb8-f0fb-4431-b3ea-8c2a81be7d8c",
   "metadata": {},
   "outputs": [],
   "source": [
    "\n",
    "# --------- Nodes (functions that update the state) ---------\n",
    "\n",
    "def calc_savings(state: SavingsState) -> SavingsState:\n",
    "    \"\"\"Node 1: Calculate monthly savings = income - expenses\"\"\"\n",
    "    state[\"savings_usd\"] = state[\"income_usd\"] - state[\"expenses_usd\"]\n",
    "    return state\n",
    "\n",
    "def project_yearly(state: SavingsState) -> SavingsState:\n",
    "    \"\"\"Node 2: Project yearly savings = monthly savings × 12\"\"\"\n",
    "    state[\"yearly_savings_usd\"] = state[\"savings_usd\"] * 12\n",
    "    return state"
   ]
  },
  {
   "cell_type": "code",
   "execution_count": 13,
   "id": "bd0208fd-0a90-4d95-b9bb-6634ccfe79fd",
   "metadata": {},
   "outputs": [
    {
     "data": {
      "image/png": "[encoded data removed]",
      "text/plain": [
       "<IPython.core.display.Image object>"
      ]
     },
     "metadata": {},
     "output_type": "display_data"
    }
   ],
   "source": [
    "\n",
    "# --------- Build the Graph ---------\n",
    "# State = SavingsState (defines inputs + outputs)\n",
    "# Nodes = calc_savings_node, project_yearly_node\n",
    "# Edges = connect the flow from START → calc_savings → project_yearly → END\n",
    "\n",
    "builder = StateGraph(SavingsState)\n",
    "\n",
    "# Add nodes (processing steps)\n",
    "builder.add_node(\"calc_savings_node\", calc_savings)\n",
    "builder.add_node(\"project_yearly_node\", project_yearly)\n",
    "\n",
    "# Add edges (workflow order)\n",
    "builder.add_edge(START, \"calc_savings_node\")           # start → calc_savings\n",
    "builder.add_edge(\"calc_savings_node\", \"project_yearly_node\")  # savings → yearly projection\n",
    "builder.add_edge(\"project_yearly_node\", END)           # end of workflow\n",
    "\n",
    "# Compile the graph\n",
    "graph = builder.compile()\n",
    "\n",
    "# --------- Visualize Graph ---------\n",
    "display(Image(graph.get_graph().draw_mermaid_png()))\n",
    "\n",
    "\n"
   ]
  },
  {
   "cell_type": "code",
   "execution_count": 14,
   "id": "0d2982aa-5cb8-4488-9c7d-c342d2287f37",
   "metadata": {},
   "outputs": [
    {
     "data": {
      "text/plain": [
       "{'income_usd': 3000.0,\n",
       " 'expenses_usd': 2200.0,\n",
       " 'savings_usd': 800.0,\n",
       " 'yearly_savings_usd': 9600.0}"
      ]
     },
     "execution_count": 14,
     "metadata": {},
     "output_type": "execute_result"
    }
   ],
   "source": [
    "# --------- Run Example ---------\n",
    "# Input: monthly income = $3000, expenses = $2200\n",
    "result = graph.invoke({\n",
    "    \"income_usd\": 3000.0,     \n",
    "    \"expenses_usd\": 2200.0    \n",
    "})\n",
    "result"
   ]
  },
  {
   "cell_type": "code",
   "execution_count": null,
   "id": "561b8a98-56fa-4feb-b850-a88612faaa4c",
   "metadata": {},
   "outputs": [],
   "source": []
  }
 ],
 "metadata": {
  "kernelspec": {
   "display_name": "Python 3 (ipykernel)",
   "language": "python",
   "name": "python3"
  },
  "language_info": {
   "codemirror_mode": {
    "name": "ipython",
    "version": 3
   },
   "file_extension": ".py",
   "mimetype": "text/x-python",
   "name": "python",
   "nbconvert_exporter": "python",
   "pygments_lexer": "ipython3",
   "version": "3.13.7"
  }
 },
 "nbformat": 4,
 "nbformat_minor": 5
}
