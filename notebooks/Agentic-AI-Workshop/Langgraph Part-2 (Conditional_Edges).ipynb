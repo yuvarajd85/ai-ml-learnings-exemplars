{
 "cells": [
  {
   "cell_type": "code",
   "execution_count": null,
   "id": "45cd5580-4e94-415d-9345-55826f91c91c",
   "metadata": {},
   "outputs": [],
   "source": [
    "from typing import TypedDict, Literal\n",
    "from langgraph.graph import StateGraph, START, END\n",
    "from IPython.display import Image, display\n",
    "\n"
   ]
  },
  {
   "cell_type": "markdown",
   "id": "2bd98960-95be-469e-b2b7-f59c48db9ac3",
   "metadata": {},
   "source": [
    "### -------- Case study: Personal Savings Planner with IF/ELSE --------"
   ]
  },
  {
   "cell_type": "code",
   "execution_count": 8,
   "id": "36b5052e-e87a-466b-a1c7-412dffc7f5b8",
   "metadata": {},
   "outputs": [],
   "source": [
    "class SavingsState(TypedDict):\n",
    "    # ---- Inputs ----\n",
    "    income_usd: float        # monthly income\n",
    "    expenses_usd: float      # monthly expenses\n",
    "\n",
    "    # ---- Outputs ----\n",
    "    savings_usd: float       # monthly savings\n",
    "    yearly_savings_usd: float\n",
    "    status: Literal[\"Surplus\", \"Deficit\"]\n"
   ]
  },
  {
   "cell_type": "code",
   "execution_count": 9,
   "id": "0408f9c7-a80e-47b7-8093-d1fab3326ec1",
   "metadata": {},
   "outputs": [],
   "source": [
    "# --------- Nodes ---------\n",
    "\n",
    "def calc_savings(state: SavingsState) -> SavingsState:\n",
    "    \"\"\"Node 1: Calculate monthly savings\"\"\"\n",
    "    state[\"savings_usd\"] = state[\"income_usd\"] - state[\"expenses_usd\"]\n",
    "    return state\n",
    "\n",
    "def project_yearly(state: SavingsState) -> SavingsState:\n",
    "    \"\"\"Node 2: Project yearly savings (only if surplus)\"\"\"\n",
    "    state[\"yearly_savings_usd\"] = state[\"savings_usd\"] * 12\n",
    "    state[\"status\"] = \"Surplus\"\n",
    "    return state\n",
    "\n",
    "def handle_deficit(state: SavingsState) -> SavingsState:\n",
    "    \"\"\"Node 3: Handle case when savings ≤ 0\"\"\"\n",
    "    state[\"yearly_savings_usd\"] = 0.0\n",
    "    state[\"status\"] = \"Deficit\"\n",
    "    return state\n"
   ]
  },
  {
   "cell_type": "code",
   "execution_count": 10,
   "id": "1cd33ba1-0ad1-46a0-81a4-a4ffc655885e",
   "metadata": {},
   "outputs": [
    {
     "data": {
      "image/png": "[encoded data removed]",
      "text/plain": [
       "<IPython.core.display.Image object>"
      ]
     },
     "metadata": {},
     "output_type": "display_data"
    }
   ],
   "source": [
    "# --------- Build Graph with IF/ELSE Edges ---------\n",
    "# State = SavingsState\n",
    "# Nodes = calc_savings_node, project_yearly_node, handle_deficit_node\n",
    "# Edges = Branching after calc_savings_node based on condition\n",
    "\n",
    "builder = StateGraph(SavingsState)\n",
    "\n",
    "# Add nodes\n",
    "builder.add_node(\"calc_savings_node\", calc_savings)\n",
    "builder.add_node(\"project_yearly_node\", project_yearly)\n",
    "builder.add_node(\"handle_deficit_node\", handle_deficit)\n",
    "\n",
    "# Add edges\n",
    "builder.add_edge(START, \"calc_savings_node\")\n",
    "\n",
    "# Conditional edge: choose based on savings\n",
    "def decide_next(state: SavingsState):\n",
    "    return \"project_yearly_node\" if state[\"savings_usd\"] > 0 else \"handle_deficit_node\"\n",
    "\n",
    "builder.add_conditional_edges(\n",
    "    \"calc_savings_node\",\n",
    "    decide_next,   \n",
    "    {               \n",
    "        \"project_yearly_node\": \"project_yearly_node\",\n",
    "        \"handle_deficit_node\": \"handle_deficit_node\"\n",
    "    }\n",
    ")\n",
    "\n",
    "builder.add_edge(\"project_yearly_node\", END)\n",
    "builder.add_edge(\"handle_deficit_node\", END)\n",
    "\n",
    "# Compile graph\n",
    "graph = builder.compile()\n",
    "\n",
    "# --------- Visualize Graph ---------\n",
    "display(Image(graph.get_graph().draw_mermaid_png()))\n",
    "\n",
    "\n"
   ]
  },
  {
   "cell_type": "code",
   "execution_count": 11,
   "id": "f3fa14c5-fd87-42a7-a135-b7ae7b6eac25",
   "metadata": {},
   "outputs": [
    {
     "data": {
      "text/plain": [
       "({'income_usd': 3000.0,\n",
       "  'expenses_usd': 2200.0,\n",
       "  'savings_usd': 800.0,\n",
       "  'yearly_savings_usd': 9600.0,\n",
       "  'status': 'Surplus'},\n",
       " {'income_usd': 2000.0,\n",
       "  'expenses_usd': 2500.0,\n",
       "  'savings_usd': -500.0,\n",
       "  'yearly_savings_usd': 0.0,\n",
       "  'status': 'Deficit'})"
      ]
     },
     "execution_count": 11,
     "metadata": {},
     "output_type": "execute_result"
    }
   ],
   "source": [
    "# --------- Run Examples ---------\n",
    "# Case 1: Surplus\n",
    "result1 = graph.invoke({\"income_usd\": 3000.0, \"expenses_usd\": 2200.0})\n",
    "# Case 2: Deficit\n",
    "result2 = graph.invoke({\"income_usd\": 2000.0, \"expenses_usd\": 2500.0})\n",
    "\n",
    "result1, result2"
   ]
  },
  {
   "cell_type": "markdown",
   "id": "218effc5-f407-429d-9d64-0bdb1005e800",
   "metadata": {},
   "source": [
    "### --------------Another Example------------------"
   ]
  },
  {
   "cell_type": "code",
   "execution_count": 13,
   "id": "initial_id",
   "metadata": {
    "ExecuteTime": {
     "end_time": "2025-06-20T21:30:43.931182Z",
     "start_time": "2025-06-20T21:30:43.902165Z"
    }
   },
   "outputs": [],
   "source": [
    "\n",
    "\n",
    "class PortfolioState(TypedDict):\n",
    "    amount_usd: float\n",
    "    total_usd: float\n",
    "    target_currency: Literal[\"INR\", \"GBP\"]\n",
    "    converted_money: float"
   ]
  },
  {
   "cell_type": "code",
   "execution_count": 14,
   "id": "406c6e31cf9b2417",
   "metadata": {
    "ExecuteTime": {
     "end_time": "2025-06-20T21:30:44.692458Z",
     "start_time": "2025-06-20T21:30:44.677376Z"
    }
   },
   "outputs": [],
   "source": [
    "def calc_total(state: PortfolioState) -> PortfolioState:\n",
    "    state['total_usd'] = state['amount_usd'] * 1.10\n",
    "    return state\n",
    "\n",
    "def convert_to_inr(state: PortfolioState) -> PortfolioState:\n",
    "    state['converted_money'] = state['total_usd'] * 85\n",
    "    return state\n",
    "\n",
    "def convert_to_gbp(state: PortfolioState) -> PortfolioState:\n",
    "    state['converted_money'] = state['total_usd'] * 0.74\n",
    "    return state\n",
    "\n",
    "def choose_conversion(state: PortfolioState) -> str:\n",
    "    return state[\"target_currency\"]"
   ]
  },
  {
   "cell_type": "code",
   "execution_count": 15,
   "id": "f6f53b2eb2a8ca23",
   "metadata": {
    "ExecuteTime": {
     "end_time": "2025-06-20T21:30:52.584365Z",
     "start_time": "2025-06-20T21:30:51.646482Z"
    }
   },
   "outputs": [],
   "source": [
    "\n",
    "builder = StateGraph(PortfolioState)\n",
    "\n",
    "builder.add_node(\"calc_total_node\", calc_total)\n",
    "builder.add_node(\"convert_to_inr_node\", convert_to_inr)\n",
    "builder.add_node(\"convert_to_gbp_node\", convert_to_gbp)\n",
    "\n",
    "builder.add_edge(START, \"calc_total_node\")\n",
    "builder.add_conditional_edges(\n",
    "    \"calc_total_node\",\n",
    "    choose_conversion,\n",
    "    {\n",
    "        \"INR\": \"convert_to_inr_node\",\n",
    "        \"GBP\": \"convert_to_gbp_node\",\n",
    "    }\n",
    ")\n",
    "builder.add_edge([\"convert_to_inr_node\", \"convert_to_gbp_node\"], END)\n",
    "\n",
    "graph = builder.compile()"
   ]
  },
  {
   "cell_type": "code",
   "execution_count": 16,
   "id": "bc53296fdda4e8ab",
   "metadata": {
    "ExecuteTime": {
     "end_time": "2025-06-20T21:30:53.784609Z",
     "start_time": "2025-06-20T21:30:53.578736Z"
    }
   },
   "outputs": [
    {
     "data": {
      "image/png": "[encoded data removed]",
      "text/plain": [
       "<IPython.core.display.Image object>"
      ]
     },
     "metadata": {},
     "output_type": "display_data"
    }
   ],
   "source": [
    "from IPython.display import Image, display\n",
    "\n",
    "display(Image(graph.get_graph().draw_mermaid_png()))"
   ]
  },
  {
   "cell_type": "code",
   "execution_count": 18,
   "id": "760048ade58588e1",
   "metadata": {
    "ExecuteTime": {
     "end_time": "2025-06-20T21:30:55.253636Z",
     "start_time": "2025-06-20T21:30:55.229686Z"
    }
   },
   "outputs": [
    {
     "data": {
      "text/plain": [
       "{'amount_usd': 1000,\n",
       " 'total_usd': 1100.0,\n",
       " 'target_currency': 'GBP',\n",
       " 'converted_money': 814.0}"
      ]
     },
     "execution_count": 18,
     "metadata": {},
     "output_type": "execute_result"
    }
   ],
   "source": [
    "graph.invoke({\"amount_usd\": 1000, \"target_currency\": \"GBP\"})"
   ]
  },
  {
   "cell_type": "code",
   "execution_count": null,
   "id": "83fa8a2a-5413-4a90-9ea5-96ec1c3e9d6f",
   "metadata": {},
   "outputs": [],
   "source": []
  }
 ],
 "metadata": {
  "kernelspec": {
   "display_name": "Python 3 (ipykernel)",
   "language": "python",
   "name": "python3"
  },
  "language_info": {
   "codemirror_mode": {
    "name": "ipython",
    "version": 3
   },
   "file_extension": ".py",
   "mimetype": "text/x-python",
   "name": "python",
   "nbconvert_exporter": "python",
   "pygments_lexer": "ipython3",
   "version": "3.13.7"
  }
 },
 "nbformat": 4,
 "nbformat_minor": 5
}
