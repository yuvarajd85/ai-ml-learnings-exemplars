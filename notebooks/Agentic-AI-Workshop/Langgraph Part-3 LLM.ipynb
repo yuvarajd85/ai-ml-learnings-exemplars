{
 "cells": [
  {
   "cell_type": "code",
   "execution_count": null,
   "id": "453b9285-746b-483a-af8e-8f4e6b97534f",
   "metadata": {},
   "outputs": [],
   "source": [
    "# !pip install langchain\n",
    "# !pip install langgraph\n",
    "# !pip install langchain-core\n",
    "# !pip install langchain-community\n",
    "# !pip install langchain-openai"
   ]
  },
  {
   "cell_type": "code",
   "execution_count": 21,
   "id": "initial_id",
   "metadata": {
    "ExecuteTime": {
     "end_time": "2025-06-20T21:25:36.850285Z",
     "start_time": "2025-06-20T21:25:36.838246Z"
    }
   },
   "outputs": [],
   "source": [
    "from typing import Annotated\n",
    "from dotenv import load_dotenv\n",
    "from typing_extensions import TypedDict\n",
    "from langchain.chat_models import init_chat_model\n",
    "from langgraph.graph import StateGraph, START, END\n",
    "from langgraph.graph.message import add_messages"
   ]
  },
  {
   "cell_type": "code",
   "execution_count": 22,
   "id": "b1f2cba5-4394-4125-b351-badfec912ffd",
   "metadata": {},
   "outputs": [
    {
     "data": {
      "text/plain": [
       "True"
      ]
     },
     "execution_count": 22,
     "metadata": {},
     "output_type": "execute_result"
    }
   ],
   "source": [
    "load_dotenv()"
   ]
  },
  {
   "cell_type": "code",
   "execution_count": 23,
   "id": "3c96164fc8cf8136",
   "metadata": {
    "ExecuteTime": {
     "end_time": "2025-06-20T21:25:40.029147Z",
     "start_time": "2025-06-20T21:25:40.024148Z"
    }
   },
   "outputs": [],
   "source": [
    "from langchain.chat_models import init_chat_model"
   ]
  },
  {
   "cell_type": "code",
   "execution_count": 24,
   "id": "0ff88952-1203-4d34-8ee5-69c832fa0747",
   "metadata": {},
   "outputs": [],
   "source": [
    "llm = init_chat_model(\"openai:gpt-5\")"
   ]
  },
  {
   "cell_type": "code",
   "execution_count": 25,
   "id": "efdc5e9a8ab40001",
   "metadata": {
    "ExecuteTime": {
     "end_time": "2025-06-20T21:25:41.406741Z",
     "start_time": "2025-06-20T21:25:41.386238Z"
    }
   },
   "outputs": [],
   "source": [
    "\n",
    "\n",
    "class State(TypedDict):\n",
    "    messages: Annotated[list, add_messages]\n",
    "\n",
    "def chatbot(state: State) -> State:\n",
    "    return {\"messages\": [llm.invoke(state[\"messages\"])]}\n",
    "\n",
    "builder = StateGraph(State)\n",
    "builder.add_node(\"chatbot_node\", chatbot)\n",
    "\n",
    "builder.add_edge(START, \"chatbot_node\")\n",
    "builder.add_edge(\"chatbot_node\", END)\n",
    "\n",
    "graph = builder.compile()"
   ]
  },
  {
   "cell_type": "code",
   "execution_count": 26,
   "id": "9146a5d5-193e-456e-b1fc-04fd3ef23c43",
   "metadata": {},
   "outputs": [
    {
     "data": {
      "image/png": "[encoded data removed]",
      "text/plain": [
       "<IPython.core.display.Image object>"
      ]
     },
     "metadata": {},
     "output_type": "display_data"
    }
   ],
   "source": [
    "from IPython.display import Image, display\n",
    "\n",
    "display(Image(graph.get_graph().draw_mermaid_png()))"
   ]
  },
  {
   "cell_type": "code",
   "execution_count": 27,
   "id": "3d157a437a401e2a",
   "metadata": {
    "ExecuteTime": {
     "end_time": "2025-06-20T22:04:23.936094Z",
     "start_time": "2025-06-20T22:04:23.575200Z"
    }
   },
   "outputs": [
    {
     "name": "stdout",
     "output_type": "stream",
     "text": [
      "Jupiter\n"
     ]
    }
   ],
   "source": [
    "message = {\"role\": \"user\", \"content\": \"Name the largest planet in our solar system. Print only the name.\"}\n",
    "response = graph.invoke({\"messages\": [message]})\n",
    "\n",
    "\n",
    "print(response[\"messages\"][1].content)"
   ]
  },
  {
   "cell_type": "code",
   "execution_count": 28,
   "id": "d7e0e36652496d92",
   "metadata": {},
   "outputs": [
    {
     "name": "stdin",
     "output_type": "stream",
     "text": [
      "You:  what is transformers\n"
     ]
    },
    {
     "name": "stdout",
     "output_type": "stream",
     "text": [
      "Bot: “Transformers” can mean a few different things:\n",
      "\n",
      "- Machine learning architecture: A neural network design (from “Attention Is All You Need,” 2017) that uses self‑attention to handle sequences. It powers models like BERT, GPT, and T5 and is used in NLP, vision, and speech.\n",
      "- Hugging Face Transformers library: A popular Python library that provides pretrained transformer models and tools to train/use them.\n",
      "- Electrical engineering: A device that changes AC voltage/current levels via electromagnetic induction.\n",
      "- Entertainment: The Transformers media franchise (robots that can change forms).\n",
      "\n",
      "Which one are you asking about?\n"
     ]
    },
    {
     "name": "stdin",
     "output_type": "stream",
     "text": [
      "You:  genearte 2 mcq's\n"
     ]
    },
    {
     "name": "stdout",
     "output_type": "stream",
     "text": [
      "Bot: “Transformers” can mean a few different things:\n",
      "\n",
      "- Machine learning architecture: A neural network design (from “Attention Is All You Need,” 2017) that uses self‑attention to handle sequences. It powers models like BERT, GPT, and T5 and is used in NLP, vision, and speech.\n",
      "- Hugging Face Transformers library: A popular Python library that provides pretrained transformer models and tools to train/use them.\n",
      "- Electrical engineering: A device that changes AC voltage/current levels via electromagnetic induction.\n",
      "- Entertainment: The Transformers media franchise (robots that can change forms).\n",
      "\n",
      "Which one are you asking about?\n"
     ]
    },
    {
     "name": "stdin",
     "output_type": "stream",
     "text": [
      "You:  exit\n"
     ]
    },
    {
     "name": "stdout",
     "output_type": "stream",
     "text": [
      "Chat ended.\n"
     ]
    }
   ],
   "source": [
    "state = None\n",
    "\n",
    "while True:\n",
    "    in_message = input(\"You: \")\n",
    "    if in_message.lower() in {\"quit\", \"exit\"}:\n",
    "        print(\"Chat ended.\")\n",
    "        break\n",
    "\n",
    "    if state is None:\n",
    "        # initialize state with the first user message\n",
    "        state = {\"messages\": [{\"role\": \"user\", \"content\": in_message}]}\n",
    "    else:\n",
    "        # add the new user message\n",
    "        state[\"messages\"].append({\"role\": \"user\", \"content\": in_message})\n",
    "\n",
    "    # run the graph (which calls the LLM)\n",
    "    state = graph.invoke(state)\n",
    "\n",
    "    # print the last assistant reply\n",
    "    last_reply = state[\"messages\"][1].content\n",
    "    print(\"Bot:\", last_reply)\n"
   ]
  }
 ],
 "metadata": {
  "kernelspec": {
   "display_name": "Python 3 (ipykernel)",
   "language": "python",
   "name": "python3"
  },
  "language_info": {
   "codemirror_mode": {
    "name": "ipython",
    "version": 3
   },
   "file_extension": ".py",
   "mimetype": "text/x-python",
   "name": "python",
   "nbconvert_exporter": "python",
   "pygments_lexer": "ipython3",
   "version": "3.13.7"
  }
 },
 "nbformat": 4,
 "nbformat_minor": 5
}
