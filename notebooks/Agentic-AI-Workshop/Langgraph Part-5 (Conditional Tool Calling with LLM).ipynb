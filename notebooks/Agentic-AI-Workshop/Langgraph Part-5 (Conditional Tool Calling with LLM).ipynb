{
 "cells": [
  {
   "cell_type": "code",
   "execution_count": 15,
   "id": "initial_id",
   "metadata": {
    "ExecuteTime": {
     "end_time": "2025-06-20T22:13:38.414170Z",
     "start_time": "2025-06-20T22:13:37.601914Z"
    }
   },
   "outputs": [],
   "source": [
    "from langchain.chat_models import init_chat_model\n",
    "from typing import Annotated\n",
    "from typing_extensions import TypedDict\n",
    "from langgraph.graph import StateGraph, START, END\n",
    "from langgraph.graph.message import add_messages\n",
    "from langchain_core.tools import tool\n",
    "from langgraph.prebuilt import ToolNode, tools_condition"
   ]
  },
  {
   "cell_type": "code",
   "execution_count": 16,
   "id": "98afda7e82d78885",
   "metadata": {
    "ExecuteTime": {
     "end_time": "2025-06-20T22:13:38.538308Z",
     "start_time": "2025-06-20T22:13:38.516045Z"
    }
   },
   "outputs": [
    {
     "data": {
      "text/plain": [
       "True"
      ]
     },
     "execution_count": 16,
     "metadata": {},
     "output_type": "execute_result"
    }
   ],
   "source": [
    "from dotenv import load_dotenv\n",
    "load_dotenv()"
   ]
  },
  {
   "cell_type": "code",
   "execution_count": 17,
   "id": "ca26e5c9b6f90e70",
   "metadata": {
    "ExecuteTime": {
     "end_time": "2025-06-20T22:13:39.811796Z",
     "start_time": "2025-06-20T22:13:39.804288Z"
    }
   },
   "outputs": [],
   "source": [
    "class State(TypedDict):\n",
    "    messages: Annotated[list, add_messages]"
   ]
  },
  {
   "cell_type": "code",
   "execution_count": 18,
   "id": "1ae1551f32e48052",
   "metadata": {
    "ExecuteTime": {
     "end_time": "2025-06-20T22:13:42.063060Z",
     "start_time": "2025-06-20T22:13:41.228513Z"
    }
   },
   "outputs": [],
   "source": [
    "# --- Tools (simple, deterministic) ---\n",
    "@tool\n",
    "def get_stock_price(symbol: str) -> float:\n",
    "    \"\"\"Return the current price of a stock given the stock symbol.\n",
    "    :param symbol: stock symbol (e.g., 'AAPL')\n",
    "    :return: current price of the stock\n",
    "    \"\"\"\n",
    "    return {\n",
    "        \"MSFT\": 200.3,\n",
    "        \"AAPL\": 100.4,\n",
    "        \"AMZN\": 150.0,\n",
    "        \"RIL\": 87.6\n",
    "    }.get(symbol.upper(), 0.0)\n",
    "\n",
    "tools = [get_stock_price]"
   ]
  },
  {
   "cell_type": "code",
   "execution_count": 38,
   "id": "632935ce-c833-4bcc-bb4c-f7ed43111273",
   "metadata": {},
   "outputs": [],
   "source": [
    "# --- LLM setup (bound to tools) ---\n",
    "llm = init_chat_model(\"openai:gpt-5\")\n",
    "llm_with_tools = llm.bind_tools(tools)"
   ]
  },
  {
   "cell_type": "code",
   "execution_count": 39,
   "id": "8f41092e-9835-4730-a0df-12e5139dd933",
   "metadata": {},
   "outputs": [],
   "source": [
    "def chatbot(state: State):\n",
    "    return {\"messages\": [llm_with_tools.invoke(state[\"messages\"])]}"
   ]
  },
  {
   "cell_type": "code",
   "execution_count": 40,
   "id": "d03b4277f7740d00",
   "metadata": {
    "ExecuteTime": {
     "end_time": "2025-06-20T22:13:47.133526Z",
     "start_time": "2025-06-20T22:13:47.038173Z"
    }
   },
   "outputs": [
    {
     "data": {
      "image/png": "[encoded data removed]",
      "text/plain": [
       "<IPython.core.display.Image object>"
      ]
     },
     "metadata": {},
     "output_type": "display_data"
    }
   ],
   "source": [
    "builder = StateGraph(State)\n",
    "\n",
    "builder.add_node(chatbot)\n",
    "builder.add_node(\"tools\", ToolNode(tools))\n",
    "\n",
    "builder.add_edge(START, \"chatbot\")\n",
    "builder.add_conditional_edges(\"chatbot\", tools_condition)\n",
    "builder.add_edge(\"tools\", \"chatbot\")\n",
    "graph = builder.compile()\n",
    "\n",
    "from IPython.display import Image, display\n",
    "\n",
    "display(Image(graph.get_graph().draw_mermaid_png()))"
   ]
  },
  {
   "cell_type": "code",
   "execution_count": 41,
   "id": "1fca0bcad1001c0f",
   "metadata": {
    "ExecuteTime": {
     "end_time": "2025-06-20T22:09:54.487653Z",
     "start_time": "2025-06-20T22:09:53.959262Z"
    }
   },
   "outputs": [
    {
     "name": "stdout",
     "output_type": "stream",
     "text": [
      "The current price of MSFT is $200.30.\n"
     ]
    }
   ],
   "source": [
    "state = graph.invoke({\"messages\": [{\"role\": \"user\", \"content\": \"current price of MSFT?\"}]})\n",
    "print(state[\"messages\"][-1].content)"
   ]
  },
  {
   "cell_type": "code",
   "execution_count": 42,
   "id": "a790a5ff481e68dd",
   "metadata": {
    "ExecuteTime": {
     "end_time": "2025-06-20T22:11:27.896213Z",
     "start_time": "2025-06-20T22:11:27.371735Z"
    }
   },
   "outputs": [
    {
     "name": "stdout",
     "output_type": "stream",
     "text": [
      "George Washington.\n"
     ]
    }
   ],
   "source": [
    "state = graph.invoke({\"messages\": [{\"role\": \"user\", \"content\": \"name first US president?\"}]})\n",
    "print(state[\"messages\"][-1].content)"
   ]
  },
  {
   "cell_type": "code",
   "execution_count": 43,
   "id": "832e942faae3ca47",
   "metadata": {
    "ExecuteTime": {
     "end_time": "2025-06-20T22:14:07.407785Z",
     "start_time": "2025-06-20T22:14:05.857935Z"
    }
   },
   "outputs": [
    {
     "name": "stdout",
     "output_type": "stream",
     "text": [
      "6004.5\n"
     ]
    }
   ],
   "source": [
    "msg = \"Buy 20 AMZN and 15 MSFT at their current prices. Return only the total cost in USD (number).\"\n",
    "\n",
    "state = graph.invoke({\"messages\": [{\"role\": \"user\", \"content\": msg}]})\n",
    "print(state[\"messages\"][-1].content)"
   ]
  },
  {
   "cell_type": "code",
   "execution_count": 44,
   "id": "f0f65208-21d4-4f1f-9927-d792a55ec525",
   "metadata": {},
   "outputs": [
    {
     "name": "stdout",
     "output_type": "stream",
     "text": [
      "The current price of RIL is 87.6 per share.\n",
      "- Cost for 10 shares: 10 × 87.6 = 876.0\n",
      "\n",
      "Please tell me your previous total cost (and currency), and I’ll add 876.0 to it. If your previous total was P, the new total is P + 876.0.\n"
     ]
    }
   ],
   "source": [
    "msg = \"Using the current price tell me the total price of 10 RIL stocks and add it to previous total cost\"\n",
    "\n",
    "state = graph.invoke({\"messages\": [{\"role\": \"user\", \"content\": msg}]})\n",
    "print(state[\"messages\"][-1].content)"
   ]
  },
  {
   "cell_type": "code",
   "execution_count": null,
   "id": "26189ceb-4182-436f-8467-fbe7d7ceffed",
   "metadata": {},
   "outputs": [],
   "source": []
  }
 ],
 "metadata": {
  "kernelspec": {
   "display_name": "Python 3 (ipykernel)",
   "language": "python",
   "name": "python3"
  },
  "language_info": {
   "codemirror_mode": {
    "name": "ipython",
    "version": 3
   },
   "file_extension": ".py",
   "mimetype": "text/x-python",
   "name": "python",
   "nbconvert_exporter": "python",
   "pygments_lexer": "ipython3",
   "version": "3.13.7"
  }
 },
 "nbformat": 4,
 "nbformat_minor": 5
}
