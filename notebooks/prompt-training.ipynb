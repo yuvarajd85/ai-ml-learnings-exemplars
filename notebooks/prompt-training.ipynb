{
 "cells": [
  {
   "cell_type": "code",
   "execution_count": 313,
   "id": "af3a2a82-f6fd-486e-a8e8-a67f22695d3d",
   "metadata": {},
   "outputs": [],
   "source": [
    "import boto3"
   ]
  },
  {
   "cell_type": "code",
   "execution_count": 314,
   "id": "60b005f1-561a-48ce-84ed-1b830783246b",
   "metadata": {},
   "outputs": [],
   "source": [
    "bd_clt = boto3.client(\"bedrock-runtime\", region_name=\"us-east-1\")"
   ]
  },
  {
   "cell_type": "code",
   "execution_count": 315,
   "id": "a8f93d20-f9bf-457b-8f46-ccac09a1e3cc",
   "metadata": {},
   "outputs": [],
   "source": [
    "question = \"User: Find all employees with the last name \\\"ERIC\\\" who are enrolled in a service?\""
   ]
  },
  {
   "cell_type": "code",
   "execution_count": 316,
   "id": "76bd416d-5b08-47ca-b743-acfe0618bf89",
   "metadata": {},
   "outputs": [],
   "source": [
    "prompt = \"\"\"\n",
    "You are an AI SQL assistant. Generate SQL queries based on natural language prompts. Use the given schema as reference. \n",
    "Also append within quotes the database name with a dot in outputquery.\n",
    "\n",
    "Schema:\n",
    "{\n",
    "  \"tables\": {\n",
    "    \"employee\": {\n",
    "      \"columns\": {\n",
    "        \"employee_id\": \"int\",\n",
    "        \"first_name\": \"varchar\",\n",
    "        \"last_name\": \"varchar\",\n",
    "        \"department_id\": \"int\",\n",
    "        \"hire_date\": \"date\"\n",
    "      }\n",
    "    },\n",
    "    \"department\": {\n",
    "      \"columns\": {\n",
    "        \"department_id\": \"int\",\n",
    "        \"department_name\": \"varchar\"\n",
    "      }\n",
    "    },\n",
    "    \"services\": {\n",
    "      \"columns\": {\n",
    "        \"service_id\": \"int\",\n",
    "        \"service_name\": \"varchar\"\n",
    "      }\n",
    "    },\n",
    "    \"enrollment\": {\n",
    "      \"columns\": {\n",
    "        \"employee_id\": \"int\",\n",
    "        \"service_id\": \"int\",\n",
    "        \"enrollment_date\": \"date\"\n",
    "      }\n",
    "    }\n",
    "  }\n",
    "}\n",
    "\n",
    "Examples:\n",
    "User: List all employees in the IT department.\n",
    "AI: SELECT * FROM \"employee\" e JOIN department d ON e.department_id = d.department_id WHERE d.department_name = 'IT';\n",
    "\n",
    "User: Get all employees hired after January 1, 2021.\n",
    "AI: SELECT * FROM \"employee\" WHERE hire_date > \"2021-01-01\";\n",
    "\n",
    "User: Get all services available in the system.\n",
    "AI: SELECT * FROM \"services\";\n",
    "\n",
    "User: Find all employees with the last name 'Smith'.\n",
    "AI: SELECT * FROM \"employee\" WHERE last_name = 'Smith';\n",
    "\n",
    "User: Get the department details of employees hired before 2020.\n",
    "AI: SELECT e.first_name, e.last_name, d.department_name FROM \"employee\" e JOIN department d ON e.department_id = d.department_id WHERE e.hire_date < '2020-01-01';\n",
    "\n",
    "User: List all services employees have enrolled in.\n",
    "AI: SELECT s.service_name, e.first_name, e.last_name FROM \"employee\" en JOIN services s ON en.service_id = s.service_id JOIN employee e ON en.employee_id = e.employee_id;\n",
    "\n",
    "User: Which employees are enrolled in the Health Insurance service?\n",
    "AI: SELECT e.first_name, e.last_name FROM \"employee\" en JOIN services s ON en.service_id = s.service_id JOIN employee e ON en.employee_id = e.employee_id WHERE s.service_name = 'Health Insurance';\n",
    "\n",
    "User: What is the total number of employees in each department?\n",
    "AI: SELECT d.department_name, COUNT(e.employee_id) AS employee_count FROM \"employee\" e JOIN department d ON e.department_id = d.department_id GROUP BY d.department_name;\n",
    "\n",
    "User: Find employees who have never enrolled in a service.\n",
    "AI: SELECT e.first_name, e.last_name FROM \"employee\" e LEFT JOIN enrollment en ON e.employee_id = en.employee_id WHERE en.employee_id IS NULL;\n",
    "\n",
    "User: Which employees are enrolled in multiple services?\n",
    "AI: SELECT e.first_name, e.last_name, COUNT(en.service_id) AS service_count FROM \"enrollment\" en JOIN employee e ON en.employee_id = e.employee_id GROUP BY e.first_name, e.last_name HAVING COUNT(en.service_id) > 1;\n",
    "\n",
    "User: What is the total number of enrollments per service?\n",
    "AI: SELECT s.service_name, COUNT(en.service_id) AS total_enrollments FROM \"enrollment\" en JOIN services s ON en.service_id = s.service_id GROUP BY s.service_name;\n",
    "\n",
    "Now, generate the SQL query for the following request:\n",
    "User: Find all employees?\n",
    "AI:\n",
    "\"\"\""
   ]
  },
  {
   "cell_type": "code",
   "execution_count": 317,
   "id": "8aaf4a16-c40b-492d-9c03-2bb46808f893",
   "metadata": {},
   "outputs": [
    {
     "name": "stdout",
     "output_type": "stream",
     "text": [
      "{'inputTextTokenCount': 965, 'results': [{'tokenCount': 9, 'outputText': 'SELECT * FROM \"employee\";', 'completionReason': 'FINISH'}]}\n",
      "SELECT * FROM \"employee\";\n"
     ]
    }
   ],
   "source": [
    "model_id = \"amazon.titan-text-express-v1\" # \"amazon.titan-embed-text-v2:0\" # \"anthropic.claude-3-5-haiku-20241022-v1:0\" #\"anthropic.claude-3-haiku-20240307-v1:0\"  #\"anthropic.claude-3-5-haiku-20241022-v1:0\"\n",
    "#prompt = \"Give me the current date time in EST\"\n",
    "native_request = {\n",
    " \"inputText\": prompt,\n",
    "    \"textGenerationConfig\": {\n",
    "        \"maxTokenCount\": 512,\n",
    "        \"temperature\": 0.5,\n",
    "    }\n",
    "}\n",
    "import json\n",
    "request = json.dumps(native_request)\n",
    "response = bd_clt.invoke_model(modelId =model_id, body = request)\n",
    "output = json.loads(response['body'].read())\n",
    "print(output)\n",
    "sql_stmt = output['results'][0]['outputText']\n",
    "print(sql_stmt)"
   ]
  },
  {
   "cell_type": "code",
   "execution_count": 318,
   "id": "86a05f8b-0d36-41a8-9927-fb4f8be061c7",
   "metadata": {},
   "outputs": [],
   "source": [
    "athena_client = boto3.client(\"athena\", region_name = 'us-east-1')\n",
    "\n",
    "bucket_name = \"query-gen-hackathon\"\n"
   ]
  },
  {
   "cell_type": "code",
   "execution_count": 319,
   "id": "07ba85a7-0dd8-4a1e-8c49-ceaf111d7c4c",
   "metadata": {},
   "outputs": [
    {
     "name": "stdout",
     "output_type": "stream",
     "text": [
      "5115281b-a198-4440-8c50-2310d62a2817\n"
     ]
    }
   ],
   "source": [
    "response = athena_client.start_query_execution(QueryString= sql_stmt, QueryExecutionContext = {'Database': 'finetune_llm_querygen', 'Catalog': 'AwsDataCatalog'},\n",
    "                                              ResultConfiguration = {'OutputLocation': \"s3://query-gen-hackathon/athena-query-result\", \n",
    "                                                                    })\n",
    "query_id = response['QueryExecutionId']\n",
    "print(query_id)"
   ]
  },
  {
   "cell_type": "code",
   "execution_count": 325,
   "id": "27b143ae-b8d8-4b82-81d2-a33469238339",
   "metadata": {},
   "outputs": [
    {
     "name": "stdout",
     "output_type": "stream",
     "text": [
      "{'QueryExecution': {'QueryExecutionId': '5115281b-a198-4440-8c50-2310d62a2817', 'Query': 'SELECT * FROM \"employee\"', 'StatementType': 'DML', 'ResultConfiguration': {'OutputLocation': 's3://query-gen-hackathon/athena-query-result/5115281b-a198-4440-8c50-2310d62a2817.csv'}, 'ResultReuseConfiguration': {'ResultReuseByAgeConfiguration': {'Enabled': False}}, 'QueryExecutionContext': {'Database': 'finetune_llm_querygen', 'Catalog': 'awsdatacatalog'}, 'Status': {'State': 'SUCCEEDED', 'SubmissionDateTime': datetime.datetime(2025, 3, 3, 16, 54, 27, 825000, tzinfo=tzlocal()), 'CompletionDateTime': datetime.datetime(2025, 3, 3, 16, 54, 28, 923000, tzinfo=tzlocal())}, 'Statistics': {'EngineExecutionTimeInMillis': 714, 'DataScannedInBytes': 3194, 'TotalExecutionTimeInMillis': 1098, 'QueryQueueTimeInMillis': 114, 'ServicePreProcessingTimeInMillis': 203, 'QueryPlanningTimeInMillis': 77, 'ServiceProcessingTimeInMillis': 67, 'ResultReuseInformation': {'ReusedPreviousResult': False}}, 'WorkGroup': 'primary', 'EngineVersion': {'SelectedEngineVersion': 'AUTO', 'EffectiveEngineVersion': 'Athena engine version 3'}, 'SubstatementType': 'SELECT'}, 'ResponseMetadata': {'RequestId': '5d194704-118e-4b82-92cd-00180de20a31', 'HTTPStatusCode': 200, 'HTTPHeaders': {'date': 'Mon, 03 Mar 2025 17:27:19 GMT', 'content-type': 'application/x-amz-json-1.1', 'content-length': '1754', 'connection': 'keep-alive', 'x-amzn-requestid': '5d194704-118e-4b82-92cd-00180de20a31'}, 'RetryAttempts': 0}}\n",
      "SUCCEEDED\n"
     ]
    }
   ],
   "source": [
    "exec_status = athena_client.get_query_execution(QueryExecutionId=query_id)\n",
    "print(exec_status)\n",
    "status = exec_status['QueryExecution']['Status']['State']\n",
    "print(status)"
   ]
  },
  {
   "cell_type": "code",
   "execution_count": 321,
   "id": "198f4a7a-6887-40cb-8369-b116e1b24593",
   "metadata": {},
   "outputs": [],
   "source": [
    "# results = athena_client.get_query_results(\n",
    "#     QueryExecutionId=query_id,   \n",
    "#     MaxResults=123\n",
    "# )\n",
    "# import pandas as pd\n",
    "# print(results)\n",
    "# data = results['ResultSet']\n",
    "# print(data)\n",
    "# df = pd.DataFrame.from_dict(data['Rows'])\n",
    "# print(df)"
   ]
  },
  {
   "cell_type": "code",
   "execution_count": 326,
   "id": "c0d16820-efe0-4771-aa3f-326d1116b03a",
   "metadata": {},
   "outputs": [
    {
     "name": "stdout",
     "output_type": "stream",
     "text": [
      "starting\n",
      "5115281b-a198-4440-8c50-2310d62a2817\n",
      "checking\n",
      "done\n",
      "<botocore.response.StreamingBody object at 0x7ff64d6d1b40>\n"
     ]
    }
   ],
   "source": [
    "import time\n",
    "print('starting')\n",
    "print(query_id)\n",
    "while True:\n",
    "    print('checking')\n",
    "    if status == 'QUEUED' or status == 'RUNNING':\n",
    "        print('waiting')\n",
    "        time.sleep(1)        \n",
    "    elif status == 'SUCCEEDED':\n",
    "        print('done')\n",
    "        s3_client = boto3.client('s3')\n",
    "        resp = s3_client.get_object(Bucket = bucket_name, Key = f'athena-query-result/{query_id}.csv')\n",
    "        print(resp['Body'])\n",
    "        break\n"
   ]
  },
  {
   "cell_type": "code",
   "execution_count": 327,
   "id": "02717f95-bdeb-4ce2-8182-4907e6149091",
   "metadata": {},
   "outputs": [
    {
     "name": "stdout",
     "output_type": "stream",
     "text": [
      "****\n",
      "    employee_id first_name last_name  department_id   hire_date\n",
      "0             1      Bryan      Diaz            103  2020-08-10\n",
      "1             2     Marvin     Drake            101  2023-12-18\n",
      "2             3     Trevor  Williams            102  2021-01-18\n",
      "3             4     Angela  Anderson            102  2021-02-19\n",
      "4             5   Michelle    Guzman            102  2022-02-22\n",
      "..          ...        ...       ...            ...         ...\n",
      "95           96      Kevin      Ford            103  2020-02-12\n",
      "96           97      Julie    Moreno            101  2021-01-18\n",
      "97           98   Michelle   Fleming            101  2024-09-23\n",
      "98           99    Jeffery   Bennett            101  2021-06-10\n",
      "99          100    Jasmine   Jackson            102  2021-08-05\n",
      "\n",
      "[100 rows x 5 columns]\n"
     ]
    }
   ],
   "source": [
    "#import pandas as pd\n",
    "output = pd.read_csv(resp['Body'])\n",
    "print(\"****\")\n",
    "print(output)"
   ]
  },
  {
   "cell_type": "code",
   "execution_count": null,
   "id": "3ee18063-0ebb-4800-b48f-0806a1f33ab9",
   "metadata": {},
   "outputs": [],
   "source": []
  }
 ],
 "metadata": {
  "kernelspec": {
   "display_name": "conda_python3",
   "language": "python",
   "name": "conda_python3"
  },
  "language_info": {
   "codemirror_mode": {
    "name": "ipython",
    "version": 3
   },
   "file_extension": ".py",
   "mimetype": "text/x-python",
   "name": "python",
   "nbconvert_exporter": "python",
   "pygments_lexer": "ipython3",
   "version": "3.10.16"
  }
 },
 "nbformat": 4,
 "nbformat_minor": 5
}
