{
 "cells": [
  {
   "cell_type": "code",
   "execution_count": 70,
   "id": "562ad076-c789-4db0-b804-25f2372d6c3d",
   "metadata": {},
   "outputs": [
    {
     "name": "stdout",
     "output_type": "stream",
     "text": [
      "Requirement already satisfied: polars in /home/ec2-user/anaconda3/envs/python3/lib/python3.10/site-packages (1.23.0)\n"
     ]
    }
   ],
   "source": [
    "!pip install polars"
   ]
  },
  {
   "cell_type": "code",
   "execution_count": 71,
   "id": "b5bea736-9ba5-40de-b3bd-11408b2940b8",
   "metadata": {},
   "outputs": [
    {
     "name": "stdout",
     "output_type": "stream",
     "text": [
      "Requirement already satisfied: s3fs in /home/ec2-user/anaconda3/envs/python3/lib/python3.10/site-packages (0.4.2)\n",
      "Requirement already satisfied: botocore>=1.12.91 in /home/ec2-user/anaconda3/envs/python3/lib/python3.10/site-packages (from s3fs) (1.36.24)\n",
      "Requirement already satisfied: fsspec>=0.6.0 in /home/ec2-user/anaconda3/envs/python3/lib/python3.10/site-packages (from s3fs) (2025.2.0)\n",
      "Requirement already satisfied: jmespath<2.0.0,>=0.7.1 in /home/ec2-user/anaconda3/envs/python3/lib/python3.10/site-packages (from botocore>=1.12.91->s3fs) (1.0.1)\n",
      "Requirement already satisfied: python-dateutil<3.0.0,>=2.1 in /home/ec2-user/anaconda3/envs/python3/lib/python3.10/site-packages (from botocore>=1.12.91->s3fs) (2.9.0.post0)\n",
      "Requirement already satisfied: urllib3!=2.2.0,<3,>=1.25.4 in /home/ec2-user/anaconda3/envs/python3/lib/python3.10/site-packages (from botocore>=1.12.91->s3fs) (2.3.0)\n",
      "Requirement already satisfied: six>=1.5 in /home/ec2-user/anaconda3/envs/python3/lib/python3.10/site-packages (from python-dateutil<3.0.0,>=2.1->botocore>=1.12.91->s3fs) (1.17.0)\n"
     ]
    }
   ],
   "source": [
    "!pip install s3fs"
   ]
  },
  {
   "cell_type": "code",
   "execution_count": 72,
   "id": "4b7f0dfe-8da5-4e1f-bbd9-e1421dea7fde",
   "metadata": {},
   "outputs": [
    {
     "name": "stdout",
     "output_type": "stream",
     "text": [
      "Requirement already satisfied: awswrangler in /home/ec2-user/anaconda3/envs/python3/lib/python3.10/site-packages (3.11.0)\n",
      "Requirement already satisfied: boto3<2.0.0,>=1.20.32 in /home/ec2-user/anaconda3/envs/python3/lib/python3.10/site-packages (from awswrangler) (1.36.24)\n",
      "Requirement already satisfied: botocore<2.0.0,>=1.23.32 in /home/ec2-user/anaconda3/envs/python3/lib/python3.10/site-packages (from awswrangler) (1.36.24)\n",
      "Requirement already satisfied: numpy<3.0,>=1.26 in /home/ec2-user/anaconda3/envs/python3/lib/python3.10/site-packages (from awswrangler) (1.26.4)\n",
      "Requirement already satisfied: packaging<25.0,>=21.1 in /home/ec2-user/anaconda3/envs/python3/lib/python3.10/site-packages (from awswrangler) (21.3)\n",
      "Requirement already satisfied: pandas<3.0.0,>=1.2.0 in /home/ec2-user/anaconda3/envs/python3/lib/python3.10/site-packages (from awswrangler) (1.5.3)\n",
      "Requirement already satisfied: pyarrow<19.0.0,>=8.0.0 in /home/ec2-user/anaconda3/envs/python3/lib/python3.10/site-packages (from awswrangler) (18.1.0)\n",
      "Requirement already satisfied: typing-extensions<5.0.0,>=4.4.0 in /home/ec2-user/anaconda3/envs/python3/lib/python3.10/site-packages (from awswrangler) (4.12.2)\n",
      "Requirement already satisfied: jmespath<2.0.0,>=0.7.1 in /home/ec2-user/anaconda3/envs/python3/lib/python3.10/site-packages (from boto3<2.0.0,>=1.20.32->awswrangler) (1.0.1)\n",
      "Requirement already satisfied: s3transfer<0.12.0,>=0.11.0 in /home/ec2-user/anaconda3/envs/python3/lib/python3.10/site-packages (from boto3<2.0.0,>=1.20.32->awswrangler) (0.11.2)\n",
      "Requirement already satisfied: python-dateutil<3.0.0,>=2.1 in /home/ec2-user/anaconda3/envs/python3/lib/python3.10/site-packages (from botocore<2.0.0,>=1.23.32->awswrangler) (2.9.0.post0)\n",
      "Requirement already satisfied: urllib3!=2.2.0,<3,>=1.25.4 in /home/ec2-user/anaconda3/envs/python3/lib/python3.10/site-packages (from botocore<2.0.0,>=1.23.32->awswrangler) (2.3.0)\n",
      "Requirement already satisfied: pyparsing!=3.0.5,>=2.0.2 in /home/ec2-user/anaconda3/envs/python3/lib/python3.10/site-packages (from packaging<25.0,>=21.1->awswrangler) (3.2.1)\n",
      "Requirement already satisfied: pytz>=2020.1 in /home/ec2-user/anaconda3/envs/python3/lib/python3.10/site-packages (from pandas<3.0.0,>=1.2.0->awswrangler) (2025.1)\n",
      "Requirement already satisfied: six>=1.5 in /home/ec2-user/anaconda3/envs/python3/lib/python3.10/site-packages (from python-dateutil<3.0.0,>=2.1->botocore<2.0.0,>=1.23.32->awswrangler) (1.17.0)\n"
     ]
    }
   ],
   "source": [
    "!pip install awswrangler"
   ]
  },
  {
   "cell_type": "code",
   "execution_count": 73,
   "id": "53d1b5e1-a2da-402c-8735-3ba8ff72c6fc",
   "metadata": {},
   "outputs": [],
   "source": [
    "import polars as pl\n",
    "from polars import DataFrame\n",
    "import s3fs\n",
    "import boto3\n",
    "import awswrangler as wr \n",
    "from awswrangler.typing import GlueTableSettings"
   ]
  },
  {
   "cell_type": "code",
   "execution_count": 74,
   "id": "12b55893-4612-465e-a2aa-3d9c337f9483",
   "metadata": {},
   "outputs": [],
   "source": [
    "datasets = {\n",
    "    \"service_history\" : f\"s3://query-gen-hackathon/sample_data_employee/service_history_dataset.csv\",\n",
    "    \"employees\": f\"s3://query-gen-hackathon/sample_data_employee/employee.csv\",\n",
    "    \"departments\": f\"s3://query-gen-hackathon/sample_data_employee/department.csv\",\n",
    "    \"enrollments\": f\"s3://query-gen-hackathon/sample_data_employee/enrollment.csv\",\n",
    "    \"services\": f\"s3://query-gen-hackathon/sample_data_employee/services.csv\"\n",
    "}"
   ]
  },
  {
   "cell_type": "code",
   "execution_count": 75,
   "id": "4d8add77-f65c-4ad7-8843-c1672777a06a",
   "metadata": {},
   "outputs": [],
   "source": [
    "def create_table(bucket_path, table):\n",
    "    fs = s3fs.S3FileSystem()\n",
    "    with fs.open(bucket_path, mode=\"rb\") as f:\n",
    "        df = pl.read_csv(f, infer_schema_length=1000)\n",
    "        df.head()\n",
    "        s3_session = boto3.Session(region_name=\"us-east-1\")\n",
    "        catalog_id = \"529088288102\"\n",
    "        wr.catalog.delete_table_if_exists(database=\"finetune_llm_querygen\", table=table, catalog_id=catalog_id,boto3_session=s3_session)\n",
    "        wr.s3.to_parquet(\n",
    "            df=df.to_pandas(),\n",
    "            path=f\"s3://query-gen-hackathon/sample_data_employee/output/{table}/\",\n",
    "            index=False,\n",
    "            compression=\"snappy\",\n",
    "            use_threads=True,\n",
    "            boto3_session=s3_session,\n",
    "            dataset=True,\n",
    "            mode=\"overwrite_partitions\",\n",
    "            schema_evolution=True,\n",
    "            database=\"finetune_llm_querygen\",\n",
    "            table=table,\n",
    "            catalog_id=catalog_id,\n",
    "            glue_table_settings=GlueTableSettings(\n",
    "                table_type=\"EXTERNAL_TABLE\",\n",
    "                description=\"department table\"\n",
    "            ),\n",
    "        )\n",
    "        \n",
    "        "
   ]
  },
  {
   "cell_type": "code",
   "execution_count": 76,
   "id": "ef641eb9-1c67-42e0-8113-bd29f3ad37c9",
   "metadata": {},
   "outputs": [
    {
     "name": "stdout",
     "output_type": "stream",
     "text": [
      "service_history s3://query-gen-hackathon/sample_data_employee/service_history_dataset.csv\n",
      "employees s3://query-gen-hackathon/sample_data_employee/employee.csv\n",
      "departments s3://query-gen-hackathon/sample_data_employee/department.csv\n",
      "enrollments s3://query-gen-hackathon/sample_data_employee/enrollment.csv\n",
      "services s3://query-gen-hackathon/sample_data_employee/services.csv\n"
     ]
    }
   ],
   "source": [
    "for table, bucket_path in datasets.items():\n",
    "    print(table, bucket_path)\n",
    "    create_table(bucket_path, table)"
   ]
  },
  {
   "cell_type": "code",
   "execution_count": null,
   "id": "89ad9c93-2a27-41f1-a7b2-29c91a3b196f",
   "metadata": {},
   "outputs": [],
   "source": []
  }
 ],
 "metadata": {
  "kernelspec": {
   "display_name": "conda_python3",
   "language": "python",
   "name": "conda_python3"
  },
  "language_info": {
   "codemirror_mode": {
    "name": "ipython",
    "version": 3
   },
   "file_extension": ".py",
   "mimetype": "text/x-python",
   "name": "python",
   "nbconvert_exporter": "python",
   "pygments_lexer": "ipython3",
   "version": "3.10.16"
  }
 },
 "nbformat": 4,
 "nbformat_minor": 5
}
