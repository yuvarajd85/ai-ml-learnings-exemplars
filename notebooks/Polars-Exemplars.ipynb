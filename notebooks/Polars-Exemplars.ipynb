{
 "cells": [
  {
   "cell_type": "markdown",
   "id": "ba121574-e15a-4f30-8388-565b6973d8f5",
   "metadata": {},
   "source": [
    "### All the Required Imports Goes in to this Cell"
   ]
  },
  {
   "cell_type": "code",
   "execution_count": 7,
   "id": "b1a34400-a8cc-4ee7-9779-b554c2ffd30d",
   "metadata": {},
   "outputs": [],
   "source": [
    "import polars as pl\n",
    "from polars import DataFrame\n",
    "import pandas as pd\n",
    "import seaborn as sns\n",
    "from matplotlib import pyplot as plt\n",
    "from datetime import datetime as dt"
   ]
  },
  {
   "cell_type": "markdown",
   "id": "ec863793-65d1-4472-8ffb-05bc03430c1e",
   "metadata": {},
   "source": [
    "### Reading the input dataset `prices-split-adjusted.csv`"
   ]
  },
  {
   "cell_type": "code",
   "execution_count": 11,
   "id": "f60edc69-bd47-491e-917d-635e9100fe83",
   "metadata": {},
   "outputs": [
    {
     "data": {
      "text/html": [
       "<div><style>\n",
       ".dataframe > thead > tr,\n",
       ".dataframe > tbody > tr {\n",
       "  text-align: right;\n",
       "  white-space: pre-wrap;\n",
       "}\n",
       "</style>\n",
       "<small>shape: (5, 7)</small><table border=\"1\" class=\"dataframe\"><thead><tr><th>date</th><th>symbol</th><th>open</th><th>close</th><th>low</th><th>high</th><th>volume</th></tr><tr><td>str</td><td>str</td><td>f64</td><td>f64</td><td>f64</td><td>f64</td><td>f64</td></tr></thead><tbody><tr><td>&quot;2016-01-05&quot;</td><td>&quot;WLTW&quot;</td><td>123.43</td><td>125.839996</td><td>122.309998</td><td>126.25</td><td>2.1636e6</td></tr><tr><td>&quot;2016-01-06&quot;</td><td>&quot;WLTW&quot;</td><td>125.239998</td><td>119.980003</td><td>119.940002</td><td>125.540001</td><td>2.3864e6</td></tr><tr><td>&quot;2016-01-07&quot;</td><td>&quot;WLTW&quot;</td><td>116.379997</td><td>114.949997</td><td>114.93</td><td>119.739998</td><td>2.4895e6</td></tr><tr><td>&quot;2016-01-08&quot;</td><td>&quot;WLTW&quot;</td><td>115.480003</td><td>116.620003</td><td>113.5</td><td>117.440002</td><td>2.0063e6</td></tr><tr><td>&quot;2016-01-11&quot;</td><td>&quot;WLTW&quot;</td><td>117.010002</td><td>114.970001</td><td>114.089996</td><td>117.330002</td><td>1.4086e6</td></tr></tbody></table></div>"
      ],
      "text/plain": [
       "shape: (5, 7)\n",
       "┌────────────┬────────┬────────────┬────────────┬────────────┬────────────┬──────────┐\n",
       "│ date       ┆ symbol ┆ open       ┆ close      ┆ low        ┆ high       ┆ volume   │\n",
       "│ ---        ┆ ---    ┆ ---        ┆ ---        ┆ ---        ┆ ---        ┆ ---      │\n",
       "│ str        ┆ str    ┆ f64        ┆ f64        ┆ f64        ┆ f64        ┆ f64      │\n",
       "╞════════════╪════════╪════════════╪════════════╪════════════╪════════════╪══════════╡\n",
       "│ 2016-01-05 ┆ WLTW   ┆ 123.43     ┆ 125.839996 ┆ 122.309998 ┆ 126.25     ┆ 2.1636e6 │\n",
       "│ 2016-01-06 ┆ WLTW   ┆ 125.239998 ┆ 119.980003 ┆ 119.940002 ┆ 125.540001 ┆ 2.3864e6 │\n",
       "│ 2016-01-07 ┆ WLTW   ┆ 116.379997 ┆ 114.949997 ┆ 114.93     ┆ 119.739998 ┆ 2.4895e6 │\n",
       "│ 2016-01-08 ┆ WLTW   ┆ 115.480003 ┆ 116.620003 ┆ 113.5      ┆ 117.440002 ┆ 2.0063e6 │\n",
       "│ 2016-01-11 ┆ WLTW   ┆ 117.010002 ┆ 114.970001 ┆ 114.089996 ┆ 117.330002 ┆ 1.4086e6 │\n",
       "└────────────┴────────┴────────────┴────────────┴────────────┴────────────┴──────────┘"
      ]
     },
     "execution_count": 11,
     "metadata": {},
     "output_type": "execute_result"
    }
   ],
   "source": [
    "df: DataFrame = pl.read_csv(\"prices-split-adjusted.csv\")\n",
    "df.head()"
   ]
  },
  {
   "cell_type": "markdown",
   "id": "013a636c-e754-4337-b525-277893d86291",
   "metadata": {},
   "source": [
    "### Converting the date from `string` to actual `date` type"
   ]
  },
  {
   "cell_type": "code",
   "execution_count": 12,
   "id": "5844ffc5-19d0-43df-8d76-e55180a24ce7",
   "metadata": {},
   "outputs": [
    {
     "data": {
      "text/html": [
       "<div><style>\n",
       ".dataframe > thead > tr,\n",
       ".dataframe > tbody > tr {\n",
       "  text-align: right;\n",
       "  white-space: pre-wrap;\n",
       "}\n",
       "</style>\n",
       "<small>shape: (5, 7)</small><table border=\"1\" class=\"dataframe\"><thead><tr><th>date</th><th>symbol</th><th>open</th><th>close</th><th>low</th><th>high</th><th>volume</th></tr><tr><td>date</td><td>str</td><td>f64</td><td>f64</td><td>f64</td><td>f64</td><td>f64</td></tr></thead><tbody><tr><td>2016-01-05</td><td>&quot;WLTW&quot;</td><td>123.43</td><td>125.839996</td><td>122.309998</td><td>126.25</td><td>2.1636e6</td></tr><tr><td>2016-01-06</td><td>&quot;WLTW&quot;</td><td>125.239998</td><td>119.980003</td><td>119.940002</td><td>125.540001</td><td>2.3864e6</td></tr><tr><td>2016-01-07</td><td>&quot;WLTW&quot;</td><td>116.379997</td><td>114.949997</td><td>114.93</td><td>119.739998</td><td>2.4895e6</td></tr><tr><td>2016-01-08</td><td>&quot;WLTW&quot;</td><td>115.480003</td><td>116.620003</td><td>113.5</td><td>117.440002</td><td>2.0063e6</td></tr><tr><td>2016-01-11</td><td>&quot;WLTW&quot;</td><td>117.010002</td><td>114.970001</td><td>114.089996</td><td>117.330002</td><td>1.4086e6</td></tr></tbody></table></div>"
      ],
      "text/plain": [
       "shape: (5, 7)\n",
       "┌────────────┬────────┬────────────┬────────────┬────────────┬────────────┬──────────┐\n",
       "│ date       ┆ symbol ┆ open       ┆ close      ┆ low        ┆ high       ┆ volume   │\n",
       "│ ---        ┆ ---    ┆ ---        ┆ ---        ┆ ---        ┆ ---        ┆ ---      │\n",
       "│ date       ┆ str    ┆ f64        ┆ f64        ┆ f64        ┆ f64        ┆ f64      │\n",
       "╞════════════╪════════╪════════════╪════════════╪════════════╪════════════╪══════════╡\n",
       "│ 2016-01-05 ┆ WLTW   ┆ 123.43     ┆ 125.839996 ┆ 122.309998 ┆ 126.25     ┆ 2.1636e6 │\n",
       "│ 2016-01-06 ┆ WLTW   ┆ 125.239998 ┆ 119.980003 ┆ 119.940002 ┆ 125.540001 ┆ 2.3864e6 │\n",
       "│ 2016-01-07 ┆ WLTW   ┆ 116.379997 ┆ 114.949997 ┆ 114.93     ┆ 119.739998 ┆ 2.4895e6 │\n",
       "│ 2016-01-08 ┆ WLTW   ┆ 115.480003 ┆ 116.620003 ┆ 113.5      ┆ 117.440002 ┆ 2.0063e6 │\n",
       "│ 2016-01-11 ┆ WLTW   ┆ 117.010002 ┆ 114.970001 ┆ 114.089996 ┆ 117.330002 ┆ 1.4086e6 │\n",
       "└────────────┴────────┴────────────┴────────────┴────────────┴────────────┴──────────┘"
      ]
     },
     "execution_count": 12,
     "metadata": {},
     "output_type": "execute_result"
    }
   ],
   "source": [
    "df = df.with_columns([\n",
    "    pl.col(\"date\").str.to_date().alias(\"date\")\n",
    "])\n",
    "df.head()"
   ]
  },
  {
   "cell_type": "markdown",
   "id": "e8995f93-23ab-476a-9bb8-fea5ade92be1",
   "metadata": {},
   "source": [
    "### Filling Missing date records with forward fill"
   ]
  },
  {
   "cell_type": "code",
   "execution_count": 15,
   "id": "a580ebcf-f056-4a69-96f6-734390f4cfb8",
   "metadata": {},
   "outputs": [
    {
     "data": {
      "text/html": [
       "<div><style>\n",
       ".dataframe > thead > tr,\n",
       ".dataframe > tbody > tr {\n",
       "  text-align: right;\n",
       "  white-space: pre-wrap;\n",
       "}\n",
       "</style>\n",
       "<small>shape: (10, 7)</small><table border=\"1\" class=\"dataframe\"><thead><tr><th>date</th><th>symbol</th><th>open</th><th>close</th><th>low</th><th>high</th><th>volume</th></tr><tr><td>date</td><td>str</td><td>f64</td><td>f64</td><td>f64</td><td>f64</td><td>f64</td></tr></thead><tbody><tr><td>2016-01-05</td><td>&quot;WLTW&quot;</td><td>123.43</td><td>125.839996</td><td>122.309998</td><td>126.25</td><td>2.1636e6</td></tr><tr><td>2016-01-06</td><td>&quot;WLTW&quot;</td><td>125.239998</td><td>119.980003</td><td>119.940002</td><td>125.540001</td><td>2.3864e6</td></tr><tr><td>2016-01-07</td><td>&quot;WLTW&quot;</td><td>116.379997</td><td>114.949997</td><td>114.93</td><td>119.739998</td><td>2.4895e6</td></tr><tr><td>2016-01-08</td><td>&quot;WLTW&quot;</td><td>115.480003</td><td>116.620003</td><td>113.5</td><td>117.440002</td><td>2.0063e6</td></tr><tr><td>2016-01-09</td><td>&quot;WLTW&quot;</td><td>115.480003</td><td>116.620003</td><td>113.5</td><td>117.440002</td><td>2.0063e6</td></tr><tr><td>2016-01-10</td><td>&quot;WLTW&quot;</td><td>115.480003</td><td>116.620003</td><td>113.5</td><td>117.440002</td><td>2.0063e6</td></tr><tr><td>2016-01-11</td><td>&quot;WLTW&quot;</td><td>117.010002</td><td>114.970001</td><td>114.089996</td><td>117.330002</td><td>1.4086e6</td></tr><tr><td>2016-01-12</td><td>&quot;WLTW&quot;</td><td>115.510002</td><td>115.550003</td><td>114.5</td><td>116.059998</td><td>1.098e6</td></tr><tr><td>2016-01-13</td><td>&quot;WLTW&quot;</td><td>116.459999</td><td>112.849998</td><td>112.589996</td><td>117.07</td><td>949600.0</td></tr><tr><td>2016-01-14</td><td>&quot;WLTW&quot;</td><td>113.510002</td><td>114.379997</td><td>110.050003</td><td>115.029999</td><td>785300.0</td></tr></tbody></table></div>"
      ],
      "text/plain": [
       "shape: (10, 7)\n",
       "┌────────────┬────────┬────────────┬────────────┬────────────┬────────────┬──────────┐\n",
       "│ date       ┆ symbol ┆ open       ┆ close      ┆ low        ┆ high       ┆ volume   │\n",
       "│ ---        ┆ ---    ┆ ---        ┆ ---        ┆ ---        ┆ ---        ┆ ---      │\n",
       "│ date       ┆ str    ┆ f64        ┆ f64        ┆ f64        ┆ f64        ┆ f64      │\n",
       "╞════════════╪════════╪════════════╪════════════╪════════════╪════════════╪══════════╡\n",
       "│ 2016-01-05 ┆ WLTW   ┆ 123.43     ┆ 125.839996 ┆ 122.309998 ┆ 126.25     ┆ 2.1636e6 │\n",
       "│ 2016-01-06 ┆ WLTW   ┆ 125.239998 ┆ 119.980003 ┆ 119.940002 ┆ 125.540001 ┆ 2.3864e6 │\n",
       "│ 2016-01-07 ┆ WLTW   ┆ 116.379997 ┆ 114.949997 ┆ 114.93     ┆ 119.739998 ┆ 2.4895e6 │\n",
       "│ 2016-01-08 ┆ WLTW   ┆ 115.480003 ┆ 116.620003 ┆ 113.5      ┆ 117.440002 ┆ 2.0063e6 │\n",
       "│ 2016-01-09 ┆ WLTW   ┆ 115.480003 ┆ 116.620003 ┆ 113.5      ┆ 117.440002 ┆ 2.0063e6 │\n",
       "│ 2016-01-10 ┆ WLTW   ┆ 115.480003 ┆ 116.620003 ┆ 113.5      ┆ 117.440002 ┆ 2.0063e6 │\n",
       "│ 2016-01-11 ┆ WLTW   ┆ 117.010002 ┆ 114.970001 ┆ 114.089996 ┆ 117.330002 ┆ 1.4086e6 │\n",
       "│ 2016-01-12 ┆ WLTW   ┆ 115.510002 ┆ 115.550003 ┆ 114.5      ┆ 116.059998 ┆ 1.098e6  │\n",
       "│ 2016-01-13 ┆ WLTW   ┆ 116.459999 ┆ 112.849998 ┆ 112.589996 ┆ 117.07     ┆ 949600.0 │\n",
       "│ 2016-01-14 ┆ WLTW   ┆ 113.510002 ┆ 114.379997 ┆ 110.050003 ┆ 115.029999 ┆ 785300.0 │\n",
       "└────────────┴────────┴────────────┴────────────┴────────────┴────────────┴──────────┘"
      ]
     },
     "execution_count": 15,
     "metadata": {},
     "output_type": "execute_result"
    }
   ],
   "source": [
    "df = df.set_sorted(\"date\").upsample(time_column=\"date\",every=\"1d\").select(pl.all().forward_fill())\n",
    "df.head(10)"
   ]
  },
  {
   "cell_type": "code",
   "execution_count": null,
   "id": "6af34b2f-b0ef-41c5-bbd5-11448ef9d0a4",
   "metadata": {},
   "outputs": [],
   "source": []
  }
 ],
 "metadata": {
  "kernelspec": {
   "display_name": "Python 3 (ipykernel)",
   "language": "python",
   "name": "python3"
  },
  "language_info": {
   "codemirror_mode": {
    "name": "ipython",
    "version": 3
   },
   "file_extension": ".py",
   "mimetype": "text/x-python",
   "name": "python",
   "nbconvert_exporter": "python",
   "pygments_lexer": "ipython3",
   "version": "3.11.0"
  }
 },
 "nbformat": 4,
 "nbformat_minor": 5
}
