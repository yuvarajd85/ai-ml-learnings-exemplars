{
 "cells": [
  {
   "cell_type": "markdown",
   "id": "48964558-0a25-451c-a2b6-ccee83d350de",
   "metadata": {},
   "source": [
    "<center>\n",
    "\n",
    "# Polars - Introduction\n",
    "Polars is an open-source library for data manipulation, known for being one of the fastest data processing solutions on a single machine. It features a well-structured, typed API that is both expressive and easy to use.\n",
    "\n",
    "</center>\n",
    "\n",
    "## Key Features\n",
    "- **Fast:** Written from scratch in Rust, designed close to the machine and without external dependencies.\n",
    "- **I/O:** First class support for all common data storage layers: local, cloud storage & databases.\n",
    "- **Intuitive API:** Write your queries the way they were intended. Polars, internally, will determine the most efficient way to execute using its query\n",
    "  optimizer.\n",
    "- **Out of Core:** The streaming API allows you to process your results without requiring all your data to be in memory at the same time.\n",
    "- **Parallel:** Utilises the power of your machine by dividing the workload among the available CPU cores without any additional configuration.\n",
    "- **Vectorized Query Engine:** Using Apache Arrow, a columnar data format, to process your queries in a vectorized manner and SIMD to optimize CPU usage.\n",
    "- **GPU Support:** Optionally run queries on NVIDIA GPUs for maximum performance for in-memory workloads.\n",
    "\n",
    "----\n",
    "\n",
    "### Polars User Guide - [User-guide](https://docs.pola.rs/)\n",
    "\n",
    "### Polars API Reference - [API-Reference](https://docs.pola.rs/api/python/stable/reference/index.html)\n",
    "\n",
    "----"
   ]
  },
  {
   "cell_type": "markdown",
   "id": "ba121574-e15a-4f30-8388-565b6973d8f5",
   "metadata": {},
   "source": [
    "### All the Required Imports Goes in to this Cell"
   ]
  },
  {
   "cell_type": "code",
   "execution_count": 47,
   "id": "b1a34400-a8cc-4ee7-9779-b554c2ffd30d",
   "metadata": {},
   "outputs": [],
   "source": [
    "import polars as pl\n",
    "from polars import DataFrame\n",
    "import pandas as pd\n",
    "import seaborn as sns\n",
    "from matplotlib import pyplot as plt\n",
    "from datetime import datetime as dt"
   ]
  },
  {
   "cell_type": "markdown",
   "id": "ec863793-65d1-4472-8ffb-05bc03430c1e",
   "metadata": {},
   "source": [
    "### Reading the input dataset `prices-split-adjusted.csv`[ [API Ref - I/O ](https://docs.pola.rs/api/python/stable/reference/api/polars.read_csv.html) ]"
   ]
  },
  {
   "cell_type": "code",
   "execution_count": 48,
   "id": "f60edc69-bd47-491e-917d-635e9100fe83",
   "metadata": {},
   "outputs": [
    {
     "data": {
      "text/html": [
       "<div><style>\n",
       ".dataframe > thead > tr,\n",
       ".dataframe > tbody > tr {\n",
       "  text-align: right;\n",
       "  white-space: pre-wrap;\n",
       "}\n",
       "</style>\n",
       "<small>shape: (5, 7)</small><table border=\"1\" class=\"dataframe\"><thead><tr><th>date</th><th>symbol</th><th>open</th><th>close</th><th>low</th><th>high</th><th>volume</th></tr><tr><td>str</td><td>str</td><td>f64</td><td>f64</td><td>f64</td><td>f64</td><td>f64</td></tr></thead><tbody><tr><td>&quot;2016-01-05&quot;</td><td>&quot;WLTW&quot;</td><td>123.43</td><td>125.839996</td><td>122.309998</td><td>126.25</td><td>2.1636e6</td></tr><tr><td>&quot;2016-01-06&quot;</td><td>&quot;WLTW&quot;</td><td>125.239998</td><td>119.980003</td><td>119.940002</td><td>125.540001</td><td>2.3864e6</td></tr><tr><td>&quot;2016-01-07&quot;</td><td>&quot;WLTW&quot;</td><td>116.379997</td><td>114.949997</td><td>114.93</td><td>119.739998</td><td>2.4895e6</td></tr><tr><td>&quot;2016-01-08&quot;</td><td>&quot;WLTW&quot;</td><td>115.480003</td><td>116.620003</td><td>113.5</td><td>117.440002</td><td>2.0063e6</td></tr><tr><td>&quot;2016-01-11&quot;</td><td>&quot;WLTW&quot;</td><td>117.010002</td><td>114.970001</td><td>114.089996</td><td>117.330002</td><td>1.4086e6</td></tr></tbody></table></div>"
      ],
      "text/plain": [
       "shape: (5, 7)\n",
       "┌────────────┬────────┬────────────┬────────────┬────────────┬────────────┬──────────┐\n",
       "│ date       ┆ symbol ┆ open       ┆ close      ┆ low        ┆ high       ┆ volume   │\n",
       "│ ---        ┆ ---    ┆ ---        ┆ ---        ┆ ---        ┆ ---        ┆ ---      │\n",
       "│ str        ┆ str    ┆ f64        ┆ f64        ┆ f64        ┆ f64        ┆ f64      │\n",
       "╞════════════╪════════╪════════════╪════════════╪════════════╪════════════╪══════════╡\n",
       "│ 2016-01-05 ┆ WLTW   ┆ 123.43     ┆ 125.839996 ┆ 122.309998 ┆ 126.25     ┆ 2.1636e6 │\n",
       "│ 2016-01-06 ┆ WLTW   ┆ 125.239998 ┆ 119.980003 ┆ 119.940002 ┆ 125.540001 ┆ 2.3864e6 │\n",
       "│ 2016-01-07 ┆ WLTW   ┆ 116.379997 ┆ 114.949997 ┆ 114.93     ┆ 119.739998 ┆ 2.4895e6 │\n",
       "│ 2016-01-08 ┆ WLTW   ┆ 115.480003 ┆ 116.620003 ┆ 113.5      ┆ 117.440002 ┆ 2.0063e6 │\n",
       "│ 2016-01-11 ┆ WLTW   ┆ 117.010002 ┆ 114.970001 ┆ 114.089996 ┆ 117.330002 ┆ 1.4086e6 │\n",
       "└────────────┴────────┴────────────┴────────────┴────────────┴────────────┴──────────┘"
      ]
     },
     "execution_count": 48,
     "metadata": {},
     "output_type": "execute_result"
    }
   ],
   "source": [
    "df: DataFrame = pl.read_csv(\"prices-split-adjusted.csv\")\n",
    "df.head()"
   ]
  },
  {
   "cell_type": "markdown",
   "id": "013a636c-e754-4337-b525-277893d86291",
   "metadata": {},
   "source": [
    "----\n",
    "### Converting the date from `string` to actual `date` type using Expression's  `String` - `to_date` function [ [API Ref - Expression](https://docs.pola.rs/api/python/stable/reference/expressions/api/polars.Expr.str.to_date.html) ]"
   ]
  },
  {
   "cell_type": "code",
   "execution_count": 49,
   "id": "5844ffc5-19d0-43df-8d76-e55180a24ce7",
   "metadata": {},
   "outputs": [
    {
     "data": {
      "text/html": [
       "<div><style>\n",
       ".dataframe > thead > tr,\n",
       ".dataframe > tbody > tr {\n",
       "  text-align: right;\n",
       "  white-space: pre-wrap;\n",
       "}\n",
       "</style>\n",
       "<small>shape: (5, 7)</small><table border=\"1\" class=\"dataframe\"><thead><tr><th>date</th><th>symbol</th><th>open</th><th>close</th><th>low</th><th>high</th><th>volume</th></tr><tr><td>date</td><td>str</td><td>f64</td><td>f64</td><td>f64</td><td>f64</td><td>f64</td></tr></thead><tbody><tr><td>2010-01-04</td><td>&quot;A&quot;</td><td>22.453504</td><td>22.389128</td><td>22.267525</td><td>22.62518</td><td>3.8155e6</td></tr><tr><td>2010-01-05</td><td>&quot;A&quot;</td><td>22.324749</td><td>22.145923</td><td>22.002861</td><td>22.331903</td><td>4.186e6</td></tr><tr><td>2010-01-06</td><td>&quot;A&quot;</td><td>22.06724</td><td>22.06724</td><td>22.002861</td><td>22.174536</td><td>3.2437e6</td></tr><tr><td>2010-01-07</td><td>&quot;A&quot;</td><td>22.017168</td><td>22.038626</td><td>21.816881</td><td>22.04578</td><td>3.0951e6</td></tr><tr><td>2010-01-08</td><td>&quot;A&quot;</td><td>21.917024</td><td>22.031474</td><td>21.74535</td><td>22.06724</td><td>3.7339e6</td></tr></tbody></table></div>"
      ],
      "text/plain": [
       "shape: (5, 7)\n",
       "┌────────────┬────────┬───────────┬───────────┬───────────┬───────────┬──────────┐\n",
       "│ date       ┆ symbol ┆ open      ┆ close     ┆ low       ┆ high      ┆ volume   │\n",
       "│ ---        ┆ ---    ┆ ---       ┆ ---       ┆ ---       ┆ ---       ┆ ---      │\n",
       "│ date       ┆ str    ┆ f64       ┆ f64       ┆ f64       ┆ f64       ┆ f64      │\n",
       "╞════════════╪════════╪═══════════╪═══════════╪═══════════╪═══════════╪══════════╡\n",
       "│ 2010-01-04 ┆ A      ┆ 22.453504 ┆ 22.389128 ┆ 22.267525 ┆ 22.62518  ┆ 3.8155e6 │\n",
       "│ 2010-01-05 ┆ A      ┆ 22.324749 ┆ 22.145923 ┆ 22.002861 ┆ 22.331903 ┆ 4.186e6  │\n",
       "│ 2010-01-06 ┆ A      ┆ 22.06724  ┆ 22.06724  ┆ 22.002861 ┆ 22.174536 ┆ 3.2437e6 │\n",
       "│ 2010-01-07 ┆ A      ┆ 22.017168 ┆ 22.038626 ┆ 21.816881 ┆ 22.04578  ┆ 3.0951e6 │\n",
       "│ 2010-01-08 ┆ A      ┆ 21.917024 ┆ 22.031474 ┆ 21.74535  ┆ 22.06724  ┆ 3.7339e6 │\n",
       "└────────────┴────────┴───────────┴───────────┴───────────┴───────────┴──────────┘"
      ]
     },
     "execution_count": 49,
     "metadata": {},
     "output_type": "execute_result"
    }
   ],
   "source": [
    "df = df.with_columns([\n",
    "    pl.col(\"date\").str.to_date().alias(\"date\")\n",
    "]).sort([\"symbol\",\"date\"])\n",
    "df.head()"
   ]
  },
  {
   "cell_type": "markdown",
   "id": "a5549b92-35fb-4287-8e18-9a0a80d74a67",
   "metadata": {},
   "source": [
    "----\n",
    "### Adding a New Column(s) - using Dataframes - Manipulation function - `with_columns` [ [API Ref - Manipulation](https://docs.pola.rs/api/python/stable/reference/dataframe/api/polars.DataFrame.with_columns.html) ]"
   ]
  },
  {
   "cell_type": "code",
   "execution_count": 50,
   "id": "bd1e629c-6326-4aa2-bd57-67022b283b1d",
   "metadata": {},
   "outputs": [
    {
     "data": {
      "text/html": [
       "<div><style>\n",
       ".dataframe > thead > tr,\n",
       ".dataframe > tbody > tr {\n",
       "  text-align: right;\n",
       "  white-space: pre-wrap;\n",
       "}\n",
       "</style>\n",
       "<small>shape: (5, 10)</small><table border=\"1\" class=\"dataframe\"><thead><tr><th>date</th><th>symbol</th><th>open</th><th>close</th><th>low</th><th>high</th><th>volume</th><th>avg</th><th>open_close_diff</th><th>percentage_change</th></tr><tr><td>date</td><td>str</td><td>f64</td><td>f64</td><td>f64</td><td>f64</td><td>f64</td><td>f64</td><td>f64</td><td>f64</td></tr></thead><tbody><tr><td>2010-01-04</td><td>&quot;A&quot;</td><td>22.453504</td><td>22.389128</td><td>22.267525</td><td>22.62518</td><td>3.8155e6</td><td>22.446352</td><td>0.064376</td><td>0.286709</td></tr><tr><td>2010-01-05</td><td>&quot;A&quot;</td><td>22.324749</td><td>22.145923</td><td>22.002861</td><td>22.331903</td><td>4.186e6</td><td>22.167382</td><td>0.178825</td><td>0.801019</td></tr><tr><td>2010-01-06</td><td>&quot;A&quot;</td><td>22.06724</td><td>22.06724</td><td>22.002861</td><td>22.174536</td><td>3.2437e6</td><td>22.088698</td><td>0.0</td><td>0.0</td></tr><tr><td>2010-01-07</td><td>&quot;A&quot;</td><td>22.017168</td><td>22.038626</td><td>21.816881</td><td>22.04578</td><td>3.0951e6</td><td>21.931331</td><td>-0.021458</td><td>-0.097459</td></tr><tr><td>2010-01-08</td><td>&quot;A&quot;</td><td>21.917024</td><td>22.031474</td><td>21.74535</td><td>22.06724</td><td>3.7339e6</td><td>21.906295</td><td>-0.114449</td><td>-0.522193</td></tr></tbody></table></div>"
      ],
      "text/plain": [
       "shape: (5, 10)\n",
       "┌────────────┬────────┬───────────┬───────────┬───┬──────────┬───────────┬─────────────────┬───────────────────┐\n",
       "│ date       ┆ symbol ┆ open      ┆ close     ┆ … ┆ volume   ┆ avg       ┆ open_close_diff ┆ percentage_change │\n",
       "│ ---        ┆ ---    ┆ ---       ┆ ---       ┆   ┆ ---      ┆ ---       ┆ ---             ┆ ---               │\n",
       "│ date       ┆ str    ┆ f64       ┆ f64       ┆   ┆ f64      ┆ f64       ┆ f64             ┆ f64               │\n",
       "╞════════════╪════════╪═══════════╪═══════════╪═══╪══════════╪═══════════╪═════════════════╪═══════════════════╡\n",
       "│ 2010-01-04 ┆ A      ┆ 22.453504 ┆ 22.389128 ┆ … ┆ 3.8155e6 ┆ 22.446352 ┆ 0.064376        ┆ 0.286709          │\n",
       "│ 2010-01-05 ┆ A      ┆ 22.324749 ┆ 22.145923 ┆ … ┆ 4.186e6  ┆ 22.167382 ┆ 0.178825        ┆ 0.801019          │\n",
       "│ 2010-01-06 ┆ A      ┆ 22.06724  ┆ 22.06724  ┆ … ┆ 3.2437e6 ┆ 22.088698 ┆ 0.0             ┆ 0.0               │\n",
       "│ 2010-01-07 ┆ A      ┆ 22.017168 ┆ 22.038626 ┆ … ┆ 3.0951e6 ┆ 21.931331 ┆ -0.021458       ┆ -0.097459         │\n",
       "│ 2010-01-08 ┆ A      ┆ 21.917024 ┆ 22.031474 ┆ … ┆ 3.7339e6 ┆ 21.906295 ┆ -0.114449       ┆ -0.522193         │\n",
       "└────────────┴────────┴───────────┴───────────┴───┴──────────┴───────────┴─────────────────┴───────────────────┘"
      ]
     },
     "execution_count": 50,
     "metadata": {},
     "output_type": "execute_result"
    }
   ],
   "source": [
    "df = df.with_columns([\n",
    "    ((pl.col(\"low\") + pl.col(\"high\"))/2).alias(\"avg\"),\n",
    "    (pl.col(\"open\") - pl.col(\"close\")).alias(\"open_close_diff\"),\n",
    "    ((pl.col(\"open\") - pl.col(\"close\")) / pl.col(\"open\") * 100 ).alias(\"percentage_change\")\n",
    "])\n",
    "df.head()"
   ]
  },
  {
   "cell_type": "markdown",
   "id": "e8995f93-23ab-476a-9bb8-fea5ade92be1",
   "metadata": {},
   "source": [
    "----\n",
    "### Generating Missing date records using Dataframes - `upsample()` function and filling the missing fields values using select expression `forward_fill()` function - [ [API Ref - upsample](https://docs.pola.rs/api/python/stable/reference/dataframe/api/polars.DataFrame.upsample.html)] [ [API Ref - forward_fill()](https://docs.pola.rs/api/python/stable/reference/expressions/api/polars.Expr.forward_fill.html)]"
   ]
  },
  {
   "cell_type": "code",
   "execution_count": 51,
   "id": "a580ebcf-f056-4a69-96f6-734390f4cfb8",
   "metadata": {},
   "outputs": [
    {
     "data": {
      "text/html": [
       "<div><style>\n",
       ".dataframe > thead > tr,\n",
       ".dataframe > tbody > tr {\n",
       "  text-align: right;\n",
       "  white-space: pre-wrap;\n",
       "}\n",
       "</style>\n",
       "<small>shape: (5, 10)</small><table border=\"1\" class=\"dataframe\"><thead><tr><th>date</th><th>symbol</th><th>open</th><th>close</th><th>low</th><th>high</th><th>volume</th><th>avg</th><th>open_close_diff</th><th>percentage_change</th></tr><tr><td>date</td><td>str</td><td>f64</td><td>f64</td><td>f64</td><td>f64</td><td>f64</td><td>f64</td><td>f64</td><td>f64</td></tr></thead><tbody><tr><td>2010-01-04</td><td>&quot;A&quot;</td><td>22.453504</td><td>22.389128</td><td>22.267525</td><td>22.62518</td><td>3.8155e6</td><td>22.446352</td><td>0.064376</td><td>0.286709</td></tr><tr><td>2010-01-05</td><td>&quot;A&quot;</td><td>22.324749</td><td>22.145923</td><td>22.002861</td><td>22.331903</td><td>4.186e6</td><td>22.167382</td><td>0.178825</td><td>0.801019</td></tr><tr><td>2010-01-06</td><td>&quot;A&quot;</td><td>22.06724</td><td>22.06724</td><td>22.002861</td><td>22.174536</td><td>3.2437e6</td><td>22.088698</td><td>0.0</td><td>0.0</td></tr><tr><td>2010-01-07</td><td>&quot;A&quot;</td><td>22.017168</td><td>22.038626</td><td>21.816881</td><td>22.04578</td><td>3.0951e6</td><td>21.931331</td><td>-0.021458</td><td>-0.097459</td></tr><tr><td>2010-01-08</td><td>&quot;A&quot;</td><td>21.917024</td><td>22.031474</td><td>21.74535</td><td>22.06724</td><td>3.7339e6</td><td>21.906295</td><td>-0.114449</td><td>-0.522193</td></tr></tbody></table></div>"
      ],
      "text/plain": [
       "shape: (5, 10)\n",
       "┌────────────┬────────┬───────────┬───────────┬───┬──────────┬───────────┬─────────────────┬───────────────────┐\n",
       "│ date       ┆ symbol ┆ open      ┆ close     ┆ … ┆ volume   ┆ avg       ┆ open_close_diff ┆ percentage_change │\n",
       "│ ---        ┆ ---    ┆ ---       ┆ ---       ┆   ┆ ---      ┆ ---       ┆ ---             ┆ ---               │\n",
       "│ date       ┆ str    ┆ f64       ┆ f64       ┆   ┆ f64      ┆ f64       ┆ f64             ┆ f64               │\n",
       "╞════════════╪════════╪═══════════╪═══════════╪═══╪══════════╪═══════════╪═════════════════╪═══════════════════╡\n",
       "│ 2010-01-04 ┆ A      ┆ 22.453504 ┆ 22.389128 ┆ … ┆ 3.8155e6 ┆ 22.446352 ┆ 0.064376        ┆ 0.286709          │\n",
       "│ 2010-01-05 ┆ A      ┆ 22.324749 ┆ 22.145923 ┆ … ┆ 4.186e6  ┆ 22.167382 ┆ 0.178825        ┆ 0.801019          │\n",
       "│ 2010-01-06 ┆ A      ┆ 22.06724  ┆ 22.06724  ┆ … ┆ 3.2437e6 ┆ 22.088698 ┆ 0.0             ┆ 0.0               │\n",
       "│ 2010-01-07 ┆ A      ┆ 22.017168 ┆ 22.038626 ┆ … ┆ 3.0951e6 ┆ 21.931331 ┆ -0.021458       ┆ -0.097459         │\n",
       "│ 2010-01-08 ┆ A      ┆ 21.917024 ┆ 22.031474 ┆ … ┆ 3.7339e6 ┆ 21.906295 ┆ -0.114449       ┆ -0.522193         │\n",
       "└────────────┴────────┴───────────┴───────────┴───┴──────────┴───────────┴─────────────────┴───────────────────┘"
      ]
     },
     "execution_count": 51,
     "metadata": {},
     "output_type": "execute_result"
    }
   ],
   "source": [
    "df = df.upsample(time_column=\"date\",every=\"1d\",group_by=[\"symbol\"]).select(pl.all().forward_fill()).sort([\"symbol\",\"date\"])\n",
    "df.head()"
   ]
  },
  {
   "cell_type": "code",
   "execution_count": null,
   "id": "6af34b2f-b0ef-41c5-bbd5-11448ef9d0a4",
   "metadata": {},
   "outputs": [],
   "source": []
  }
 ],
 "metadata": {
  "kernelspec": {
   "display_name": "Python 3 (ipykernel)",
   "language": "python",
   "name": "python3"
  },
  "language_info": {
   "codemirror_mode": {
    "name": "ipython",
    "version": 3
   },
   "file_extension": ".py",
   "mimetype": "text/x-python",
   "name": "python",
   "nbconvert_exporter": "python",
   "pygments_lexer": "ipython3",
   "version": "3.11.0"
  }
 },
 "nbformat": 4,
 "nbformat_minor": 5
}
