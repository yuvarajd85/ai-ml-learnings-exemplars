{
 "cells": [
  {
   "cell_type": "markdown",
   "id": "2b28e741-0472-4a1c-bcf6-f0fea5f4a60b",
   "metadata": {},
   "source": [
    "# CUSTOMER CHURN PREDICTION "
   ]
  },
  {
   "cell_type": "markdown",
   "id": "a7289cb7-9339-455b-86ef-0dc21b0df8b7",
   "metadata": {},
   "source": [
    "# Step-by-Step Implementation\n",
    "We'll proceed with the following steps:\n",
    "\n",
    "1. Import Libraries\n",
    "2. Load and Explore the Dataset\n",
    "3. Data Preprocessing\n",
    "4. Feature Selection and Engineering\n",
    "5. Train-Test Split\n",
    "6. Dataset and DataLoader Creation\n",
    "7. Model Definition\n",
    "8. Loss Function and Optimizer\n",
    "9. Training the Model\n",
    "10. Evaluating the Model\n",
    "11. Experimenting with Learning Rates and Model Complexity\n",
    "12. Utilizing GPU Acceleration"
   ]
  },
  {
   "cell_type": "code",
   "execution_count": 1,
   "id": "2dacc3a4-5b65-4c11-8aca-30028d64ffd9",
   "metadata": {},
   "outputs": [
    {
     "name": "stdout",
     "output_type": "stream",
     "text": [
      "Using device: cuda\n"
     ]
    }
   ],
   "source": [
    "# Import standard libraries\n",
    "import pandas as pd\n",
    "import numpy as np\n",
    "\n",
    "# Import PyTorch libraries\n",
    "import torch\n",
    "import torch.nn as nn\n",
    "import torch.optim as optim\n",
    "from torch.utils.data import Dataset, DataLoader\n",
    "\n",
    "# For data preprocessing\n",
    "from sklearn.model_selection import train_test_split\n",
    "from sklearn.preprocessing import LabelEncoder, StandardScaler\n",
    "\n",
    "# For evaluation\n",
    "from sklearn.metrics import accuracy_score, confusion_matrix, classification_report\n",
    "\n",
    "# For visualization\n",
    "import matplotlib.pyplot as plt\n",
    "\n",
    "# Check if GPU is available\n",
    "device = torch.device('cuda' if torch.cuda.is_available() else 'cpu')\n",
    "print(f'Using device: {device}')\n"
   ]
  },
  {
   "cell_type": "code",
   "execution_count": 4,
   "id": "d340b9e3-c213-444b-b7d1-38a68f152faf",
   "metadata": {},
   "outputs": [
    {
     "data": {
      "text/html": [
       "<div>\n",
       "<style scoped>\n",
       "    .dataframe tbody tr th:only-of-type {\n",
       "        vertical-align: middle;\n",
       "    }\n",
       "\n",
       "    .dataframe tbody tr th {\n",
       "        vertical-align: top;\n",
       "    }\n",
       "\n",
       "    .dataframe thead th {\n",
       "        text-align: right;\n",
       "    }\n",
       "</style>\n",
       "<table border=\"1\" class=\"dataframe\">\n",
       "  <thead>\n",
       "    <tr style=\"text-align: right;\">\n",
       "      <th></th>\n",
       "      <th>vintage</th>\n",
       "      <th>age</th>\n",
       "      <th>gender</th>\n",
       "      <th>dependents</th>\n",
       "      <th>current_balance</th>\n",
       "      <th>previous_month_end_balance</th>\n",
       "      <th>average_monthly_balance_prevQ</th>\n",
       "      <th>average_monthly_balance_prevQ2</th>\n",
       "      <th>current_month_credit</th>\n",
       "      <th>previous_month_credit</th>\n",
       "      <th>...</th>\n",
       "      <th>previous_month_balance</th>\n",
       "      <th>churn</th>\n",
       "      <th>occupation_company</th>\n",
       "      <th>occupation_retired</th>\n",
       "      <th>occupation_salaried</th>\n",
       "      <th>occupation_self_employed</th>\n",
       "      <th>occupation_student</th>\n",
       "      <th>customer_nw_category_1</th>\n",
       "      <th>customer_nw_category_2</th>\n",
       "      <th>customer_nw_category_3</th>\n",
       "    </tr>\n",
       "  </thead>\n",
       "  <tbody>\n",
       "    <tr>\n",
       "      <th>0</th>\n",
       "      <td>2401</td>\n",
       "      <td>66</td>\n",
       "      <td>0</td>\n",
       "      <td>0</td>\n",
       "      <td>1458.71</td>\n",
       "      <td>1458.71</td>\n",
       "      <td>1458.71</td>\n",
       "      <td>1449.07</td>\n",
       "      <td>0.20</td>\n",
       "      <td>0.20</td>\n",
       "      <td>...</td>\n",
       "      <td>1458.71</td>\n",
       "      <td>0.0</td>\n",
       "      <td>0</td>\n",
       "      <td>0</td>\n",
       "      <td>0</td>\n",
       "      <td>1</td>\n",
       "      <td>0</td>\n",
       "      <td>0</td>\n",
       "      <td>1</td>\n",
       "      <td>0</td>\n",
       "    </tr>\n",
       "    <tr>\n",
       "      <th>1</th>\n",
       "      <td>2648</td>\n",
       "      <td>35</td>\n",
       "      <td>0</td>\n",
       "      <td>0</td>\n",
       "      <td>5390.37</td>\n",
       "      <td>8704.66</td>\n",
       "      <td>7799.26</td>\n",
       "      <td>12419.41</td>\n",
       "      <td>0.56</td>\n",
       "      <td>0.56</td>\n",
       "      <td>...</td>\n",
       "      <td>8787.61</td>\n",
       "      <td>0.0</td>\n",
       "      <td>0</td>\n",
       "      <td>0</td>\n",
       "      <td>0</td>\n",
       "      <td>1</td>\n",
       "      <td>0</td>\n",
       "      <td>0</td>\n",
       "      <td>1</td>\n",
       "      <td>0</td>\n",
       "    </tr>\n",
       "    <tr>\n",
       "      <th>2</th>\n",
       "      <td>2494</td>\n",
       "      <td>31</td>\n",
       "      <td>0</td>\n",
       "      <td>0</td>\n",
       "      <td>3913.16</td>\n",
       "      <td>5815.29</td>\n",
       "      <td>4910.17</td>\n",
       "      <td>2815.94</td>\n",
       "      <td>0.61</td>\n",
       "      <td>0.61</td>\n",
       "      <td>...</td>\n",
       "      <td>5070.14</td>\n",
       "      <td>0.0</td>\n",
       "      <td>0</td>\n",
       "      <td>0</td>\n",
       "      <td>1</td>\n",
       "      <td>0</td>\n",
       "      <td>0</td>\n",
       "      <td>0</td>\n",
       "      <td>1</td>\n",
       "      <td>0</td>\n",
       "    </tr>\n",
       "    <tr>\n",
       "      <th>3</th>\n",
       "      <td>2629</td>\n",
       "      <td>90</td>\n",
       "      <td>0</td>\n",
       "      <td>1</td>\n",
       "      <td>2291.91</td>\n",
       "      <td>2291.91</td>\n",
       "      <td>2084.54</td>\n",
       "      <td>1006.54</td>\n",
       "      <td>0.47</td>\n",
       "      <td>0.47</td>\n",
       "      <td>...</td>\n",
       "      <td>1669.79</td>\n",
       "      <td>1.0</td>\n",
       "      <td>0</td>\n",
       "      <td>0</td>\n",
       "      <td>0</td>\n",
       "      <td>1</td>\n",
       "      <td>0</td>\n",
       "      <td>0</td>\n",
       "      <td>1</td>\n",
       "      <td>0</td>\n",
       "    </tr>\n",
       "    <tr>\n",
       "      <th>4</th>\n",
       "      <td>1879</td>\n",
       "      <td>42</td>\n",
       "      <td>0</td>\n",
       "      <td>2</td>\n",
       "      <td>927.72</td>\n",
       "      <td>1401.72</td>\n",
       "      <td>1643.31</td>\n",
       "      <td>1871.12</td>\n",
       "      <td>0.33</td>\n",
       "      <td>714.61</td>\n",
       "      <td>...</td>\n",
       "      <td>1677.16</td>\n",
       "      <td>1.0</td>\n",
       "      <td>0</td>\n",
       "      <td>0</td>\n",
       "      <td>0</td>\n",
       "      <td>1</td>\n",
       "      <td>0</td>\n",
       "      <td>0</td>\n",
       "      <td>0</td>\n",
       "      <td>1</td>\n",
       "    </tr>\n",
       "  </tbody>\n",
       "</table>\n",
       "<p>5 rows × 23 columns</p>\n",
       "</div>"
      ],
      "text/plain": [
       "   vintage  age gender  dependents  current_balance  \\\n",
       "0     2401   66      0           0          1458.71   \n",
       "1     2648   35      0           0          5390.37   \n",
       "2     2494   31      0           0          3913.16   \n",
       "3     2629   90      0           1          2291.91   \n",
       "4     1879   42      0           2           927.72   \n",
       "\n",
       "   previous_month_end_balance  average_monthly_balance_prevQ  \\\n",
       "0                     1458.71                        1458.71   \n",
       "1                     8704.66                        7799.26   \n",
       "2                     5815.29                        4910.17   \n",
       "3                     2291.91                        2084.54   \n",
       "4                     1401.72                        1643.31   \n",
       "\n",
       "   average_monthly_balance_prevQ2  current_month_credit  \\\n",
       "0                         1449.07                  0.20   \n",
       "1                        12419.41                  0.56   \n",
       "2                         2815.94                  0.61   \n",
       "3                         1006.54                  0.47   \n",
       "4                         1871.12                  0.33   \n",
       "\n",
       "   previous_month_credit  ...  previous_month_balance  churn  \\\n",
       "0                   0.20  ...                 1458.71    0.0   \n",
       "1                   0.56  ...                 8787.61    0.0   \n",
       "2                   0.61  ...                 5070.14    0.0   \n",
       "3                   0.47  ...                 1669.79    1.0   \n",
       "4                 714.61  ...                 1677.16    1.0   \n",
       "\n",
       "   occupation_company  occupation_retired occupation_salaried  \\\n",
       "0                   0                   0                   0   \n",
       "1                   0                   0                   0   \n",
       "2                   0                   0                   1   \n",
       "3                   0                   0                   0   \n",
       "4                   0                   0                   0   \n",
       "\n",
       "   occupation_self_employed  occupation_student  customer_nw_category_1  \\\n",
       "0                         1                   0                       0   \n",
       "1                         1                   0                       0   \n",
       "2                         0                   0                       0   \n",
       "3                         1                   0                       0   \n",
       "4                         1                   0                       0   \n",
       "\n",
       "   customer_nw_category_2  customer_nw_category_3  \n",
       "0                       1                       0  \n",
       "1                       1                       0  \n",
       "2                       1                       0  \n",
       "3                       1                       0  \n",
       "4                       0                       1  \n",
       "\n",
       "[5 rows x 23 columns]"
      ]
     },
     "execution_count": 4,
     "metadata": {},
     "output_type": "execute_result"
    }
   ],
   "source": [
    "# Load the dataset\n",
    "data = pd.read_pickle('cleaned_churn_dataset.pkl')\n",
    "\n",
    "# Display the first few rows\n",
    "data.head()"
   ]
  },
  {
   "cell_type": "code",
   "execution_count": 5,
   "id": "2d8f7eee-f160-46ff-b261-d67595729e14",
   "metadata": {},
   "outputs": [
    {
     "name": "stdout",
     "output_type": "stream",
     "text": [
      "\n",
      "Missing values in each column:\n",
      "vintage                           0\n",
      "age                               0\n",
      "gender                            0\n",
      "dependents                        0\n",
      "current_balance                   0\n",
      "previous_month_end_balance        0\n",
      "average_monthly_balance_prevQ     0\n",
      "average_monthly_balance_prevQ2    0\n",
      "current_month_credit              0\n",
      "previous_month_credit             0\n",
      "current_month_debit               0\n",
      "previous_month_debit              0\n",
      "current_month_balance             0\n",
      "previous_month_balance            0\n",
      "churn                             0\n",
      "occupation_company                0\n",
      "occupation_retired                0\n",
      "occupation_salaried               0\n",
      "occupation_self_employed          0\n",
      "occupation_student                0\n",
      "customer_nw_category_1            0\n",
      "customer_nw_category_2            0\n",
      "customer_nw_category_3            0\n",
      "dtype: int64\n"
     ]
    }
   ],
   "source": [
    "# Check for missing values\n",
    "print('\\nMissing values in each column:')\n",
    "print(data.isnull().sum())"
   ]
  },
  {
   "cell_type": "markdown",
   "id": "83524ee3-1e72-42cc-bd4f-5e8f513c4e3d",
   "metadata": {},
   "source": [
    "# 4. Feature Selection and Engineering\n",
    "Select Features and Normalize Numerical Columns"
   ]
  },
  {
   "cell_type": "code",
   "execution_count": 8,
   "id": "d907c6cd-9875-4c26-846d-6ce4db7ea832",
   "metadata": {},
   "outputs": [],
   "source": [
    "# Define features and target variable\n",
    "features = data.drop(['churn'], axis=1)\n",
    "target = data['churn']\n",
    "\n",
    "# Fill missing values if any (example: fill with median for numerical columns)\n",
    "numerical_cols = data.select_dtypes(include=['int64', 'float64']).columns.tolist()\n",
    "# data[numerical_cols] = data[numerical_cols].fillna(data[numerical_cols].median())\n",
    "\n",
    "# Encode categorical variables using Label Encoding or One-Hot Encoding\n",
    "categorical_cols = ['gender', 'occupation', 'city']"
   ]
  },
  {
   "cell_type": "code",
   "execution_count": 9,
   "id": "822cddae-a28f-4f56-b76e-2daab202e9e6",
   "metadata": {},
   "outputs": [],
   "source": [
    "# Normalize numerical features\n",
    "scaler = StandardScaler()\n",
    "features[numerical_cols] = scaler.fit_transform(features[numerical_cols])\n",
    "\n",
    "# Convert features and target to NumPy arrays\n",
    "X = features.values\n",
    "y = target.values"
   ]
  },
  {
   "cell_type": "code",
   "execution_count": null,
   "id": "bb35706d-e811-40a1-b05a-5fc1e8af3f99",
   "metadata": {},
   "outputs": [],
   "source": []
  },
  {
   "cell_type": "markdown",
   "id": "7108ff41-69d9-4f40-a032-c74d84b00bc7",
   "metadata": {},
   "source": [
    "# 5. Train-Test Split"
   ]
  },
  {
   "cell_type": "code",
   "execution_count": 10,
   "id": "a1b54f79-52a0-48e3-aa76-a8568f5d7ca1",
   "metadata": {},
   "outputs": [
    {
     "name": "stdout",
     "output_type": "stream",
     "text": [
      "Training samples: 12743\n",
      "Testing samples: 3186\n"
     ]
    }
   ],
   "source": [
    "# Split the data into training and testing sets (80% train, 20% test)\n",
    "X_train, X_test, y_train, y_test = train_test_split(\n",
    "    X, y, test_size=0.2, random_state=42, stratify=y)\n",
    "\n",
    "print(f'Training samples: {X_train.shape[0]}')\n",
    "print(f'Testing samples: {X_test.shape[0]}')"
   ]
  },
  {
   "cell_type": "code",
   "execution_count": null,
   "id": "3b7a7d1f-bb20-426e-8c80-3f578140a5cb",
   "metadata": {},
   "outputs": [],
   "source": []
  },
  {
   "cell_type": "code",
   "execution_count": null,
   "id": "b0926b68-6837-477b-8420-233daea0d9f4",
   "metadata": {},
   "outputs": [],
   "source": []
  },
  {
   "cell_type": "markdown",
   "id": "e6754c55-22b3-4a25-bd83-3c7b1bbc729d",
   "metadata": {},
   "source": [
    "# 6. Dataset and DataLoader Creation"
   ]
  },
  {
   "cell_type": "code",
   "execution_count": null,
   "id": "aa5e53c8-0558-4f9f-8670-a9a01db75442",
   "metadata": {},
   "outputs": [],
   "source": [
    "# Create a custom Dataset class to handle our data\n",
    "class ChurnDataset(Dataset):\n",
    "    def __init__(self, features, labels):\n",
    "        self.X = torch.tensor(features, dtype=torch.float32)\n",
    "        self.y = torch.tensor(labels, dtype=torch.float32)\n",
    "        \n",
    "    def __len__(self):\n",
    "        return len(self.y)\n",
    "    \n",
    "    def __getitem__(self, idx):\n",
    "        return self.X[idx], self.y[idx]"
   ]
  },
  {
   "cell_type": "code",
   "execution_count": null,
   "id": "194836e2-63b7-4cd9-bbb9-e94f051e77ec",
   "metadata": {},
   "outputs": [],
   "source": [
    "# Create Dataset instances\n",
    "train_dataset = ChurnDataset(X_train, y_train)\n",
    "test_dataset = ChurnDataset(X_test, y_test)\n",
    "\n",
    "# Define batch size for loading data\n",
    "batch_size = 64\n",
    "\n",
    "# Create DataLoader objects to handle batching and shuffling\n",
    "train_loader = DataLoader(dataset=train_dataset, batch_size=batch_size, shuffle=True)\n",
    "test_loader = DataLoader(dataset=test_dataset, batch_size=batch_size)"
   ]
  },
  {
   "cell_type": "code",
   "execution_count": null,
   "id": "e4948318-87c9-4dd2-98dc-799026a000c4",
   "metadata": {},
   "outputs": [],
   "source": []
  },
  {
   "cell_type": "markdown",
   "id": "84534003-10c3-4535-aa74-2f1945d150e2",
   "metadata": {},
   "source": [
    "# 7. Model Definition"
   ]
  },
  {
   "cell_type": "code",
   "execution_count": null,
   "id": "6035d6dc-b97e-44af-8fd7-8f8d60b3f58c",
   "metadata": {},
   "outputs": [],
   "source": [
    "# Define a neural network model by subclassing nn.Module\n",
    "class ChurnModel(nn.Module):\n",
    "    def __init__(self, input_size):\n",
    "        super().__init__()  # Initialize the base class\n",
    "        # First fully connected layer (input layer to hidden layer)\n",
    "        self.fc1 = nn.Linear(input_size, 64)\n",
    "        self.relu1 = nn.ReLU()           # Activation function\n",
    "        \n",
    "        # Second fully connected layer (hidden layer)\n",
    "        self.fc2 = nn.Linear(64, 32)\n",
    "        self.relu2 = nn.ReLU()           # Activation function\n",
    "        \n",
    "        # Third fully connected layer (hidden layer to output layer)\n",
    "        self.fc3 = nn.Linear(32, 1)\n",
    "        self.sigmoid = nn.Sigmoid()      # Sigmoid activation for binary classification\n",
    "    \n",
    "    def forward(self, x):\n",
    "        # Define the forward pass through the network\n",
    "        out = self.fc1(x)                # Pass input through first layer\n",
    "        out = self.relu1(out)            # Apply activation function\n",
    "        out = self.fc2(out)              # Pass through second layer\n",
    "        out = self.relu2(out)            # Apply activation function\n",
    "        out = self.fc3(out)              # Pass through third layer\n",
    "        out = self.sigmoid(out)          # Apply sigmoid activation\n",
    "        return out                       # Return the output"
   ]
  },
  {
   "cell_type": "code",
   "execution_count": null,
   "id": "9a13299e-035b-47f3-ae97-ec7047e6e735",
   "metadata": {},
   "outputs": [],
   "source": [
    "# Get the number of input features\n",
    "input_size = X_train.shape[1]\n",
    "\n",
    "# Instantiate the model and move it to the specified device (CPU or GPU)\n",
    "model = ChurnModel(input_size).to(device)"
   ]
  },
  {
   "cell_type": "code",
   "execution_count": 36,
   "id": "d793cf57-89b2-4535-b86a-de0553d64aa0",
   "metadata": {},
   "outputs": [
    {
     "name": "stdout",
     "output_type": "stream",
     "text": [
      "ChurnModel(\n",
      "  (fc1): Linear(in_features=22, out_features=64, bias=True)\n",
      "  (relu1): ReLU()\n",
      "  (fc2): Linear(in_features=64, out_features=32, bias=True)\n",
      "  (relu2): ReLU()\n",
      "  (fc3): Linear(in_features=32, out_features=1, bias=True)\n",
      "  (sigmoid): Sigmoid()\n",
      ")\n"
     ]
    }
   ],
   "source": [
    "print(model)"
   ]
  },
  {
   "cell_type": "code",
   "execution_count": null,
   "id": "c32bbb68-2bb3-4874-8693-8532348968cc",
   "metadata": {},
   "outputs": [],
   "source": []
  },
  {
   "cell_type": "code",
   "execution_count": null,
   "id": "fc03c2e9-1040-4b59-8824-39300c81e91c",
   "metadata": {},
   "outputs": [],
   "source": []
  },
  {
   "cell_type": "markdown",
   "id": "ae15eedb-971c-426f-a86e-4f289a06fbbd",
   "metadata": {},
   "source": [
    "# 8. Loss Function and Optimizer"
   ]
  },
  {
   "cell_type": "code",
   "execution_count": 13,
   "id": "d11c1692-26b9-4eff-9b85-219fcff4c3a5",
   "metadata": {},
   "outputs": [],
   "source": [
    "# Define the loss function (Binary Cross Entropy for binary classification)\n",
    "criterion = nn.BCELoss()\n",
    "\n",
    "# Define the optimizer (Adam optimizer with a learning rate of 0.001)\n",
    "optimizer = optim.Adam(model.parameters(), lr=0.001)\n",
    "\n",
    "# Learning rate can be adjusted here for experimentation"
   ]
  },
  {
   "cell_type": "code",
   "execution_count": null,
   "id": "f148ed07-39d5-4393-8723-ccf7cfff1b4c",
   "metadata": {},
   "outputs": [],
   "source": []
  },
  {
   "cell_type": "markdown",
   "id": "ae1c9323-1cf2-46af-abf6-74ed6780155d",
   "metadata": {},
   "source": [
    "# 9. Training the Model"
   ]
  },
  {
   "cell_type": "code",
   "execution_count": null,
   "id": "2c3a503c-b438-4466-9d9c-9da0760e6bad",
   "metadata": {},
   "outputs": [],
   "source": [
    "# Set the number of epochs (full passes over the training data)\n",
    "num_epochs = 20\n",
    "\n",
    "model.train()    # Set the model to training mode"
   ]
  },
  {
   "cell_type": "code",
   "execution_count": null,
   "id": "e1a2cedc-8e7f-416f-a2d5-6af99f94c31d",
   "metadata": {},
   "outputs": [],
   "source": [
    "# Training loop\n",
    "for epoch in range(num_epochs):\n",
    "    epoch_loss = 0                       # Initialize epoch loss\n",
    "    for features_batch, labels_batch in train_loader:\n",
    "        # Move features and labels to the device\n",
    "        features_batch = features_batch.to(device)\n",
    "        labels_batch = labels_batch.to(device).unsqueeze(1)  # Reshape labels\n",
    "        \n",
    "        # Forward pass: compute the model's predictions\n",
    "        outputs = model(features_batch)\n",
    "        \n",
    "        # Compute the loss between predicted and true labels\n",
    "        loss = criterion(outputs, labels_batch)\n",
    "        \n",
    "        # Backward pass and optimization\n",
    "        optimizer.zero_grad()            # Clear previous gradients\n",
    "        loss.backward()                  # Compute gradients\n",
    "        optimizer.step()                 # Update model parameters\n",
    "        \n",
    "        # Accumulate the loss over the epoch\n",
    "        epoch_loss += loss.item()\n",
    "    \n",
    "    # Calculate average loss for the epoch\n",
    "    avg_loss = epoch_loss / len(train_loader)\n",
    "    print(f'Epoch [{epoch+1}/{num_epochs}], Loss: {avg_loss:.4f}')  # Print progress\n"
   ]
  },
  {
   "cell_type": "code",
   "execution_count": null,
   "id": "da5a4655-a460-4e21-bb2c-9951e2551a10",
   "metadata": {},
   "outputs": [],
   "source": []
  },
  {
   "cell_type": "code",
   "execution_count": null,
   "id": "a9b56c40-2965-4076-a35c-06c77666aa98",
   "metadata": {},
   "outputs": [],
   "source": []
  },
  {
   "cell_type": "code",
   "execution_count": 40,
   "id": "beb2f961-2b90-4356-aa74-0c59b578f710",
   "metadata": {},
   "outputs": [
    {
     "name": "stdout",
     "output_type": "stream",
     "text": [
      "Epoch [1/20], Loss: 0.3550, Accuracy: 0.8613\n",
      "Validation Loss: 0.3916, Validation Accuracy: 0.8440\n",
      "\n",
      "Epoch [2/20], Loss: 0.3493, Accuracy: 0.8611\n",
      "Validation Loss: 0.3897, Validation Accuracy: 0.8459\n",
      "\n",
      "Epoch [3/20], Loss: 0.3459, Accuracy: 0.8640\n",
      "Validation Loss: 0.3889, Validation Accuracy: 0.8484\n",
      "\n",
      "Epoch [4/20], Loss: 0.3478, Accuracy: 0.8651\n",
      "Validation Loss: 0.4017, Validation Accuracy: 0.8437\n",
      "\n",
      "Epoch [5/20], Loss: 0.3462, Accuracy: 0.8635\n",
      "Validation Loss: 0.3924, Validation Accuracy: 0.8431\n",
      "\n",
      "Epoch [6/20], Loss: 0.3448, Accuracy: 0.8671\n",
      "Validation Loss: 0.3980, Validation Accuracy: 0.8434\n",
      "\n",
      "Epoch [7/20], Loss: 0.3461, Accuracy: 0.8651\n",
      "Validation Loss: 0.3957, Validation Accuracy: 0.8471\n",
      "\n",
      "Epoch [8/20], Loss: 0.3404, Accuracy: 0.8670\n",
      "Validation Loss: 0.3908, Validation Accuracy: 0.8462\n",
      "\n",
      "Epoch [9/20], Loss: 0.3408, Accuracy: 0.8660\n",
      "Validation Loss: 0.3853, Validation Accuracy: 0.8493\n",
      "\n",
      "Epoch [10/20], Loss: 0.3390, Accuracy: 0.8674\n",
      "Validation Loss: 0.3899, Validation Accuracy: 0.8509\n",
      "\n",
      "Epoch [11/20], Loss: 0.3402, Accuracy: 0.8670\n",
      "Validation Loss: 0.4047, Validation Accuracy: 0.8384\n",
      "\n",
      "Epoch [12/20], Loss: 0.3413, Accuracy: 0.8685\n",
      "Validation Loss: 0.3884, Validation Accuracy: 0.8487\n",
      "\n",
      "Epoch [13/20], Loss: 0.3393, Accuracy: 0.8667\n",
      "Validation Loss: 0.3856, Validation Accuracy: 0.8519\n",
      "\n",
      "Epoch [14/20], Loss: 0.3381, Accuracy: 0.8682\n",
      "Validation Loss: 0.3941, Validation Accuracy: 0.8453\n",
      "\n",
      "Epoch [15/20], Loss: 0.3371, Accuracy: 0.8690\n",
      "Validation Loss: 0.3855, Validation Accuracy: 0.8481\n",
      "\n",
      "Epoch [16/20], Loss: 0.3358, Accuracy: 0.8694\n",
      "Validation Loss: 0.3883, Validation Accuracy: 0.8468\n",
      "\n",
      "Epoch [17/20], Loss: 0.3347, Accuracy: 0.8701\n",
      "Validation Loss: 0.3945, Validation Accuracy: 0.8481\n",
      "\n",
      "Epoch [18/20], Loss: 0.3352, Accuracy: 0.8699\n",
      "Validation Loss: 0.3908, Validation Accuracy: 0.8468\n",
      "\n",
      "Epoch [19/20], Loss: 0.3375, Accuracy: 0.8693\n",
      "Validation Loss: 0.3876, Validation Accuracy: 0.8490\n",
      "\n",
      "Epoch [20/20], Loss: 0.3362, Accuracy: 0.8712\n",
      "Validation Loss: 0.3846, Validation Accuracy: 0.8525\n",
      "\n"
     ]
    }
   ],
   "source": [
    "# Initialize lists to store training history\n",
    "num_epochs = 20\n",
    "training_losses = []\n",
    "training_accuracies = []\n",
    "validation_losses = []\n",
    "validation_accuracies = []\n",
    "\n",
    "# Training loop\n",
    "for epoch in range(num_epochs):\n",
    "    model.train()  # Set the model to training mode\n",
    "    epoch_loss = 0\n",
    "    correct = 0\n",
    "    total = 0\n",
    "    \n",
    "    for features_batch, labels_batch in train_loader:\n",
    "        # Move data to the device\n",
    "        features_batch = features_batch.to(device)\n",
    "        labels_batch = labels_batch.to(device).unsqueeze(1)\n",
    "        \n",
    "        # Forward pass\n",
    "        outputs = model(features_batch)\n",
    "        loss = criterion(outputs, labels_batch)\n",
    "        \n",
    "        # Backward pass and optimization\n",
    "        optimizer.zero_grad()\n",
    "        loss.backward()\n",
    "        optimizer.step()\n",
    "        \n",
    "        # Accumulate loss\n",
    "        epoch_loss += loss.item()\n",
    "        \n",
    "        # Compute number of correct predictions\n",
    "        predicted = (outputs >= 0.5).float()\n",
    "        correct += (predicted == labels_batch).sum().item()\n",
    "        total += labels_batch.size(0)\n",
    "    \n",
    "    # Calculate average loss and accuracy for the epoch\n",
    "    avg_loss = epoch_loss / len(train_loader)\n",
    "    training_losses.append(avg_loss)\n",
    "    training_accuracy = correct / total\n",
    "    training_accuracies.append(training_accuracy)\n",
    "    \n",
    "    print(f'Epoch [{epoch+1}/{num_epochs}], Loss: {avg_loss:.4f}, Accuracy: {training_accuracy:.4f}')\n",
    "    \n",
    "    # Validation after each epoch\n",
    "    model.eval()  # Set the model to evaluation mode\n",
    "    val_loss = 0\n",
    "    val_correct = 0\n",
    "    val_total = 0\n",
    "    \n",
    "    with torch.no_grad():\n",
    "        for val_features_batch, val_labels_batch in test_loader:\n",
    "            # Move data to the device\n",
    "            val_features_batch = val_features_batch.to(device)\n",
    "            val_labels_batch = val_labels_batch.to(device).unsqueeze(1)\n",
    "            \n",
    "            # Forward pass\n",
    "            val_outputs = model(val_features_batch)\n",
    "            val_loss_batch = criterion(val_outputs, val_labels_batch)\n",
    "            val_loss += val_loss_batch.item()\n",
    "            \n",
    "            # Compute number of correct predictions\n",
    "            val_predicted = (val_outputs >= 0.5).float()\n",
    "            val_correct += (val_predicted == val_labels_batch).sum().item()\n",
    "            val_total += val_labels_batch.size(0)\n",
    "    \n",
    "    # Calculate average validation loss and accuracy\n",
    "    val_avg_loss = val_loss / len(test_loader)\n",
    "    val_accuracy = val_correct / val_total\n",
    "    validation_losses.append(val_avg_loss)\n",
    "    validation_accuracies.append(val_accuracy)\n",
    "    \n",
    "    print(f'Validation Loss: {val_avg_loss:.4f}, Validation Accuracy: {val_accuracy:.4f}\\n')"
   ]
  },
  {
   "cell_type": "code",
   "execution_count": 41,
   "id": "e752d3e5-e188-4be9-a504-18db550a87cc",
   "metadata": {},
   "outputs": [
    {
     "data": {
      "image/png": "[encoded data removed]",
      "text/plain": [
       "<Figure size 1000x500 with 1 Axes>"
      ]
     },
     "metadata": {},
     "output_type": "display_data"
    }
   ],
   "source": [
    "# After training, plot the loss and accuracy curves\n",
    "# Plot training and validation loss over epochs\n",
    "plt.figure(figsize=(10, 5))\n",
    "plt.plot(range(1, num_epochs+1), training_losses, label='Training Loss')\n",
    "plt.plot(range(1, num_epochs+1), validation_losses, label='Validation Loss')\n",
    "plt.xlabel('Epoch')\n",
    "plt.ylabel('Loss')\n",
    "plt.title('Loss over Epochs')\n",
    "plt.legend()\n",
    "plt.show()"
   ]
  },
  {
   "cell_type": "code",
   "execution_count": 42,
   "id": "1c51cace-e4cb-4f85-940f-24e8fd8f445b",
   "metadata": {},
   "outputs": [
    {
     "data": {
      "image/png": "[encoded data removed]",
      "text/plain": [
       "<Figure size 1000x500 with 1 Axes>"
      ]
     },
     "metadata": {},
     "output_type": "display_data"
    }
   ],
   "source": [
    "# Plot training and validation accuracy over epochs\n",
    "plt.figure(figsize=(10, 5))\n",
    "plt.plot(range(1, num_epochs+1), training_accuracies, label='Training Accuracy')\n",
    "plt.plot(range(1, num_epochs+1), validation_accuracies, label='Validation Accuracy')\n",
    "plt.xlabel('Epoch')\n",
    "plt.ylabel('Accuracy')\n",
    "plt.title('Accuracy over Epochs')\n",
    "plt.legend()\n",
    "plt.show()"
   ]
  },
  {
   "cell_type": "code",
   "execution_count": null,
   "id": "558e0c7c-854a-4f98-a731-7b15340e65f0",
   "metadata": {},
   "outputs": [],
   "source": []
  },
  {
   "cell_type": "markdown",
   "id": "834c72c7-8c4b-4597-9daa-a0602d329f8c",
   "metadata": {},
   "source": [
    "# 10. Evaluating the Model"
   ]
  },
  {
   "cell_type": "code",
   "execution_count": null,
   "id": "d991dfdf-9030-4ac2-9457-21fead5c25dd",
   "metadata": {},
   "outputs": [],
   "source": [
    "# Set the model to evaluation mode (disables dropout, batch norm, etc.)\n",
    "model.eval()\n",
    "\n",
    "# Lists to store all predictions and true labels\n",
    "all_preds = []\n",
    "all_labels = []\n",
    "\n",
    "# Disable gradient computation during evaluation for efficiency\n",
    "with torch.no_grad():\n",
    "    for features_batch, labels_batch in test_loader:\n",
    "        # Move features and labels to the device\n",
    "        features_batch = features_batch.to(device)\n",
    "        labels_batch = labels_batch.to(device).unsqueeze(1)\n",
    "        \n",
    "        # Forward pass: compute predictions\n",
    "        outputs = model(features_batch)\n",
    "        \n",
    "        # Apply threshold to get predicted classes (0 or 1)\n",
    "        predicted = (outputs >= 0.5).float()\n",
    "        \n",
    "        # Store predictions and true labels\n",
    "        all_preds.extend(predicted.cpu().numpy())\n",
    "        all_labels.extend(labels_batch.cpu().numpy())"
   ]
  },
  {
   "cell_type": "code",
   "execution_count": null,
   "id": "1939173d-d996-4467-926d-4a77376e6ca2",
   "metadata": {},
   "outputs": [],
   "source": [
    "# Convert lists to NumPy arrays for evaluation\n",
    "all_preds = np.array(all_preds)\n",
    "all_labels = np.array(all_labels)"
   ]
  },
  {
   "cell_type": "code",
   "execution_count": null,
   "id": "2c2729ef-f79f-45e5-87f7-051fe8d05c28",
   "metadata": {},
   "outputs": [],
   "source": [
    "# Calculate accuracy of the model on the test set\n",
    "accuracy = accuracy_score(all_labels, all_preds)\n",
    "print(f'Accuracy on test set: {accuracy:.4f}')"
   ]
  },
  {
   "cell_type": "code",
   "execution_count": 19,
   "id": "491a4570-6c25-4ba8-ba82-69cde164b84e",
   "metadata": {},
   "outputs": [
    {
     "name": "stdout",
     "output_type": "stream",
     "text": [
      "\n",
      "Classification Report:\n",
      "              precision    recall  f1-score   support\n",
      "\n",
      "         0.0       0.86      0.96      0.91      2589\n",
      "         1.0       0.64      0.30      0.41       597\n",
      "\n",
      "    accuracy                           0.84      3186\n",
      "   macro avg       0.75      0.63      0.66      3186\n",
      "weighted avg       0.82      0.84      0.81      3186\n",
      "\n"
     ]
    }
   ],
   "source": [
    "# Classification report\n",
    "print('\\nClassification Report:')\n",
    "print(classification_report(all_labels, all_preds))"
   ]
  },
  {
   "cell_type": "code",
   "execution_count": 20,
   "id": "6800ad68-4da8-44d7-8108-29191e2fe802",
   "metadata": {},
   "outputs": [
    {
     "name": "stdout",
     "output_type": "stream",
     "text": [
      "\n",
      "Confusion Matrix:\n",
      "[[2489  100]\n",
      " [ 417  180]]\n"
     ]
    }
   ],
   "source": [
    "# Confusion matrix\n",
    "cm = confusion_matrix(all_labels, all_preds)\n",
    "print('\\nConfusion Matrix:')\n",
    "print(cm)"
   ]
  },
  {
   "cell_type": "code",
   "execution_count": 26,
   "id": "a670c01b-cec8-40d0-b8f8-171d50c04d65",
   "metadata": {},
   "outputs": [
    {
     "name": "stdout",
     "output_type": "stream",
     "text": [
      "\u001b[33mWARNING: Running pip as the 'root' user can result in broken permissions and conflicting behaviour with the system package manager. It is recommended to use a virtual environment instead: https://pip.pypa.io/warnings/venv\u001b[0m\u001b[33m\n",
      "\u001b[0m\n",
      "\u001b[1m[\u001b[0m\u001b[34;49mnotice\u001b[0m\u001b[1;39;49m]\u001b[0m\u001b[39;49m A new release of pip is available: \u001b[0m\u001b[31;49m24.0\u001b[0m\u001b[39;49m -> \u001b[0m\u001b[32;49m24.2\u001b[0m\n",
      "\u001b[1m[\u001b[0m\u001b[34;49mnotice\u001b[0m\u001b[1;39;49m]\u001b[0m\u001b[39;49m To update, run: \u001b[0m\u001b[32;49mpython -m pip install --upgrade pip\u001b[0m\n"
     ]
    }
   ],
   "source": [
    "!pip install seaborn --quiet"
   ]
  },
  {
   "cell_type": "code",
   "execution_count": 27,
   "id": "50fe9e3e-172e-40f9-9bbd-f2c175097028",
   "metadata": {},
   "outputs": [
    {
     "data": {
      "image/png": "[encoded data removed]",
      "text/plain": [
       "<Figure size 640x480 with 2 Axes>"
      ]
     },
     "metadata": {},
     "output_type": "display_data"
    }
   ],
   "source": [
    "# Optional: Visualize the confusion matrix as a heatmap\n",
    "import seaborn as sns\n",
    "sns.heatmap(cm, annot=True, fmt='d', cmap='Blues')\n",
    "plt.xlabel('Predicted Label')\n",
    "plt.ylabel('True Label')\n",
    "plt.title('Confusion Matrix')\n",
    "plt.show()"
   ]
  },
  {
   "cell_type": "code",
   "execution_count": null,
   "id": "eda3a664-f9ca-4df9-8bc0-a5a7f254dc91",
   "metadata": {},
   "outputs": [],
   "source": []
  },
  {
   "cell_type": "code",
   "execution_count": null,
   "id": "8b356c44-cf35-4ede-a8cc-62598b18dd1e",
   "metadata": {},
   "outputs": [],
   "source": []
  },
  {
   "cell_type": "markdown",
   "id": "b367c72c-d10c-4fb7-ab57-2d8333ad72de",
   "metadata": {},
   "source": [
    "# 11. Experimenting with Learning Rates and Model Complexity"
   ]
  },
  {
   "cell_type": "code",
   "execution_count": 21,
   "id": "0700139a-ddd7-400e-bacb-257c2c5a1280",
   "metadata": {},
   "outputs": [],
   "source": [
    "# Experiment with a different learning rate\n",
    "optimizer = optim.Adam(model.parameters(), lr=0.0001)  # Reduced learning rate"
   ]
  },
  {
   "cell_type": "code",
   "execution_count": 22,
   "id": "304d10de-87eb-49b7-83c2-1ef662978d89",
   "metadata": {},
   "outputs": [],
   "source": [
    "# Adding More Layers\n",
    "# Modify the model by adding more layers or changing layer sizes\n",
    "class ComplexChurnModel(nn.Module):\n",
    "    def __init__(self, input_size):\n",
    "        super().__init__()\n",
    "        self.fc1 = nn.Linear(input_size, 128)\n",
    "        self.relu1 = nn.ReLU()\n",
    "        self.fc2 = nn.Linear(128, 64)\n",
    "        self.relu2 = nn.ReLU()\n",
    "        self.fc3 = nn.Linear(64, 32)\n",
    "        self.relu3 = nn.ReLU()\n",
    "        self.fc4 = nn.Linear(32, 1)\n",
    "        self.sigmoid = nn.Sigmoid()\n",
    "    \n",
    "    def forward(self, x):\n",
    "        out = self.fc1(x)\n",
    "        out = self.relu1(out)\n",
    "        out = self.fc2(out)\n",
    "        out = self.relu2(out)\n",
    "        out = self.fc3(out)\n",
    "        out = self.relu3(out)\n",
    "        out = self.fc4(out)\n",
    "        out = self.sigmoid(out)\n",
    "        return out"
   ]
  },
  {
   "cell_type": "code",
   "execution_count": 23,
   "id": "7078b9a4-b3eb-4de3-aff6-66b4c0a921d2",
   "metadata": {},
   "outputs": [],
   "source": [
    "# Instantiate the more complex model\n",
    "complex_model = ComplexChurnModel(input_size).to(device)\n",
    "\n",
    "# Use the same criterion and optimizer (or try different ones)\n",
    "criterion = nn.BCELoss()\n",
    "optimizer = optim.Adam(complex_model.parameters(), lr=0.001)"
   ]
  },
  {
   "cell_type": "code",
   "execution_count": null,
   "id": "27397fdb-28d2-438d-a58a-5ce95f41cd19",
   "metadata": {},
   "outputs": [],
   "source": []
  },
  {
   "cell_type": "markdown",
   "id": "7c598d6f-d39f-4c1e-9110-c20e86aaf204",
   "metadata": {},
   "source": [
    "# 12. Utilizing GPU Acceleration"
   ]
  },
  {
   "cell_type": "code",
   "execution_count": 24,
   "id": "3cc5f2d8-b7c6-410e-ae85-2853521b3b8e",
   "metadata": {},
   "outputs": [],
   "source": [
    "# Ensure that data and models are moved to the GPU if available\n",
    "# This is already done in previous steps by moving data and model to 'device'\n",
    "\n",
    "# Example:\n",
    "features_batch = features_batch.to(device)\n",
    "labels_batch = labels_batch.to(device)\n",
    "model = model.to(device)"
   ]
  },
  {
   "cell_type": "code",
   "execution_count": null,
   "id": "075f683a-3bc8-4ad6-b1e1-87a16420b450",
   "metadata": {},
   "outputs": [],
   "source": []
  },
  {
   "cell_type": "markdown",
   "id": "f25bb33b-b381-4554-a67b-3402f5d9e8a1",
   "metadata": {},
   "source": [
    "# 13. Model Visualization"
   ]
  },
  {
   "cell_type": "code",
   "execution_count": 28,
   "id": "3c16107b-d76f-4928-82e9-d88023600adb",
   "metadata": {},
   "outputs": [
    {
     "name": "stdout",
     "output_type": "stream",
     "text": [
      "\u001b[33mWARNING: Running pip as the 'root' user can result in broken permissions and conflicting behaviour with the system package manager. It is recommended to use a virtual environment instead: https://pip.pypa.io/warnings/venv\u001b[0m\u001b[33m\n",
      "\u001b[0m\n",
      "\u001b[1m[\u001b[0m\u001b[34;49mnotice\u001b[0m\u001b[1;39;49m]\u001b[0m\u001b[39;49m A new release of pip is available: \u001b[0m\u001b[31;49m24.0\u001b[0m\u001b[39;49m -> \u001b[0m\u001b[32;49m24.2\u001b[0m\n",
      "\u001b[1m[\u001b[0m\u001b[34;49mnotice\u001b[0m\u001b[1;39;49m]\u001b[0m\u001b[39;49m To update, run: \u001b[0m\u001b[32;49mpython -m pip install --upgrade pip\u001b[0m\n"
     ]
    }
   ],
   "source": [
    "!pip install torchsummary --quiet"
   ]
  },
  {
   "cell_type": "code",
   "execution_count": 29,
   "id": "05c819be-7004-4c40-bac1-7044deccffde",
   "metadata": {},
   "outputs": [
    {
     "name": "stdout",
     "output_type": "stream",
     "text": [
      "----------------------------------------------------------------\n",
      "        Layer (type)               Output Shape         Param #\n",
      "================================================================\n",
      "            Linear-1                   [-1, 64]           1,472\n",
      "              ReLU-2                   [-1, 64]               0\n",
      "            Linear-3                   [-1, 32]           2,080\n",
      "              ReLU-4                   [-1, 32]               0\n",
      "            Linear-5                    [-1, 1]              33\n",
      "           Sigmoid-6                    [-1, 1]               0\n",
      "================================================================\n",
      "Total params: 3,585\n",
      "Trainable params: 3,585\n",
      "Non-trainable params: 0\n",
      "----------------------------------------------------------------\n",
      "Input size (MB): 0.00\n",
      "Forward/backward pass size (MB): 0.00\n",
      "Params size (MB): 0.01\n",
      "Estimated Total Size (MB): 0.02\n",
      "----------------------------------------------------------------\n"
     ]
    }
   ],
   "source": [
    "from torchsummary import summary\n",
    "\n",
    "input_size = X_train.shape[1]  # Replace with your actual input size\n",
    "model = ChurnModel(input_size).to(device)\n",
    "\n",
    "# Get the model summary\n",
    "summary(model, input_size=(input_size,), device=str(device))\n"
   ]
  },
  {
   "cell_type": "code",
   "execution_count": 30,
   "id": "ffe2e50d-5389-46f5-8ae4-a8d9d2e54aa0",
   "metadata": {},
   "outputs": [
    {
     "name": "stdout",
     "output_type": "stream",
     "text": [
      "\u001b[33mWARNING: Running pip as the 'root' user can result in broken permissions and conflicting behaviour with the system package manager. It is recommended to use a virtual environment instead: https://pip.pypa.io/warnings/venv\u001b[0m\u001b[33m\n",
      "\u001b[0m\n",
      "\u001b[1m[\u001b[0m\u001b[34;49mnotice\u001b[0m\u001b[1;39;49m]\u001b[0m\u001b[39;49m A new release of pip is available: \u001b[0m\u001b[31;49m24.0\u001b[0m\u001b[39;49m -> \u001b[0m\u001b[32;49m24.2\u001b[0m\n",
      "\u001b[1m[\u001b[0m\u001b[34;49mnotice\u001b[0m\u001b[1;39;49m]\u001b[0m\u001b[39;49m To update, run: \u001b[0m\u001b[32;49mpython -m pip install --upgrade pip\u001b[0m\n"
     ]
    }
   ],
   "source": [
    "!pip install torchinfo --quiet"
   ]
  },
  {
   "cell_type": "markdown",
   "id": "bc1a762a-3dfd-4e2d-8bd7-50d0834ff9e0",
   "metadata": {},
   "source": [
    "This will output a detailed summary, including:\n",
    "\n",
    "- Layer hierarchy\n",
    "- Output shapes at each layer\n",
    "- Number of trainable and non-trainable parameters\n",
    "- Total parameters and memory usage\n"
   ]
  },
  {
   "cell_type": "code",
   "execution_count": 31,
   "id": "e4e5cfe9-8448-4c6f-9a5d-67c850670eb8",
   "metadata": {},
   "outputs": [
    {
     "data": {
      "text/plain": [
       "==========================================================================================\n",
       "Layer (type:depth-idx)                   Output Shape              Param #\n",
       "==========================================================================================\n",
       "ChurnModel                               [1, 1]                    --\n",
       "├─Linear: 1-1                            [1, 64]                   1,472\n",
       "├─ReLU: 1-2                              [1, 64]                   --\n",
       "├─Linear: 1-3                            [1, 32]                   2,080\n",
       "├─ReLU: 1-4                              [1, 32]                   --\n",
       "├─Linear: 1-5                            [1, 1]                    33\n",
       "├─Sigmoid: 1-6                           [1, 1]                    --\n",
       "==========================================================================================\n",
       "Total params: 3,585\n",
       "Trainable params: 3,585\n",
       "Non-trainable params: 0\n",
       "Total mult-adds (M): 0.00\n",
       "==========================================================================================\n",
       "Input size (MB): 0.00\n",
       "Forward/backward pass size (MB): 0.00\n",
       "Params size (MB): 0.01\n",
       "Estimated Total Size (MB): 0.02\n",
       "=========================================================================================="
      ]
     },
     "execution_count": 31,
     "metadata": {},
     "output_type": "execute_result"
    }
   ],
   "source": [
    "from torchinfo import summary\n",
    "\n",
    "input_size = X_train.shape[1]\n",
    "batch_size = 1  # You can set this to any number\n",
    "\n",
    "model = ChurnModel(input_size).to(device)\n",
    "\n",
    "# Get the detailed model summary\n",
    "summary(model, input_size=(batch_size, input_size), device=str(device))\n"
   ]
  },
  {
   "cell_type": "code",
   "execution_count": null,
   "id": "5396f0e9-f2bd-4e2e-9d06-6b7bbde151e5",
   "metadata": {},
   "outputs": [],
   "source": []
  },
  {
   "cell_type": "code",
   "execution_count": 34,
   "id": "bfe8fdf7-7a5f-426a-8c28-e86a3708d73e",
   "metadata": {},
   "outputs": [],
   "source": [
    "# Define a dummy input tensor with the correct input size\n",
    "dummy_input = torch.randn(1, input_size).to(device)\n",
    "\n",
    "# Export the model to an ONNX file\n",
    "torch.onnx.export(\n",
    "    model,               # Your PyTorch model\n",
    "    dummy_input,         # An example input tensor\n",
    "    \"churn_model.onnx\",  # The file name to save the ONNX model\n",
    "    input_names=['input'],   # Name of the input node\n",
    "    output_names=['output'], # Name of the output node\n",
    "    opset_version=11         # ONNX version\n",
    ")\n"
   ]
  },
  {
   "cell_type": "code",
   "execution_count": 33,
   "id": "8bfa83f9-779f-4515-87e4-02e9bc502617",
   "metadata": {},
   "outputs": [
    {
     "name": "stdout",
     "output_type": "stream",
     "text": [
      "\u001b[33mWARNING: Running pip as the 'root' user can result in broken permissions and conflicting behaviour with the system package manager. It is recommended to use a virtual environment instead: https://pip.pypa.io/warnings/venv\u001b[0m\u001b[33m\n",
      "\u001b[0m\n",
      "\u001b[1m[\u001b[0m\u001b[34;49mnotice\u001b[0m\u001b[1;39;49m]\u001b[0m\u001b[39;49m A new release of pip is available: \u001b[0m\u001b[31;49m24.0\u001b[0m\u001b[39;49m -> \u001b[0m\u001b[32;49m24.2\u001b[0m\n",
      "\u001b[1m[\u001b[0m\u001b[34;49mnotice\u001b[0m\u001b[1;39;49m]\u001b[0m\u001b[39;49m To update, run: \u001b[0m\u001b[32;49mpython -m pip install --upgrade pip\u001b[0m\n"
     ]
    }
   ],
   "source": [
    "!pip install onnx --quiet"
   ]
  },
  {
   "cell_type": "code",
   "execution_count": null,
   "id": "56a394eb-745c-4bf5-9edf-9ce5be8172cb",
   "metadata": {},
   "outputs": [],
   "source": []
  },
  {
   "cell_type": "code",
   "execution_count": null,
   "id": "f699ae93-87b8-4c9e-869b-2629a405b2cc",
   "metadata": {},
   "outputs": [],
   "source": []
  },
  {
   "cell_type": "code",
   "execution_count": 39,
   "id": "23aeda81-1035-4a57-96a6-8dca08d5ea79",
   "metadata": {},
   "outputs": [
    {
     "data": {
      "image/png": "[encoded data removed]",
      "text/plain": [
       "<Figure size 1000x500 with 1 Axes>"
      ]
     },
     "metadata": {},
     "output_type": "display_data"
    }
   ],
   "source": []
  },
  {
   "cell_type": "code",
   "execution_count": null,
   "id": "b3da9e0e-8f7b-4bd5-9d44-9800f3950f68",
   "metadata": {},
   "outputs": [],
   "source": []
  }
 ],
 "metadata": {
  "kernelspec": {
   "display_name": "Python 3 (ipykernel)",
   "language": "python",
   "name": "python3"
  },
  "language_info": {
   "codemirror_mode": {
    "name": "ipython",
    "version": 3
   },
   "file_extension": ".py",
   "mimetype": "text/x-python",
   "name": "python",
   "nbconvert_exporter": "python",
   "pygments_lexer": "ipython3",
   "version": "3.10.12"
  }
 },
 "nbformat": 4,
 "nbformat_minor": 5
}
