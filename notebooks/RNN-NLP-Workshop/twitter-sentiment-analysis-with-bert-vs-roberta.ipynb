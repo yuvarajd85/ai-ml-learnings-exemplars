{
 "cells": [
  {
   "cell_type": "markdown",
   "metadata": {},
   "source": [
    "# Twitter Sentiment Analysis with BERT and roBERTa transformers"
   ]
  },
  {
   "cell_type": "markdown",
   "metadata": {},
   "source": [
    "This project is about the **analysis of tweets about coronavirus**, with the goal of performing a **Sentiment Analysis using BERT and roBERTa** algorithms to predict the emotion of a tweet (Positive, Negative or Neutral). In particular, both **BERT and ROBERTA will be fine tuned** using the given dataset in order to improve the model overall performance.<br>\n",
    "Before feeding the data to the algorithms, **the tweets will be deeply cleaned to remove links, hashtags at the end of the sentences and punctuation** to allow the algorithms to better understand the text and improve the prediction performance."
   ]
  },
  {
   "cell_type": "code",
   "execution_count": 6,
   "metadata": {},
   "outputs": [
    {
     "data": {
      "text/plain": [
       "<Figure size 640x480 with 0 Axes>"
      ]
     },
     "metadata": {},
     "output_type": "display_data"
    }
   ],
   "source": [
    "#general purpose packages\n",
    "import numpy as np\n",
    "import pandas as pd\n",
    "import tensorflow as tf\n",
    "import matplotlib.pyplot as plt\n",
    "import seaborn as sns\n",
    "\n",
    "#data processing\n",
    "import re, string\n",
    "import emoji\n",
    "import nltk\n",
    "\n",
    "from sklearn import preprocessing\n",
    "from imblearn.over_sampling import RandomOverSampler\n",
    "from sklearn.model_selection import train_test_split\n",
    "\n",
    "\n",
    "#Naive Bayes\n",
    "from sklearn.feature_extraction.text import CountVectorizer\n",
    "from sklearn.feature_extraction.text import TfidfTransformer\n",
    "from sklearn.naive_bayes import MultinomialNB\n",
    "\n",
    "#transformers\n",
    "from transformers import BertTokenizerFast\n",
    "from transformers import TFBertModel\n",
    "from transformers import RobertaTokenizerFast\n",
    "from transformers import TFRobertaModel\n",
    "\n",
    "#keras\n",
    "import tensorflow as tf\n",
    "from tensorflow import keras\n",
    "\n",
    "\n",
    "#metrics\n",
    "from sklearn.metrics import accuracy_score, f1_score\n",
    "from sklearn.metrics import classification_report, confusion_matrix\n",
    "\n",
    "#set seed for reproducibility\n",
    "seed=42\n",
    "\n",
    "#set style for plots\n",
    "sns.set_style(\"whitegrid\")\n",
    "sns.despine()\n",
    "plt.style.use(\"seaborn-v0_8-whitegrid\")\n",
    "plt.rc(\"figure\", autolayout=True)\n",
    "plt.rc(\"axes\", labelweight=\"bold\", labelsize=\"large\", titleweight=\"bold\", titlepad=10)\n"
   ]
  },
  {
   "cell_type": "markdown",
   "metadata": {},
   "source": [
    "## Custom functions definition:"
   ]
  },
  {
   "cell_type": "code",
   "execution_count": 7,
   "metadata": {
    "_kg_hide-input": true
   },
   "outputs": [],
   "source": [
    "def conf_matrix(y, y_pred, title):\n",
    "    fig, ax =plt.subplots(figsize=(5,5))\n",
    "    labels=['Negative', 'Neutral', 'Positive']\n",
    "    ax=sns.heatmap(confusion_matrix(y, y_pred), annot=True, cmap=\"Blues\", fmt='g', cbar=False, annot_kws={\"size\":25})\n",
    "    plt.title(title, fontsize=20)\n",
    "    ax.xaxis.set_ticklabels(labels, fontsize=17) \n",
    "    ax.yaxis.set_ticklabels(labels, fontsize=17)\n",
    "    ax.set_ylabel('Test', fontsize=20)\n",
    "    ax.set_xlabel('Predicted', fontsize=20)\n",
    "    plt.show()"
   ]
  },
  {
   "cell_type": "markdown",
   "metadata": {},
   "source": [
    "# Loading the data"
   ]
  },
  {
   "cell_type": "code",
   "execution_count": 8,
   "metadata": {},
   "outputs": [],
   "source": [
    "df = pd.read_csv('Corona_NLP_train.csv',encoding='ISO-8859-1')\n",
    "df_test = pd.read_csv('Corona_NLP_test.csv')"
   ]
  },
  {
   "cell_type": "markdown",
   "metadata": {},
   "source": [
    "NOTE: UTF-8 encoding does not work on the dataset when loading it with pandas 'read_csv' function. This lead to the use of 'ISO-8859-1'/latin-1 encoding. <br>\n",
    "It will be found later that some special characters like apostrophes are turned into '\\x92', which will be taken care of during the data cleaning process.\n",
    "                                                                                                         "
   ]
  },
  {
   "cell_type": "code",
   "execution_count": 9,
   "metadata": {},
   "outputs": [
    {
     "data": {
      "text/html": [
       "<div>\n",
       "<style scoped>\n",
       "    .dataframe tbody tr th:only-of-type {\n",
       "        vertical-align: middle;\n",
       "    }\n",
       "\n",
       "    .dataframe tbody tr th {\n",
       "        vertical-align: top;\n",
       "    }\n",
       "\n",
       "    .dataframe thead th {\n",
       "        text-align: right;\n",
       "    }\n",
       "</style>\n",
       "<table border=\"1\" class=\"dataframe\">\n",
       "  <thead>\n",
       "    <tr style=\"text-align: right;\">\n",
       "      <th></th>\n",
       "      <th>UserName</th>\n",
       "      <th>ScreenName</th>\n",
       "      <th>Location</th>\n",
       "      <th>TweetAt</th>\n",
       "      <th>OriginalTweet</th>\n",
       "      <th>Sentiment</th>\n",
       "    </tr>\n",
       "  </thead>\n",
       "  <tbody>\n",
       "    <tr>\n",
       "      <th>0</th>\n",
       "      <td>3799</td>\n",
       "      <td>48751</td>\n",
       "      <td>London</td>\n",
       "      <td>16-03-2020</td>\n",
       "      <td>@MeNyrbie @Phil_Gahan @Chrisitv https://t.co/i...</td>\n",
       "      <td>Neutral</td>\n",
       "    </tr>\n",
       "    <tr>\n",
       "      <th>1</th>\n",
       "      <td>3800</td>\n",
       "      <td>48752</td>\n",
       "      <td>UK</td>\n",
       "      <td>16-03-2020</td>\n",
       "      <td>advice Talk to your neighbours family to excha...</td>\n",
       "      <td>Positive</td>\n",
       "    </tr>\n",
       "    <tr>\n",
       "      <th>2</th>\n",
       "      <td>3801</td>\n",
       "      <td>48753</td>\n",
       "      <td>Vagabonds</td>\n",
       "      <td>16-03-2020</td>\n",
       "      <td>Coronavirus Australia: Woolworths to give elde...</td>\n",
       "      <td>Positive</td>\n",
       "    </tr>\n",
       "    <tr>\n",
       "      <th>3</th>\n",
       "      <td>3802</td>\n",
       "      <td>48754</td>\n",
       "      <td>NaN</td>\n",
       "      <td>16-03-2020</td>\n",
       "      <td>My food stock is not the only one which is emp...</td>\n",
       "      <td>Positive</td>\n",
       "    </tr>\n",
       "    <tr>\n",
       "      <th>4</th>\n",
       "      <td>3803</td>\n",
       "      <td>48755</td>\n",
       "      <td>NaN</td>\n",
       "      <td>16-03-2020</td>\n",
       "      <td>Me, ready to go at supermarket during the #COV...</td>\n",
       "      <td>Extremely Negative</td>\n",
       "    </tr>\n",
       "  </tbody>\n",
       "</table>\n",
       "</div>"
      ],
      "text/plain": [
       "   UserName  ScreenName   Location     TweetAt  \\\n",
       "0      3799       48751     London  16-03-2020   \n",
       "1      3800       48752         UK  16-03-2020   \n",
       "2      3801       48753  Vagabonds  16-03-2020   \n",
       "3      3802       48754        NaN  16-03-2020   \n",
       "4      3803       48755        NaN  16-03-2020   \n",
       "\n",
       "                                       OriginalTweet           Sentiment  \n",
       "0  @MeNyrbie @Phil_Gahan @Chrisitv https://t.co/i...             Neutral  \n",
       "1  advice Talk to your neighbours family to excha...            Positive  \n",
       "2  Coronavirus Australia: Woolworths to give elde...            Positive  \n",
       "3  My food stock is not the only one which is emp...            Positive  \n",
       "4  Me, ready to go at supermarket during the #COV...  Extremely Negative  "
      ]
     },
     "execution_count": 9,
     "metadata": {},
     "output_type": "execute_result"
    }
   ],
   "source": [
    "df.head()"
   ]
  },
  {
   "cell_type": "code",
   "execution_count": 10,
   "metadata": {},
   "outputs": [
    {
     "name": "stdout",
     "output_type": "stream",
     "text": [
      "<class 'pandas.core.frame.DataFrame'>\n",
      "RangeIndex: 41157 entries, 0 to 41156\n",
      "Data columns (total 6 columns):\n",
      " #   Column         Non-Null Count  Dtype \n",
      "---  ------         --------------  ----- \n",
      " 0   UserName       41157 non-null  int64 \n",
      " 1   ScreenName     41157 non-null  int64 \n",
      " 2   Location       32567 non-null  object\n",
      " 3   TweetAt        41157 non-null  object\n",
      " 4   OriginalTweet  41157 non-null  object\n",
      " 5   Sentiment      41157 non-null  object\n",
      "dtypes: int64(2), object(4)\n",
      "memory usage: 1.9+ MB\n"
     ]
    }
   ],
   "source": [
    "df.info()"
   ]
  },
  {
   "cell_type": "markdown",
   "metadata": {},
   "source": [
    "We convert the date column 'TweetAt' to pandas datetime format to improve its usability in the further analysis."
   ]
  },
  {
   "cell_type": "code",
   "execution_count": 11,
   "metadata": {},
   "outputs": [
    {
     "name": "stderr",
     "output_type": "stream",
     "text": [
      "C:\\Users\\yuvaraj\\AppData\\Local\\Temp\\ipykernel_2948\\1259316306.py:1: UserWarning: Parsing dates in %d-%m-%Y format when dayfirst=False (the default) was specified. Pass `dayfirst=True` or specify a format to silence this warning.\n",
      "  df['TweetAt'] = pd.to_datetime(df['TweetAt'])\n"
     ]
    }
   ],
   "source": [
    "df['TweetAt'] = pd.to_datetime(df['TweetAt'])"
   ]
  },
  {
   "cell_type": "markdown",
   "metadata": {},
   "source": [
    "## Duplicate tweets?"
   ]
  },
  {
   "cell_type": "code",
   "execution_count": 12,
   "metadata": {},
   "outputs": [],
   "source": [
    "df.drop_duplicates(subset='OriginalTweet',inplace=True)"
   ]
  },
  {
   "cell_type": "code",
   "execution_count": 13,
   "metadata": {},
   "outputs": [
    {
     "name": "stdout",
     "output_type": "stream",
     "text": [
      "<class 'pandas.core.frame.DataFrame'>\n",
      "RangeIndex: 41157 entries, 0 to 41156\n",
      "Data columns (total 6 columns):\n",
      " #   Column         Non-Null Count  Dtype         \n",
      "---  ------         --------------  -----         \n",
      " 0   UserName       41157 non-null  int64         \n",
      " 1   ScreenName     41157 non-null  int64         \n",
      " 2   Location       32567 non-null  object        \n",
      " 3   TweetAt        41157 non-null  datetime64[ns]\n",
      " 4   OriginalTweet  41157 non-null  object        \n",
      " 5   Sentiment      41157 non-null  object        \n",
      "dtypes: datetime64[ns](1), int64(2), object(3)\n",
      "memory usage: 1.9+ MB\n"
     ]
    }
   ],
   "source": [
    "df.info()"
   ]
  },
  {
   "cell_type": "markdown",
   "metadata": {},
   "source": [
    "Good news, No duplicate tweets !"
   ]
  },
  {
   "cell_type": "markdown",
   "metadata": {},
   "source": [
    "# Tweets count by date"
   ]
  },
  {
   "cell_type": "code",
   "execution_count": 16,
   "metadata": {
    "_kg_hide-input": true
   },
   "outputs": [],
   "source": [
    "tweets_per_day = df['TweetAt'].dt.strftime('%m-%d').value_counts().sort_index().reset_index(name='counts')"
   ]
  },
  {
   "cell_type": "code",
   "execution_count": 17,
   "metadata": {
    "_kg_hide-input": true
   },
   "outputs": [
    {
     "name": "stderr",
     "output_type": "stream",
     "text": [
      "C:\\Users\\yuvaraj\\AppData\\Local\\Temp\\ipykernel_2948\\1346119044.py:2: FutureWarning: \n",
      "\n",
      "The `ci` parameter is deprecated. Use `errorbar=('ci', False)` for the same effect.\n",
      "\n",
      "  ax = sns.barplot(x='index', y='counts', data=tweets_per_day,edgecolor = 'black',ci=False, palette='Blues_r')\n"
     ]
    },
    {
     "ename": "ValueError",
     "evalue": "Could not interpret value `index` for `x`. An entry with this name does not appear in `data`.",
     "output_type": "error",
     "traceback": [
      "\u001b[1;31m---------------------------------------------------------------------------\u001b[0m",
      "\u001b[1;31mValueError\u001b[0m                                Traceback (most recent call last)",
      "Cell \u001b[1;32mIn[17], line 2\u001b[0m\n\u001b[0;32m      1\u001b[0m plt\u001b[38;5;241m.\u001b[39mfigure(figsize\u001b[38;5;241m=\u001b[39m(\u001b[38;5;241m20\u001b[39m,\u001b[38;5;241m5\u001b[39m))\n\u001b[1;32m----> 2\u001b[0m ax \u001b[38;5;241m=\u001b[39m \u001b[43msns\u001b[49m\u001b[38;5;241;43m.\u001b[39;49m\u001b[43mbarplot\u001b[49m\u001b[43m(\u001b[49m\u001b[43mx\u001b[49m\u001b[38;5;241;43m=\u001b[39;49m\u001b[38;5;124;43m'\u001b[39;49m\u001b[38;5;124;43mindex\u001b[39;49m\u001b[38;5;124;43m'\u001b[39;49m\u001b[43m,\u001b[49m\u001b[43m \u001b[49m\u001b[43my\u001b[49m\u001b[38;5;241;43m=\u001b[39;49m\u001b[38;5;124;43m'\u001b[39;49m\u001b[38;5;124;43mcounts\u001b[39;49m\u001b[38;5;124;43m'\u001b[39;49m\u001b[43m,\u001b[49m\u001b[43m \u001b[49m\u001b[43mdata\u001b[49m\u001b[38;5;241;43m=\u001b[39;49m\u001b[43mtweets_per_day\u001b[49m\u001b[43m,\u001b[49m\u001b[43medgecolor\u001b[49m\u001b[43m \u001b[49m\u001b[38;5;241;43m=\u001b[39;49m\u001b[43m \u001b[49m\u001b[38;5;124;43m'\u001b[39;49m\u001b[38;5;124;43mblack\u001b[39;49m\u001b[38;5;124;43m'\u001b[39;49m\u001b[43m,\u001b[49m\u001b[43mci\u001b[49m\u001b[38;5;241;43m=\u001b[39;49m\u001b[38;5;28;43;01mFalse\u001b[39;49;00m\u001b[43m,\u001b[49m\u001b[43m \u001b[49m\u001b[43mpalette\u001b[49m\u001b[38;5;241;43m=\u001b[39;49m\u001b[38;5;124;43m'\u001b[39;49m\u001b[38;5;124;43mBlues_r\u001b[39;49m\u001b[38;5;124;43m'\u001b[39;49m\u001b[43m)\u001b[49m\n\u001b[0;32m      3\u001b[0m plt\u001b[38;5;241m.\u001b[39mtitle(\u001b[38;5;124m'\u001b[39m\u001b[38;5;124mTweets count by date\u001b[39m\u001b[38;5;124m'\u001b[39m)\n\u001b[0;32m      4\u001b[0m plt\u001b[38;5;241m.\u001b[39myticks([])\n",
      "File \u001b[1;32mC:\\Python311\\Lib\\site-packages\\seaborn\\categorical.py:2341\u001b[0m, in \u001b[0;36mbarplot\u001b[1;34m(data, x, y, hue, order, hue_order, estimator, errorbar, n_boot, seed, units, weights, orient, color, palette, saturation, fill, hue_norm, width, dodge, gap, log_scale, native_scale, formatter, legend, capsize, err_kws, ci, errcolor, errwidth, ax, **kwargs)\u001b[0m\n\u001b[0;32m   2338\u001b[0m \u001b[38;5;28;01mif\u001b[39;00m estimator \u001b[38;5;129;01mis\u001b[39;00m \u001b[38;5;28mlen\u001b[39m:\n\u001b[0;32m   2339\u001b[0m     estimator \u001b[38;5;241m=\u001b[39m \u001b[38;5;124m\"\u001b[39m\u001b[38;5;124msize\u001b[39m\u001b[38;5;124m\"\u001b[39m\n\u001b[1;32m-> 2341\u001b[0m p \u001b[38;5;241m=\u001b[39m \u001b[43m_CategoricalAggPlotter\u001b[49m\u001b[43m(\u001b[49m\n\u001b[0;32m   2342\u001b[0m \u001b[43m    \u001b[49m\u001b[43mdata\u001b[49m\u001b[38;5;241;43m=\u001b[39;49m\u001b[43mdata\u001b[49m\u001b[43m,\u001b[49m\n\u001b[0;32m   2343\u001b[0m \u001b[43m    \u001b[49m\u001b[43mvariables\u001b[49m\u001b[38;5;241;43m=\u001b[39;49m\u001b[38;5;28;43mdict\u001b[39;49m\u001b[43m(\u001b[49m\u001b[43mx\u001b[49m\u001b[38;5;241;43m=\u001b[39;49m\u001b[43mx\u001b[49m\u001b[43m,\u001b[49m\u001b[43m \u001b[49m\u001b[43my\u001b[49m\u001b[38;5;241;43m=\u001b[39;49m\u001b[43my\u001b[49m\u001b[43m,\u001b[49m\u001b[43m \u001b[49m\u001b[43mhue\u001b[49m\u001b[38;5;241;43m=\u001b[39;49m\u001b[43mhue\u001b[49m\u001b[43m,\u001b[49m\u001b[43m \u001b[49m\u001b[43munits\u001b[49m\u001b[38;5;241;43m=\u001b[39;49m\u001b[43munits\u001b[49m\u001b[43m,\u001b[49m\u001b[43m \u001b[49m\u001b[43mweight\u001b[49m\u001b[38;5;241;43m=\u001b[39;49m\u001b[43mweights\u001b[49m\u001b[43m)\u001b[49m\u001b[43m,\u001b[49m\n\u001b[0;32m   2344\u001b[0m \u001b[43m    \u001b[49m\u001b[43morder\u001b[49m\u001b[38;5;241;43m=\u001b[39;49m\u001b[43morder\u001b[49m\u001b[43m,\u001b[49m\n\u001b[0;32m   2345\u001b[0m \u001b[43m    \u001b[49m\u001b[43morient\u001b[49m\u001b[38;5;241;43m=\u001b[39;49m\u001b[43morient\u001b[49m\u001b[43m,\u001b[49m\n\u001b[0;32m   2346\u001b[0m \u001b[43m    \u001b[49m\u001b[43mcolor\u001b[49m\u001b[38;5;241;43m=\u001b[39;49m\u001b[43mcolor\u001b[49m\u001b[43m,\u001b[49m\n\u001b[0;32m   2347\u001b[0m \u001b[43m    \u001b[49m\u001b[43mlegend\u001b[49m\u001b[38;5;241;43m=\u001b[39;49m\u001b[43mlegend\u001b[49m\u001b[43m,\u001b[49m\n\u001b[0;32m   2348\u001b[0m \u001b[43m\u001b[49m\u001b[43m)\u001b[49m\n\u001b[0;32m   2350\u001b[0m \u001b[38;5;28;01mif\u001b[39;00m ax \u001b[38;5;129;01mis\u001b[39;00m \u001b[38;5;28;01mNone\u001b[39;00m:\n\u001b[0;32m   2351\u001b[0m     ax \u001b[38;5;241m=\u001b[39m plt\u001b[38;5;241m.\u001b[39mgca()\n",
      "File \u001b[1;32mC:\\Python311\\Lib\\site-packages\\seaborn\\categorical.py:67\u001b[0m, in \u001b[0;36m_CategoricalPlotter.__init__\u001b[1;34m(self, data, variables, order, orient, require_numeric, color, legend)\u001b[0m\n\u001b[0;32m     56\u001b[0m \u001b[38;5;28;01mdef\u001b[39;00m \u001b[38;5;21m__init__\u001b[39m(\n\u001b[0;32m     57\u001b[0m     \u001b[38;5;28mself\u001b[39m,\n\u001b[0;32m     58\u001b[0m     data\u001b[38;5;241m=\u001b[39m\u001b[38;5;28;01mNone\u001b[39;00m,\n\u001b[1;32m   (...)\u001b[0m\n\u001b[0;32m     64\u001b[0m     legend\u001b[38;5;241m=\u001b[39m\u001b[38;5;124m\"\u001b[39m\u001b[38;5;124mauto\u001b[39m\u001b[38;5;124m\"\u001b[39m,\n\u001b[0;32m     65\u001b[0m ):\n\u001b[1;32m---> 67\u001b[0m     \u001b[38;5;28;43msuper\u001b[39;49m\u001b[43m(\u001b[49m\u001b[43m)\u001b[49m\u001b[38;5;241;43m.\u001b[39;49m\u001b[38;5;21;43m__init__\u001b[39;49m\u001b[43m(\u001b[49m\u001b[43mdata\u001b[49m\u001b[38;5;241;43m=\u001b[39;49m\u001b[43mdata\u001b[49m\u001b[43m,\u001b[49m\u001b[43m \u001b[49m\u001b[43mvariables\u001b[49m\u001b[38;5;241;43m=\u001b[39;49m\u001b[43mvariables\u001b[49m\u001b[43m)\u001b[49m\n\u001b[0;32m     69\u001b[0m     \u001b[38;5;66;03m# This method takes care of some bookkeeping that is necessary because the\u001b[39;00m\n\u001b[0;32m     70\u001b[0m     \u001b[38;5;66;03m# original categorical plots (prior to the 2021 refactor) had some rules that\u001b[39;00m\n\u001b[0;32m     71\u001b[0m     \u001b[38;5;66;03m# don't fit exactly into VectorPlotter logic. It may be wise to have a second\u001b[39;00m\n\u001b[1;32m   (...)\u001b[0m\n\u001b[0;32m     76\u001b[0m     \u001b[38;5;66;03m# default VectorPlotter rules. If we do decide to make orient part of the\u001b[39;00m\n\u001b[0;32m     77\u001b[0m     \u001b[38;5;66;03m# _base variable assignment, we'll want to figure out how to express that.\u001b[39;00m\n\u001b[0;32m     78\u001b[0m     \u001b[38;5;28;01mif\u001b[39;00m \u001b[38;5;28mself\u001b[39m\u001b[38;5;241m.\u001b[39minput_format \u001b[38;5;241m==\u001b[39m \u001b[38;5;124m\"\u001b[39m\u001b[38;5;124mwide\u001b[39m\u001b[38;5;124m\"\u001b[39m \u001b[38;5;129;01mand\u001b[39;00m orient \u001b[38;5;129;01min\u001b[39;00m [\u001b[38;5;124m\"\u001b[39m\u001b[38;5;124mh\u001b[39m\u001b[38;5;124m\"\u001b[39m, \u001b[38;5;124m\"\u001b[39m\u001b[38;5;124my\u001b[39m\u001b[38;5;124m\"\u001b[39m]:\n",
      "File \u001b[1;32mC:\\Python311\\Lib\\site-packages\\seaborn\\_base.py:634\u001b[0m, in \u001b[0;36mVectorPlotter.__init__\u001b[1;34m(self, data, variables)\u001b[0m\n\u001b[0;32m    629\u001b[0m \u001b[38;5;66;03m# var_ordered is relevant only for categorical axis variables, and may\u001b[39;00m\n\u001b[0;32m    630\u001b[0m \u001b[38;5;66;03m# be better handled by an internal axis information object that tracks\u001b[39;00m\n\u001b[0;32m    631\u001b[0m \u001b[38;5;66;03m# such information and is set up by the scale_* methods. The analogous\u001b[39;00m\n\u001b[0;32m    632\u001b[0m \u001b[38;5;66;03m# information for numeric axes would be information about log scales.\u001b[39;00m\n\u001b[0;32m    633\u001b[0m \u001b[38;5;28mself\u001b[39m\u001b[38;5;241m.\u001b[39m_var_ordered \u001b[38;5;241m=\u001b[39m {\u001b[38;5;124m\"\u001b[39m\u001b[38;5;124mx\u001b[39m\u001b[38;5;124m\"\u001b[39m: \u001b[38;5;28;01mFalse\u001b[39;00m, \u001b[38;5;124m\"\u001b[39m\u001b[38;5;124my\u001b[39m\u001b[38;5;124m\"\u001b[39m: \u001b[38;5;28;01mFalse\u001b[39;00m}  \u001b[38;5;66;03m# alt., used DefaultDict\u001b[39;00m\n\u001b[1;32m--> 634\u001b[0m \u001b[38;5;28;43mself\u001b[39;49m\u001b[38;5;241;43m.\u001b[39;49m\u001b[43massign_variables\u001b[49m\u001b[43m(\u001b[49m\u001b[43mdata\u001b[49m\u001b[43m,\u001b[49m\u001b[43m \u001b[49m\u001b[43mvariables\u001b[49m\u001b[43m)\u001b[49m\n\u001b[0;32m    636\u001b[0m \u001b[38;5;66;03m# TODO Lots of tests assume that these are called to initialize the\u001b[39;00m\n\u001b[0;32m    637\u001b[0m \u001b[38;5;66;03m# mappings to default values on class initialization. I'd prefer to\u001b[39;00m\n\u001b[0;32m    638\u001b[0m \u001b[38;5;66;03m# move away from that and only have a mapping when explicitly called.\u001b[39;00m\n\u001b[0;32m    639\u001b[0m \u001b[38;5;28;01mfor\u001b[39;00m var \u001b[38;5;129;01min\u001b[39;00m [\u001b[38;5;124m\"\u001b[39m\u001b[38;5;124mhue\u001b[39m\u001b[38;5;124m\"\u001b[39m, \u001b[38;5;124m\"\u001b[39m\u001b[38;5;124msize\u001b[39m\u001b[38;5;124m\"\u001b[39m, \u001b[38;5;124m\"\u001b[39m\u001b[38;5;124mstyle\u001b[39m\u001b[38;5;124m\"\u001b[39m]:\n",
      "File \u001b[1;32mC:\\Python311\\Lib\\site-packages\\seaborn\\_base.py:679\u001b[0m, in \u001b[0;36mVectorPlotter.assign_variables\u001b[1;34m(self, data, variables)\u001b[0m\n\u001b[0;32m    674\u001b[0m \u001b[38;5;28;01melse\u001b[39;00m:\n\u001b[0;32m    675\u001b[0m     \u001b[38;5;66;03m# When dealing with long-form input, use the newer PlotData\u001b[39;00m\n\u001b[0;32m    676\u001b[0m     \u001b[38;5;66;03m# object (internal but introduced for the objects interface)\u001b[39;00m\n\u001b[0;32m    677\u001b[0m     \u001b[38;5;66;03m# to centralize / standardize data consumption logic.\u001b[39;00m\n\u001b[0;32m    678\u001b[0m     \u001b[38;5;28mself\u001b[39m\u001b[38;5;241m.\u001b[39minput_format \u001b[38;5;241m=\u001b[39m \u001b[38;5;124m\"\u001b[39m\u001b[38;5;124mlong\u001b[39m\u001b[38;5;124m\"\u001b[39m\n\u001b[1;32m--> 679\u001b[0m     plot_data \u001b[38;5;241m=\u001b[39m \u001b[43mPlotData\u001b[49m\u001b[43m(\u001b[49m\u001b[43mdata\u001b[49m\u001b[43m,\u001b[49m\u001b[43m \u001b[49m\u001b[43mvariables\u001b[49m\u001b[43m)\u001b[49m\n\u001b[0;32m    680\u001b[0m     frame \u001b[38;5;241m=\u001b[39m plot_data\u001b[38;5;241m.\u001b[39mframe\n\u001b[0;32m    681\u001b[0m     names \u001b[38;5;241m=\u001b[39m plot_data\u001b[38;5;241m.\u001b[39mnames\n",
      "File \u001b[1;32mC:\\Python311\\Lib\\site-packages\\seaborn\\_core\\data.py:58\u001b[0m, in \u001b[0;36mPlotData.__init__\u001b[1;34m(self, data, variables)\u001b[0m\n\u001b[0;32m     51\u001b[0m \u001b[38;5;28;01mdef\u001b[39;00m \u001b[38;5;21m__init__\u001b[39m(\n\u001b[0;32m     52\u001b[0m     \u001b[38;5;28mself\u001b[39m,\n\u001b[0;32m     53\u001b[0m     data: DataSource,\n\u001b[0;32m     54\u001b[0m     variables: \u001b[38;5;28mdict\u001b[39m[\u001b[38;5;28mstr\u001b[39m, VariableSpec],\n\u001b[0;32m     55\u001b[0m ):\n\u001b[0;32m     57\u001b[0m     data \u001b[38;5;241m=\u001b[39m handle_data_source(data)\n\u001b[1;32m---> 58\u001b[0m     frame, names, ids \u001b[38;5;241m=\u001b[39m \u001b[38;5;28;43mself\u001b[39;49m\u001b[38;5;241;43m.\u001b[39;49m\u001b[43m_assign_variables\u001b[49m\u001b[43m(\u001b[49m\u001b[43mdata\u001b[49m\u001b[43m,\u001b[49m\u001b[43m \u001b[49m\u001b[43mvariables\u001b[49m\u001b[43m)\u001b[49m\n\u001b[0;32m     60\u001b[0m     \u001b[38;5;28mself\u001b[39m\u001b[38;5;241m.\u001b[39mframe \u001b[38;5;241m=\u001b[39m frame\n\u001b[0;32m     61\u001b[0m     \u001b[38;5;28mself\u001b[39m\u001b[38;5;241m.\u001b[39mnames \u001b[38;5;241m=\u001b[39m names\n",
      "File \u001b[1;32mC:\\Python311\\Lib\\site-packages\\seaborn\\_core\\data.py:232\u001b[0m, in \u001b[0;36mPlotData._assign_variables\u001b[1;34m(self, data, variables)\u001b[0m\n\u001b[0;32m    230\u001b[0m     \u001b[38;5;28;01melse\u001b[39;00m:\n\u001b[0;32m    231\u001b[0m         err \u001b[38;5;241m+\u001b[39m\u001b[38;5;241m=\u001b[39m \u001b[38;5;124m\"\u001b[39m\u001b[38;5;124mAn entry with this name does not appear in `data`.\u001b[39m\u001b[38;5;124m\"\u001b[39m\n\u001b[1;32m--> 232\u001b[0m     \u001b[38;5;28;01mraise\u001b[39;00m \u001b[38;5;167;01mValueError\u001b[39;00m(err)\n\u001b[0;32m    234\u001b[0m \u001b[38;5;28;01melse\u001b[39;00m:\n\u001b[0;32m    235\u001b[0m \n\u001b[0;32m    236\u001b[0m     \u001b[38;5;66;03m# Otherwise, assume the value somehow represents data\u001b[39;00m\n\u001b[0;32m    237\u001b[0m \n\u001b[0;32m    238\u001b[0m     \u001b[38;5;66;03m# Ignore empty data structures\u001b[39;00m\n\u001b[0;32m    239\u001b[0m     \u001b[38;5;28;01mif\u001b[39;00m \u001b[38;5;28misinstance\u001b[39m(val, Sized) \u001b[38;5;129;01mand\u001b[39;00m \u001b[38;5;28mlen\u001b[39m(val) \u001b[38;5;241m==\u001b[39m \u001b[38;5;241m0\u001b[39m:\n",
      "\u001b[1;31mValueError\u001b[0m: Could not interpret value `index` for `x`. An entry with this name does not appear in `data`."
     ]
    },
    {
     "data": {
      "text/plain": [
       "<Figure size 2000x500 with 0 Axes>"
      ]
     },
     "metadata": {},
     "output_type": "display_data"
    }
   ],
   "source": [
    "plt.figure(figsize=(20,5))\n",
    "ax = sns.barplot(x='index', y='counts', data=tweets_per_day,edgecolor = 'black',ci=False, palette='Blues_r')\n",
    "plt.title('Tweets count by date')\n",
    "plt.yticks([])\n",
    "ax.bar_label(ax.containers[0])\n",
    "plt.ylabel('count')\n",
    "plt.xlabel('')\n",
    "plt.show()"
   ]
  },
  {
   "cell_type": "markdown",
   "metadata": {},
   "source": [
    "We notice that in the dataset there are some days without tweets in the dataset. Among the days with tweets, most of them are made around the end of March: from 18th of Match to the 26th of March."
   ]
  },
  {
   "cell_type": "markdown",
   "metadata": {},
   "source": [
    "# Tweets per country and city"
   ]
  },
  {
   "cell_type": "code",
   "execution_count": 18,
   "metadata": {
    "_kg_hide-input": true
   },
   "outputs": [],
   "source": [
    "tweets_per_country = df['Location'].value_counts().loc[lambda x : x > 100].reset_index(name='counts')"
   ]
  },
  {
   "cell_type": "code",
   "execution_count": 19,
   "metadata": {
    "_kg_hide-input": true
   },
   "outputs": [
    {
     "name": "stderr",
     "output_type": "stream",
     "text": [
      "C:\\Users\\yuvaraj\\AppData\\Local\\Temp\\ipykernel_2948\\3314811069.py:2: FutureWarning: \n",
      "\n",
      "The `ci` parameter is deprecated. Use `errorbar=('ci', False)` for the same effect.\n",
      "\n",
      "  ax = sns.barplot(x='index', y='counts', data=tweets_per_country,edgecolor = 'black',ci=False, palette='Spectral')\n"
     ]
    },
    {
     "ename": "ValueError",
     "evalue": "Could not interpret value `index` for `x`. An entry with this name does not appear in `data`.",
     "output_type": "error",
     "traceback": [
      "\u001b[1;31m---------------------------------------------------------------------------\u001b[0m",
      "\u001b[1;31mValueError\u001b[0m                                Traceback (most recent call last)",
      "Cell \u001b[1;32mIn[19], line 2\u001b[0m\n\u001b[0;32m      1\u001b[0m plt\u001b[38;5;241m.\u001b[39mfigure(figsize\u001b[38;5;241m=\u001b[39m(\u001b[38;5;241m15\u001b[39m,\u001b[38;5;241m6\u001b[39m))\n\u001b[1;32m----> 2\u001b[0m ax \u001b[38;5;241m=\u001b[39m \u001b[43msns\u001b[49m\u001b[38;5;241;43m.\u001b[39;49m\u001b[43mbarplot\u001b[49m\u001b[43m(\u001b[49m\u001b[43mx\u001b[49m\u001b[38;5;241;43m=\u001b[39;49m\u001b[38;5;124;43m'\u001b[39;49m\u001b[38;5;124;43mindex\u001b[39;49m\u001b[38;5;124;43m'\u001b[39;49m\u001b[43m,\u001b[49m\u001b[43m \u001b[49m\u001b[43my\u001b[49m\u001b[38;5;241;43m=\u001b[39;49m\u001b[38;5;124;43m'\u001b[39;49m\u001b[38;5;124;43mcounts\u001b[39;49m\u001b[38;5;124;43m'\u001b[39;49m\u001b[43m,\u001b[49m\u001b[43m \u001b[49m\u001b[43mdata\u001b[49m\u001b[38;5;241;43m=\u001b[39;49m\u001b[43mtweets_per_country\u001b[49m\u001b[43m,\u001b[49m\u001b[43medgecolor\u001b[49m\u001b[43m \u001b[49m\u001b[38;5;241;43m=\u001b[39;49m\u001b[43m \u001b[49m\u001b[38;5;124;43m'\u001b[39;49m\u001b[38;5;124;43mblack\u001b[39;49m\u001b[38;5;124;43m'\u001b[39;49m\u001b[43m,\u001b[49m\u001b[43mci\u001b[49m\u001b[38;5;241;43m=\u001b[39;49m\u001b[38;5;28;43;01mFalse\u001b[39;49;00m\u001b[43m,\u001b[49m\u001b[43m \u001b[49m\u001b[43mpalette\u001b[49m\u001b[38;5;241;43m=\u001b[39;49m\u001b[38;5;124;43m'\u001b[39;49m\u001b[38;5;124;43mSpectral\u001b[39;49m\u001b[38;5;124;43m'\u001b[39;49m\u001b[43m)\u001b[49m\n\u001b[0;32m      3\u001b[0m plt\u001b[38;5;241m.\u001b[39mtitle(\u001b[38;5;124m'\u001b[39m\u001b[38;5;124mTweets count by country\u001b[39m\u001b[38;5;124m'\u001b[39m)\n\u001b[0;32m      4\u001b[0m plt\u001b[38;5;241m.\u001b[39mxticks(rotation\u001b[38;5;241m=\u001b[39m\u001b[38;5;241m70\u001b[39m)\n",
      "File \u001b[1;32mC:\\Python311\\Lib\\site-packages\\seaborn\\categorical.py:2341\u001b[0m, in \u001b[0;36mbarplot\u001b[1;34m(data, x, y, hue, order, hue_order, estimator, errorbar, n_boot, seed, units, weights, orient, color, palette, saturation, fill, hue_norm, width, dodge, gap, log_scale, native_scale, formatter, legend, capsize, err_kws, ci, errcolor, errwidth, ax, **kwargs)\u001b[0m\n\u001b[0;32m   2338\u001b[0m \u001b[38;5;28;01mif\u001b[39;00m estimator \u001b[38;5;129;01mis\u001b[39;00m \u001b[38;5;28mlen\u001b[39m:\n\u001b[0;32m   2339\u001b[0m     estimator \u001b[38;5;241m=\u001b[39m \u001b[38;5;124m\"\u001b[39m\u001b[38;5;124msize\u001b[39m\u001b[38;5;124m\"\u001b[39m\n\u001b[1;32m-> 2341\u001b[0m p \u001b[38;5;241m=\u001b[39m \u001b[43m_CategoricalAggPlotter\u001b[49m\u001b[43m(\u001b[49m\n\u001b[0;32m   2342\u001b[0m \u001b[43m    \u001b[49m\u001b[43mdata\u001b[49m\u001b[38;5;241;43m=\u001b[39;49m\u001b[43mdata\u001b[49m\u001b[43m,\u001b[49m\n\u001b[0;32m   2343\u001b[0m \u001b[43m    \u001b[49m\u001b[43mvariables\u001b[49m\u001b[38;5;241;43m=\u001b[39;49m\u001b[38;5;28;43mdict\u001b[39;49m\u001b[43m(\u001b[49m\u001b[43mx\u001b[49m\u001b[38;5;241;43m=\u001b[39;49m\u001b[43mx\u001b[49m\u001b[43m,\u001b[49m\u001b[43m \u001b[49m\u001b[43my\u001b[49m\u001b[38;5;241;43m=\u001b[39;49m\u001b[43my\u001b[49m\u001b[43m,\u001b[49m\u001b[43m \u001b[49m\u001b[43mhue\u001b[49m\u001b[38;5;241;43m=\u001b[39;49m\u001b[43mhue\u001b[49m\u001b[43m,\u001b[49m\u001b[43m \u001b[49m\u001b[43munits\u001b[49m\u001b[38;5;241;43m=\u001b[39;49m\u001b[43munits\u001b[49m\u001b[43m,\u001b[49m\u001b[43m \u001b[49m\u001b[43mweight\u001b[49m\u001b[38;5;241;43m=\u001b[39;49m\u001b[43mweights\u001b[49m\u001b[43m)\u001b[49m\u001b[43m,\u001b[49m\n\u001b[0;32m   2344\u001b[0m \u001b[43m    \u001b[49m\u001b[43morder\u001b[49m\u001b[38;5;241;43m=\u001b[39;49m\u001b[43morder\u001b[49m\u001b[43m,\u001b[49m\n\u001b[0;32m   2345\u001b[0m \u001b[43m    \u001b[49m\u001b[43morient\u001b[49m\u001b[38;5;241;43m=\u001b[39;49m\u001b[43morient\u001b[49m\u001b[43m,\u001b[49m\n\u001b[0;32m   2346\u001b[0m \u001b[43m    \u001b[49m\u001b[43mcolor\u001b[49m\u001b[38;5;241;43m=\u001b[39;49m\u001b[43mcolor\u001b[49m\u001b[43m,\u001b[49m\n\u001b[0;32m   2347\u001b[0m \u001b[43m    \u001b[49m\u001b[43mlegend\u001b[49m\u001b[38;5;241;43m=\u001b[39;49m\u001b[43mlegend\u001b[49m\u001b[43m,\u001b[49m\n\u001b[0;32m   2348\u001b[0m \u001b[43m\u001b[49m\u001b[43m)\u001b[49m\n\u001b[0;32m   2350\u001b[0m \u001b[38;5;28;01mif\u001b[39;00m ax \u001b[38;5;129;01mis\u001b[39;00m \u001b[38;5;28;01mNone\u001b[39;00m:\n\u001b[0;32m   2351\u001b[0m     ax \u001b[38;5;241m=\u001b[39m plt\u001b[38;5;241m.\u001b[39mgca()\n",
      "File \u001b[1;32mC:\\Python311\\Lib\\site-packages\\seaborn\\categorical.py:67\u001b[0m, in \u001b[0;36m_CategoricalPlotter.__init__\u001b[1;34m(self, data, variables, order, orient, require_numeric, color, legend)\u001b[0m\n\u001b[0;32m     56\u001b[0m \u001b[38;5;28;01mdef\u001b[39;00m \u001b[38;5;21m__init__\u001b[39m(\n\u001b[0;32m     57\u001b[0m     \u001b[38;5;28mself\u001b[39m,\n\u001b[0;32m     58\u001b[0m     data\u001b[38;5;241m=\u001b[39m\u001b[38;5;28;01mNone\u001b[39;00m,\n\u001b[1;32m   (...)\u001b[0m\n\u001b[0;32m     64\u001b[0m     legend\u001b[38;5;241m=\u001b[39m\u001b[38;5;124m\"\u001b[39m\u001b[38;5;124mauto\u001b[39m\u001b[38;5;124m\"\u001b[39m,\n\u001b[0;32m     65\u001b[0m ):\n\u001b[1;32m---> 67\u001b[0m     \u001b[38;5;28;43msuper\u001b[39;49m\u001b[43m(\u001b[49m\u001b[43m)\u001b[49m\u001b[38;5;241;43m.\u001b[39;49m\u001b[38;5;21;43m__init__\u001b[39;49m\u001b[43m(\u001b[49m\u001b[43mdata\u001b[49m\u001b[38;5;241;43m=\u001b[39;49m\u001b[43mdata\u001b[49m\u001b[43m,\u001b[49m\u001b[43m \u001b[49m\u001b[43mvariables\u001b[49m\u001b[38;5;241;43m=\u001b[39;49m\u001b[43mvariables\u001b[49m\u001b[43m)\u001b[49m\n\u001b[0;32m     69\u001b[0m     \u001b[38;5;66;03m# This method takes care of some bookkeeping that is necessary because the\u001b[39;00m\n\u001b[0;32m     70\u001b[0m     \u001b[38;5;66;03m# original categorical plots (prior to the 2021 refactor) had some rules that\u001b[39;00m\n\u001b[0;32m     71\u001b[0m     \u001b[38;5;66;03m# don't fit exactly into VectorPlotter logic. It may be wise to have a second\u001b[39;00m\n\u001b[1;32m   (...)\u001b[0m\n\u001b[0;32m     76\u001b[0m     \u001b[38;5;66;03m# default VectorPlotter rules. If we do decide to make orient part of the\u001b[39;00m\n\u001b[0;32m     77\u001b[0m     \u001b[38;5;66;03m# _base variable assignment, we'll want to figure out how to express that.\u001b[39;00m\n\u001b[0;32m     78\u001b[0m     \u001b[38;5;28;01mif\u001b[39;00m \u001b[38;5;28mself\u001b[39m\u001b[38;5;241m.\u001b[39minput_format \u001b[38;5;241m==\u001b[39m \u001b[38;5;124m\"\u001b[39m\u001b[38;5;124mwide\u001b[39m\u001b[38;5;124m\"\u001b[39m \u001b[38;5;129;01mand\u001b[39;00m orient \u001b[38;5;129;01min\u001b[39;00m [\u001b[38;5;124m\"\u001b[39m\u001b[38;5;124mh\u001b[39m\u001b[38;5;124m\"\u001b[39m, \u001b[38;5;124m\"\u001b[39m\u001b[38;5;124my\u001b[39m\u001b[38;5;124m\"\u001b[39m]:\n",
      "File \u001b[1;32mC:\\Python311\\Lib\\site-packages\\seaborn\\_base.py:634\u001b[0m, in \u001b[0;36mVectorPlotter.__init__\u001b[1;34m(self, data, variables)\u001b[0m\n\u001b[0;32m    629\u001b[0m \u001b[38;5;66;03m# var_ordered is relevant only for categorical axis variables, and may\u001b[39;00m\n\u001b[0;32m    630\u001b[0m \u001b[38;5;66;03m# be better handled by an internal axis information object that tracks\u001b[39;00m\n\u001b[0;32m    631\u001b[0m \u001b[38;5;66;03m# such information and is set up by the scale_* methods. The analogous\u001b[39;00m\n\u001b[0;32m    632\u001b[0m \u001b[38;5;66;03m# information for numeric axes would be information about log scales.\u001b[39;00m\n\u001b[0;32m    633\u001b[0m \u001b[38;5;28mself\u001b[39m\u001b[38;5;241m.\u001b[39m_var_ordered \u001b[38;5;241m=\u001b[39m {\u001b[38;5;124m\"\u001b[39m\u001b[38;5;124mx\u001b[39m\u001b[38;5;124m\"\u001b[39m: \u001b[38;5;28;01mFalse\u001b[39;00m, \u001b[38;5;124m\"\u001b[39m\u001b[38;5;124my\u001b[39m\u001b[38;5;124m\"\u001b[39m: \u001b[38;5;28;01mFalse\u001b[39;00m}  \u001b[38;5;66;03m# alt., used DefaultDict\u001b[39;00m\n\u001b[1;32m--> 634\u001b[0m \u001b[38;5;28;43mself\u001b[39;49m\u001b[38;5;241;43m.\u001b[39;49m\u001b[43massign_variables\u001b[49m\u001b[43m(\u001b[49m\u001b[43mdata\u001b[49m\u001b[43m,\u001b[49m\u001b[43m \u001b[49m\u001b[43mvariables\u001b[49m\u001b[43m)\u001b[49m\n\u001b[0;32m    636\u001b[0m \u001b[38;5;66;03m# TODO Lots of tests assume that these are called to initialize the\u001b[39;00m\n\u001b[0;32m    637\u001b[0m \u001b[38;5;66;03m# mappings to default values on class initialization. I'd prefer to\u001b[39;00m\n\u001b[0;32m    638\u001b[0m \u001b[38;5;66;03m# move away from that and only have a mapping when explicitly called.\u001b[39;00m\n\u001b[0;32m    639\u001b[0m \u001b[38;5;28;01mfor\u001b[39;00m var \u001b[38;5;129;01min\u001b[39;00m [\u001b[38;5;124m\"\u001b[39m\u001b[38;5;124mhue\u001b[39m\u001b[38;5;124m\"\u001b[39m, \u001b[38;5;124m\"\u001b[39m\u001b[38;5;124msize\u001b[39m\u001b[38;5;124m\"\u001b[39m, \u001b[38;5;124m\"\u001b[39m\u001b[38;5;124mstyle\u001b[39m\u001b[38;5;124m\"\u001b[39m]:\n",
      "File \u001b[1;32mC:\\Python311\\Lib\\site-packages\\seaborn\\_base.py:679\u001b[0m, in \u001b[0;36mVectorPlotter.assign_variables\u001b[1;34m(self, data, variables)\u001b[0m\n\u001b[0;32m    674\u001b[0m \u001b[38;5;28;01melse\u001b[39;00m:\n\u001b[0;32m    675\u001b[0m     \u001b[38;5;66;03m# When dealing with long-form input, use the newer PlotData\u001b[39;00m\n\u001b[0;32m    676\u001b[0m     \u001b[38;5;66;03m# object (internal but introduced for the objects interface)\u001b[39;00m\n\u001b[0;32m    677\u001b[0m     \u001b[38;5;66;03m# to centralize / standardize data consumption logic.\u001b[39;00m\n\u001b[0;32m    678\u001b[0m     \u001b[38;5;28mself\u001b[39m\u001b[38;5;241m.\u001b[39minput_format \u001b[38;5;241m=\u001b[39m \u001b[38;5;124m\"\u001b[39m\u001b[38;5;124mlong\u001b[39m\u001b[38;5;124m\"\u001b[39m\n\u001b[1;32m--> 679\u001b[0m     plot_data \u001b[38;5;241m=\u001b[39m \u001b[43mPlotData\u001b[49m\u001b[43m(\u001b[49m\u001b[43mdata\u001b[49m\u001b[43m,\u001b[49m\u001b[43m \u001b[49m\u001b[43mvariables\u001b[49m\u001b[43m)\u001b[49m\n\u001b[0;32m    680\u001b[0m     frame \u001b[38;5;241m=\u001b[39m plot_data\u001b[38;5;241m.\u001b[39mframe\n\u001b[0;32m    681\u001b[0m     names \u001b[38;5;241m=\u001b[39m plot_data\u001b[38;5;241m.\u001b[39mnames\n",
      "File \u001b[1;32mC:\\Python311\\Lib\\site-packages\\seaborn\\_core\\data.py:58\u001b[0m, in \u001b[0;36mPlotData.__init__\u001b[1;34m(self, data, variables)\u001b[0m\n\u001b[0;32m     51\u001b[0m \u001b[38;5;28;01mdef\u001b[39;00m \u001b[38;5;21m__init__\u001b[39m(\n\u001b[0;32m     52\u001b[0m     \u001b[38;5;28mself\u001b[39m,\n\u001b[0;32m     53\u001b[0m     data: DataSource,\n\u001b[0;32m     54\u001b[0m     variables: \u001b[38;5;28mdict\u001b[39m[\u001b[38;5;28mstr\u001b[39m, VariableSpec],\n\u001b[0;32m     55\u001b[0m ):\n\u001b[0;32m     57\u001b[0m     data \u001b[38;5;241m=\u001b[39m handle_data_source(data)\n\u001b[1;32m---> 58\u001b[0m     frame, names, ids \u001b[38;5;241m=\u001b[39m \u001b[38;5;28;43mself\u001b[39;49m\u001b[38;5;241;43m.\u001b[39;49m\u001b[43m_assign_variables\u001b[49m\u001b[43m(\u001b[49m\u001b[43mdata\u001b[49m\u001b[43m,\u001b[49m\u001b[43m \u001b[49m\u001b[43mvariables\u001b[49m\u001b[43m)\u001b[49m\n\u001b[0;32m     60\u001b[0m     \u001b[38;5;28mself\u001b[39m\u001b[38;5;241m.\u001b[39mframe \u001b[38;5;241m=\u001b[39m frame\n\u001b[0;32m     61\u001b[0m     \u001b[38;5;28mself\u001b[39m\u001b[38;5;241m.\u001b[39mnames \u001b[38;5;241m=\u001b[39m names\n",
      "File \u001b[1;32mC:\\Python311\\Lib\\site-packages\\seaborn\\_core\\data.py:232\u001b[0m, in \u001b[0;36mPlotData._assign_variables\u001b[1;34m(self, data, variables)\u001b[0m\n\u001b[0;32m    230\u001b[0m     \u001b[38;5;28;01melse\u001b[39;00m:\n\u001b[0;32m    231\u001b[0m         err \u001b[38;5;241m+\u001b[39m\u001b[38;5;241m=\u001b[39m \u001b[38;5;124m\"\u001b[39m\u001b[38;5;124mAn entry with this name does not appear in `data`.\u001b[39m\u001b[38;5;124m\"\u001b[39m\n\u001b[1;32m--> 232\u001b[0m     \u001b[38;5;28;01mraise\u001b[39;00m \u001b[38;5;167;01mValueError\u001b[39;00m(err)\n\u001b[0;32m    234\u001b[0m \u001b[38;5;28;01melse\u001b[39;00m:\n\u001b[0;32m    235\u001b[0m \n\u001b[0;32m    236\u001b[0m     \u001b[38;5;66;03m# Otherwise, assume the value somehow represents data\u001b[39;00m\n\u001b[0;32m    237\u001b[0m \n\u001b[0;32m    238\u001b[0m     \u001b[38;5;66;03m# Ignore empty data structures\u001b[39;00m\n\u001b[0;32m    239\u001b[0m     \u001b[38;5;28;01mif\u001b[39;00m \u001b[38;5;28misinstance\u001b[39m(val, Sized) \u001b[38;5;129;01mand\u001b[39;00m \u001b[38;5;28mlen\u001b[39m(val) \u001b[38;5;241m==\u001b[39m \u001b[38;5;241m0\u001b[39m:\n",
      "\u001b[1;31mValueError\u001b[0m: Could not interpret value `index` for `x`. An entry with this name does not appear in `data`."
     ]
    },
    {
     "data": {
      "text/plain": [
       "<Figure size 1500x600 with 0 Axes>"
      ]
     },
     "metadata": {},
     "output_type": "display_data"
    }
   ],
   "source": [
    "plt.figure(figsize=(15,6))\n",
    "ax = sns.barplot(x='index', y='counts', data=tweets_per_country,edgecolor = 'black',ci=False, palette='Spectral')\n",
    "plt.title('Tweets count by country')\n",
    "plt.xticks(rotation=70)\n",
    "plt.yticks([])\n",
    "ax.bar_label(ax.containers[0])\n",
    "plt.ylabel('count')\n",
    "plt.xlabel('')\n",
    "plt.show()"
   ]
  },
  {
   "cell_type": "markdown",
   "metadata": {},
   "source": [
    "The 'location' column contains both countries and cities. It could be interesting to separate cities and countries, however this wont be investigated in this work."
   ]
  },
  {
   "cell_type": "markdown",
   "metadata": {},
   "source": [
    "# Tweets Deep Cleaning"
   ]
  },
  {
   "cell_type": "markdown",
   "metadata": {},
   "source": [
    "In the following, we will perform some data cleaning on the raw text of the tweets.<br>\n",
    "To simplify the analaysis, we will just keep the columns 'Originaltweet' (raw tweets) and the target column 'Sentiment'."
   ]
  },
  {
   "cell_type": "code",
   "execution_count": 20,
   "metadata": {},
   "outputs": [],
   "source": [
    "df = df[['OriginalTweet','Sentiment']]"
   ]
  },
  {
   "cell_type": "code",
   "execution_count": 21,
   "metadata": {},
   "outputs": [],
   "source": [
    "df_test = df_test[['OriginalTweet','Sentiment']]"
   ]
  },
  {
   "cell_type": "markdown",
   "metadata": {},
   "source": [
    "**Then we define custom functions to clean the text of the tweets.**"
   ]
  },
  {
   "cell_type": "code",
   "execution_count": 22,
   "metadata": {},
   "outputs": [],
   "source": [
    "##CUSTOM DEFINED FUNCTIONS TO CLEAN THE TWEETS\n",
    "\n",
    "#Clean emojis from text\n",
    "def strip_emoji(text):\n",
    "    return re.sub(emoji.get_emoji_regexp(), r\"\", text) #remove emoji\n",
    "\n",
    "#Remove punctuations, links, mentions and \\r\\n new line characters\n",
    "def strip_all_entities(text): \n",
    "    text = text.replace('\\r', '').replace('\\n', ' ').replace('\\n', ' ').lower() #remove \\n and \\r and lowercase\n",
    "    text = re.sub(r\"(?:\\@|https?\\://)\\S+\", \"\", text) #remove links and mentions\n",
    "    text = re.sub(r'[^\\x00-\\x7f]',r'', text) #remove non utf8/ascii characters such as '\\x9a\\x91\\x97\\x9a\\x97'\n",
    "    banned_list= string.punctuation + 'Ã'+'±'+'ã'+'¼'+'â'+'»'+'§'\n",
    "    table = str.maketrans('', '', banned_list)\n",
    "    text = text.translate(table)\n",
    "    return text\n",
    "\n",
    "#clean hashtags at the end of the sentence, and keep those in the middle of the sentence by removing just the # symbol\n",
    "def clean_hashtags(tweet):\n",
    "    new_tweet = \" \".join(word.strip() for word in re.split('#(?!(?:hashtag)\\b)[\\w-]+(?=(?:\\s+#[\\w-]+)*\\s*$)', tweet)) #remove last hashtags\n",
    "    new_tweet2 = \" \".join(word.strip() for word in re.split('#|_', new_tweet)) #remove hashtags symbol from words in the middle of the sentence\n",
    "    return new_tweet2\n",
    "\n",
    "#Filter special characters such as & and $ present in some words\n",
    "def filter_chars(a):\n",
    "    sent = []\n",
    "    for word in a.split(' '):\n",
    "        if ('$' in word) | ('&' in word):\n",
    "            sent.append('')\n",
    "        else:\n",
    "            sent.append(word)\n",
    "    return ' '.join(sent)\n",
    "\n",
    "def remove_mult_spaces(text): # remove multiple spaces\n",
    "    return re.sub(\"\\s\\s+\" , \" \", text)"
   ]
  },
  {
   "cell_type": "code",
   "execution_count": 23,
   "metadata": {},
   "outputs": [
    {
     "ename": "AttributeError",
     "evalue": "module 'emoji' has no attribute 'get_emoji_regexp'",
     "output_type": "error",
     "traceback": [
      "\u001b[1;31m---------------------------------------------------------------------------\u001b[0m",
      "\u001b[1;31mAttributeError\u001b[0m                            Traceback (most recent call last)",
      "Cell \u001b[1;32mIn[23], line 3\u001b[0m\n\u001b[0;32m      1\u001b[0m texts_new \u001b[38;5;241m=\u001b[39m []\n\u001b[0;32m      2\u001b[0m \u001b[38;5;28;01mfor\u001b[39;00m t \u001b[38;5;129;01min\u001b[39;00m df\u001b[38;5;241m.\u001b[39mOriginalTweet:\n\u001b[1;32m----> 3\u001b[0m     texts_new\u001b[38;5;241m.\u001b[39mappend(remove_mult_spaces(filter_chars(clean_hashtags(strip_all_entities(\u001b[43mstrip_emoji\u001b[49m\u001b[43m(\u001b[49m\u001b[43mt\u001b[49m\u001b[43m)\u001b[49m)))))\n",
      "Cell \u001b[1;32mIn[22], line 5\u001b[0m, in \u001b[0;36mstrip_emoji\u001b[1;34m(text)\u001b[0m\n\u001b[0;32m      4\u001b[0m \u001b[38;5;28;01mdef\u001b[39;00m \u001b[38;5;21mstrip_emoji\u001b[39m(text):\n\u001b[1;32m----> 5\u001b[0m     \u001b[38;5;28;01mreturn\u001b[39;00m re\u001b[38;5;241m.\u001b[39msub(\u001b[43memoji\u001b[49m\u001b[38;5;241;43m.\u001b[39;49m\u001b[43mget_emoji_regexp\u001b[49m(), \u001b[38;5;124mr\u001b[39m\u001b[38;5;124m\"\u001b[39m\u001b[38;5;124m\"\u001b[39m, text)\n",
      "\u001b[1;31mAttributeError\u001b[0m: module 'emoji' has no attribute 'get_emoji_regexp'"
     ]
    }
   ],
   "source": [
    "texts_new = []\n",
    "for t in df.OriginalTweet:\n",
    "    texts_new.append(remove_mult_spaces(filter_chars(clean_hashtags(strip_all_entities(strip_emoji(t))))))"
   ]
  },
  {
   "cell_type": "code",
   "execution_count": 102,
   "metadata": {
    "execution": {
     "iopub.execute_input": "2021-12-22T21:16:17.871709Z",
     "iopub.status.busy": "2021-12-22T21:16:17.871222Z",
     "iopub.status.idle": "2021-12-22T21:16:23.197999Z",
     "shell.execute_reply": "2021-12-22T21:16:23.197295Z",
     "shell.execute_reply.started": "2021-12-22T21:16:17.871667Z"
    }
   },
   "outputs": [],
   "source": [
    "texts_new_test = []\n",
    "for t in df_test.OriginalTweet:\n",
    "    texts_new_test.append(remove_mult_spaces(filter_chars(clean_hashtags(strip_all_entities(strip_emoji(t))))))"
   ]
  },
  {
   "cell_type": "markdown",
   "metadata": {},
   "source": [
    "Now we can create a new column, for both train and test sets, to host the cleaned version of the tweets' text."
   ]
  },
  {
   "cell_type": "code",
   "execution_count": 103,
   "metadata": {
    "execution": {
     "iopub.execute_input": "2021-12-22T21:16:23.199648Z",
     "iopub.status.busy": "2021-12-22T21:16:23.199371Z",
     "iopub.status.idle": "2021-12-22T21:16:23.212118Z",
     "shell.execute_reply": "2021-12-22T21:16:23.211257Z",
     "shell.execute_reply.started": "2021-12-22T21:16:23.199614Z"
    }
   },
   "outputs": [],
   "source": [
    "df['text_clean'] = texts_new\n",
    "df_test['text_clean'] = texts_new_test"
   ]
  },
  {
   "cell_type": "code",
   "execution_count": 104,
   "metadata": {
    "execution": {
     "iopub.execute_input": "2021-12-22T21:16:23.213745Z",
     "iopub.status.busy": "2021-12-22T21:16:23.213498Z",
     "iopub.status.idle": "2021-12-22T21:16:23.227327Z",
     "shell.execute_reply": "2021-12-22T21:16:23.226641Z",
     "shell.execute_reply.started": "2021-12-22T21:16:23.213708Z"
    }
   },
   "outputs": [
    {
     "data": {
      "text/plain": [
       "0                                              and and\n",
       "1    advice talk to your neighbours family to excha...\n",
       "2    coronavirus australia woolworths to give elder...\n",
       "3    my food stock is not the only one which is emp...\n",
       "4    me ready to go at supermarket during the covid...\n",
       "Name: text_clean, dtype: object"
      ]
     },
     "execution_count": 104,
     "metadata": {},
     "output_type": "execute_result"
    }
   ],
   "source": [
    "df['text_clean'].head()"
   ]
  },
  {
   "cell_type": "code",
   "execution_count": 105,
   "metadata": {
    "execution": {
     "iopub.execute_input": "2021-12-22T21:16:23.232676Z",
     "iopub.status.busy": "2021-12-22T21:16:23.232295Z",
     "iopub.status.idle": "2021-12-22T21:16:23.239727Z",
     "shell.execute_reply": "2021-12-22T21:16:23.239023Z",
     "shell.execute_reply.started": "2021-12-22T21:16:23.232647Z"
    }
   },
   "outputs": [
    {
     "data": {
      "text/plain": [
       "0    trending new yorkers encounter empty supermark...\n",
       "1    when i couldnt find hand sanitizer at fred mey...\n",
       "2    find out how you can protect yourself and love...\n",
       "3    panic buying hits newyork city as anxious shop...\n",
       "4    toiletpaper dunnypaper coronavirus coronavirus...\n",
       "Name: text_clean, dtype: object"
      ]
     },
     "execution_count": 105,
     "metadata": {},
     "output_type": "execute_result"
    }
   ],
   "source": [
    "df_test['text_clean'].head()"
   ]
  },
  {
   "cell_type": "code",
   "execution_count": 106,
   "metadata": {
    "execution": {
     "iopub.execute_input": "2021-12-22T21:16:23.241499Z",
     "iopub.status.busy": "2021-12-22T21:16:23.241001Z",
     "iopub.status.idle": "2021-12-22T21:16:23.250236Z",
     "shell.execute_reply": "2021-12-22T21:16:23.249487Z",
     "shell.execute_reply.started": "2021-12-22T21:16:23.241461Z"
    }
   },
   "outputs": [
    {
     "data": {
      "text/plain": [
       "array(['advice talk to your neighbours family to exchange phone numbers create contact list with phone numbers of neighbours schools employer chemist gp set up online shopping accounts if poss adequate supplies of regular meds but not over order',\n",
       "       'coronavirus australia woolworths to give elderly disabled dedicated shopping hours amid covid19 outbreak',\n",
       "       'my food stock is not the only one which is empty please dont panic there will be enough food for everyone if you do not take more than you need stay calm stay safe covid19france covid19 covid19 coronavirus confinement confinementotal confinementgeneral',\n",
       "       'me ready to go at supermarket during the covid19 outbreak not because im paranoid but because my food stock is litteraly empty the coronavirus is a serious thing but please dont panic it causes shortage coronavirusfrance restezchezvous stayathome confinement',\n",
       "       'as news of the regions first confirmed covid19 case came out of sullivan county last week people flocked to area stores to purchase cleaning supplies hand sanitizer food toilet paper and other goods reports',\n",
       "       'cashier at grocery store was sharing his insights on covid19 to prove his credibility he commented im in civics class so i know what im talking about',\n",
       "       'was at the supermarket today didnt buy toilet paper rebel toiletpapercrisis covid19'],\n",
       "      dtype=object)"
      ]
     },
     "execution_count": 106,
     "metadata": {},
     "output_type": "execute_result"
    }
   ],
   "source": [
    "df['text_clean'][1:8].values"
   ]
  },
  {
   "cell_type": "markdown",
   "metadata": {},
   "source": [
    "Moreover, we will also create a column to host the lenght of the cleaned text, to check if by cleaning the text we removed too much text or almost entirely the tweet!"
   ]
  },
  {
   "cell_type": "code",
   "execution_count": 107,
   "metadata": {
    "execution": {
     "iopub.execute_input": "2021-12-22T21:16:23.253023Z",
     "iopub.status.busy": "2021-12-22T21:16:23.252435Z",
     "iopub.status.idle": "2021-12-22T21:16:23.346853Z",
     "shell.execute_reply": "2021-12-22T21:16:23.346251Z",
     "shell.execute_reply.started": "2021-12-22T21:16:23.252986Z"
    }
   },
   "outputs": [],
   "source": [
    "text_len = []\n",
    "for text in df.text_clean:\n",
    "    tweet_len = len(text.split())\n",
    "    text_len.append(tweet_len)"
   ]
  },
  {
   "cell_type": "code",
   "execution_count": 108,
   "metadata": {
    "execution": {
     "iopub.execute_input": "2021-12-22T21:16:23.348129Z",
     "iopub.status.busy": "2021-12-22T21:16:23.347901Z",
     "iopub.status.idle": "2021-12-22T21:16:23.369365Z",
     "shell.execute_reply": "2021-12-22T21:16:23.368729Z",
     "shell.execute_reply.started": "2021-12-22T21:16:23.348096Z"
    }
   },
   "outputs": [],
   "source": [
    "df['text_len'] = text_len"
   ]
  },
  {
   "cell_type": "code",
   "execution_count": 109,
   "metadata": {
    "execution": {
     "iopub.execute_input": "2021-12-22T21:16:23.371086Z",
     "iopub.status.busy": "2021-12-22T21:16:23.370787Z",
     "iopub.status.idle": "2021-12-22T21:16:23.387455Z",
     "shell.execute_reply": "2021-12-22T21:16:23.386622Z",
     "shell.execute_reply.started": "2021-12-22T21:16:23.371047Z"
    }
   },
   "outputs": [],
   "source": [
    "text_len_test = []\n",
    "for text in df_test.text_clean:\n",
    "    tweet_len = len(text.split())\n",
    "    text_len_test.append(tweet_len)"
   ]
  },
  {
   "cell_type": "code",
   "execution_count": 110,
   "metadata": {
    "execution": {
     "iopub.execute_input": "2021-12-22T21:16:23.389440Z",
     "iopub.status.busy": "2021-12-22T21:16:23.388853Z",
     "iopub.status.idle": "2021-12-22T21:16:23.398823Z",
     "shell.execute_reply": "2021-12-22T21:16:23.398101Z",
     "shell.execute_reply.started": "2021-12-22T21:16:23.389402Z"
    }
   },
   "outputs": [],
   "source": [
    "df_test['text_len'] = text_len_test"
   ]
  },
  {
   "cell_type": "code",
   "execution_count": 111,
   "metadata": {
    "_kg_hide-input": true,
    "execution": {
     "iopub.execute_input": "2021-12-22T21:16:23.400721Z",
     "iopub.status.busy": "2021-12-22T21:16:23.400127Z",
     "iopub.status.idle": "2021-12-22T21:16:23.670878Z",
     "shell.execute_reply": "2021-12-22T21:16:23.670210Z",
     "shell.execute_reply.started": "2021-12-22T21:16:23.400676Z"
    }
   },
   "outputs": [
    {
     "data": {
      "image/png": "[encoded data removed]",
      "text/plain": [
       "<Figure size 504x360 with 1 Axes>"
      ]
     },
     "metadata": {},
     "output_type": "display_data"
    }
   ],
   "source": [
    "plt.figure(figsize=(7,5))\n",
    "ax = sns.countplot(x='text_len', data=df[df['text_len']<10], palette='mako')\n",
    "plt.title('Training tweets with less than 10 words')\n",
    "plt.yticks([])\n",
    "ax.bar_label(ax.containers[0])\n",
    "plt.ylabel('count')\n",
    "plt.xlabel('')\n",
    "plt.show()"
   ]
  },
  {
   "cell_type": "code",
   "execution_count": 112,
   "metadata": {
    "_kg_hide-input": true,
    "execution": {
     "iopub.execute_input": "2021-12-22T21:16:23.672665Z",
     "iopub.status.busy": "2021-12-22T21:16:23.672187Z",
     "iopub.status.idle": "2021-12-22T21:16:23.926009Z",
     "shell.execute_reply": "2021-12-22T21:16:23.925218Z",
     "shell.execute_reply.started": "2021-12-22T21:16:23.672624Z"
    }
   },
   "outputs": [
    {
     "data": {
      "image/png": "[encoded data removed]",
      "text/plain": [
       "<Figure size 504x360 with 1 Axes>"
      ]
     },
     "metadata": {},
     "output_type": "display_data"
    }
   ],
   "source": [
    "plt.figure(figsize=(7,5))\n",
    "ax = sns.countplot(x='text_len', data=df_test[df_test['text_len']<10], palette='mako')\n",
    "plt.title('Test tweets with less than 10 words')\n",
    "plt.yticks([])\n",
    "ax.bar_label(ax.containers[0])\n",
    "plt.ylabel('count')\n",
    "plt.xlabel('')\n",
    "plt.show()"
   ]
  },
  {
   "cell_type": "markdown",
   "metadata": {},
   "source": [
    "As we can see, there are lots of cleaned tweets with 0 words: this is due to the cleaning performed before. This means that some tweets contained only mentions, hashtags and links, which have been removed. We will drop these empty tweets and also those with less than 5 words."
   ]
  },
  {
   "cell_type": "code",
   "execution_count": 113,
   "metadata": {
    "execution": {
     "iopub.execute_input": "2021-12-22T21:16:23.927515Z",
     "iopub.status.busy": "2021-12-22T21:16:23.927254Z",
     "iopub.status.idle": "2021-12-22T21:16:23.935987Z",
     "shell.execute_reply": "2021-12-22T21:16:23.935269Z",
     "shell.execute_reply.started": "2021-12-22T21:16:23.927480Z"
    }
   },
   "outputs": [
    {
     "name": "stdout",
     "output_type": "stream",
     "text": [
      " DF SHAPE: (41157, 4)\n",
      " DF TEST SHAPE: (3798, 4)\n"
     ]
    }
   ],
   "source": [
    "print(f\" DF SHAPE: {df.shape}\")\n",
    "print(f\" DF TEST SHAPE: {df_test.shape}\")"
   ]
  },
  {
   "cell_type": "code",
   "execution_count": 114,
   "metadata": {
    "execution": {
     "iopub.execute_input": "2021-12-22T21:16:23.937742Z",
     "iopub.status.busy": "2021-12-22T21:16:23.937463Z",
     "iopub.status.idle": "2021-12-22T21:16:23.947934Z",
     "shell.execute_reply": "2021-12-22T21:16:23.947188Z",
     "shell.execute_reply.started": "2021-12-22T21:16:23.937695Z"
    }
   },
   "outputs": [],
   "source": [
    "df = df[df['text_len'] > 4]"
   ]
  },
  {
   "cell_type": "code",
   "execution_count": 115,
   "metadata": {
    "execution": {
     "iopub.execute_input": "2021-12-22T21:16:23.949722Z",
     "iopub.status.busy": "2021-12-22T21:16:23.949457Z",
     "iopub.status.idle": "2021-12-22T21:16:23.956516Z",
     "shell.execute_reply": "2021-12-22T21:16:23.955817Z",
     "shell.execute_reply.started": "2021-12-22T21:16:23.949679Z"
    }
   },
   "outputs": [],
   "source": [
    "df_test = df_test[df_test['text_len'] > 4]"
   ]
  },
  {
   "cell_type": "code",
   "execution_count": 116,
   "metadata": {
    "execution": {
     "iopub.execute_input": "2021-12-22T21:16:23.958147Z",
     "iopub.status.busy": "2021-12-22T21:16:23.957889Z",
     "iopub.status.idle": "2021-12-22T21:16:23.965132Z",
     "shell.execute_reply": "2021-12-22T21:16:23.964401Z",
     "shell.execute_reply.started": "2021-12-22T21:16:23.958113Z"
    }
   },
   "outputs": [
    {
     "name": "stdout",
     "output_type": "stream",
     "text": [
      " DF SHAPE: (40935, 4)\n",
      " DF TEST SHAPE: (3792, 4)\n"
     ]
    }
   ],
   "source": [
    "print(f\" DF SHAPE: {df.shape}\")\n",
    "print(f\" DF TEST SHAPE: {df_test.shape}\")"
   ]
  },
  {
   "cell_type": "markdown",
   "metadata": {},
   "source": [
    "## Training data deeper cleaning"
   ]
  },
  {
   "cell_type": "markdown",
   "metadata": {},
   "source": [
    "Let's perform a further cleaning checking the tokenizer version of the sentences."
   ]
  },
  {
   "cell_type": "markdown",
   "metadata": {},
   "source": [
    "First, we import the BERT tokenizer."
   ]
  },
  {
   "cell_type": "code",
   "execution_count": 117,
   "metadata": {
    "_kg_hide-output": true,
    "execution": {
     "iopub.execute_input": "2021-12-22T21:16:23.966874Z",
     "iopub.status.busy": "2021-12-22T21:16:23.966349Z",
     "iopub.status.idle": "2021-12-22T21:16:30.505565Z",
     "shell.execute_reply": "2021-12-22T21:16:30.504847Z",
     "shell.execute_reply.started": "2021-12-22T21:16:23.966837Z"
    }
   },
   "outputs": [],
   "source": [
    "tokenizer = BertTokenizerFast.from_pretrained('bert-base-uncased')"
   ]
  },
  {
   "cell_type": "code",
   "execution_count": 118,
   "metadata": {
    "execution": {
     "iopub.execute_input": "2021-12-22T21:16:30.507117Z",
     "iopub.status.busy": "2021-12-22T21:16:30.506822Z",
     "iopub.status.idle": "2021-12-22T21:16:38.608135Z",
     "shell.execute_reply": "2021-12-22T21:16:38.607250Z",
     "shell.execute_reply.started": "2021-12-22T21:16:30.507082Z"
    }
   },
   "outputs": [],
   "source": [
    "token_lens = []\n",
    "\n",
    "for txt in df['text_clean'].values:\n",
    "    tokens = tokenizer.encode(txt, max_length=512, truncation=True)\n",
    "    token_lens.append(len(tokens))\n",
    "    \n",
    "max_len=np.max(token_lens)"
   ]
  },
  {
   "cell_type": "code",
   "execution_count": 119,
   "metadata": {
    "execution": {
     "iopub.execute_input": "2021-12-22T21:16:38.614497Z",
     "iopub.status.busy": "2021-12-22T21:16:38.612489Z",
     "iopub.status.idle": "2021-12-22T21:16:38.622543Z",
     "shell.execute_reply": "2021-12-22T21:16:38.621788Z",
     "shell.execute_reply.started": "2021-12-22T21:16:38.614458Z"
    }
   },
   "outputs": [
    {
     "name": "stdout",
     "output_type": "stream",
     "text": [
      "MAX TOKENIZED SENTENCE LENGTH: 100\n"
     ]
    }
   ],
   "source": [
    "print(f\"MAX TOKENIZED SENTENCE LENGTH: {max_len}\")"
   ]
  },
  {
   "cell_type": "markdown",
   "metadata": {
    "execution": {
     "iopub.execute_input": "2021-12-07T12:49:48.842301Z",
     "iopub.status.busy": "2021-12-07T12:49:48.842045Z",
     "iopub.status.idle": "2021-12-07T12:49:48.848445Z",
     "shell.execute_reply": "2021-12-07T12:49:48.847098Z",
     "shell.execute_reply.started": "2021-12-07T12:49:48.842267Z"
    }
   },
   "source": [
    "Let's check the long tokenized sentences (with more than 80 tokens ):"
   ]
  },
  {
   "cell_type": "code",
   "execution_count": 120,
   "metadata": {
    "execution": {
     "iopub.execute_input": "2021-12-22T21:16:38.627927Z",
     "iopub.status.busy": "2021-12-22T21:16:38.627275Z",
     "iopub.status.idle": "2021-12-22T21:16:45.918973Z",
     "shell.execute_reply": "2021-12-22T21:16:45.918256Z",
     "shell.execute_reply.started": "2021-12-22T21:16:38.627890Z"
    }
   },
   "outputs": [
    {
     "name": "stdout",
     "output_type": "stream",
     "text": [
      "INDEX: 1622, TEXT: zsah policie proti spekulantm s roukami na mj popud hejtman steckho kraje ve spoluprci s podle krizovho zkona zajistil tm 700 tisrouek od firmy kter je mla dodat na zdravotnkm ale na posledn chvli se snaila navyovat cenu spolutozvladneme\n",
      "INDEX: 13623, TEXT: hoy aplaudo a mi segunda familia aplaudoanuestrosheroes aquellos con los que he compartido tantas noches de trabajo y tanta alegra s que como siempre dan todo por el bien de su comunidad presidente por ellos tambin cuarentenanacionalya cuidemosalosquecuidan\n",
      "INDEX: 16548, TEXT: bir mddettir spermarketlerin lojistik hizmeti avusturya ordusu desteiyle yaplyor dn corona tedavisi iin 22 milyon luk bir aratrma gelitirme btesi aklad hkmet geen hafta da 35 milyon luk 2 yardm paketi aklanmt viyanadan haberler bu kadar\n",
      "INDEX: 36953, TEXT: 11 nisan cumartesi itibariyle bbnin tm hizmetleri sokaa kma serbestisi olanlar iin devam edecek halk ekmek ve hamidiye su 100 retime geti bb tm stanbulun gda ihtiyacna yetecek kapasitededir halkmz sakin olsun ve gvende hissetsin ltfen herkes evine dnsn\n"
     ]
    }
   ],
   "source": [
    "token_lens = []\n",
    "\n",
    "for i,txt in enumerate(df['text_clean'].values):\n",
    "    tokens = tokenizer.encode(txt, max_length=512, truncation=True)\n",
    "    token_lens.append(len(tokens))\n",
    "    if len(tokens)>80:\n",
    "        print(f\"INDEX: {i}, TEXT: {txt}\")  "
   ]
  },
  {
   "cell_type": "markdown",
   "metadata": {},
   "source": [
    "These sentences are not in english. They should be dropped."
   ]
  },
  {
   "cell_type": "code",
   "execution_count": 121,
   "metadata": {
    "execution": {
     "iopub.execute_input": "2021-12-22T21:16:45.920514Z",
     "iopub.status.busy": "2021-12-22T21:16:45.920127Z",
     "iopub.status.idle": "2021-12-22T21:16:45.942482Z",
     "shell.execute_reply": "2021-12-22T21:16:45.941845Z",
     "shell.execute_reply.started": "2021-12-22T21:16:45.920472Z"
    }
   },
   "outputs": [],
   "source": [
    "df['token_lens'] = token_lens"
   ]
  },
  {
   "cell_type": "code",
   "execution_count": 122,
   "metadata": {
    "execution": {
     "iopub.execute_input": "2021-12-22T21:16:45.943812Z",
     "iopub.status.busy": "2021-12-22T21:16:45.943569Z",
     "iopub.status.idle": "2021-12-22T21:16:45.966583Z",
     "shell.execute_reply": "2021-12-22T21:16:45.965943Z",
     "shell.execute_reply.started": "2021-12-22T21:16:45.943779Z"
    }
   },
   "outputs": [
    {
     "data": {
      "text/html": [
       "<div>\n",
       "<style scoped>\n",
       "    .dataframe tbody tr th:only-of-type {\n",
       "        vertical-align: middle;\n",
       "    }\n",
       "\n",
       "    .dataframe tbody tr th {\n",
       "        vertical-align: top;\n",
       "    }\n",
       "\n",
       "    .dataframe thead th {\n",
       "        text-align: right;\n",
       "    }\n",
       "</style>\n",
       "<table border=\"1\" class=\"dataframe\">\n",
       "  <thead>\n",
       "    <tr style=\"text-align: right;\">\n",
       "      <th></th>\n",
       "      <th>OriginalTweet</th>\n",
       "      <th>Sentiment</th>\n",
       "      <th>text_clean</th>\n",
       "      <th>text_len</th>\n",
       "      <th>token_lens</th>\n",
       "    </tr>\n",
       "  </thead>\n",
       "  <tbody>\n",
       "    <tr>\n",
       "      <th>1638</th>\n",
       "      <td>ZÃ¡sah policie proti spekulant?m s rouÂkami. ...</td>\n",
       "      <td>Neutral</td>\n",
       "      <td>zsah policie proti spekulantm s roukami na mj ...</td>\n",
       "      <td>39</td>\n",
       "      <td>100</td>\n",
       "    </tr>\n",
       "    <tr>\n",
       "      <th>37156</th>\n",
       "      <td>11 Nisan Cumartesi itibariyle ?BBÂnin tÃ¼m hi...</td>\n",
       "      <td>Neutral</td>\n",
       "      <td>11 nisan cumartesi itibariyle bbnin tm hizmetl...</td>\n",
       "      <td>39</td>\n",
       "      <td>98</td>\n",
       "    </tr>\n",
       "    <tr>\n",
       "      <th>16632</th>\n",
       "      <td>Bir mÃ¼ddettir sÃ¼permarketlerin lojistik hizm...</td>\n",
       "      <td>Neutral</td>\n",
       "      <td>bir mddettir spermarketlerin lojistik hizmeti ...</td>\n",
       "      <td>36</td>\n",
       "      <td>92</td>\n",
       "    </tr>\n",
       "    <tr>\n",
       "      <th>13691</th>\n",
       "      <td>Hoy aplaudo a mi segunda familia #AplaudoANues...</td>\n",
       "      <td>Neutral</td>\n",
       "      <td>hoy aplaudo a mi segunda familia aplaudoanuest...</td>\n",
       "      <td>38</td>\n",
       "      <td>84</td>\n",
       "    </tr>\n",
       "    <tr>\n",
       "      <th>27005</th>\n",
       "      <td>Supermercados Econo confirman que un empleado ...</td>\n",
       "      <td>Neutral</td>\n",
       "      <td>supermercados econo confirman que un empleado ...</td>\n",
       "      <td>39</td>\n",
       "      <td>80</td>\n",
       "    </tr>\n",
       "    <tr>\n",
       "      <th>14593</th>\n",
       "      <td>Na, wer war denn da am Werk? Gestern Nachmitta...</td>\n",
       "      <td>Extremely Negative</td>\n",
       "      <td>na wer war denn da am werk gestern nachmittag ...</td>\n",
       "      <td>37</td>\n",
       "      <td>80</td>\n",
       "    </tr>\n",
       "    <tr>\n",
       "      <th>28899</th>\n",
       "      <td>Kindly contact Us bamy global merchandise for ...</td>\n",
       "      <td>Positive</td>\n",
       "      <td>kindly contact us bamy global merchandise for ...</td>\n",
       "      <td>37</td>\n",
       "      <td>80</td>\n",
       "    </tr>\n",
       "    <tr>\n",
       "      <th>11213</th>\n",
       "      <td>Keine WertgegenstÃ¤nde im Fahrzeug lassen! - D...</td>\n",
       "      <td>Negative</td>\n",
       "      <td>keine wertgegenstnde im fahrzeug lassen diesen...</td>\n",
       "      <td>33</td>\n",
       "      <td>79</td>\n",
       "    </tr>\n",
       "    <tr>\n",
       "      <th>4844</th>\n",
       "      <td>Impct of #coronavirus i hve sen hw civilizd pp...</td>\n",
       "      <td>Extremely Negative</td>\n",
       "      <td>impct of coronavirus i hve sen hw civilizd ppl...</td>\n",
       "      <td>48</td>\n",
       "      <td>79</td>\n",
       "    </tr>\n",
       "    <tr>\n",
       "      <th>18913</th>\n",
       "      <td>#CroozefmNews \\r\\r\\nPresident Museveni has ord...</td>\n",
       "      <td>Extremely Negative</td>\n",
       "      <td>croozefmnews president museveni has ordered th...</td>\n",
       "      <td>35</td>\n",
       "      <td>79</td>\n",
       "    </tr>\n",
       "    <tr>\n",
       "      <th>30206</th>\n",
       "      <td>#LDA City Lahore Residential Files Prices Upda...</td>\n",
       "      <td>Neutral</td>\n",
       "      <td>lda city lahore residential files prices updat...</td>\n",
       "      <td>43</td>\n",
       "      <td>78</td>\n",
       "    </tr>\n",
       "    <tr>\n",
       "      <th>26678</th>\n",
       "      <td>Eine wahre #CoronaGeschichte:\\r\\r\\n\\r\\r\\nWenn ...</td>\n",
       "      <td>Neutral</td>\n",
       "      <td>eine wahre coronageschichte wenn dir an der su...</td>\n",
       "      <td>29</td>\n",
       "      <td>78</td>\n",
       "    </tr>\n",
       "    <tr>\n",
       "      <th>12389</th>\n",
       "      <td>Okay, so I just checked the drug prices for #P...</td>\n",
       "      <td>Positive</td>\n",
       "      <td>okay so i just checked the drug prices for pla...</td>\n",
       "      <td>35</td>\n",
       "      <td>77</td>\n",
       "    </tr>\n",
       "    <tr>\n",
       "      <th>1697</th>\n",
       "      <td>I work at a grocery store.\\r\\r\\nWe wont get an...</td>\n",
       "      <td>Positive</td>\n",
       "      <td>i work at a grocery store we wont get any toil...</td>\n",
       "      <td>37</td>\n",
       "      <td>77</td>\n",
       "    </tr>\n",
       "    <tr>\n",
       "      <th>8730</th>\n",
       "      <td>?Bitte anschauen! (1/2)\\r\\r\\n\\r\\r\\nEmotionaler...</td>\n",
       "      <td>Negative</td>\n",
       "      <td>bitte anschauen 12 emotionaler aufruf von geha...</td>\n",
       "      <td>36</td>\n",
       "      <td>77</td>\n",
       "    </tr>\n",
       "    <tr>\n",
       "      <th>14582</th>\n",
       "      <td>hiked prices in the face of the Covid-19 crise...</td>\n",
       "      <td>Negative</td>\n",
       "      <td>hiked prices in the face of the covid19 crises...</td>\n",
       "      <td>47</td>\n",
       "      <td>77</td>\n",
       "    </tr>\n",
       "    <tr>\n",
       "      <th>36305</th>\n",
       "      <td>Sterile disposable anti bacterial wet wipes an...</td>\n",
       "      <td>Negative</td>\n",
       "      <td>sterile disposable anti bacterial wet wipes an...</td>\n",
       "      <td>31</td>\n",
       "      <td>76</td>\n",
       "    </tr>\n",
       "    <tr>\n",
       "      <th>36306</th>\n",
       "      <td>For sell Sterile disposable anti bacterial wet...</td>\n",
       "      <td>Negative</td>\n",
       "      <td>for sell sterile disposable anti bacterial wet...</td>\n",
       "      <td>32</td>\n",
       "      <td>75</td>\n",
       "    </tr>\n",
       "    <tr>\n",
       "      <th>9238</th>\n",
       "      <td>Hi @Zomato I felt hungry loggd in ur app tryd ...</td>\n",
       "      <td>Extremely Positive</td>\n",
       "      <td>hi i felt hungry loggd in ur app tryd to add 4...</td>\n",
       "      <td>55</td>\n",
       "      <td>75</td>\n",
       "    </tr>\n",
       "    <tr>\n",
       "      <th>40778</th>\n",
       "      <td>#Covid_19 2days Stay-at-home activities\\r\\r\\nU...</td>\n",
       "      <td>Neutral</td>\n",
       "      <td>covid19 2days stayathome activities up 630am f...</td>\n",
       "      <td>37</td>\n",
       "      <td>75</td>\n",
       "    </tr>\n",
       "  </tbody>\n",
       "</table>\n",
       "</div>"
      ],
      "text/plain": [
       "                                           OriginalTweet           Sentiment  \\\n",
       "1638   ZÃ¡sah policie proti spekulant?m s rouÂkami. ...             Neutral   \n",
       "37156  11 Nisan Cumartesi itibariyle ?BBÂnin tÃ¼m hi...             Neutral   \n",
       "16632  Bir mÃ¼ddettir sÃ¼permarketlerin lojistik hizm...             Neutral   \n",
       "13691  Hoy aplaudo a mi segunda familia #AplaudoANues...             Neutral   \n",
       "27005  Supermercados Econo confirman que un empleado ...             Neutral   \n",
       "14593  Na, wer war denn da am Werk? Gestern Nachmitta...  Extremely Negative   \n",
       "28899  Kindly contact Us bamy global merchandise for ...            Positive   \n",
       "11213  Keine WertgegenstÃ¤nde im Fahrzeug lassen! - D...            Negative   \n",
       "4844   Impct of #coronavirus i hve sen hw civilizd pp...  Extremely Negative   \n",
       "18913  #CroozefmNews \\r\\r\\nPresident Museveni has ord...  Extremely Negative   \n",
       "30206  #LDA City Lahore Residential Files Prices Upda...             Neutral   \n",
       "26678  Eine wahre #CoronaGeschichte:\\r\\r\\n\\r\\r\\nWenn ...             Neutral   \n",
       "12389  Okay, so I just checked the drug prices for #P...            Positive   \n",
       "1697   I work at a grocery store.\\r\\r\\nWe wont get an...            Positive   \n",
       "8730   ?Bitte anschauen! (1/2)\\r\\r\\n\\r\\r\\nEmotionaler...            Negative   \n",
       "14582  hiked prices in the face of the Covid-19 crise...            Negative   \n",
       "36305  Sterile disposable anti bacterial wet wipes an...            Negative   \n",
       "36306  For sell Sterile disposable anti bacterial wet...            Negative   \n",
       "9238   Hi @Zomato I felt hungry loggd in ur app tryd ...  Extremely Positive   \n",
       "40778  #Covid_19 2days Stay-at-home activities\\r\\r\\nU...             Neutral   \n",
       "\n",
       "                                              text_clean  text_len  token_lens  \n",
       "1638   zsah policie proti spekulantm s roukami na mj ...        39         100  \n",
       "37156  11 nisan cumartesi itibariyle bbnin tm hizmetl...        39          98  \n",
       "16632  bir mddettir spermarketlerin lojistik hizmeti ...        36          92  \n",
       "13691  hoy aplaudo a mi segunda familia aplaudoanuest...        38          84  \n",
       "27005  supermercados econo confirman que un empleado ...        39          80  \n",
       "14593  na wer war denn da am werk gestern nachmittag ...        37          80  \n",
       "28899  kindly contact us bamy global merchandise for ...        37          80  \n",
       "11213  keine wertgegenstnde im fahrzeug lassen diesen...        33          79  \n",
       "4844   impct of coronavirus i hve sen hw civilizd ppl...        48          79  \n",
       "18913  croozefmnews president museveni has ordered th...        35          79  \n",
       "30206  lda city lahore residential files prices updat...        43          78  \n",
       "26678  eine wahre coronageschichte wenn dir an der su...        29          78  \n",
       "12389  okay so i just checked the drug prices for pla...        35          77  \n",
       "1697   i work at a grocery store we wont get any toil...        37          77  \n",
       "8730   bitte anschauen 12 emotionaler aufruf von geha...        36          77  \n",
       "14582  hiked prices in the face of the covid19 crises...        47          77  \n",
       "36305  sterile disposable anti bacterial wet wipes an...        31          76  \n",
       "36306  for sell sterile disposable anti bacterial wet...        32          75  \n",
       "9238   hi i felt hungry loggd in ur app tryd to add 4...        55          75  \n",
       "40778  covid19 2days stayathome activities up 630am f...        37          75  "
      ]
     },
     "execution_count": 122,
     "metadata": {},
     "output_type": "execute_result"
    }
   ],
   "source": [
    "df = df.sort_values(by='token_lens', ascending=False)\n",
    "df.head(20)"
   ]
  },
  {
   "cell_type": "code",
   "execution_count": 123,
   "metadata": {
    "execution": {
     "iopub.execute_input": "2021-12-22T21:16:45.968414Z",
     "iopub.status.busy": "2021-12-22T21:16:45.967696Z",
     "iopub.status.idle": "2021-12-22T21:16:45.980023Z",
     "shell.execute_reply": "2021-12-22T21:16:45.979250Z",
     "shell.execute_reply.started": "2021-12-22T21:16:45.968366Z"
    }
   },
   "outputs": [
    {
     "data": {
      "text/html": [
       "<div>\n",
       "<style scoped>\n",
       "    .dataframe tbody tr th:only-of-type {\n",
       "        vertical-align: middle;\n",
       "    }\n",
       "\n",
       "    .dataframe tbody tr th {\n",
       "        vertical-align: top;\n",
       "    }\n",
       "\n",
       "    .dataframe thead th {\n",
       "        text-align: right;\n",
       "    }\n",
       "</style>\n",
       "<table border=\"1\" class=\"dataframe\">\n",
       "  <thead>\n",
       "    <tr style=\"text-align: right;\">\n",
       "      <th></th>\n",
       "      <th>OriginalTweet</th>\n",
       "      <th>Sentiment</th>\n",
       "      <th>text_clean</th>\n",
       "      <th>text_len</th>\n",
       "      <th>token_lens</th>\n",
       "    </tr>\n",
       "  </thead>\n",
       "  <tbody>\n",
       "    <tr>\n",
       "      <th>12389</th>\n",
       "      <td>Okay, so I just checked the drug prices for #P...</td>\n",
       "      <td>Positive</td>\n",
       "      <td>okay so i just checked the drug prices for pla...</td>\n",
       "      <td>35</td>\n",
       "      <td>77</td>\n",
       "    </tr>\n",
       "    <tr>\n",
       "      <th>1697</th>\n",
       "      <td>I work at a grocery store.\\r\\r\\nWe wont get an...</td>\n",
       "      <td>Positive</td>\n",
       "      <td>i work at a grocery store we wont get any toil...</td>\n",
       "      <td>37</td>\n",
       "      <td>77</td>\n",
       "    </tr>\n",
       "    <tr>\n",
       "      <th>8730</th>\n",
       "      <td>?Bitte anschauen! (1/2)\\r\\r\\n\\r\\r\\nEmotionaler...</td>\n",
       "      <td>Negative</td>\n",
       "      <td>bitte anschauen 12 emotionaler aufruf von geha...</td>\n",
       "      <td>36</td>\n",
       "      <td>77</td>\n",
       "    </tr>\n",
       "    <tr>\n",
       "      <th>14582</th>\n",
       "      <td>hiked prices in the face of the Covid-19 crise...</td>\n",
       "      <td>Negative</td>\n",
       "      <td>hiked prices in the face of the covid19 crises...</td>\n",
       "      <td>47</td>\n",
       "      <td>77</td>\n",
       "    </tr>\n",
       "    <tr>\n",
       "      <th>36305</th>\n",
       "      <td>Sterile disposable anti bacterial wet wipes an...</td>\n",
       "      <td>Negative</td>\n",
       "      <td>sterile disposable anti bacterial wet wipes an...</td>\n",
       "      <td>31</td>\n",
       "      <td>76</td>\n",
       "    </tr>\n",
       "  </tbody>\n",
       "</table>\n",
       "</div>"
      ],
      "text/plain": [
       "                                           OriginalTweet Sentiment  \\\n",
       "12389  Okay, so I just checked the drug prices for #P...  Positive   \n",
       "1697   I work at a grocery store.\\r\\r\\nWe wont get an...  Positive   \n",
       "8730   ?Bitte anschauen! (1/2)\\r\\r\\n\\r\\r\\nEmotionaler...  Negative   \n",
       "14582  hiked prices in the face of the Covid-19 crise...  Negative   \n",
       "36305  Sterile disposable anti bacterial wet wipes an...  Negative   \n",
       "\n",
       "                                              text_clean  text_len  token_lens  \n",
       "12389  okay so i just checked the drug prices for pla...        35          77  \n",
       "1697   i work at a grocery store we wont get any toil...        37          77  \n",
       "8730   bitte anschauen 12 emotionaler aufruf von geha...        36          77  \n",
       "14582  hiked prices in the face of the covid19 crises...        47          77  \n",
       "36305  sterile disposable anti bacterial wet wipes an...        31          76  "
      ]
     },
     "execution_count": 123,
     "metadata": {},
     "output_type": "execute_result"
    }
   ],
   "source": [
    "df = df.iloc[12:]\n",
    "df.head()"
   ]
  },
  {
   "cell_type": "markdown",
   "metadata": {},
   "source": [
    "The dataset looks more clean now. We will shuffle it and reset the index."
   ]
  },
  {
   "cell_type": "code",
   "execution_count": 124,
   "metadata": {
    "execution": {
     "iopub.execute_input": "2021-12-22T21:16:45.981550Z",
     "iopub.status.busy": "2021-12-22T21:16:45.981284Z",
     "iopub.status.idle": "2021-12-22T21:16:45.995008Z",
     "shell.execute_reply": "2021-12-22T21:16:45.994358Z",
     "shell.execute_reply.started": "2021-12-22T21:16:45.981515Z"
    }
   },
   "outputs": [],
   "source": [
    "df = df.sample(frac=1).reset_index(drop=True)"
   ]
  },
  {
   "cell_type": "markdown",
   "metadata": {},
   "source": [
    "## Test data deeper cleaning"
   ]
  },
  {
   "cell_type": "markdown",
   "metadata": {},
   "source": [
    "We will perform the data cleaning based on the tokenized sentences on the test set."
   ]
  },
  {
   "cell_type": "code",
   "execution_count": 125,
   "metadata": {
    "execution": {
     "iopub.execute_input": "2021-12-22T21:16:45.996503Z",
     "iopub.status.busy": "2021-12-22T21:16:45.996245Z",
     "iopub.status.idle": "2021-12-22T21:16:46.749676Z",
     "shell.execute_reply": "2021-12-22T21:16:46.748944Z",
     "shell.execute_reply.started": "2021-12-22T21:16:45.996467Z"
    }
   },
   "outputs": [],
   "source": [
    "token_lens_test = []\n",
    "\n",
    "for txt in df_test['text_clean'].values:\n",
    "    tokens = tokenizer.encode(txt, max_length=512, truncation=True)\n",
    "    token_lens_test.append(len(tokens))\n",
    "    \n",
    "max_len=np.max(token_lens_test)"
   ]
  },
  {
   "cell_type": "code",
   "execution_count": 126,
   "metadata": {
    "execution": {
     "iopub.execute_input": "2021-12-22T21:16:46.751349Z",
     "iopub.status.busy": "2021-12-22T21:16:46.751070Z",
     "iopub.status.idle": "2021-12-22T21:16:46.756497Z",
     "shell.execute_reply": "2021-12-22T21:16:46.755793Z",
     "shell.execute_reply.started": "2021-12-22T21:16:46.751312Z"
    }
   },
   "outputs": [
    {
     "name": "stdout",
     "output_type": "stream",
     "text": [
      "MAX TOKENIZED SENTENCE LENGTH: 96\n"
     ]
    }
   ],
   "source": [
    "print(f\"MAX TOKENIZED SENTENCE LENGTH: {max_len}\")"
   ]
  },
  {
   "cell_type": "code",
   "execution_count": 127,
   "metadata": {
    "execution": {
     "iopub.execute_input": "2021-12-22T21:16:46.758342Z",
     "iopub.status.busy": "2021-12-22T21:16:46.757831Z",
     "iopub.status.idle": "2021-12-22T21:16:47.500654Z",
     "shell.execute_reply": "2021-12-22T21:16:47.499983Z",
     "shell.execute_reply.started": "2021-12-22T21:16:46.758304Z"
    }
   },
   "outputs": [
    {
     "name": "stdout",
     "output_type": "stream",
     "text": [
      "INDEX: 286, TEXT: so hard to decide as much as i want to hodl my 2 ccdcv4 token our place is declared to lock down due to covid19 i will use this to buy some food to stock txnid093bd1db0c0d3a62af15883138a5f57d4cef35ae14e31e602b74489dd2524c7f my b\n",
      "INDEX: 345, TEXT: informoval jsem zstupce vech obchodnch etzc o aktulnch opatench vldy etzce jsou zsobovny na 95 take nen dvod panikait zsoby potravin fakt nedojdou nen opravdu dvod dnes obsadit a vykoupit supermarkety\n",
      "INDEX: 2380, TEXT: ahora seguid llorando por el papel higinico que no he comprado porque an tengo seguid creando histeria y preocupacin poniendo fotos de gente en pnico y estanteras vacas que yo seguir yendo a comercios responsables de barrio donde nos cuidan hoy y siempre gracias\n"
     ]
    }
   ],
   "source": [
    "token_lens_test = []\n",
    "\n",
    "for i,txt in enumerate(df_test['text_clean'].values):\n",
    "    tokens = tokenizer.encode(txt, max_length=512, truncation=True)\n",
    "    token_lens_test.append(len(tokens))\n",
    "    if len(tokens)>80:\n",
    "        print(f\"INDEX: {i}, TEXT: {txt}\")"
   ]
  },
  {
   "cell_type": "code",
   "execution_count": 128,
   "metadata": {
    "execution": {
     "iopub.execute_input": "2021-12-22T21:16:47.502050Z",
     "iopub.status.busy": "2021-12-22T21:16:47.501809Z",
     "iopub.status.idle": "2021-12-22T21:16:47.508688Z",
     "shell.execute_reply": "2021-12-22T21:16:47.507660Z",
     "shell.execute_reply.started": "2021-12-22T21:16:47.502016Z"
    }
   },
   "outputs": [],
   "source": [
    "df_test['token_lens'] = token_lens_test"
   ]
  },
  {
   "cell_type": "code",
   "execution_count": 129,
   "metadata": {
    "execution": {
     "iopub.execute_input": "2021-12-22T21:16:47.510349Z",
     "iopub.status.busy": "2021-12-22T21:16:47.509929Z",
     "iopub.status.idle": "2021-12-22T21:16:47.527481Z",
     "shell.execute_reply": "2021-12-22T21:16:47.526777Z",
     "shell.execute_reply.started": "2021-12-22T21:16:47.510311Z"
    }
   },
   "outputs": [
    {
     "data": {
      "text/html": [
       "<div>\n",
       "<style scoped>\n",
       "    .dataframe tbody tr th:only-of-type {\n",
       "        vertical-align: middle;\n",
       "    }\n",
       "\n",
       "    .dataframe tbody tr th {\n",
       "        vertical-align: top;\n",
       "    }\n",
       "\n",
       "    .dataframe thead th {\n",
       "        text-align: right;\n",
       "    }\n",
       "</style>\n",
       "<table border=\"1\" class=\"dataframe\">\n",
       "  <thead>\n",
       "    <tr style=\"text-align: right;\">\n",
       "      <th></th>\n",
       "      <th>OriginalTweet</th>\n",
       "      <th>Sentiment</th>\n",
       "      <th>text_clean</th>\n",
       "      <th>text_len</th>\n",
       "      <th>token_lens</th>\n",
       "    </tr>\n",
       "  </thead>\n",
       "  <tbody>\n",
       "    <tr>\n",
       "      <th>286</th>\n",
       "      <td>@Rhett800cc So hard to decide??. As much as I ...</td>\n",
       "      <td>Negative</td>\n",
       "      <td>so hard to decide as much as i want to hodl my...</td>\n",
       "      <td>38</td>\n",
       "      <td>96</td>\n",
       "    </tr>\n",
       "    <tr>\n",
       "      <th>2383</th>\n",
       "      <td>Ahora seguid llorando por el papel higiénico (...</td>\n",
       "      <td>Negative</td>\n",
       "      <td>ahora seguid llorando por el papel higinico qu...</td>\n",
       "      <td>44</td>\n",
       "      <td>94</td>\n",
       "    </tr>\n",
       "    <tr>\n",
       "      <th>345</th>\n",
       "      <td>Informoval jsem zástupce vech obchodních ?et?...</td>\n",
       "      <td>Neutral</td>\n",
       "      <td>informoval jsem zstupce vech obchodnch etzc o ...</td>\n",
       "      <td>31</td>\n",
       "      <td>86</td>\n",
       "    </tr>\n",
       "    <tr>\n",
       "      <th>1485</th>\n",
       "      <td>DTF-Dont Touch Face\\r\\r\\nDWBH-Do Wash Both Ha...</td>\n",
       "      <td>Extremely Negative</td>\n",
       "      <td>dtfdont touch face dwbhdo wash both hands gtfo...</td>\n",
       "      <td>42</td>\n",
       "      <td>77</td>\n",
       "    </tr>\n",
       "    <tr>\n",
       "      <th>1209</th>\n",
       "      <td>Im in the DC/Maryland/Virginia (DMV) area &amp;am...</td>\n",
       "      <td>Positive</td>\n",
       "      <td>im in the dcmarylandvirginia dmv area amphave ...</td>\n",
       "      <td>45</td>\n",
       "      <td>74</td>\n",
       "    </tr>\n",
       "    <tr>\n",
       "      <th>3505</th>\n",
       "      <td>Stop misusing ur privilege amp grow up Some1 c...</td>\n",
       "      <td>Positive</td>\n",
       "      <td>stop misusing ur privilege amp grow up some1 c...</td>\n",
       "      <td>57</td>\n",
       "      <td>73</td>\n",
       "    </tr>\n",
       "    <tr>\n",
       "      <th>1789</th>\n",
       "      <td>For those that are cashlong, patient,calm&amp;amp;...</td>\n",
       "      <td>Extremely Positive</td>\n",
       "      <td>for those that are cashlong patientcalmamphave...</td>\n",
       "      <td>44</td>\n",
       "      <td>71</td>\n",
       "    </tr>\n",
       "    <tr>\n",
       "      <th>855</th>\n",
       "      <td>Lidl is total chaos, queues as long as the ais...</td>\n",
       "      <td>Extremely Negative</td>\n",
       "      <td>lidl is total chaos queues as long as the aisl...</td>\n",
       "      <td>62</td>\n",
       "      <td>70</td>\n",
       "    </tr>\n",
       "    <tr>\n",
       "      <th>2740</th>\n",
       "      <td>COVID-19: Your government will save ITSELF not...</td>\n",
       "      <td>Positive</td>\n",
       "      <td>covid19 your government will save itself not y...</td>\n",
       "      <td>43</td>\n",
       "      <td>70</td>\n",
       "    </tr>\n",
       "    <tr>\n",
       "      <th>2997</th>\n",
       "      <td>Stop #frenzybuying. You don't need most of wha...</td>\n",
       "      <td>Extremely Negative</td>\n",
       "      <td>stop frenzybuying you dont need most of what y...</td>\n",
       "      <td>38</td>\n",
       "      <td>70</td>\n",
       "    </tr>\n",
       "  </tbody>\n",
       "</table>\n",
       "</div>"
      ],
      "text/plain": [
       "                                          OriginalTweet           Sentiment  \\\n",
       "286   @Rhett800cc So hard to decide??. As much as I ...            Negative   \n",
       "2383  Ahora seguid llorando por el papel higiénico (...            Negative   \n",
       "345   Informoval jsem zástupce vech obchodních ?et?...             Neutral   \n",
       "1485  DTF-Dont Touch Face\\r\\r\\nDWBH-Do Wash Both Ha...  Extremely Negative   \n",
       "1209  Im in the DC/Maryland/Virginia (DMV) area &am...            Positive   \n",
       "3505  Stop misusing ur privilege amp grow up Some1 c...            Positive   \n",
       "1789  For those that are cashlong, patient,calm&amp;...  Extremely Positive   \n",
       "855   Lidl is total chaos, queues as long as the ais...  Extremely Negative   \n",
       "2740  COVID-19: Your government will save ITSELF not...            Positive   \n",
       "2997  Stop #frenzybuying. You don't need most of wha...  Extremely Negative   \n",
       "\n",
       "                                             text_clean  text_len  token_lens  \n",
       "286   so hard to decide as much as i want to hodl my...        38          96  \n",
       "2383  ahora seguid llorando por el papel higinico qu...        44          94  \n",
       "345   informoval jsem zstupce vech obchodnch etzc o ...        31          86  \n",
       "1485  dtfdont touch face dwbhdo wash both hands gtfo...        42          77  \n",
       "1209  im in the dcmarylandvirginia dmv area amphave ...        45          74  \n",
       "3505  stop misusing ur privilege amp grow up some1 c...        57          73  \n",
       "1789  for those that are cashlong patientcalmamphave...        44          71  \n",
       "855   lidl is total chaos queues as long as the aisl...        62          70  \n",
       "2740  covid19 your government will save itself not y...        43          70  \n",
       "2997  stop frenzybuying you dont need most of what y...        38          70  "
      ]
     },
     "execution_count": 129,
     "metadata": {},
     "output_type": "execute_result"
    }
   ],
   "source": [
    "df_test = df_test.sort_values(by='token_lens', ascending=False)\n",
    "df_test.head(10) "
   ]
  },
  {
   "cell_type": "code",
   "execution_count": 130,
   "metadata": {
    "execution": {
     "iopub.execute_input": "2021-12-22T21:16:47.529191Z",
     "iopub.status.busy": "2021-12-22T21:16:47.528747Z",
     "iopub.status.idle": "2021-12-22T21:16:47.539778Z",
     "shell.execute_reply": "2021-12-22T21:16:47.539121Z",
     "shell.execute_reply.started": "2021-12-22T21:16:47.529156Z"
    }
   },
   "outputs": [
    {
     "data": {
      "text/html": [
       "<div>\n",
       "<style scoped>\n",
       "    .dataframe tbody tr th:only-of-type {\n",
       "        vertical-align: middle;\n",
       "    }\n",
       "\n",
       "    .dataframe tbody tr th {\n",
       "        vertical-align: top;\n",
       "    }\n",
       "\n",
       "    .dataframe thead th {\n",
       "        text-align: right;\n",
       "    }\n",
       "</style>\n",
       "<table border=\"1\" class=\"dataframe\">\n",
       "  <thead>\n",
       "    <tr style=\"text-align: right;\">\n",
       "      <th></th>\n",
       "      <th>OriginalTweet</th>\n",
       "      <th>Sentiment</th>\n",
       "      <th>text_clean</th>\n",
       "      <th>text_len</th>\n",
       "      <th>token_lens</th>\n",
       "    </tr>\n",
       "  </thead>\n",
       "  <tbody>\n",
       "    <tr>\n",
       "      <th>3505</th>\n",
       "      <td>Stop misusing ur privilege amp grow up Some1 c...</td>\n",
       "      <td>Positive</td>\n",
       "      <td>stop misusing ur privilege amp grow up some1 c...</td>\n",
       "      <td>57</td>\n",
       "      <td>73</td>\n",
       "    </tr>\n",
       "    <tr>\n",
       "      <th>1789</th>\n",
       "      <td>For those that are cashlong, patient,calm&amp;amp;...</td>\n",
       "      <td>Extremely Positive</td>\n",
       "      <td>for those that are cashlong patientcalmamphave...</td>\n",
       "      <td>44</td>\n",
       "      <td>71</td>\n",
       "    </tr>\n",
       "    <tr>\n",
       "      <th>855</th>\n",
       "      <td>Lidl is total chaos, queues as long as the ais...</td>\n",
       "      <td>Extremely Negative</td>\n",
       "      <td>lidl is total chaos queues as long as the aisl...</td>\n",
       "      <td>62</td>\n",
       "      <td>70</td>\n",
       "    </tr>\n",
       "  </tbody>\n",
       "</table>\n",
       "</div>"
      ],
      "text/plain": [
       "                                          OriginalTweet           Sentiment  \\\n",
       "3505  Stop misusing ur privilege amp grow up Some1 c...            Positive   \n",
       "1789  For those that are cashlong, patient,calm&amp;...  Extremely Positive   \n",
       "855   Lidl is total chaos, queues as long as the ais...  Extremely Negative   \n",
       "\n",
       "                                             text_clean  text_len  token_lens  \n",
       "3505  stop misusing ur privilege amp grow up some1 c...        57          73  \n",
       "1789  for those that are cashlong patientcalmamphave...        44          71  \n",
       "855   lidl is total chaos queues as long as the aisl...        62          70  "
      ]
     },
     "execution_count": 130,
     "metadata": {},
     "output_type": "execute_result"
    }
   ],
   "source": [
    "df_test = df_test.iloc[5:]\n",
    "df_test.head(3)"
   ]
  },
  {
   "cell_type": "code",
   "execution_count": 131,
   "metadata": {
    "execution": {
     "iopub.execute_input": "2021-12-22T21:16:47.541731Z",
     "iopub.status.busy": "2021-12-22T21:16:47.541138Z",
     "iopub.status.idle": "2021-12-22T21:16:47.548553Z",
     "shell.execute_reply": "2021-12-22T21:16:47.547872Z",
     "shell.execute_reply.started": "2021-12-22T21:16:47.541662Z"
    }
   },
   "outputs": [],
   "source": [
    "df_test = df_test.sample(frac=1).reset_index(drop=True)"
   ]
  },
  {
   "cell_type": "markdown",
   "metadata": {},
   "source": [
    "Now the data cleaning is completed. I will perform more data cleaning if I have new ideas !! :)"
   ]
  },
  {
   "cell_type": "markdown",
   "metadata": {},
   "source": [
    "# Sentiment column analysis"
   ]
  },
  {
   "cell_type": "markdown",
   "metadata": {},
   "source": [
    "Now we will look at the target column 'Sentiment'."
   ]
  },
  {
   "cell_type": "code",
   "execution_count": 132,
   "metadata": {
    "execution": {
     "iopub.execute_input": "2021-12-22T21:16:47.550374Z",
     "iopub.status.busy": "2021-12-22T21:16:47.549868Z",
     "iopub.status.idle": "2021-12-22T21:16:47.564332Z",
     "shell.execute_reply": "2021-12-22T21:16:47.563660Z",
     "shell.execute_reply.started": "2021-12-22T21:16:47.550336Z"
    }
   },
   "outputs": [
    {
     "data": {
      "text/plain": [
       "Positive              11381\n",
       "Negative               9889\n",
       "Neutral                7560\n",
       "Extremely Positive     6618\n",
       "Extremely Negative     5475\n",
       "Name: Sentiment, dtype: int64"
      ]
     },
     "execution_count": 132,
     "metadata": {},
     "output_type": "execute_result"
    }
   ],
   "source": [
    "df['Sentiment'].value_counts()"
   ]
  },
  {
   "cell_type": "markdown",
   "metadata": {
    "execution": {
     "iopub.execute_input": "2021-12-05T11:35:57.748569Z",
     "iopub.status.busy": "2021-12-05T11:35:57.747932Z",
     "iopub.status.idle": "2021-12-05T11:35:57.753489Z",
     "shell.execute_reply": "2021-12-05T11:35:57.752685Z",
     "shell.execute_reply.started": "2021-12-05T11:35:57.748528Z"
    }
   },
   "source": [
    "The first thing we can do is to encode the categories with numbers. We will also create just 3 possible emotions: Positive, Neutral and Negative."
   ]
  },
  {
   "cell_type": "code",
   "execution_count": 133,
   "metadata": {
    "execution": {
     "iopub.execute_input": "2021-12-22T21:16:47.566009Z",
     "iopub.status.busy": "2021-12-22T21:16:47.565714Z",
     "iopub.status.idle": "2021-12-22T21:16:47.580459Z",
     "shell.execute_reply": "2021-12-22T21:16:47.579684Z",
     "shell.execute_reply.started": "2021-12-22T21:16:47.565975Z"
    }
   },
   "outputs": [],
   "source": [
    "df['Sentiment'] = df['Sentiment'].map({'Extremely Negative':0,'Negative':0,'Neutral':1,'Positive':2,'Extremely Positive':2})"
   ]
  },
  {
   "cell_type": "code",
   "execution_count": 134,
   "metadata": {
    "execution": {
     "iopub.execute_input": "2021-12-22T21:16:47.582551Z",
     "iopub.status.busy": "2021-12-22T21:16:47.581764Z",
     "iopub.status.idle": "2021-12-22T21:16:47.589144Z",
     "shell.execute_reply": "2021-12-22T21:16:47.588501Z",
     "shell.execute_reply.started": "2021-12-22T21:16:47.582474Z"
    }
   },
   "outputs": [],
   "source": [
    "df_test['Sentiment'] = df_test['Sentiment'].map({'Extremely Negative':0,'Negative':0,'Neutral':1,'Positive':2,'Extremely Positive':2})"
   ]
  },
  {
   "cell_type": "code",
   "execution_count": 135,
   "metadata": {
    "execution": {
     "iopub.execute_input": "2021-12-22T21:16:47.592996Z",
     "iopub.status.busy": "2021-12-22T21:16:47.591248Z",
     "iopub.status.idle": "2021-12-22T21:16:47.599802Z",
     "shell.execute_reply": "2021-12-22T21:16:47.599160Z",
     "shell.execute_reply.started": "2021-12-22T21:16:47.592966Z"
    }
   },
   "outputs": [
    {
     "data": {
      "text/plain": [
       "2    17999\n",
       "0    15364\n",
       "1     7560\n",
       "Name: Sentiment, dtype: int64"
      ]
     },
     "execution_count": 135,
     "metadata": {},
     "output_type": "execute_result"
    }
   ],
   "source": [
    "df['Sentiment'].value_counts()"
   ]
  },
  {
   "cell_type": "markdown",
   "metadata": {},
   "source": [
    "We note that the three classes are imbalanced. We will proceed with oversampling the train test, to remove bias towards the majority classes."
   ]
  },
  {
   "cell_type": "markdown",
   "metadata": {},
   "source": [
    "## Class Balancing by RandomOverSampler"
   ]
  },
  {
   "cell_type": "code",
   "execution_count": 136,
   "metadata": {
    "execution": {
     "iopub.execute_input": "2021-12-22T21:16:47.601752Z",
     "iopub.status.busy": "2021-12-22T21:16:47.601159Z",
     "iopub.status.idle": "2021-12-22T21:16:47.697589Z",
     "shell.execute_reply": "2021-12-22T21:16:47.696904Z",
     "shell.execute_reply.started": "2021-12-22T21:16:47.601678Z"
    }
   },
   "outputs": [],
   "source": [
    "ros = RandomOverSampler()\n",
    "train_x, train_y = ros.fit_resample(np.array(df['text_clean']).reshape(-1, 1), np.array(df['Sentiment']).reshape(-1, 1));\n",
    "train_os = pd.DataFrame(list(zip([x[0] for x in train_x], train_y)), columns = ['text_clean', 'Sentiment']);"
   ]
  },
  {
   "cell_type": "code",
   "execution_count": 137,
   "metadata": {
    "execution": {
     "iopub.execute_input": "2021-12-22T21:16:47.698926Z",
     "iopub.status.busy": "2021-12-22T21:16:47.698691Z",
     "iopub.status.idle": "2021-12-22T21:16:47.705998Z",
     "shell.execute_reply": "2021-12-22T21:16:47.705270Z",
     "shell.execute_reply.started": "2021-12-22T21:16:47.698894Z"
    }
   },
   "outputs": [
    {
     "data": {
      "text/plain": [
       "1    17999\n",
       "2    17999\n",
       "0    17999\n",
       "Name: Sentiment, dtype: int64"
      ]
     },
     "execution_count": 137,
     "metadata": {},
     "output_type": "execute_result"
    }
   ],
   "source": [
    "train_os['Sentiment'].value_counts()"
   ]
  },
  {
   "cell_type": "markdown",
   "metadata": {},
   "source": [
    "## Train - Validation - Test split"
   ]
  },
  {
   "cell_type": "code",
   "execution_count": 138,
   "metadata": {
    "execution": {
     "iopub.execute_input": "2021-12-22T21:16:47.713316Z",
     "iopub.status.busy": "2021-12-22T21:16:47.713125Z",
     "iopub.status.idle": "2021-12-22T21:16:47.717547Z",
     "shell.execute_reply": "2021-12-22T21:16:47.716647Z",
     "shell.execute_reply.started": "2021-12-22T21:16:47.713294Z"
    }
   },
   "outputs": [],
   "source": [
    "X = train_os['text_clean'].values\n",
    "y = train_os['Sentiment'].values"
   ]
  },
  {
   "cell_type": "markdown",
   "metadata": {},
   "source": [
    "A validation set will be extracted from the training set to monitor the validation accuracy, and so prevent overfitting."
   ]
  },
  {
   "cell_type": "code",
   "execution_count": 139,
   "metadata": {
    "execution": {
     "iopub.execute_input": "2021-12-22T21:16:47.719469Z",
     "iopub.status.busy": "2021-12-22T21:16:47.718981Z",
     "iopub.status.idle": "2021-12-22T21:16:47.761536Z",
     "shell.execute_reply": "2021-12-22T21:16:47.760925Z",
     "shell.execute_reply.started": "2021-12-22T21:16:47.719431Z"
    }
   },
   "outputs": [],
   "source": [
    "X_train, X_valid, y_train, y_valid = train_test_split(X, y, test_size=0.1, stratify=y, random_state=seed)"
   ]
  },
  {
   "cell_type": "code",
   "execution_count": 140,
   "metadata": {
    "execution": {
     "iopub.execute_input": "2021-12-22T21:16:47.763000Z",
     "iopub.status.busy": "2021-12-22T21:16:47.762757Z",
     "iopub.status.idle": "2021-12-22T21:16:47.768878Z",
     "shell.execute_reply": "2021-12-22T21:16:47.768120Z",
     "shell.execute_reply.started": "2021-12-22T21:16:47.762967Z"
    }
   },
   "outputs": [],
   "source": [
    "X_test = df_test['text_clean'].values\n",
    "y_test = df_test['Sentiment'].values"
   ]
  },
  {
   "cell_type": "markdown",
   "metadata": {},
   "source": [
    "## One hot encoding"
   ]
  },
  {
   "cell_type": "markdown",
   "metadata": {},
   "source": [
    "After performing some tests, by using one hot encoding on the target variable we achieved higher accuracy. For this reason we will choose one hot enconding over label encoding. <br>\n",
    "EDIT: We will save a copy of the label encoded target columns since they could be useful for further analysis."
   ]
  },
  {
   "cell_type": "code",
   "execution_count": 141,
   "metadata": {
    "execution": {
     "iopub.execute_input": "2021-12-22T21:16:47.770915Z",
     "iopub.status.busy": "2021-12-22T21:16:47.770333Z",
     "iopub.status.idle": "2021-12-22T21:16:47.776791Z",
     "shell.execute_reply": "2021-12-22T21:16:47.776179Z",
     "shell.execute_reply.started": "2021-12-22T21:16:47.770878Z"
    }
   },
   "outputs": [],
   "source": [
    "y_train_le = y_train.copy()\n",
    "y_valid_le = y_valid.copy()\n",
    "y_test_le = y_test.copy()"
   ]
  },
  {
   "cell_type": "code",
   "execution_count": 142,
   "metadata": {
    "execution": {
     "iopub.execute_input": "2021-12-22T21:16:47.778775Z",
     "iopub.status.busy": "2021-12-22T21:16:47.778211Z",
     "iopub.status.idle": "2021-12-22T21:16:47.791468Z",
     "shell.execute_reply": "2021-12-22T21:16:47.790847Z",
     "shell.execute_reply.started": "2021-12-22T21:16:47.778739Z"
    }
   },
   "outputs": [],
   "source": [
    "ohe = preprocessing.OneHotEncoder()\n",
    "y_train = ohe.fit_transform(np.array(y_train).reshape(-1, 1)).toarray()\n",
    "y_valid = ohe.fit_transform(np.array(y_valid).reshape(-1, 1)).toarray()\n",
    "y_test = ohe.fit_transform(np.array(y_test).reshape(-1, 1)).toarray()"
   ]
  },
  {
   "cell_type": "code",
   "execution_count": 143,
   "metadata": {
    "execution": {
     "iopub.execute_input": "2021-12-22T21:16:47.792855Z",
     "iopub.status.busy": "2021-12-22T21:16:47.792606Z",
     "iopub.status.idle": "2021-12-22T21:16:47.797366Z",
     "shell.execute_reply": "2021-12-22T21:16:47.796422Z",
     "shell.execute_reply.started": "2021-12-22T21:16:47.792822Z"
    },
    "scrolled": true
   },
   "outputs": [
    {
     "name": "stdout",
     "output_type": "stream",
     "text": [
      "TRAINING DATA: 48597\n",
      "VALIDATION DATA: 5400\n",
      "TESTING DATA: 3787\n"
     ]
    }
   ],
   "source": [
    "print(f\"TRAINING DATA: {X_train.shape[0]}\\nVALIDATION DATA: {X_valid.shape[0]}\\nTESTING DATA: {X_test.shape[0]}\" )"
   ]
  },
  {
   "cell_type": "markdown",
   "metadata": {},
   "source": [
    "# Baseline model: Naive Bayes Classifier"
   ]
  },
  {
   "cell_type": "markdown",
   "metadata": {
    "execution": {
     "iopub.execute_input": "2021-12-22T19:59:56.682410Z",
     "iopub.status.busy": "2021-12-22T19:59:56.681677Z",
     "iopub.status.idle": "2021-12-22T19:59:56.711837Z",
     "shell.execute_reply": "2021-12-22T19:59:56.710680Z",
     "shell.execute_reply.started": "2021-12-22T19:59:56.682300Z"
    }
   },
   "source": [
    "Before implementing BERT, we will define a simple Naive Bayes baseline model to classify the tweets."
   ]
  },
  {
   "cell_type": "markdown",
   "metadata": {},
   "source": [
    "First we need to tokenize the tweets using CountVectorizer."
   ]
  },
  {
   "cell_type": "code",
   "execution_count": 144,
   "metadata": {
    "execution": {
     "iopub.execute_input": "2021-12-22T21:16:47.799076Z",
     "iopub.status.busy": "2021-12-22T21:16:47.798820Z",
     "iopub.status.idle": "2021-12-22T21:16:49.887448Z",
     "shell.execute_reply": "2021-12-22T21:16:49.886665Z",
     "shell.execute_reply.started": "2021-12-22T21:16:47.799042Z"
    }
   },
   "outputs": [],
   "source": [
    "clf = CountVectorizer()\n",
    "X_train_cv =  clf.fit_transform(X_train)\n",
    "X_test_cv = clf.transform(X_test)"
   ]
  },
  {
   "cell_type": "markdown",
   "metadata": {},
   "source": [
    "Then we create the TF-IDF (term-frequency times inverse document-frequency) versions of the tokenized tweets."
   ]
  },
  {
   "cell_type": "code",
   "execution_count": 145,
   "metadata": {
    "execution": {
     "iopub.execute_input": "2021-12-22T21:16:49.890719Z",
     "iopub.status.busy": "2021-12-22T21:16:49.888669Z",
     "iopub.status.idle": "2021-12-22T21:16:49.984621Z",
     "shell.execute_reply": "2021-12-22T21:16:49.983725Z",
     "shell.execute_reply.started": "2021-12-22T21:16:49.890677Z"
    }
   },
   "outputs": [],
   "source": [
    "tf_transformer = TfidfTransformer(use_idf=True).fit(X_train_cv)\n",
    "X_train_tf = tf_transformer.transform(X_train_cv)\n",
    "X_test_tf = tf_transformer.transform(X_test_cv)"
   ]
  },
  {
   "cell_type": "markdown",
   "metadata": {},
   "source": [
    "Now we can define the Naive Bayes Classifier model"
   ]
  },
  {
   "cell_type": "code",
   "execution_count": 146,
   "metadata": {
    "execution": {
     "iopub.execute_input": "2021-12-22T21:16:49.986537Z",
     "iopub.status.busy": "2021-12-22T21:16:49.985855Z",
     "iopub.status.idle": "2021-12-22T21:16:49.990851Z",
     "shell.execute_reply": "2021-12-22T21:16:49.989982Z",
     "shell.execute_reply.started": "2021-12-22T21:16:49.986496Z"
    }
   },
   "outputs": [],
   "source": [
    "nb_clf = MultinomialNB()"
   ]
  },
  {
   "cell_type": "code",
   "execution_count": 147,
   "metadata": {
    "execution": {
     "iopub.execute_input": "2021-12-22T21:16:49.992559Z",
     "iopub.status.busy": "2021-12-22T21:16:49.992138Z",
     "iopub.status.idle": "2021-12-22T21:16:50.023630Z",
     "shell.execute_reply": "2021-12-22T21:16:50.022914Z",
     "shell.execute_reply.started": "2021-12-22T21:16:49.992487Z"
    }
   },
   "outputs": [
    {
     "data": {
      "text/plain": [
       "MultinomialNB()"
      ]
     },
     "execution_count": 147,
     "metadata": {},
     "output_type": "execute_result"
    }
   ],
   "source": [
    "nb_clf.fit(X_train_tf, y_train_le)"
   ]
  },
  {
   "cell_type": "code",
   "execution_count": 148,
   "metadata": {
    "execution": {
     "iopub.execute_input": "2021-12-22T21:16:50.025800Z",
     "iopub.status.busy": "2021-12-22T21:16:50.025595Z",
     "iopub.status.idle": "2021-12-22T21:16:50.033226Z",
     "shell.execute_reply": "2021-12-22T21:16:50.032277Z",
     "shell.execute_reply.started": "2021-12-22T21:16:50.025776Z"
    }
   },
   "outputs": [],
   "source": [
    "nb_pred = nb_clf.predict(X_test_tf)"
   ]
  },
  {
   "cell_type": "code",
   "execution_count": 149,
   "metadata": {
    "_kg_hide-input": true,
    "execution": {
     "iopub.execute_input": "2021-12-22T21:16:50.035198Z",
     "iopub.status.busy": "2021-12-22T21:16:50.034928Z",
     "iopub.status.idle": "2021-12-22T21:16:50.051762Z",
     "shell.execute_reply": "2021-12-22T21:16:50.051035Z",
     "shell.execute_reply.started": "2021-12-22T21:16:50.035146Z"
    }
   },
   "outputs": [
    {
     "name": "stdout",
     "output_type": "stream",
     "text": [
      "\tClassification Report for Naive Bayes:\n",
      "\n",
      "               precision    recall  f1-score   support\n",
      "\n",
      "    Negative       0.70      0.78      0.74      1629\n",
      "     Neutral       0.60      0.47      0.53       614\n",
      "    Positive       0.73      0.72      0.73      1544\n",
      "\n",
      "    accuracy                           0.70      3787\n",
      "   macro avg       0.68      0.66      0.66      3787\n",
      "weighted avg       0.70      0.70      0.70      3787\n",
      "\n"
     ]
    }
   ],
   "source": [
    "print('\\tClassification Report for Naive Bayes:\\n\\n',classification_report(y_test_le,nb_pred, target_names=['Negative', 'Neutral', 'Positive']))"
   ]
  },
  {
   "cell_type": "markdown",
   "metadata": {},
   "source": [
    "**The algorithm performance is not so bad. <br> The F1 score is around 70% for the more populated classes (Negative and Positive emotions), and lower for the Neutral class (F1=0.53).<br>\n",
    "In particular, the overall accuracy is 70%.**"
   ]
  },
  {
   "cell_type": "markdown",
   "metadata": {},
   "source": [
    "In the next section we will perform the sentiment analysis using BERT."
   ]
  },
  {
   "cell_type": "markdown",
   "metadata": {},
   "source": [
    "# BERT Sentiment Analysis"
   ]
  },
  {
   "cell_type": "markdown",
   "metadata": {},
   "source": [
    "We already performed a basic analyis of the tokenized sentences, now we just need to define a custom tokenizer function and call the encode_plus method of the BERT tokenizer."
   ]
  },
  {
   "cell_type": "code",
   "execution_count": 150,
   "metadata": {
    "execution": {
     "iopub.execute_input": "2021-12-22T21:16:50.053144Z",
     "iopub.status.busy": "2021-12-22T21:16:50.052791Z",
     "iopub.status.idle": "2021-12-22T21:16:50.057001Z",
     "shell.execute_reply": "2021-12-22T21:16:50.056176Z",
     "shell.execute_reply.started": "2021-12-22T21:16:50.053103Z"
    }
   },
   "outputs": [],
   "source": [
    "MAX_LEN=128"
   ]
  },
  {
   "cell_type": "code",
   "execution_count": 151,
   "metadata": {
    "execution": {
     "iopub.execute_input": "2021-12-22T21:16:50.058828Z",
     "iopub.status.busy": "2021-12-22T21:16:50.058416Z",
     "iopub.status.idle": "2021-12-22T21:16:50.066939Z",
     "shell.execute_reply": "2021-12-22T21:16:50.065741Z",
     "shell.execute_reply.started": "2021-12-22T21:16:50.058790Z"
    }
   },
   "outputs": [],
   "source": [
    "def tokenize(data,max_len=MAX_LEN) :\n",
    "    input_ids = []\n",
    "    attention_masks = []\n",
    "    for i in range(len(data)):\n",
    "        encoded = tokenizer.encode_plus(\n",
    "            data[i],\n",
    "            add_special_tokens=True,\n",
    "            max_length=MAX_LEN,\n",
    "            padding='max_length',\n",
    "            return_attention_mask=True\n",
    "        )\n",
    "        input_ids.append(encoded['input_ids'])\n",
    "        attention_masks.append(encoded['attention_mask'])\n",
    "    return np.array(input_ids),np.array(attention_masks)"
   ]
  },
  {
   "cell_type": "markdown",
   "metadata": {},
   "source": [
    "Then, we apply the tokenizer function to the train, validation and test sets."
   ]
  },
  {
   "cell_type": "code",
   "execution_count": 152,
   "metadata": {
    "execution": {
     "iopub.execute_input": "2021-12-22T21:16:50.068739Z",
     "iopub.status.busy": "2021-12-22T21:16:50.068345Z",
     "iopub.status.idle": "2021-12-22T21:17:05.894027Z",
     "shell.execute_reply": "2021-12-22T21:17:05.893270Z",
     "shell.execute_reply.started": "2021-12-22T21:16:50.068706Z"
    }
   },
   "outputs": [],
   "source": [
    "train_input_ids, train_attention_masks = tokenize(X_train, MAX_LEN)\n",
    "val_input_ids, val_attention_masks = tokenize(X_valid, MAX_LEN)\n",
    "test_input_ids, test_attention_masks = tokenize(X_test, MAX_LEN)"
   ]
  },
  {
   "cell_type": "markdown",
   "metadata": {},
   "source": [
    "# BERT modeling"
   ]
  },
  {
   "cell_type": "markdown",
   "metadata": {},
   "source": [
    "Now we can import the BERT model from the pretrained library from Hugging face."
   ]
  },
  {
   "cell_type": "code",
   "execution_count": 153,
   "metadata": {
    "_kg_hide-output": true,
    "execution": {
     "iopub.execute_input": "2021-12-22T21:17:05.895650Z",
     "iopub.status.busy": "2021-12-22T21:17:05.895409Z",
     "iopub.status.idle": "2021-12-22T21:17:08.742590Z",
     "shell.execute_reply": "2021-12-22T21:17:08.741859Z",
     "shell.execute_reply.started": "2021-12-22T21:17:05.895617Z"
    }
   },
   "outputs": [
    {
     "name": "stderr",
     "output_type": "stream",
     "text": [
      "Some layers from the model checkpoint at bert-base-uncased were not used when initializing TFBertModel: ['mlm___cls', 'nsp___cls']\n",
      "- This IS expected if you are initializing TFBertModel from the checkpoint of a model trained on another task or with another architecture (e.g. initializing a BertForSequenceClassification model from a BertForPreTraining model).\n",
      "- This IS NOT expected if you are initializing TFBertModel from the checkpoint of a model that you expect to be exactly identical (initializing a BertForSequenceClassification model from a BertForSequenceClassification model).\n",
      "All the layers of TFBertModel were initialized from the model checkpoint at bert-base-uncased.\n",
      "If your task is similar to the task the model of the checkpoint was trained on, you can already use TFBertModel for predictions without further training.\n"
     ]
    }
   ],
   "source": [
    "bert_model = TFBertModel.from_pretrained('bert-base-uncased')"
   ]
  },
  {
   "cell_type": "markdown",
   "metadata": {},
   "source": [
    "Then, we create a custom function to host the pre trained BERT model, and attach to it a 3 neurons output layer, necessary to perform the classification of the 3 different classes of the dataset (the 3 emotions)."
   ]
  },
  {
   "cell_type": "code",
   "execution_count": 154,
   "metadata": {
    "execution": {
     "iopub.execute_input": "2021-12-22T21:17:08.744637Z",
     "iopub.status.busy": "2021-12-22T21:17:08.744124Z",
     "iopub.status.idle": "2021-12-22T21:17:08.752172Z",
     "shell.execute_reply": "2021-12-22T21:17:08.751417Z",
     "shell.execute_reply.started": "2021-12-22T21:17:08.744596Z"
    }
   },
   "outputs": [],
   "source": [
    "def create_model(bert_model, max_len=MAX_LEN):\n",
    "    \n",
    "    ##params###\n",
    "    opt = tf.keras.optimizers.Adam(learning_rate=1e-5, decay=1e-7)\n",
    "    loss = tf.keras.losses.CategoricalCrossentropy()\n",
    "    accuracy = tf.keras.metrics.CategoricalAccuracy()\n",
    "\n",
    "\n",
    "    input_ids = tf.keras.Input(shape=(max_len,),dtype='int32')\n",
    "    \n",
    "    attention_masks = tf.keras.Input(shape=(max_len,),dtype='int32')\n",
    "    \n",
    "    embeddings = bert_model([input_ids,attention_masks])[1]\n",
    "    \n",
    "    output = tf.keras.layers.Dense(3, activation=\"softmax\")(embeddings)\n",
    "    \n",
    "    model = tf.keras.models.Model(inputs = [input_ids,attention_masks], outputs = output)\n",
    "    \n",
    "    model.compile(opt, loss=loss, metrics=accuracy)\n",
    "    \n",
    "    \n",
    "    return model"
   ]
  },
  {
   "cell_type": "code",
   "execution_count": 155,
   "metadata": {
    "execution": {
     "iopub.execute_input": "2021-12-22T21:17:08.753634Z",
     "iopub.status.busy": "2021-12-22T21:17:08.753301Z",
     "iopub.status.idle": "2021-12-22T21:17:10.212279Z",
     "shell.execute_reply": "2021-12-22T21:17:10.211498Z",
     "shell.execute_reply.started": "2021-12-22T21:17:08.753596Z"
    }
   },
   "outputs": [
    {
     "name": "stdout",
     "output_type": "stream",
     "text": [
      "Model: \"model_1\"\n",
      "__________________________________________________________________________________________________\n",
      "Layer (type)                    Output Shape         Param #     Connected to                     \n",
      "==================================================================================================\n",
      "input_5 (InputLayer)            [(None, 128)]        0                                            \n",
      "__________________________________________________________________________________________________\n",
      "input_6 (InputLayer)            [(None, 128)]        0                                            \n",
      "__________________________________________________________________________________________________\n",
      "tf_bert_model_1 (TFBertModel)   TFBaseModelOutputWit 109482240   input_5[0][0]                    \n",
      "                                                                 input_6[0][0]                    \n",
      "__________________________________________________________________________________________________\n",
      "dense_1 (Dense)                 (None, 3)            2307        tf_bert_model_1[0][1]            \n",
      "==================================================================================================\n",
      "Total params: 109,484,547\n",
      "Trainable params: 109,484,547\n",
      "Non-trainable params: 0\n",
      "__________________________________________________________________________________________________\n"
     ]
    }
   ],
   "source": [
    "model = create_model(bert_model, MAX_LEN)\n",
    "model.summary()"
   ]
  },
  {
   "cell_type": "markdown",
   "metadata": {},
   "source": [
    "Finally we can start fine tuning the BERT transformer !"
   ]
  },
  {
   "cell_type": "code",
   "execution_count": 156,
   "metadata": {
    "execution": {
     "iopub.execute_input": "2021-12-22T21:17:10.213855Z",
     "iopub.status.busy": "2021-12-22T21:17:10.213370Z",
     "iopub.status.idle": "2021-12-22T22:06:54.439353Z",
     "shell.execute_reply": "2021-12-22T22:06:54.438631Z",
     "shell.execute_reply.started": "2021-12-22T21:17:10.213816Z"
    }
   },
   "outputs": [
    {
     "name": "stdout",
     "output_type": "stream",
     "text": [
      "Epoch 1/4\n",
      "1519/1519 [==============================] - 758s 490ms/step - loss: 0.5609 - categorical_accuracy: 0.7754 - val_loss: 0.3937 - val_categorical_accuracy: 0.8578\n",
      "Epoch 2/4\n",
      "1519/1519 [==============================] - 742s 489ms/step - loss: 0.2872 - categorical_accuracy: 0.8974 - val_loss: 0.2986 - val_categorical_accuracy: 0.8981\n",
      "Epoch 3/4\n",
      "1519/1519 [==============================] - 742s 488ms/step - loss: 0.1936 - categorical_accuracy: 0.9333 - val_loss: 0.2445 - val_categorical_accuracy: 0.9191\n",
      "Epoch 4/4\n",
      "1519/1519 [==============================] - 742s 488ms/step - loss: 0.1281 - categorical_accuracy: 0.9561 - val_loss: 0.2399 - val_categorical_accuracy: 0.9252\n"
     ]
    }
   ],
   "source": [
    "history_bert = model.fit([train_input_ids,train_attention_masks], y_train, validation_data=([val_input_ids,val_attention_masks], y_valid), epochs=4, batch_size=32)"
   ]
  },
  {
   "cell_type": "markdown",
   "metadata": {},
   "source": [
    "# BERT results"
   ]
  },
  {
   "cell_type": "code",
   "execution_count": 157,
   "metadata": {
    "execution": {
     "iopub.execute_input": "2021-12-22T22:06:54.441322Z",
     "iopub.status.busy": "2021-12-22T22:06:54.441058Z",
     "iopub.status.idle": "2021-12-22T22:07:16.077636Z",
     "shell.execute_reply": "2021-12-22T22:07:16.076752Z",
     "shell.execute_reply.started": "2021-12-22T22:06:54.441287Z"
    }
   },
   "outputs": [],
   "source": [
    "result_bert = model.predict([test_input_ids,test_attention_masks])"
   ]
  },
  {
   "cell_type": "code",
   "execution_count": 158,
   "metadata": {
    "execution": {
     "iopub.execute_input": "2021-12-22T22:07:16.081513Z",
     "iopub.status.busy": "2021-12-22T22:07:16.081165Z",
     "iopub.status.idle": "2021-12-22T22:07:16.087746Z",
     "shell.execute_reply": "2021-12-22T22:07:16.087002Z",
     "shell.execute_reply.started": "2021-12-22T22:07:16.081482Z"
    }
   },
   "outputs": [],
   "source": [
    "y_pred_bert =  np.zeros_like(result_bert)\n",
    "y_pred_bert[np.arange(len(y_pred_bert)), result_bert.argmax(1)] = 1"
   ]
  },
  {
   "cell_type": "code",
   "execution_count": 159,
   "metadata": {
    "_kg_hide-input": true,
    "execution": {
     "iopub.execute_input": "2021-12-22T22:07:16.089448Z",
     "iopub.status.busy": "2021-12-22T22:07:16.089167Z",
     "iopub.status.idle": "2021-12-22T22:07:16.318816Z",
     "shell.execute_reply": "2021-12-22T22:07:16.318033Z",
     "shell.execute_reply.started": "2021-12-22T22:07:16.089414Z"
    }
   },
   "outputs": [
    {
     "data": {
      "image/png": "[encoded data removed]",
      "text/plain": [
       "<Figure size 360x360 with 1 Axes>"
      ]
     },
     "metadata": {},
     "output_type": "display_data"
    }
   ],
   "source": [
    "conf_matrix(y_test.argmax(1), y_pred_bert.argmax(1),'BERT Sentiment Analysis\\nConfusion Matrix')"
   ]
  },
  {
   "cell_type": "code",
   "execution_count": 160,
   "metadata": {
    "_kg_hide-input": true,
    "execution": {
     "iopub.execute_input": "2021-12-22T22:07:16.320692Z",
     "iopub.status.busy": "2021-12-22T22:07:16.319940Z",
     "iopub.status.idle": "2021-12-22T22:07:16.345718Z",
     "shell.execute_reply": "2021-12-22T22:07:16.345014Z",
     "shell.execute_reply.started": "2021-12-22T22:07:16.320653Z"
    }
   },
   "outputs": [
    {
     "name": "stdout",
     "output_type": "stream",
     "text": [
      "\tClassification Report for BERT:\n",
      "\n",
      "               precision    recall  f1-score   support\n",
      "\n",
      "    Negative       0.88      0.91      0.89      1629\n",
      "     Neutral       0.89      0.75      0.82       614\n",
      "    Positive       0.89      0.91      0.90      1544\n",
      "\n",
      "   micro avg       0.89      0.89      0.89      3787\n",
      "   macro avg       0.89      0.86      0.87      3787\n",
      "weighted avg       0.89      0.89      0.88      3787\n",
      " samples avg       0.89      0.89      0.89      3787\n",
      "\n"
     ]
    }
   ],
   "source": [
    "print('\\tClassification Report for BERT:\\n\\n',classification_report(y_test,y_pred_bert, target_names=['Negative', 'Neutral', 'Positive']))"
   ]
  },
  {
   "cell_type": "markdown",
   "metadata": {},
   "source": [
    "# RoBERTa Sentiment Analysis"
   ]
  },
  {
   "cell_type": "markdown",
   "metadata": {},
   "source": [
    "As seen for BERT, we first import the tokenizer used to train the original roberta transformer by Facebook."
   ]
  },
  {
   "cell_type": "code",
   "execution_count": 161,
   "metadata": {
    "_kg_hide-output": true,
    "execution": {
     "iopub.execute_input": "2021-12-22T22:08:43.116667Z",
     "iopub.status.busy": "2021-12-22T22:08:43.116218Z",
     "iopub.status.idle": "2021-12-22T22:08:50.649025Z",
     "shell.execute_reply": "2021-12-22T22:08:50.648287Z",
     "shell.execute_reply.started": "2021-12-22T22:08:43.116627Z"
    }
   },
   "outputs": [],
   "source": [
    "tokenizer_roberta = RobertaTokenizerFast.from_pretrained(\"roberta-base\")"
   ]
  },
  {
   "cell_type": "markdown",
   "metadata": {},
   "source": [
    "First, we check the length of the longest tokenized sentence by roberta tokenizer:"
   ]
  },
  {
   "cell_type": "code",
   "execution_count": 162,
   "metadata": {
    "execution": {
     "iopub.execute_input": "2021-12-22T22:08:50.651554Z",
     "iopub.status.busy": "2021-12-22T22:08:50.651296Z",
     "iopub.status.idle": "2021-12-22T22:09:00.109456Z",
     "shell.execute_reply": "2021-12-22T22:09:00.108622Z",
     "shell.execute_reply.started": "2021-12-22T22:08:50.651524Z"
    }
   },
   "outputs": [
    {
     "data": {
      "text/plain": [
       "89"
      ]
     },
     "execution_count": 162,
     "metadata": {},
     "output_type": "execute_result"
    }
   ],
   "source": [
    "token_lens = []\n",
    "\n",
    "for txt in X_train:\n",
    "    tokens = tokenizer_roberta.encode(txt, max_length=512, truncation=True)\n",
    "    token_lens.append(len(tokens))\n",
    "max_length=np.max(token_lens)\n",
    "max_length"
   ]
  },
  {
   "cell_type": "code",
   "execution_count": 163,
   "metadata": {
    "execution": {
     "iopub.execute_input": "2021-12-22T22:09:00.111182Z",
     "iopub.status.busy": "2021-12-22T22:09:00.110918Z",
     "iopub.status.idle": "2021-12-22T22:09:00.115220Z",
     "shell.execute_reply": "2021-12-22T22:09:00.114446Z",
     "shell.execute_reply.started": "2021-12-22T22:09:00.111146Z"
    }
   },
   "outputs": [],
   "source": [
    "MAX_LEN=128"
   ]
  },
  {
   "cell_type": "markdown",
   "metadata": {},
   "source": [
    "Then we can define the tokenization function"
   ]
  },
  {
   "cell_type": "code",
   "execution_count": 164,
   "metadata": {
    "execution": {
     "iopub.execute_input": "2021-12-22T22:09:00.117750Z",
     "iopub.status.busy": "2021-12-22T22:09:00.117509Z",
     "iopub.status.idle": "2021-12-22T22:09:00.126043Z",
     "shell.execute_reply": "2021-12-22T22:09:00.125367Z",
     "shell.execute_reply.started": "2021-12-22T22:09:00.117704Z"
    }
   },
   "outputs": [],
   "source": [
    "def tokenize_roberta(data,max_len=MAX_LEN) :\n",
    "    input_ids = []\n",
    "    attention_masks = []\n",
    "    for i in range(len(data)):\n",
    "        encoded = tokenizer_roberta.encode_plus(\n",
    "            data[i],\n",
    "            add_special_tokens=True,\n",
    "            max_length=max_len,\n",
    "            padding='max_length',\n",
    "            return_attention_mask=True\n",
    "        )\n",
    "        input_ids.append(encoded['input_ids'])\n",
    "        attention_masks.append(encoded['attention_mask'])\n",
    "    return np.array(input_ids),np.array(attention_masks)"
   ]
  },
  {
   "cell_type": "code",
   "execution_count": 165,
   "metadata": {
    "execution": {
     "iopub.execute_input": "2021-12-22T22:09:00.128657Z",
     "iopub.status.busy": "2021-12-22T22:09:00.128420Z",
     "iopub.status.idle": "2021-12-22T22:09:16.271659Z",
     "shell.execute_reply": "2021-12-22T22:09:16.270814Z",
     "shell.execute_reply.started": "2021-12-22T22:09:00.128626Z"
    }
   },
   "outputs": [],
   "source": [
    "train_input_ids, train_attention_masks = tokenize_roberta(X_train, MAX_LEN)\n",
    "val_input_ids, val_attention_masks = tokenize_roberta(X_valid, MAX_LEN)\n",
    "test_input_ids, test_attention_masks = tokenize_roberta(X_test, MAX_LEN)"
   ]
  },
  {
   "cell_type": "markdown",
   "metadata": {},
   "source": [
    "# RoBERTa modeling"
   ]
  },
  {
   "cell_type": "code",
   "execution_count": 166,
   "metadata": {
    "execution": {
     "iopub.execute_input": "2021-12-22T22:09:16.275460Z",
     "iopub.status.busy": "2021-12-22T22:09:16.275223Z",
     "iopub.status.idle": "2021-12-22T22:09:16.282419Z",
     "shell.execute_reply": "2021-12-22T22:09:16.281670Z",
     "shell.execute_reply.started": "2021-12-22T22:09:16.275433Z"
    }
   },
   "outputs": [],
   "source": [
    "def create_model(bert_model, max_len=MAX_LEN):\n",
    "    \n",
    "    opt = tf.keras.optimizers.Adam(learning_rate=1e-5, decay=1e-7)\n",
    "    loss = tf.keras.losses.CategoricalCrossentropy()\n",
    "    accuracy = tf.keras.metrics.CategoricalAccuracy()\n",
    "\n",
    "    input_ids = tf.keras.Input(shape=(max_len,),dtype='int32')\n",
    "    attention_masks = tf.keras.Input(shape=(max_len,),dtype='int32')\n",
    "    output = bert_model([input_ids,attention_masks])\n",
    "    output = output[1]\n",
    "    output = tf.keras.layers.Dense(3, activation=tf.nn.softmax)(output)\n",
    "    model = tf.keras.models.Model(inputs = [input_ids,attention_masks],outputs = output)\n",
    "    model.compile(opt, loss=loss, metrics=accuracy)\n",
    "    return model"
   ]
  },
  {
   "cell_type": "code",
   "execution_count": 167,
   "metadata": {
    "_kg_hide-output": true,
    "execution": {
     "iopub.execute_input": "2021-12-22T22:09:16.284104Z",
     "iopub.status.busy": "2021-12-22T22:09:16.283698Z",
     "iopub.status.idle": "2021-12-22T22:09:19.200534Z",
     "shell.execute_reply": "2021-12-22T22:09:19.198861Z",
     "shell.execute_reply.started": "2021-12-22T22:09:16.284069Z"
    }
   },
   "outputs": [
    {
     "name": "stderr",
     "output_type": "stream",
     "text": [
      "Some layers from the model checkpoint at roberta-base were not used when initializing TFRobertaModel: ['lm_head']\n",
      "- This IS expected if you are initializing TFRobertaModel from the checkpoint of a model trained on another task or with another architecture (e.g. initializing a BertForSequenceClassification model from a BertForPreTraining model).\n",
      "- This IS NOT expected if you are initializing TFRobertaModel from the checkpoint of a model that you expect to be exactly identical (initializing a BertForSequenceClassification model from a BertForSequenceClassification model).\n",
      "All the layers of TFRobertaModel were initialized from the model checkpoint at roberta-base.\n",
      "If your task is similar to the task the model of the checkpoint was trained on, you can already use TFRobertaModel for predictions without further training.\n"
     ]
    }
   ],
   "source": [
    "roberta_model = TFRobertaModel.from_pretrained('roberta-base')"
   ]
  },
  {
   "cell_type": "code",
   "execution_count": 168,
   "metadata": {
    "execution": {
     "iopub.execute_input": "2021-12-22T22:09:19.203495Z",
     "iopub.status.busy": "2021-12-22T22:09:19.203061Z",
     "iopub.status.idle": "2021-12-22T22:09:21.496134Z",
     "shell.execute_reply": "2021-12-22T22:09:21.495426Z",
     "shell.execute_reply.started": "2021-12-22T22:09:19.203453Z"
    }
   },
   "outputs": [
    {
     "name": "stdout",
     "output_type": "stream",
     "text": [
      "Model: \"model_2\"\n",
      "__________________________________________________________________________________________________\n",
      "Layer (type)                    Output Shape         Param #     Connected to                     \n",
      "==================================================================================================\n",
      "input_7 (InputLayer)            [(None, 128)]        0                                            \n",
      "__________________________________________________________________________________________________\n",
      "input_8 (InputLayer)            [(None, 128)]        0                                            \n",
      "__________________________________________________________________________________________________\n",
      "tf_roberta_model_1 (TFRobertaMo TFBaseModelOutputWit 124645632   input_7[0][0]                    \n",
      "                                                                 input_8[0][0]                    \n",
      "__________________________________________________________________________________________________\n",
      "dense_2 (Dense)                 (None, 3)            2307        tf_roberta_model_1[0][1]         \n",
      "==================================================================================================\n",
      "Total params: 124,647,939\n",
      "Trainable params: 124,647,939\n",
      "Non-trainable params: 0\n",
      "__________________________________________________________________________________________________\n"
     ]
    }
   ],
   "source": [
    "model = create_model(roberta_model, MAX_LEN)\n",
    "model.summary()"
   ]
  },
  {
   "cell_type": "code",
   "execution_count": 169,
   "metadata": {
    "execution": {
     "iopub.execute_input": "2021-12-22T22:09:21.497782Z",
     "iopub.status.busy": "2021-12-22T22:09:21.497524Z",
     "iopub.status.idle": "2021-12-22T23:01:57.160710Z",
     "shell.execute_reply": "2021-12-22T23:01:57.159908Z",
     "shell.execute_reply.started": "2021-12-22T22:09:21.497746Z"
    }
   },
   "outputs": [
    {
     "name": "stdout",
     "output_type": "stream",
     "text": [
      "Epoch 1/4\n",
      "1620/1620 [==============================] - 783s 475ms/step - loss: 0.5798 - categorical_accuracy: 0.7707 - val_loss: 0.4027 - val_categorical_accuracy: 0.8454\n",
      "Epoch 2/4\n",
      "1620/1620 [==============================] - 768s 474ms/step - loss: 0.3428 - categorical_accuracy: 0.8787 - val_loss: 0.3188 - val_categorical_accuracy: 0.8861\n",
      "Epoch 3/4\n",
      "1620/1620 [==============================] - 783s 484ms/step - loss: 0.2586 - categorical_accuracy: 0.9080 - val_loss: 0.2669 - val_categorical_accuracy: 0.9089\n",
      "Epoch 4/4\n",
      "1620/1620 [==============================] - 768s 474ms/step - loss: 0.1938 - categorical_accuracy: 0.9328 - val_loss: 0.2406 - val_categorical_accuracy: 0.9194\n"
     ]
    }
   ],
   "source": [
    "history_2 = model.fit([train_input_ids,train_attention_masks], y_train, validation_data=([val_input_ids,val_attention_masks], y_valid), epochs=4, batch_size=30)"
   ]
  },
  {
   "cell_type": "markdown",
   "metadata": {},
   "source": [
    "# RoBERTa results"
   ]
  },
  {
   "cell_type": "code",
   "execution_count": 170,
   "metadata": {
    "execution": {
     "iopub.execute_input": "2021-12-22T23:01:57.162787Z",
     "iopub.status.busy": "2021-12-22T23:01:57.162528Z",
     "iopub.status.idle": "2021-12-22T23:02:18.816734Z",
     "shell.execute_reply": "2021-12-22T23:02:18.815967Z",
     "shell.execute_reply.started": "2021-12-22T23:01:57.162754Z"
    }
   },
   "outputs": [],
   "source": [
    "result_roberta = model.predict([test_input_ids,test_attention_masks])"
   ]
  },
  {
   "cell_type": "code",
   "execution_count": 171,
   "metadata": {
    "execution": {
     "iopub.execute_input": "2021-12-22T23:02:18.818725Z",
     "iopub.status.busy": "2021-12-22T23:02:18.818471Z",
     "iopub.status.idle": "2021-12-22T23:02:18.824354Z",
     "shell.execute_reply": "2021-12-22T23:02:18.823634Z",
     "shell.execute_reply.started": "2021-12-22T23:02:18.818691Z"
    }
   },
   "outputs": [],
   "source": [
    "y_pred_roberta =  np.zeros_like(result_roberta)\n",
    "y_pred_roberta[np.arange(len(y_pred_roberta)), result_roberta.argmax(1)] = 1"
   ]
  },
  {
   "cell_type": "code",
   "execution_count": 172,
   "metadata": {
    "_kg_hide-input": true,
    "execution": {
     "iopub.execute_input": "2021-12-22T23:02:18.826841Z",
     "iopub.status.busy": "2021-12-22T23:02:18.826277Z",
     "iopub.status.idle": "2021-12-22T23:02:19.069944Z",
     "shell.execute_reply": "2021-12-22T23:02:19.069179Z",
     "shell.execute_reply.started": "2021-12-22T23:02:18.826804Z"
    }
   },
   "outputs": [
    {
     "data": {
      "image/png": "[encoded data removed]",
      "text/plain": [
       "<Figure size 360x360 with 1 Axes>"
      ]
     },
     "metadata": {},
     "output_type": "display_data"
    }
   ],
   "source": [
    "conf_matrix(y_test.argmax(1),y_pred_roberta.argmax(1),'RoBERTa Sentiment Analysis\\nConfusion Matrix')"
   ]
  },
  {
   "cell_type": "code",
   "execution_count": 173,
   "metadata": {
    "_kg_hide-input": true,
    "execution": {
     "iopub.execute_input": "2021-12-22T23:02:19.071621Z",
     "iopub.status.busy": "2021-12-22T23:02:19.071175Z",
     "iopub.status.idle": "2021-12-22T23:02:19.095480Z",
     "shell.execute_reply": "2021-12-22T23:02:19.094654Z",
     "shell.execute_reply.started": "2021-12-22T23:02:19.071583Z"
    }
   },
   "outputs": [
    {
     "name": "stdout",
     "output_type": "stream",
     "text": [
      "\tClassification Report for RoBERTa:\n",
      "\n",
      "               precision    recall  f1-score   support\n",
      "\n",
      "    Negative       0.91      0.89      0.90      1629\n",
      "     Neutral       0.74      0.84      0.78       614\n",
      "    Positive       0.92      0.88      0.90      1544\n",
      "\n",
      "   micro avg       0.88      0.88      0.88      3787\n",
      "   macro avg       0.85      0.87      0.86      3787\n",
      "weighted avg       0.88      0.88      0.88      3787\n",
      " samples avg       0.88      0.88      0.88      3787\n",
      "\n"
     ]
    }
   ],
   "source": [
    "print('\\tClassification Report for RoBERTa:\\n\\n',classification_report(y_test,y_pred_roberta, target_names=['Negative', 'Neutral', 'Positive']))"
   ]
  },
  {
   "cell_type": "markdown",
   "metadata": {},
   "source": [
    "# Results Summary"
   ]
  },
  {
   "cell_type": "markdown",
   "metadata": {},
   "source": [
    "## BERT Classification Report"
   ]
  },
  {
   "cell_type": "code",
   "execution_count": 174,
   "metadata": {
    "_kg_hide-input": true,
    "execution": {
     "iopub.execute_input": "2021-12-22T23:03:50.712282Z",
     "iopub.status.busy": "2021-12-22T23:03:50.712012Z",
     "iopub.status.idle": "2021-12-22T23:03:50.737960Z",
     "shell.execute_reply": "2021-12-22T23:03:50.737074Z",
     "shell.execute_reply.started": "2021-12-22T23:03:50.712244Z"
    }
   },
   "outputs": [
    {
     "name": "stdout",
     "output_type": "stream",
     "text": [
      "Classification Report for BERT:\n",
      "               precision    recall  f1-score   support\n",
      "\n",
      "    Negative       0.88      0.91      0.89      1629\n",
      "     Neutral       0.89      0.75      0.82       614\n",
      "    Positive       0.89      0.91      0.90      1544\n",
      "\n",
      "   micro avg       0.89      0.89      0.89      3787\n",
      "   macro avg       0.89      0.86      0.87      3787\n",
      "weighted avg       0.89      0.89      0.88      3787\n",
      " samples avg       0.89      0.89      0.89      3787\n",
      "\n"
     ]
    }
   ],
   "source": [
    "print('Classification Report for BERT:\\n',classification_report(y_test,y_pred_bert, target_names=['Negative', 'Neutral', 'Positive']))"
   ]
  },
  {
   "cell_type": "markdown",
   "metadata": {},
   "source": [
    "## RoBERTa Classification Report"
   ]
  },
  {
   "cell_type": "code",
   "execution_count": 175,
   "metadata": {
    "_kg_hide-input": true,
    "execution": {
     "iopub.execute_input": "2021-12-22T23:03:51.065429Z",
     "iopub.status.busy": "2021-12-22T23:03:51.065166Z",
     "iopub.status.idle": "2021-12-22T23:03:51.088265Z",
     "shell.execute_reply": "2021-12-22T23:03:51.087556Z",
     "shell.execute_reply.started": "2021-12-22T23:03:51.065394Z"
    }
   },
   "outputs": [
    {
     "name": "stdout",
     "output_type": "stream",
     "text": [
      "Classification Report for RoBERTa:\n",
      "               precision    recall  f1-score   support\n",
      "\n",
      "    Negative       0.91      0.89      0.90      1629\n",
      "     Neutral       0.74      0.84      0.78       614\n",
      "    Positive       0.92      0.88      0.90      1544\n",
      "\n",
      "   micro avg       0.88      0.88      0.88      3787\n",
      "   macro avg       0.85      0.87      0.86      3787\n",
      "weighted avg       0.88      0.88      0.88      3787\n",
      " samples avg       0.88      0.88      0.88      3787\n",
      "\n"
     ]
    }
   ],
   "source": [
    "print('Classification Report for RoBERTa:\\n',classification_report(y_test,y_pred_roberta, target_names=['Negative', 'Neutral', 'Positive']))"
   ]
  },
  {
   "cell_type": "markdown",
   "metadata": {},
   "source": [
    "## Classification Matrix Comparison"
   ]
  },
  {
   "cell_type": "code",
   "execution_count": 176,
   "metadata": {
    "_kg_hide-input": true,
    "execution": {
     "iopub.execute_input": "2021-12-22T23:03:51.670767Z",
     "iopub.status.busy": "2021-12-22T23:03:51.670252Z",
     "iopub.status.idle": "2021-12-22T23:03:52.085682Z",
     "shell.execute_reply": "2021-12-22T23:03:52.084962Z",
     "shell.execute_reply.started": "2021-12-22T23:03:51.670727Z"
    }
   },
   "outputs": [
    {
     "data": {
      "image/png": "[encoded data removed]",
      "text/plain": [
       "<Figure size 648x396 with 2 Axes>"
      ]
     },
     "metadata": {},
     "output_type": "display_data"
    }
   ],
   "source": [
    "fig, ax = plt.subplots(1,2,figsize=(9,5.5))\n",
    "\n",
    "labels = ['Negative', 'Neutral', 'Positive']\n",
    "plt.suptitle('Sentiment Analysis Comparison\\n Confusion Matrix', fontsize=20)\n",
    "\n",
    "\n",
    "sns.heatmap(confusion_matrix(y_test.argmax(1),y_pred_bert.argmax(1)), annot=True, cmap=\"Blues\", fmt='g', cbar=False, ax=ax[0], annot_kws={\"size\":25})\n",
    "\n",
    "ax[0].set_title('BERT Classifier', fontsize=20)\n",
    "ax[0].set_yticklabels(labels, fontsize=17);\n",
    "ax[0].set_xticklabels(labels, fontsize=17);\n",
    "ax[0].set_ylabel('Test', fontsize=20)\n",
    "ax[0].set_xlabel('Predicted', fontsize=20)\n",
    "\n",
    "sns.heatmap(confusion_matrix(y_test.argmax(1),y_pred_roberta.argmax(1)), annot=True, cmap=\"Blues\", fmt='g', cbar=False, ax=ax[1], annot_kws={\"size\":25})\n",
    "ax[1].set_title('RoBERTa Classifier', fontsize=20)\n",
    "ax[1].set_yticklabels(labels, fontsize=17);\n",
    "ax[1].set_xticklabels(labels, fontsize=17);\n",
    "ax[1].set_ylabel('Test', fontsize=20)\n",
    "ax[1].set_xlabel('Predicted', fontsize=20)\n",
    "\n",
    "\n",
    "plt.show()"
   ]
  },
  {
   "cell_type": "markdown",
   "metadata": {},
   "source": [
    "We can see that both the algorithms performed well on the classification task, with performance scores around 90%."
   ]
  }
 ],
 "metadata": {
  "kernelspec": {
   "display_name": "Python 3 (ipykernel)",
   "language": "python",
   "name": "python3"
  },
  "language_info": {
   "codemirror_mode": {
    "name": "ipython",
    "version": 3
   },
   "file_extension": ".py",
   "mimetype": "text/x-python",
   "name": "python",
   "nbconvert_exporter": "python",
   "pygments_lexer": "ipython3",
   "version": "3.11.0"
  }
 },
 "nbformat": 4,
 "nbformat_minor": 4
}
