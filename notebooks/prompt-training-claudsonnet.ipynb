{
 "cells": [
  {
   "cell_type": "code",
   "execution_count": 228,
   "id": "af3a2a82-f6fd-486e-a8e8-a67f22695d3d",
   "metadata": {},
   "outputs": [],
   "source": [
    "import boto3"
   ]
  },
  {
   "cell_type": "code",
   "execution_count": 229,
   "id": "60b005f1-561a-48ce-84ed-1b830783246b",
   "metadata": {},
   "outputs": [],
   "source": [
    "bd_clt = boto3.client(\"bedrock-runtime\", region_name=\"us-east-1\")"
   ]
  },
  {
   "cell_type": "code",
   "execution_count": 230,
   "id": "a8f93d20-f9bf-457b-8f46-ccac09a1e3cc",
   "metadata": {},
   "outputs": [],
   "source": [
    "question = \"User: Find all employees with the last name \\\"ERIC\\\" who are enrolled in a service?\""
   ]
  },
  {
   "cell_type": "code",
   "execution_count": 231,
   "id": "76bd416d-5b08-47ca-b743-acfe0618bf89",
   "metadata": {},
   "outputs": [],
   "source": [
    "prompt = \"\"\"\n",
    "You are an AI SQL assistant. Generate SQL queries based on natural language prompts. Use the given schema as reference. \n",
    "Also append within quotes the database name with a dot in outputquery.\n",
    "\n",
    "Schema:\n",
    "{\n",
    "  \"tables\": {\n",
    "    \"employee\": {\n",
    "      \"columns\": {\n",
    "        \"employee_id\": \"int\",\n",
    "        \"first_name\": \"varchar\",\n",
    "        \"last_name\": \"varchar\",\n",
    "        \"department_id\": \"int\",\n",
    "        \"hire_date\": \"date\"\n",
    "      }\n",
    "    },\n",
    "    \"department\": {\n",
    "      \"columns\": {\n",
    "        \"department_id\": \"int\",\n",
    "        \"department_name\": \"varchar\"\n",
    "      }\n",
    "    },\n",
    "    \"services\": {\n",
    "      \"columns\": {\n",
    "        \"service_id\": \"int\",\n",
    "        \"service_name\": \"varchar\"\n",
    "      }\n",
    "    },\n",
    "    \"enrollment\": {\n",
    "      \"columns\": {\n",
    "        \"employee_id\": \"int\",\n",
    "        \"service_id\": \"int\",\n",
    "        \"enrollment_date\": \"date\"\n",
    "      }\n",
    "    }\n",
    "  }\n",
    "}\n",
    "\n",
    "Examples:\n",
    "User: List all employees in the IT department.\n",
    "AI: SELECT * FROM \"employee\" e JOIN department d ON e.department_id = d.department_id WHERE d.department_name = 'IT';\n",
    "\n",
    "User: Get all employees hired after January 1, 2021.\n",
    "AI: SELECT * FROM \"employee\" WHERE hire_date > \"2021-01-01\";\n",
    "\n",
    "User: Get all services available in the system.\n",
    "AI: SELECT * FROM \"services\";\n",
    "\n",
    "User: Find all employees with the last name 'Smith'.\n",
    "AI: SELECT * FROM \"employee\" WHERE last_name = 'Smith';\n",
    "\n",
    "User: Get the department details of employees hired before 2020.\n",
    "AI: SELECT e.first_name, e.last_name, d.department_name FROM \"employee\" e JOIN department d ON e.department_id = d.department_id WHERE e.hire_date < '2020-01-01';\n",
    "\n",
    "User: List all services employees have enrolled in.\n",
    "AI: SELECT s.service_name, e.first_name, e.last_name FROM \"employee\" en JOIN services s ON en.service_id = s.service_id JOIN employee e ON en.employee_id = e.employee_id;\n",
    "\n",
    "User: Which employees are enrolled in the Health Insurance service?\n",
    "AI: SELECT e.first_name, e.last_name FROM \"employee\" en JOIN services s ON en.service_id = s.service_id JOIN employee e ON en.employee_id = e.employee_id WHERE s.service_name = 'Health Insurance';\n",
    "\n",
    "User: What is the total number of employees in each department?\n",
    "AI: SELECT d.department_name, COUNT(e.employee_id) AS employee_count FROM \"employee\" e JOIN department d ON e.department_id = d.department_id GROUP BY d.department_name;\n",
    "\n",
    "User: Find employees who have never enrolled in a service.\n",
    "AI: SELECT e.first_name, e.last_name FROM \"employee\" e LEFT JOIN enrollment en ON e.employee_id = en.employee_id WHERE en.employee_id IS NULL;\n",
    "\n",
    "User: Which employees are enrolled in multiple services?\n",
    "AI: SELECT e.first_name, e.last_name, COUNT(en.service_id) AS service_count FROM \"enrollment\" en JOIN employee e ON en.employee_id = e.employee_id GROUP BY e.first_name, e.last_name HAVING COUNT(en.service_id) > 1;\n",
    "\n",
    "User: What is the total number of enrollments per service?\n",
    "AI: SELECT s.service_name, COUNT(en.service_id) AS total_enrollments FROM \"enrollment\" en JOIN services s ON en.service_id = s.service_id GROUP BY s.service_name;\n",
    "\n",
    "Now, generate the SQL query for the following request:\n",
    "User: Find all employees with the last name 'Anderson'?\n",
    "AI: \n",
    "\"\"\""
   ]
  },
  {
   "cell_type": "code",
   "execution_count": 234,
   "id": "8aaf4a16-c40b-492d-9c03-2bb46808f893",
   "metadata": {},
   "outputs": [
    {
     "name": "stdout",
     "output_type": "stream",
     "text": [
      "{'inputTextTokenCount': 973, 'results': [{'tokenCount': 20, 'outputText': 'SELECT * FROM \"employee\" WHERE last_name = \\'Anderson\\';', 'completionReason': 'FINISH'}]}\n",
      "SELECT * FROM \"employee\" WHERE last_name = 'Anderson';\n"
     ]
    }
   ],
   "source": [
    "model_id = \"amazon.titan-text-express-v1\" # \"amazon.titan-embed-text-v2:0\" # \"anthropic.claude-3-5-haiku-20241022-v1:0\" #\"anthropic.claude-3-haiku-20240307-v1:0\"  #\"anthropic.claude-3-5-haiku-20241022-v1:0\"\n",
    "#prompt = \"Give me the current date time in EST\"\n",
    "native_request = {\n",
    " \"inputText\": prompt,\n",
    "    \"textGenerationConfig\": {\n",
    "        \"maxTokenCount\": 512,\n",
    "        \"temperature\": 0.5,\n",
    "    }\n",
    "}\n",
    "import json\n",
    "request = json.dumps(native_request)\n",
    "response = bd_clt.invoke_model(modelId =model_id, body = request)\n",
    "output = json.loads(response['body'].read())\n",
    "print(output)\n",
    "sql_stmt = output['results'][0]['outputText']\n",
    "print(sql_stmt)"
   ]
  },
  {
   "cell_type": "code",
   "execution_count": 235,
   "id": "86a05f8b-0d36-41a8-9927-fb4f8be061c7",
   "metadata": {},
   "outputs": [],
   "source": [
    "athena_client = boto3.client(\"athena\", region_name = 'us-east-1')\n",
    "\n",
    "bucket_name = \"query-gen-hackathon\"\n"
   ]
  },
  {
   "cell_type": "code",
   "execution_count": 236,
   "id": "07ba85a7-0dd8-4a1e-8c49-ceaf111d7c4c",
   "metadata": {},
   "outputs": [
    {
     "name": "stdout",
     "output_type": "stream",
     "text": [
      "ae62aa66-f30a-40ae-97a8-13a3f3a88da4\n"
     ]
    }
   ],
   "source": [
    "response = athena_client.start_query_execution(QueryString= sql_stmt, QueryExecutionContext = {'Database': 'finetune_llm_querygen', 'Catalog': 'AwsDataCatalog'},\n",
    "                                              ResultConfiguration = {'OutputLocation': \"s3://query-gen-hackathon/athena-query-result\", \n",
    "                                                                    })\n",
    "query_id = response['QueryExecutionId']\n",
    "print(query_id)"
   ]
  },
  {
   "cell_type": "code",
   "execution_count": 237,
   "id": "27b143ae-b8d8-4b82-81d2-a33469238339",
   "metadata": {},
   "outputs": [
    {
     "name": "stdout",
     "output_type": "stream",
     "text": [
      "{'QueryExecution': {'QueryExecutionId': 'ae62aa66-f30a-40ae-97a8-13a3f3a88da4', 'Query': 'SELECT * FROM \"employee\" WHERE last_name = \\'Anderson\\'', 'StatementType': 'DML', 'ResultConfiguration': {'OutputLocation': 's3://query-gen-hackathon/athena-query-result/ae62aa66-f30a-40ae-97a8-13a3f3a88da4.csv'}, 'ResultReuseConfiguration': {'ResultReuseByAgeConfiguration': {'Enabled': False}}, 'QueryExecutionContext': {'Database': 'finetune_llm_querygen', 'Catalog': 'awsdatacatalog'}, 'Status': {'State': 'QUEUED', 'SubmissionDateTime': datetime.datetime(2025, 2, 26, 19, 56, 6, 543000, tzinfo=tzlocal())}, 'Statistics': {'TotalExecutionTimeInMillis': 53, 'QueryQueueTimeInMillis': 53, 'ResultReuseInformation': {'ReusedPreviousResult': False}}, 'WorkGroup': 'primary', 'EngineVersion': {'SelectedEngineVersion': 'AUTO', 'EffectiveEngineVersion': 'Athena engine version 3'}, 'SubstatementType': 'SELECT'}, 'ResponseMetadata': {'RequestId': '7187cd9f-c533-403d-b582-77672fd6ff3c', 'HTTPStatusCode': 200, 'HTTPHeaders': {'date': 'Wed, 26 Feb 2025 19:56:06 GMT', 'content-type': 'application/x-amz-json-1.1', 'content-length': '1380', 'connection': 'keep-alive', 'x-amzn-requestid': '7187cd9f-c533-403d-b582-77672fd6ff3c'}, 'RetryAttempts': 0}}\n"
     ]
    }
   ],
   "source": [
    "exec_status = athena_client.get_query_execution(QueryExecutionId=query_id)\n",
    "print(exec_status)"
   ]
  },
  {
   "cell_type": "code",
   "execution_count": 239,
   "id": "c0d16820-efe0-4771-aa3f-326d1116b03a",
   "metadata": {},
   "outputs": [
    {
     "name": "stdout",
     "output_type": "stream",
     "text": [
      "<botocore.response.StreamingBody object at 0x7ff64e362830>\n",
      "****\n",
      "   employee_id first_name last_name  department_id   hire_date\n",
      "0            4     Angela  Anderson            102  2021-02-19\n",
      "1           15     Brandi  Anderson            102  2023-12-13\n",
      "2           67    Garrett  Anderson            102  2023-08-09\n",
      "3           94        Jon  Anderson            102  2021-10-07\n"
     ]
    }
   ],
   "source": [
    "\n",
    "s3_client = boto3.client('s3')\n",
    "resp = s3_client.get_object(Bucket = bucket_name, Key = f'athena-query-result/{query_id}.csv')\n",
    "print(resp['Body'])\n",
    "import pandas as pd\n",
    "output = pd.read_csv(resp['Body'])\n",
    "print(\"****\")\n",
    "print(output)"
   ]
  },
  {
   "cell_type": "code",
   "execution_count": null,
   "id": "02717f95-bdeb-4ce2-8182-4907e6149091",
   "metadata": {},
   "outputs": [],
   "source": []
  }
 ],
 "metadata": {
  "kernelspec": {
   "display_name": "conda_python3",
   "language": "python",
   "name": "conda_python3"
  },
  "language_info": {
   "codemirror_mode": {
    "name": "ipython",
    "version": 3
   },
   "file_extension": ".py",
   "mimetype": "text/x-python",
   "name": "python",
   "nbconvert_exporter": "python",
   "pygments_lexer": "ipython3",
   "version": "3.10.16"
  }
 },
 "nbformat": 4,
 "nbformat_minor": 5
}
