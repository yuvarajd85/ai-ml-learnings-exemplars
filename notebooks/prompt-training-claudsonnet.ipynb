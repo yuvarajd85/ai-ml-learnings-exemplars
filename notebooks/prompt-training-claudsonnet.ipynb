{
 "cells": [
  {
   "cell_type": "code",
   "execution_count": 131,
   "id": "af3a2a82-f6fd-486e-a8e8-a67f22695d3d",
   "metadata": {},
   "outputs": [],
   "source": [
    "import boto3\n",
    "import json"
   ]
  },
  {
   "cell_type": "code",
   "execution_count": 132,
   "id": "60b005f1-561a-48ce-84ed-1b830783246b",
   "metadata": {},
   "outputs": [],
   "source": [
    "bd_clt = boto3.client(\"bedrock-runtime\", region_name=\"us-east-1\")"
   ]
  },
  {
   "cell_type": "code",
   "execution_count": 134,
   "id": "76bd416d-5b08-47ca-b743-acfe0618bf89",
   "metadata": {},
   "outputs": [],
   "source": [
    "prompt = \"\"\"\n",
    "You are an AI SQL assistant. Generate SQL queries based on natural language prompts. Use the given schema as reference.\n",
    "Generate sql statement inside a tag <SQL>. Also include finetune_llm_querygen database name with a dot in outputquery\n",
    "\n",
    "Schema:\n",
    "{\n",
    "  \"tables\": {\n",
    "    \"employee\": {\n",
    "      \"columns\": {\n",
    "        \"employee_id\": \"int\",\n",
    "        \"first_name\": \"varchar\",\n",
    "        \"last_name\": \"varchar\",\n",
    "        \"department_id\": \"int\",\n",
    "        \"hire_date\": \"date\"\n",
    "      }\n",
    "    },\n",
    "    \"department\": {\n",
    "      \"columns\": {\n",
    "        \"department_id\": \"int\",\n",
    "        \"department_name\": \"varchar\"\n",
    "      }\n",
    "    },\n",
    "    \"services\": {\n",
    "      \"columns\": {\n",
    "        \"service_id\": \"int\",\n",
    "        \"service_name\": \"varchar\"\n",
    "      }\n",
    "    },\n",
    "    \"enrollment\": {\n",
    "      \"columns\": {\n",
    "        \"employee_id\": \"int\",\n",
    "        \"service_id\": \"int\",\n",
    "        \"enrollment_date\": \"date\"\n",
    "      }\n",
    "    }\n",
    "  }\n",
    "}\n",
    "\n",
    "Examples:\n",
    "User: List all employees in the IT department.\n",
    "AI: SELECT * FROM \"employee\" e JOIN department d ON e.department_id = d.department_id WHERE d.department_name = 'IT';\n",
    "\n",
    "User: Get all employees hired after January 1, 2021.\n",
    "AI: SELECT * FROM \"employee\" WHERE hire_date > \"2021-01-01\";\n",
    "\n",
    "User: Get all services available in the system.\n",
    "AI: SELECT * FROM \"services\";\n",
    "\n",
    "User: Find all employees with the last name 'Smith'.\n",
    "AI: SELECT * FROM \"employee\" WHERE last_name = 'Smith';\n",
    "\n",
    "User: Get the department details of employees hired before 2020.\n",
    "AI: SELECT e.first_name, e.last_name, d.department_name FROM \"employee\" e JOIN department d ON e.department_id = d.department_id WHERE e.hire_date < '2020-01-01';\n",
    "\n",
    "User: List all services employees have enrolled in.\n",
    "AI: SELECT s.service_name, e.first_name, e.last_name FROM \"employee\" en JOIN services s ON en.service_id = s.service_id JOIN employee e ON en.employee_id = e.employee_id;\n",
    "\n",
    "User: Which employees are enrolled in the Health Insurance service?\n",
    "AI: SELECT e.first_name, e.last_name FROM \"employee\" en JOIN services s ON en.service_id = s.service_id JOIN employee e ON en.employee_id = e.employee_id WHERE s.service_name = 'Health Insurance';\n",
    "\n",
    "User: What is the total number of employees in each department?\n",
    "AI: SELECT d.department_name, COUNT(e.employee_id) AS employee_count FROM \"employee\" e JOIN department d ON e.department_id = d.department_id GROUP BY d.department_name;\n",
    "\n",
    "User: Find employees who have never enrolled in a service.\n",
    "AI: SELECT e.first_name, e.last_name FROM \"employee\" e LEFT JOIN enrollment en ON e.employee_id = en.employee_id WHERE en.employee_id IS NULL;\n",
    "\n",
    "User: Which employees are enrolled in multiple services?\n",
    "AI: SELECT e.first_name, e.last_name, COUNT(en.service_id) AS service_count FROM \"enrollment\" en JOIN employee e ON en.employee_id = e.employee_id GROUP BY e.first_name, e.last_name HAVING COUNT(en.service_id) > 1;\n",
    "\n",
    "User: What is the total number of enrollments per service?\n",
    "AI: SELECT s.service_name, COUNT(en.service_id) AS total_enrollments FROM \"enrollment\" en JOIN services s ON en.service_id = s.service_id GROUP BY s.service_name;\n",
    "\n",
    "Now, generate the SQL query for the following request:\n",
    "User: Find all employees with the last name 'Anderson'?\n",
    "AI: \n",
    "\"\"\""
   ]
  },
  {
   "cell_type": "code",
   "execution_count": 135,
   "id": "8aaf4a16-c40b-492d-9c03-2bb46808f893",
   "metadata": {},
   "outputs": [],
   "source": [
    "modelId = \"anthropic.claude-3-5-sonnet-20240620-v1:0\"\n",
    "bedrock_runtime = boto3.client('bedrock-runtime')\n",
    "user_message = {\"role\": \"user\", \"content\": prompt}\n",
    "messages = [user_message]\n",
    "max_tokens = 1024\n",
    "body = json.dumps(\n",
    "    {\n",
    "        \"anthropic_version\": \"bedrock-2023-05-31\",\n",
    "        \"max_tokens\": max_tokens,\n",
    "        \"system\": prompt,\n",
    "        \"messages\": messages\n",
    "    }\n",
    ")\n",
    "response = bedrock_runtime.invoke_model(body=body, modelId=modelId)\n",
    "response_body = json.loads(response.get('body').read())"
   ]
  },
  {
   "cell_type": "code",
   "execution_count": 136,
   "id": "7de84d04-8522-474c-803a-f7dcc1bd31a4",
   "metadata": {},
   "outputs": [
    {
     "name": "stdout",
     "output_type": "stream",
     "text": [
      "{'id': 'msg_bdrk_01DCknbnx4EkRDW9oKdzRr71', 'type': 'message', 'role': 'assistant', 'model': 'claude-3-5-sonnet-20240620', 'content': [{'type': 'text', 'text': \"Here's the SQL query to find all employees with the last name 'Anderson':\\n\\n<SQL>\\nSELECT * FROM finetune_llm_querygen.employee WHERE last_name = 'Anderson';\\n</SQL>\\n\\nThis query will return all columns for employees whose last name is 'Anderson' from the employee table in the finetune_llm_querygen database.\"}], 'stop_reason': 'end_turn', 'stop_sequence': None, 'usage': {'input_tokens': 1848, 'output_tokens': 86}}\n"
     ]
    }
   ],
   "source": [
    "print(response_body)"
   ]
  },
  {
   "cell_type": "code",
   "execution_count": 122,
   "id": "02717f95-bdeb-4ce2-8182-4907e6149091",
   "metadata": {},
   "outputs": [
    {
     "name": "stdout",
     "output_type": "stream",
     "text": [
      "Here's the SQL query to find all employees with the last name 'Anderson':\n",
      "\n",
      "<SQL>\n",
      "SELECT * FROM finetune_llm_querygen.employee WHERE last_name = 'Anderson';\n",
      "</SQL>\n",
      "\n",
      "This query selects all columns for employees whose last name is 'Anderson' from the employee table in the finetune_llm_querygen database.\n"
     ]
    }
   ],
   "source": [
    "sql_stmt = response_body['content'][0]['text']\n",
    "print(sql_stmt)"
   ]
  },
  {
   "cell_type": "code",
   "execution_count": 123,
   "id": "b110543c-83f6-4c5a-bd86-42f16b2feb13",
   "metadata": {},
   "outputs": [
    {
     "name": "stdout",
     "output_type": "stream",
     "text": [
      "<re.Match object; span=(75, 162), match=\"<SQL>\\nSELECT * FROM finetune_llm_querygen.employ>\n"
     ]
    }
   ],
   "source": [
    "import re\n",
    "pattern = r'<SQL>(.*?)</SQL>'\n",
    "match = re.search(pattern, sql_stmt, re.DOTALL)\n",
    "print(match)"
   ]
  },
  {
   "cell_type": "code",
   "execution_count": 124,
   "id": "8145dba7-e057-4643-971c-32313bb3cfee",
   "metadata": {},
   "outputs": [
    {
     "name": "stdout",
     "output_type": "stream",
     "text": [
      "\n",
      "SELECT * FROM finetune_llm_querygen.employee WHERE last_name = 'Anderson';\n",
      "\n"
     ]
    }
   ],
   "source": [
    "sql_content = match.group(1)\n",
    "print(sql_content)"
   ]
  },
  {
   "cell_type": "code",
   "execution_count": 125,
   "id": "702b822f-8444-42e1-969e-2e02de86f210",
   "metadata": {},
   "outputs": [],
   "source": [
    "athena_client = boto3.client(\"athena\", region_name = 'us-east-1')\n",
    "\n",
    "bucket_name = \"query-gen-hackathon\""
   ]
  },
  {
   "cell_type": "code",
   "execution_count": 126,
   "id": "eaf7f113-9a16-438d-9e48-b72d7cbb6736",
   "metadata": {},
   "outputs": [
    {
     "name": "stdout",
     "output_type": "stream",
     "text": [
      "7b50c0a5-22dd-4be9-aaca-074ac86c80d0\n"
     ]
    }
   ],
   "source": [
    "response = athena_client.start_query_execution(QueryString= sql_content, QueryExecutionContext = {'Database': 'finetune_llm_querygen', 'Catalog': 'AwsDataCatalog'},\n",
    "                                              ResultConfiguration = {'OutputLocation': \"s3://query-gen-hackathon/athena-query-result\", \n",
    "                                                                    })\n",
    "query_id = response['QueryExecutionId']\n",
    "print(query_id)"
   ]
  },
  {
   "cell_type": "code",
   "execution_count": 127,
   "id": "50a7e2a3-dd52-4c70-b374-c2abfb69f424",
   "metadata": {},
   "outputs": [
    {
     "name": "stdout",
     "output_type": "stream",
     "text": [
      "{'QueryExecution': {'QueryExecutionId': '7b50c0a5-22dd-4be9-aaca-074ac86c80d0', 'Query': \"SELECT * FROM finetune_llm_querygen.employee WHERE last_name = 'Anderson'\", 'StatementType': 'DML', 'ResultConfiguration': {'OutputLocation': 's3://query-gen-hackathon/athena-query-result/7b50c0a5-22dd-4be9-aaca-074ac86c80d0.csv'}, 'ResultReuseConfiguration': {'ResultReuseByAgeConfiguration': {'Enabled': False}}, 'QueryExecutionContext': {'Database': 'finetune_llm_querygen', 'Catalog': 'awsdatacatalog'}, 'Status': {'State': 'RUNNING', 'SubmissionDateTime': datetime.datetime(2025, 3, 3, 15, 58, 51, 877000, tzinfo=tzlocal())}, 'Statistics': {'TotalExecutionTimeInMillis': 351, 'QueryQueueTimeInMillis': 63, 'ServicePreProcessingTimeInMillis': 193, 'ResultReuseInformation': {'ReusedPreviousResult': False}}, 'WorkGroup': 'primary', 'EngineVersion': {'SelectedEngineVersion': 'AUTO', 'EffectiveEngineVersion': 'Athena engine version 3'}, 'SubstatementType': 'SELECT'}, 'ResponseMetadata': {'RequestId': 'a213d8b2-858e-4b22-a167-706db9eba538', 'HTTPStatusCode': 200, 'HTTPHeaders': {'date': 'Mon, 03 Mar 2025 15:58:52 GMT', 'content-type': 'application/x-amz-json-1.1', 'content-length': '1457', 'connection': 'keep-alive', 'x-amzn-requestid': 'a213d8b2-858e-4b22-a167-706db9eba538'}, 'RetryAttempts': 0}}\n"
     ]
    }
   ],
   "source": [
    "exec_status = athena_client.get_query_execution(QueryExecutionId=query_id)\n",
    "print(exec_status)"
   ]
  },
  {
   "cell_type": "code",
   "execution_count": 137,
   "id": "71fc03a9-577e-47dd-b4be-55e40c9bf004",
   "metadata": {},
   "outputs": [
    {
     "name": "stdout",
     "output_type": "stream",
     "text": [
      "7b50c0a5-22dd-4be9-aaca-074ac86c80d0\n"
     ]
    }
   ],
   "source": [
    "execution_id = exec_status.get('QueryExecution').get('QueryExecutionId')\n",
    "print(execution_id)\n",
    "import time\n",
    "time.sleep(3)"
   ]
  },
  {
   "cell_type": "code",
   "execution_count": 138,
   "id": "086219f7-6a09-41ce-b378-0614df045277",
   "metadata": {},
   "outputs": [
    {
     "name": "stdout",
     "output_type": "stream",
     "text": [
      "<botocore.response.StreamingBody object at 0x7fb2fbd48a30>\n"
     ]
    }
   ],
   "source": [
    "s3_client = boto3.client('s3')\n",
    "resp = s3_client.get_object(Bucket = bucket_name, Key = f'athena-query-result/{execution_id}.csv')\n",
    "print(resp['Body'])"
   ]
  },
  {
   "cell_type": "code",
   "execution_count": 139,
   "id": "f000ff6d-3269-44d2-ae97-e5295846143e",
   "metadata": {},
   "outputs": [
    {
     "name": "stdout",
     "output_type": "stream",
     "text": [
      "****\n",
      "   employee_id first_name last_name  department_id   hire_date\n",
      "0            4     Angela  Anderson            102  2021-02-19\n",
      "1           15     Brandi  Anderson            102  2023-12-13\n",
      "2           67    Garrett  Anderson            102  2023-08-09\n",
      "3           94        Jon  Anderson            102  2021-10-07\n"
     ]
    }
   ],
   "source": [
    "import pandas as pd\n",
    "output = pd.read_csv(resp['Body'])\n",
    "print(\"****\")\n",
    "print(output)"
   ]
  },
  {
   "cell_type": "code",
   "execution_count": null,
   "id": "bbb829f6-d78c-44fc-ae09-83185dfce489",
   "metadata": {},
   "outputs": [],
   "source": []
  }
 ],
 "metadata": {
  "kernelspec": {
   "display_name": "conda_python3",
   "language": "python",
   "name": "conda_python3"
  },
  "language_info": {
   "codemirror_mode": {
    "name": "ipython",
    "version": 3
   },
   "file_extension": ".py",
   "mimetype": "text/x-python",
   "name": "python",
   "nbconvert_exporter": "python",
   "pygments_lexer": "ipython3",
   "version": "3.10.16"
  }
 },
 "nbformat": 4,
 "nbformat_minor": 5
}
